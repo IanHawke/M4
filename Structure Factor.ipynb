{
 "cells": [
  {
   "cell_type": "markdown",
   "metadata": {},
   "source": [
    "# Structure Factors\n",
    "\n",
    "### Christina Lee\n",
    "### Category: Prerequisites\n",
    "### Prerequisites: Monte Carlo Ferromagnet, Statistical Mechanics\n",
    "\n",
    "\\begin{equation}\n",
    "S(q)= \\bigg| \\sum_i S^{\\perp}_i \\exp^{i q \\cdot x} \\bigg|^2\n",
    "\\end{equation}"
   ]
  },
  {
   "cell_type": "markdown",
   "metadata": {},
   "source": []
  },
  {
   "cell_type": "markdown",
   "metadata": {},
   "source": []
  },
  {
   "cell_type": "code",
   "execution_count": 1,
   "metadata": {
    "collapsed": false,
    "init_cell": true
   },
   "outputs": [],
   "source": [
    "push!(LOAD_PATH,\".\")\n",
    "using Lattices;\n",
    "using PyPlot"
   ]
  },
  {
   "cell_type": "markdown",
   "metadata": {},
   "source": [
    "Instead of going into calculating all the lattice parameters again, we will use a class I define in the file Lattices.jl .  This class contains\n",
    "\n",
    "Lattice Types\n",
    "* Chain\n",
    "* Square\n",
    "* Honeycomb\n",
    "You can edit the file to make your own types.\n",
    "\n",
    "Once a lattice is created, it contains <b>Members of Type</b>:\n",
    "* `name`, a string\n",
    "* `l`, length in number of unit cells\n",
    "* `dim`, dimension of lattice\n",
    "* `a`, array containing the basis vectors by which positions are generated\n",
    "* `unit`, array of positions inside a single unit\n",
    "* `N`, number of total sites\n",
    "* `X`, array of positions\n",
    "* `nnei`, number of nearest neighbors\n",
    "* `neigh`, Array of nearest neighbors [i][j], where i is site and j is 1:nnei\n",
    "\n",
    "Today, I will just look at the square lattice, since that indicates much of the standard phase transition properties.  Some of the lattices I have shown (kagome, triangular, ...) are special frustrated lattices, and thus will behave very wierdly in this situation."
   ]
  },
  {
   "cell_type": "code",
   "execution_count": 38,
   "metadata": {
    "collapsed": false,
    "init_cell": true
   },
   "outputs": [],
   "source": [
    "## Define l here\n",
    "l=20;\n",
    "\n",
    "lt=MakeLattice(\"Square\",l);\n",
    "S=ones(Int8,l,l);  #Our spins\n",
    "dt=1/(lt.N);"
   ]
  },
  {
   "cell_type": "code",
   "execution_count": 39,
   "metadata": {
    "collapsed": false,
    "init_cell": true
   },
   "outputs": [
    {
     "name": "stderr",
     "output_type": "stream",
     "text": [
      "WARNING: Method definition dE(Int64) in module Main at In[10]:3"
     ]
    },
    {
     "data": {
      "text/plain": [
       "\"defined functions\""
      ]
     },
     "execution_count": 39,
     "metadata": {},
     "output_type": "execute_result"
    },
    {
     "name": "stderr",
     "output_type": "stream",
     "text": [
      " overwritten at In[39]:3.\n",
      "WARNING: Method definition E() in module Main at In[10]:12 overwritten at In[39]:12.\n",
      "WARNING: Method definition M() in module Main at In[10]:20 overwritten at In[39]:20.\n"
     ]
    }
   ],
   "source": [
    "# The energy contribution of just one site\n",
    "function dE(i::Int)\n",
    "    Eii=0;\n",
    "    for j in 1:lt.nnei\n",
    "        Eii+=S[lt.neigh[i,j]];\n",
    "    end\n",
    "    Eii*=-J*S[i];  # we are computing J sz_i sz_j for one i\n",
    "    return Eii;\n",
    "end\n",
    "# The energy of the entire lattice\n",
    "function E()\n",
    "    Evar=0;\n",
    "    for k in 1:lt.N\n",
    "        Evar+=.5*dE(k);\n",
    "    end\n",
    "    return Evar;\n",
    "end\n",
    "# The magnetization of the entire lattice\n",
    "function M()\n",
    "    Mvar=0;\n",
    "    for k in 1:lt.N\n",
    "        Mvar+=S[k];\n",
    "    end\n",
    "    return Mvar;\n",
    "end\n",
    "\"defined functions\""
   ]
  },
  {
   "cell_type": "markdown",
   "metadata": {},
   "source": [
    "# Adjustable Parameters\n",
    "\n",
    "I have set up the simulation so that you can perform two different things.  For one, you can set `video=true` and `t` to a small variable.  Then in a new window you see what the configuration looks like each time you measure.  \n",
    "\n",
    "Or you can set `video=false` and `t` to a large variable, and actually measure the statistics for the system over a bunch of configurations. "
   ]
  },
  {
   "cell_type": "code",
   "execution_count": 40,
   "metadata": {
    "collapsed": false
   },
   "outputs": [],
   "source": [
    "beta=.1;\n",
    "J=-1;\n",
    "t=10000;\n",
    "video=false;\n",
    "nskip=10;   # don't measure every sweep= better decorrelation\n",
    "\"Parameters set\""
   ]
  },
  {
   "cell_type": "code",
   "execution_count": 41,
   "metadata": {
    "collapsed": false
   },
   "outputs": [],
   "source": [
    "nmeas=Int64(t/nskip); # how many times we will measure\n",
    "Ma=Array{Int32}(nmeas); # our magnetization measurements\n",
    "Ea=Array{Int32}(nmeas); # our energy measurements\n",
    "\"done\""
   ]
  },
  {
   "cell_type": "code",
   "execution_count": 59,
   "metadata": {
    "collapsed": false
   },
   "outputs": [
    {
     "data": {
      "text/plain": [
       "20×20 Array{Complex{Float64},2}:\n",
       " -1.0+1.22465e-16im  1.0-2.44929e-16im  …  1.0-2.44929e-15im\n",
       " -1.0+1.22465e-16im  1.0-2.44929e-16im     1.0-2.44929e-15im\n",
       " -1.0+1.22465e-16im  1.0-2.44929e-16im     1.0-2.44929e-15im\n",
       " -1.0+1.22465e-16im  1.0-2.44929e-16im     1.0-2.44929e-15im\n",
       " -1.0+1.22465e-16im  1.0-2.44929e-16im     1.0-2.44929e-15im\n",
       " -1.0+1.22465e-16im  1.0-2.44929e-16im  …  1.0-2.44929e-15im\n",
       " -1.0+1.22465e-16im  1.0-2.44929e-16im     1.0-2.44929e-15im\n",
       " -1.0+1.22465e-16im  1.0-2.44929e-16im     1.0-2.44929e-15im\n",
       " -1.0+1.22465e-16im  1.0-2.44929e-16im     1.0-2.44929e-15im\n",
       " -1.0+1.22465e-16im  1.0-2.44929e-16im     1.0-2.44929e-15im\n",
       " -1.0+1.22465e-16im  1.0-2.44929e-16im  …  1.0-2.44929e-15im\n",
       " -1.0+1.22465e-16im  1.0-2.44929e-16im     1.0-2.44929e-15im\n",
       " -1.0+1.22465e-16im  1.0-2.44929e-16im     1.0-2.44929e-15im\n",
       " -1.0+1.22465e-16im  1.0-2.44929e-16im     1.0-2.44929e-15im\n",
       " -1.0+1.22465e-16im  1.0-2.44929e-16im     1.0-2.44929e-15im\n",
       " -1.0+1.22465e-16im  1.0-2.44929e-16im  …  1.0-2.44929e-15im\n",
       " -1.0+1.22465e-16im  1.0-2.44929e-16im     1.0-2.44929e-15im\n",
       " -1.0+1.22465e-16im  1.0-2.44929e-16im     1.0-2.44929e-15im\n",
       " -1.0+1.22465e-16im  1.0-2.44929e-16im     1.0-2.44929e-15im\n",
       " -1.0+1.22465e-16im  1.0-2.44929e-16im     1.0-2.44929e-15im"
      ]
     },
     "execution_count": 59,
     "metadata": {},
     "output_type": "execute_result"
    }
   ],
   "source": [
    "plan_fft(S,1:2)\n",
    "brillshift=exp(pi*im*repmat(collect(1:l),1,l))\n",
    "brillshift2=exp(pi*im*repmat(transpose(collect(1:l)),l,1))"
   ]
  },
  {
   "cell_type": "code",
   "execution_count": 65,
   "metadata": {
    "collapsed": false
   },
   "outputs": [
    {
     "data": {
      "text/plain": [
       "(0.0012650000000000014,0.04116636302182213)"
      ]
     },
     "execution_count": 65,
     "metadata": {},
     "output_type": "execute_result"
    }
   ],
   "source": [
    "tm=1; #Our measurement time step\n",
    "Sq=zeros(Float64,l,l)\n",
    "Sq2=zeros(Float64,l,l)\n",
    "Sq3=zeros(Float64,l,l)\n",
    "Sq4=zeros(Float64,l,l)\n",
    "for ti in 1:t\n",
    "    for j in 1:lt.N\n",
    "        i = rand(1:lt.N); #Choosing a random site\n",
    "        de=dE(i);\n",
    "        if(de>0 || rand()<exp(2*beta*de) ) \n",
    "            S[i]=-S[i]; #Switch the sign\n",
    "        end\n",
    "    end\n",
    "    if isapprox(mod(ti,nskip),0)\n",
    "        Ma[tm]=M();\n",
    "        Ea[tm]=E();\n",
    "        \n",
    "        Sq+=abs(fft(S,1:2)).^2\n",
    "        Sq2+=abs(fft(S.*brillshift,1:2)).^2\n",
    "        Sq3+=abs(fft(S.*brillshift2,1:2)).^2\n",
    "        Sq4+=abs(fft(S.*brillshift.*brillshift2,1:2)).^2\n",
    "        tm+=1;\n",
    "        \n",
    "    end\n",
    "end\n",
    "Mave=mean(Ma/lt.N);\n",
    "Mstd=std(Ma/lt.N);\n",
    "Eave=mean(Ea/lt.N);\n",
    "Estd=std(Ea/lt.N);\n",
    "Mave, Mstd"
   ]
  },
  {
   "cell_type": "code",
   "execution_count": 16,
   "metadata": {
    "collapsed": false
   },
   "outputs": [
    {
     "data": {
      "image/png": "[encoded data removed]",
      "text/plain": [
       "PyPlot.Figure(PyObject <matplotlib.figure.Figure object at 0x000000001ECBDF60>)"
      ]
     },
     "metadata": {},
     "output_type": "display_data"
    },
    {
     "data": {
      "text/plain": [
       "PyObject <matplotlib.collections.PolyCollection object at 0x000000001F101780>"
      ]
     },
     "execution_count": 16,
     "metadata": {},
     "output_type": "execute_result"
    }
   ],
   "source": [
    "pcolor(S)"
   ]
  },
  {
   "cell_type": "code",
   "execution_count": 56,
   "metadata": {
    "collapsed": false
   },
   "outputs": [
    {
     "data": {
      "image/png": "[encoded data removed]",
      "text/plain": [
       "PyPlot.Figure(PyObject <matplotlib.figure.Figure object at 0x0000000028274438>)"
      ]
     },
     "metadata": {},
     "output_type": "display_data"
    },
    {
     "data": {
      "text/plain": [
       "PyObject <matplotlib.collections.PolyCollection object at 0x00000000284169E8>"
      ]
     },
     "execution_count": 56,
     "metadata": {},
     "output_type": "execute_result"
    }
   ],
   "source": [
    "pcolor(Sq)"
   ]
  },
  {
   "cell_type": "code",
   "execution_count": 57,
   "metadata": {
    "collapsed": false
   },
   "outputs": [
    {
     "data": {
      "image/png": "[encoded data removed]",
      "text/plain": [
       "PyPlot.Figure(PyObject <matplotlib.figure.Figure object at 0x00000000284F4710>)"
      ]
     },
     "metadata": {},
     "output_type": "display_data"
    },
    {
     "data": {
      "text/plain": [
       "PyObject <matplotlib.collections.PolyCollection object at 0x00000000287B2E10>"
      ]
     },
     "execution_count": 57,
     "metadata": {},
     "output_type": "execute_result"
    }
   ],
   "source": [
    "pcolor(Sq2)"
   ]
  },
  {
   "cell_type": "code",
   "execution_count": 62,
   "metadata": {
    "collapsed": false
   },
   "outputs": [
    {
     "data": {
      "image/png": "[encoded data removed]",
      "text/plain": [
       "PyPlot.Figure(PyObject <matplotlib.figure.Figure object at 0x0000000028268EF0>)"
      ]
     },
     "metadata": {},
     "output_type": "display_data"
    },
    {
     "data": {
      "text/plain": [
       "PyObject <matplotlib.collections.PolyCollection object at 0x0000000028AC8A90>"
      ]
     },
     "execution_count": 62,
     "metadata": {},
     "output_type": "execute_result"
    }
   ],
   "source": [
    "pcolor(Sq3)"
   ]
  },
  {
   "cell_type": "code",
   "execution_count": 66,
   "metadata": {
    "collapsed": false
   },
   "outputs": [
    {
     "data": {
      "image/png": "[encoded data removed]",
      "text/plain": [
       "PyPlot.Figure(PyObject <matplotlib.figure.Figure object at 0x0000000028F62198>)"
      ]
     },
     "metadata": {},
     "output_type": "display_data"
    },
    {
     "data": {
      "text/plain": [
       "PyObject <matplotlib.collections.PolyCollection object at 0x00000000291A2470>"
      ]
     },
     "execution_count": 66,
     "metadata": {},
     "output_type": "execute_result"
    }
   ],
   "source": [
    "pcolor(Sq4)"
   ]
  },
  {
   "cell_type": "code",
   "execution_count": 17,
   "metadata": {
    "collapsed": false
   },
   "outputs": [
    {
     "data": {
      "text/plain": [
       "400×3 Array{Int64,2}:\n",
       "   1   1   1\n",
       "   2   2   1\n",
       "   3   3   1\n",
       "   4   4   1\n",
       "   5   5   1\n",
       "   6   6   1\n",
       "   7   7   1\n",
       "   8   8   1\n",
       "   9   9   1\n",
       "  10  10   1\n",
       "  11  11   1\n",
       "  12  12   1\n",
       "  13  13   1\n",
       "   ⋮        \n",
       " 389   9  20\n",
       " 390  10  20\n",
       " 391  11  20\n",
       " 392  12  20\n",
       " 393  13  20\n",
       " 394  14  20\n",
       " 395  15  20\n",
       " 396  16  20\n",
       " 397  17  20\n",
       " 398  18  20\n",
       " 399  19  20\n",
       " 400  20  20"
      ]
     },
     "execution_count": 17,
     "metadata": {},
     "output_type": "execute_result"
    }
   ],
   "source": [
    "[collect(1:lt.N) lt.X]"
   ]
  },
  {
   "cell_type": "code",
   "execution_count": 18,
   "metadata": {
    "collapsed": false
   },
   "outputs": [
    {
     "data": {
      "text/plain": [
       "400×7 Array{Int64,2}:\n",
       "   1    2   20  21  381   22  400\n",
       "   2    3    1  22  382  383   21\n",
       "   3    4    2  23  383   24  382\n",
       "   4    5    3  24  384  385   23\n",
       "   5    6    4  25  385   26  384\n",
       "   6    7    5  26  386  387   25\n",
       "   7    8    6  27  387   28  386\n",
       "   8    9    7  28  388  389   27\n",
       "   9   10    8  29  389   30  388\n",
       "  10   11    9  30  390  391   29\n",
       "  11   12   10  31  391   32  390\n",
       "  12   13   11  32  392  393   31\n",
       "  13   14   12  33  393   34  392\n",
       "   ⋮                       ⋮     \n",
       " 389  390  388   9  369  370    8\n",
       " 390  391  389  10  370   11  369\n",
       " 391  392  390  11  371  372   10\n",
       " 392  393  391  12  372   13  371\n",
       " 393  394  392  13  373  374   12\n",
       " 394  395  393  14  374   15  373\n",
       " 395  396  394  15  375  376   14\n",
       " 396  397  395  16  376   17  375\n",
       " 397  398  396  17  377  378   16\n",
       " 398  399  397  18  378   19  377\n",
       " 399  400  398  19  379  380   18\n",
       " 400  381  399  20  380    1  379"
      ]
     },
     "execution_count": 18,
     "metadata": {},
     "output_type": "execute_result"
    }
   ],
   "source": [
    "[collect(1:lt.N) lt.neigh]"
   ]
  },
  {
   "cell_type": "markdown",
   "metadata": {},
   "source": []
  },
  {
   "cell_type": "markdown",
   "metadata": {
    "collapsed": false
   },
   "source": []
  },
  {
   "cell_type": "markdown",
   "metadata": {
    "collapsed": false
   },
   "source": [
    "# To be covered later:\n",
    "\n",
    "This is an extremely rich problem.  Since this post seems long enough for me already, I'll leave these to exercises for you right now, or you can wait until I hold your hand through them.  \n",
    "\n",
    "* Plot magnetization and energy as a function of temperature\n",
    "* What's the transition temperature?\n",
    "* How does the dispersion change as a function of temperature? Use that to calculate specific heat and susceptibility\n",
    "* How do results change with system size?  \n",
    "* Change dimension?\n",
    "* Put it on a different lattice.  BE CAREFUL of lattices like triangular, checkerboard, pyrochlore, ...\n",
    "* Ferromagnetic versus Antiferromagnetic coupling\n",
    "* Autocorrelation function\n",
    "* Structure Factor (Fourier transform) \n"
   ]
  },
  {
   "cell_type": "code",
   "execution_count": 43,
   "metadata": {
    "collapsed": false
   },
   "outputs": [
    {
     "data": {
      "text/plain": [
       "20×20 Array{Complex{Float64},2}:\n",
       " 1.0-2.44929e-16im  1.0-2.44929e-16im  …  1.0-2.44929e-16im\n",
       " 1.0-4.89859e-16im  1.0-4.89859e-16im     1.0-4.89859e-16im\n",
       " 1.0-7.34788e-16im  1.0-7.34788e-16im     1.0-7.34788e-16im\n",
       " 1.0-9.79717e-16im  1.0-9.79717e-16im     1.0-9.79717e-16im\n",
       " 1.0-1.22465e-15im  1.0-1.22465e-15im     1.0-1.22465e-15im\n",
       " 1.0-1.46958e-15im  1.0-1.46958e-15im  …  1.0-1.46958e-15im\n",
       " 1.0-1.71451e-15im  1.0-1.71451e-15im     1.0-1.71451e-15im\n",
       " 1.0-1.95943e-15im  1.0-1.95943e-15im     1.0-1.95943e-15im\n",
       " 1.0-2.20436e-15im  1.0-2.20436e-15im     1.0-2.20436e-15im\n",
       " 1.0-2.44929e-15im  1.0-2.44929e-15im     1.0-2.44929e-15im\n",
       " 1.0-9.79965e-15im  1.0-9.79965e-15im  …  1.0-9.79965e-15im\n",
       " 1.0-2.93915e-15im  1.0-2.93915e-15im     1.0-2.93915e-15im\n",
       " 1.0+3.92135e-15im  1.0+3.92135e-15im     1.0+3.92135e-15im\n",
       " 1.0-3.42901e-15im  1.0-3.42901e-15im     1.0-3.42901e-15im\n",
       " 1.0-1.07794e-14im  1.0-1.07794e-14im     1.0-1.07794e-14im\n",
       " 1.0-3.91887e-15im  1.0-3.91887e-15im  …  1.0-3.91887e-15im\n",
       " 1.0+2.94163e-15im  1.0+2.94163e-15im     1.0+2.94163e-15im\n",
       " 1.0-4.40873e-15im  1.0-4.40873e-15im     1.0-4.40873e-15im\n",
       " 1.0-1.17591e-14im  1.0-1.17591e-14im     1.0-1.17591e-14im\n",
       " 1.0-4.89859e-15im  1.0-4.89859e-15im     1.0-4.89859e-15im"
      ]
     },
     "execution_count": 43,
     "metadata": {},
     "output_type": "execute_result"
    }
   ],
   "source": [
    "exp(2*pi*im*repmat(collect(1:l),1,l))"
   ]
  },
  {
   "cell_type": "code",
   "execution_count": 47,
   "metadata": {
    "collapsed": false
   },
   "outputs": [
    {
     "data": {
      "text/plain": [
       "20×20 Array{Complex{Float64},2}:\n",
       " 0.0+3.14159im  0.0+3.14159im  0.0+3.14159im  …  0.0+3.14159im  0.0+3.14159im\n",
       " 0.0+6.28319im  0.0+6.28319im  0.0+6.28319im     0.0+6.28319im  0.0+6.28319im\n",
       " 0.0+9.42478im  0.0+9.42478im  0.0+9.42478im     0.0+9.42478im  0.0+9.42478im\n",
       " 0.0+12.5664im  0.0+12.5664im  0.0+12.5664im     0.0+12.5664im  0.0+12.5664im\n",
       " 0.0+15.708im   0.0+15.708im   0.0+15.708im      0.0+15.708im   0.0+15.708im \n",
       " 0.0+18.8496im  0.0+18.8496im  0.0+18.8496im  …  0.0+18.8496im  0.0+18.8496im\n",
       " 0.0+21.9911im  0.0+21.9911im  0.0+21.9911im     0.0+21.9911im  0.0+21.9911im\n",
       " 0.0+25.1327im  0.0+25.1327im  0.0+25.1327im     0.0+25.1327im  0.0+25.1327im\n",
       " 0.0+28.2743im  0.0+28.2743im  0.0+28.2743im     0.0+28.2743im  0.0+28.2743im\n",
       " 0.0+31.4159im  0.0+31.4159im  0.0+31.4159im     0.0+31.4159im  0.0+31.4159im\n",
       " 0.0+34.5575im  0.0+34.5575im  0.0+34.5575im  …  0.0+34.5575im  0.0+34.5575im\n",
       " 0.0+37.6991im  0.0+37.6991im  0.0+37.6991im     0.0+37.6991im  0.0+37.6991im\n",
       " 0.0+40.8407im  0.0+40.8407im  0.0+40.8407im     0.0+40.8407im  0.0+40.8407im\n",
       " 0.0+43.9823im  0.0+43.9823im  0.0+43.9823im     0.0+43.9823im  0.0+43.9823im\n",
       " 0.0+47.1239im  0.0+47.1239im  0.0+47.1239im     0.0+47.1239im  0.0+47.1239im\n",
       " 0.0+50.2655im  0.0+50.2655im  0.0+50.2655im  …  0.0+50.2655im  0.0+50.2655im\n",
       " 0.0+53.4071im  0.0+53.4071im  0.0+53.4071im     0.0+53.4071im  0.0+53.4071im\n",
       " 0.0+56.5487im  0.0+56.5487im  0.0+56.5487im     0.0+56.5487im  0.0+56.5487im\n",
       " 0.0+59.6903im  0.0+59.6903im  0.0+59.6903im     0.0+59.6903im  0.0+59.6903im\n",
       " 0.0+62.8319im  0.0+62.8319im  0.0+62.8319im     0.0+62.8319im  0.0+62.8319im"
      ]
     },
     "execution_count": 47,
     "metadata": {},
     "output_type": "execute_result"
    }
   ],
   "source": [
    "pi*im*repmat(collect(1:l),1,l)"
   ]
  },
  {
   "cell_type": "code",
   "execution_count": 25,
   "metadata": {
    "collapsed": false
   },
   "outputs": [
    {
     "data": {
      "text/plain": [
       "20×20 Array{Complex{Float64},2}:\n",
       "  -2268.0+0.0im       2872.27-961.988im  …   2872.27+961.988im\n",
       "  1077.42+1753.85im   -1410.3+1429.02im      461.333-1045.99im\n",
       "  2514.15-197.738im   1168.03+421.287im      37.6062+3116.81im\n",
       " -2334.72-398.401im    95.703-807.352im      502.192-2316.73im\n",
       "  1035.07+1485.62im    404.57-1725.22im      83.4158-1907.91im\n",
       "   2582.0-1558.0im    1822.09-708.207im  …   2996.86+675.033im\n",
       " -406.152+4209.77im   3976.93-1775.37im      -309.88-1036.98im\n",
       " -1157.62-5562.75im   -5630.6-240.419im     -119.135-633.381im\n",
       " -1751.07-340.96im    -2462.1-1349.62im     -3761.96-1343.79im\n",
       "  2862.92+2972.99im   2091.92-3779.26im      92.4096-255.068im\n",
       "  -3496.0+0.0im       3017.91+335.692im  …   3017.91-335.692im\n",
       "  2862.92-2972.99im   92.4096+255.068im      2091.92+3779.26im\n",
       " -1751.07+340.96im   -3761.96+1343.79im      -2462.1+1349.62im\n",
       " -1157.62+5562.75im  -119.135+633.381im      -5630.6+240.419im\n",
       " -406.152-4209.77im   -309.88+1036.98im      3976.93+1775.37im\n",
       "   2582.0+1558.0im    2996.86-675.033im  …   1822.09+708.207im\n",
       "  1035.07-1485.62im   83.4158+1907.91im       404.57+1725.22im\n",
       " -2334.72+398.401im   502.192+2316.73im       95.703+807.352im\n",
       "  2514.15+197.738im   37.6062-3116.81im      1168.03-421.287im\n",
       "  1077.42-1753.85im   461.333+1045.99im      -1410.3-1429.02im"
      ]
     },
     "execution_count": 25,
     "metadata": {},
     "output_type": "execute_result"
    }
   ],
   "source": [
    "Sq"
   ]
  },
  {
   "cell_type": "code",
   "execution_count": 32,
   "metadata": {
    "collapsed": false
   },
   "outputs": [
    {
     "data": {
      "text/plain": [
       "20×20 Array{Int8,2}:\n",
       "  1  -1  -1   1  -1   1  -1   1  -1  …   1  -1  -1  -1   1  -1   1  -1   1\n",
       "  1   1   1   1   1  -1   1   1  -1      1   1   1   1  -1  -1  -1   1   1\n",
       "  1  -1  -1   1   1   1   1  -1   1     -1   1  -1   1  -1   1  -1  -1   1\n",
       "  1   1  -1   1  -1  -1   1  -1   1     -1  -1  -1   1  -1  -1   1  -1  -1\n",
       "  1  -1   1  -1   1   1   1   1  -1     -1  -1   1  -1  -1   1  -1   1   1\n",
       " -1  -1  -1   1  -1  -1   1  -1  -1  …   1   1  -1   1   1   1  -1  -1   1\n",
       "  1  -1  -1  -1   1  -1   1   1  -1     -1  -1   1   1  -1   1  -1   1  -1\n",
       " -1   1  -1  -1   1   1  -1  -1  -1     -1   1  -1   1   1  -1   1  -1   1\n",
       " -1   1  -1   1  -1  -1   1  -1   1      1   1  -1  -1  -1   1  -1  -1   1\n",
       " -1   1  -1  -1  -1   1  -1   1   1     -1   1  -1   1  -1   1  -1  -1   1\n",
       " -1  -1  -1  -1   1  -1  -1  -1  -1  …  -1  -1   1  -1   1  -1   1   1  -1\n",
       " -1   1   1  -1   1  -1  -1   1  -1      1   1  -1  -1   1   1  -1  -1  -1\n",
       " -1  -1   1   1   1   1   1  -1   1     -1   1   1   1  -1   1  -1   1   1\n",
       " -1   1   1  -1   1  -1   1   1  -1      1   1  -1  -1   1   1  -1   1   1\n",
       "  1  -1   1   1  -1  -1   1   1  -1      1  -1   1   1   1  -1  -1  -1  -1\n",
       " -1   1  -1  -1   1  -1  -1   1   1  …   1   1  -1   1  -1  -1   1   1  -1\n",
       "  1  -1   1   1  -1  -1  -1   1   1      1  -1   1  -1  -1   1  -1  -1  -1\n",
       "  1  -1   1  -1   1  -1  -1  -1   1      1  -1   1  -1  -1   1   1  -1   1\n",
       " -1  -1  -1  -1   1  -1   1  -1  -1      1  -1   1  -1   1   1  -1   1   1\n",
       " -1   1   1  -1   1   1   1   1  -1      1  -1   1   1  -1  -1   1  -1  -1"
      ]
     },
     "execution_count": 32,
     "metadata": {},
     "output_type": "execute_result"
    }
   ],
   "source": [
    "S"
   ]
  },
  {
   "cell_type": "code",
   "execution_count": null,
   "metadata": {
    "collapsed": true
   },
   "outputs": [],
   "source": []
  }
 ],
 "metadata": {
  "anaconda-cloud": {},
  "kernelspec": {
   "display_name": "Julia 0.5.1",
   "language": "julia",
   "name": "julia-0.5"
  },
  "language_info": {
   "file_extension": ".jl",
   "mimetype": "application/julia",
   "name": "julia",
   "version": "0.5.1"
  }
 },
 "nbformat": 4,
 "nbformat_minor": 0
}
