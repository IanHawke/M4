{
 "cells": [
  {
   "cell_type": "markdown",
   "metadata": {},
   "source": [
    "# Plots.jl\n",
    "\n",
    "Just a little while ago, I wrote up about switching to Gadfly.  Well, now I'm switching over to Plots.  The package has a lot of things to recommend itself, like access to the PlotlyJS backend for interactive output, but unfortunately, it lacks in documentation.  \n",
    "\n",
    "I intend to remedy that.  "
   ]
  },
  {
   "cell_type": "code",
   "execution_count": null,
   "metadata": {},
   "outputs": [],
   "source": [
    "using Plots\n",
    "gr()\n",
    "# Solarized Colors that I like working with\n",
    "# http://ethanschoonover.com/solarized\n",
    "using Colors\n",
    "base03=parse(Colorant,\"#002b36\");\n",
    "base02=parse(Colorant,\"#073642\");\n",
    "base01=parse(Colorant,\"#586e75\");\n",
    "base00=parse(Colorant,\"#657b83\");\n",
    "base0=parse(Colorant,\"#839496\");\n",
    "base1=parse(Colorant,\"#839496\");\n",
    "base2=parse(Colorant,\"#eee8d5\");\n",
    "base3=parse(Colorant,\"#fdf6e3\");\n",
    "\n",
    "yellow=parse(Colorant,\"#b58900\");\n",
    "orange=parse(Colorant,\"#cb4b16\");\n",
    "red=parse(Colorant,\"#dc322f\");\n",
    "magenta=parse(Colorant,\"#d33682\");\n",
    "violet=parse(Colorant,\"#6c71c4\");\n",
    "blue=parse(Colorant,\"#268bd2\");\n",
    "cyan=parse(Colorant,\"#3aa198\");\n",
    "green=parse(Colorant,\"#859900\");"
   ]
  },
  {
   "cell_type": "code",
   "execution_count": null,
   "metadata": {},
   "outputs": [],
   "source": [
    "x=linspace(0,4π,100)\n",
    "y=sin.(x);"
   ]
  },
  {
   "cell_type": "code",
   "execution_count": null,
   "metadata": {},
   "outputs": [],
   "source": [
    "plot(x,y)"
   ]
  },
  {
   "cell_type": "code",
   "execution_count": null,
   "metadata": {},
   "outputs": [],
   "source": [
    "plot(t->sin(t),0,4π)"
   ]
  },
  {
   "cell_type": "code",
   "execution_count": null,
   "metadata": {},
   "outputs": [],
   "source": [
    "plot(x,y,label=\"sin\")\n",
    "plot!(x,cos.(x),label=\"cos\")"
   ]
  },
  {
   "cell_type": "code",
   "execution_count": null,
   "metadata": {},
   "outputs": [],
   "source": [
    "plot(x,y)\n",
    "\n",
    "plot!(xlabel=\"X\",\n",
    "    ylabel=\"Y\",\n",
    "    title=\"My Title\")"
   ]
  },
  {
   "cell_type": "code",
   "execution_count": null,
   "metadata": {},
   "outputs": [],
   "source": [
    "plot(x,y,\n",
    "    linewidth=5,linecolor=violet)\n",
    "\n",
    "plot!(background_color=base3,\n",
    "    background_color_inside=base2,\n",
    "    foreground_color_grid=red,\n",
    "    foreground_color_title=magenta,\n",
    "    foreground_color_axis=blue,\n",
    "    foreground_color_guide=green)\n",
    "\n",
    "plot!(xlabel=\"X\",\n",
    "    ylabel=\"Y\",\n",
    "    title=\"My Title\")\n"
   ]
  },
  {
   "cell_type": "code",
   "execution_count": null,
   "metadata": {},
   "outputs": [],
   "source": [
    "scatter(x,y)"
   ]
  },
  {
   "cell_type": "code",
   "execution_count": null,
   "metadata": {},
   "outputs": [],
   "source": [
    "scatter(x,y,marker=:hexagon)\n",
    "scatter!(x,cos.(x),yerr=y/10)"
   ]
  },
  {
   "cell_type": "code",
   "execution_count": 3,
   "metadata": {},
   "outputs": [
    {
     "data": {
      "text/plain": [
       "2.99822295029797"
      ]
     },
     "execution_count": 3,
     "metadata": {},
     "output_type": "execute_result"
    }
   ],
   "source": []
  },
  {
   "cell_type": "code",
   "execution_count": null,
   "metadata": {
    "collapsed": true
   },
   "outputs": [],
   "source": []
  }
 ],
 "metadata": {
  "kernelspec": {
   "display_name": "Julia 0.6.0",
   "language": "julia",
   "name": "julia-0.6"
  },
  "language_info": {
   "file_extension": ".jl",
   "mimetype": "application/julia",
   "name": "julia",
   "version": "0.6.0"
  }
 },
 "nbformat": 4,
 "nbformat_minor": 2
}
