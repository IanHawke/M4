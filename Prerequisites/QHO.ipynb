{
 "cells": [
  {
   "cell_type": "markdown",
   "metadata": {},
   "source": [
    "# Quantum Harmonic Osscilator\n",
    "### Christina Lee\n",
    "### Prerequisites: Quantum Mechanics\n",
    "<b>Slinkies</b>. They started out as toys.  I still have one to play with on my desk.  \n",
    "<b>Rubber bands</b> What was once something useful, is now a wonderful projectile weapon.  \n",
    "<b> Swings</b> I still love them, but people seem to not make them in adult sizes for some reason.\n",
    "\n",
    "A person's perception of these objects start to change as they enter their first physics class.  Even in that beginning classical mechanics, the problems are filled with harmonic osscilators, like slinkies, rubber bands, or swings, which exert a force proportional to their displacement\n",
    "\\begin{equation}\n",
    "F=-kx\n",
    "\\end{equation}\n",
    "and therefore a quadratic potential\n",
    "\\begin{equation}\n",
    "V(x)=k x^2\n",
    "\\end{equation}\n",
    "\n",
    "This is all extremely fun and useful in the classical regime, but we add Quantum Mechanics to the mix, and LOW AND BEHOLD! we have one of the few exactly solvable models in Quantum Mechanics. Moreso, this solution demonstrates some extremely important properties of quantum mechanical systems.\n",
    "\n",
    "##### The Hamiltonian\n",
    "\\begin{equation}\n",
    "    {\\cal H}= \\frac{p^2}{2 m} + \\frac{1}{2} m \\omega ^2 x^2\n",
    "\\end{equation}\n",
    "\n",
    "##### The Solution\n",
    "\\begin{equation}\n",
    "    \\Psi (x) = \\frac{1}{\\sqrt{2^n n!}} \\left(\\frac{m \\omega}{\\hbar \\pi}\\right)^{1/4} \\mathrm{e}^{-m \\omega x^2/2 \\hbar}  H_n \\left( \\sqrt{\\frac{m \\omega}{\\hbar}} x \\right)\n",
    "\\end{equation}\n",
    "Today, I just intend to present the form of the solution, calculate this equation numerically, and visualize the results.  If you wish to know how the equation is derived, you can find a standard quantum mechanics textbook, or stay tuned till I manage to write it up.\n",
    "\n",
    "### Physicists' Hermite Polynomials\n",
    "Note: These are not the same as the \"probabilists' Hermite Polynomial\".  The two functions differ by scaling factors.\n",
    "\n",
    "Physicists' Hermite polynomials are defined as eigenfunctions for the differential equation\n",
    "\\begin{equation}\n",
    "u^{\\prime \\prime}-2xu^{\\prime} = -2 \\lambda u\n",
    "\\end{equation}\n",
    "\n",
    "\\begin{equation}\n",
    "H_n(x) = (-1)^n \\mathrm{e}^{x^2} \\frac{\\mathrm{d}^n}{\\mathrm{d}x^n}\n",
    "\\left( e^{-x^2} \\right)\n",
    "\\end{equation}\n",
    "\n",
    "I leave it as an exercise to the reader (muahahahaha) to\n",
    "* demonstrate othogonality with respect to the measure $e^{-x^2}$, ie\n",
    "\\begin{equation}\n",
    "\\int_{-\\infty}^{\\infty} H_m(x) H_n(x) e^{-x^2} \\mathrm{d}x = \\sqrt{\\pi} 2^n n! \\delta_{mn}\n",
    "\\end{equation}\n",
    "* demonstrate completeness.  This means we can describe every function by a linear combination of Hermite polynomials, provided it is suitably well behaved.\n",
    "\n",
    "\n",
    "Though a formula exists or calculating a function at n directly, the most efficient method at low n for calculating polynomials relies on recurrence relationships.  These recurrence relationships will also be quite handy if you ever need to show orthogonality, or expectation values.  \n",
    "##### Recurrence Relations\n",
    "\\begin{equation}\n",
    "H_{n+1}(x) = 2xH_n(x) - H^{\\prime}_n(x)\n",
    "\\end{equation}\n",
    "\\begin{equation}\n",
    "H^{\\prime}_n(x) = 2n H_{n-1}(x)\n",
    "\\end{equation}\n",
    "\\begin{equation}\n",
    "H_{n+1}(x) = 2x H_n(x) - 2n H_{n-1}(x)\n",
    "\\end{equation}"
   ]
  },
  {
   "cell_type": "code",
   "execution_count": 17,
   "metadata": {
    "collapsed": false
   },
   "outputs": [
    {
     "name": "stderr",
     "output_type": "stream",
     "text": [
      "INFO: Updating METADATA...\n",
      "INFO: Updating Reactive...\n",
      "INFO: Computing changes...\n",
      "INFO: No packages to install, update or remove\n",
      "INFO: Nothing to be done\n",
      "INFO: Updating METADATA...\n",
      "INFO: Updating Reactive...\n",
      "INFO: Computing changes...\n",
      "INFO: No packages to install, update or remove\n",
      "INFO: Nothing to be done\n",
      "INFO: Recompiling stale cache file /Users/mira/.julia/lib/v0.4/Calculus.ji for module Calculus.\n",
      "WARNING: Module Compat uuid did not match cache file\n",
      "WARNING: deserialization checks failed while attempting to load cache from /Users/mira/.julia/lib/v0.4/Calculus.ji\n",
      "INFO: Precompiling module Calculus...\n",
      "INFO: Recompiling stale cache file /Users/mira/.julia/lib/v0.4/Calculus.ji for module Calculus.\n",
      "WARNING: Module Compat uuid did not match cache file\n"
     ]
    },
    {
     "ename": "LoadError",
     "evalue": "LoadError: __precompile__(true) but require failed to create a precompiled cache file\nwhile loading In[17], in expression starting on line 5",
     "output_type": "error",
     "traceback": [
      "LoadError: __precompile__(true) but require failed to create a precompiled cache file\nwhile loading In[17], in expression starting on line 5",
      "",
      " in require at /Applications/Julia-0.4.1.app/Contents/Resources/julia/lib/julia/sys.dylib",
      " in stale_cachefile at loading.jl:441",
      " in recompile_stale at loading.jl:459",
      " in _require_from_serialized at loading.jl:83",
      " in _require_from_serialized at /Applications/Julia-0.4.1.app/Contents/Resources/julia/lib/julia/sys.dylib",
      " in require at /Applications/Julia-0.4.1.app/Contents/Resources/julia/lib/julia/sys.dylib",
      " in stale_cachefile at loading.jl:441",
      " in recompile_stale at loading.jl:459",
      " in _require_from_serialized at loading.jl:83",
      " in _require_from_serialized at /Applications/Julia-0.4.1.app/Contents/Resources/julia/lib/julia/sys.dylib",
      " in require at /Applications/Julia-0.4.1.app/Contents/Resources/julia/lib/julia/sys.dylib"
     ]
    }
   ],
   "source": [
    "Pkg.update();\n",
    "Pkg.add(\"PyPlot\");\n",
    "Pkg.update();\n",
    "Pkg.add(\"Roots\")\n",
    "using Roots;\n",
    "using PyPlot;"
   ]
  },
  {
   "cell_type": "markdown",
   "metadata": {},
   "source": [
    "#### Programming Tip!  \n",
    "Since Hermite polynomials are generated recursively, I wanted to generate and save all the functions up to a designated value at once.  In order to do so, I created an array, whose values are anonymous functions.  "
   ]
  },
  {
   "cell_type": "code",
   "execution_count": 5,
   "metadata": {
    "collapsed": false
   },
   "outputs": [
    {
     "data": {
      "text/plain": [
       "GenerateHermite (generic function with 1 method)"
      ]
     },
     "execution_count": 5,
     "metadata": {},
     "output_type": "execute_result"
    }
   ],
   "source": [
    "function GenerateHermite(n)\n",
    "    Hermite=Function[]\n",
    "    \n",
    "    push!(Hermite,x->1);\n",
    "    push!(Hermite,x->2*x);\n",
    "    \n",
    "    for ni in 3:n\n",
    "        push!(Hermite,x->2.*x.*Hermite[ni-1](x).-2.*n.*Hermite[ni-2](x))\n",
    "    end\n",
    "    return Hermite\n",
    "end"
   ]
  },
  {
   "cell_type": "markdown",
   "metadata": {},
   "source": [
    "So lets generate some Hermite polynomials and look at them.  \n",
    "<b> Make sure you don't call a Hermite you haven't generated yet!"
   ]
  },
  {
   "cell_type": "code",
   "execution_count": 11,
   "metadata": {
    "collapsed": false
   },
   "outputs": [
    {
     "data": {
      "text/plain": [
       "5-element Array{Function,1}:\n",
       " (anonymous function)\n",
       " (anonymous function)\n",
       " (anonymous function)\n",
       " (anonymous function)\n",
       " (anonymous function)"
      ]
     },
     "execution_count": 11,
     "metadata": {},
     "output_type": "execute_result"
    }
   ],
   "source": [
    "Hermite=GenerateHermite(5)"
   ]
  },
  {
   "cell_type": "markdown",
   "metadata": {},
   "source": [
    "#### Programming Tip! \n",
    "Since the Hermite polynomials, and the wavefunctions after them, are composed on anonymous functions, we need to use `map(f,x)` in order to map the function `f` onto the array `x`.  Otherwise our polynomials only work on single values."
   ]
  },
  {
   "cell_type": "code",
   "execution_count": 12,
   "metadata": {
    "collapsed": false
   },
   "outputs": [
    {
     "ename": "LoadError",
     "evalue": "LoadError: UndefVarError: plot not defined\nwhile loading In[12], in expression starting on line 2",
     "output_type": "error",
     "traceback": [
      "LoadError: UndefVarError: plot not defined\nwhile loading In[12], in expression starting on line 2",
      "",
      " [inlined code] from In[12]:3",
      " in anonymous at no file:0"
     ]
    }
   ],
   "source": [
    "x=collect(-2:.01:2);\n",
    "for j in 1:5\n",
    "    plot(x,map(Hermite[j],x),label=\"H_$j (x)\")\n",
    "end\n",
    "legend()\n",
    "ylim(-50,50)"
   ]
  },
  {
   "cell_type": "code",
   "execution_count": 13,
   "metadata": {
    "collapsed": false
   },
   "outputs": [
    {
     "data": {
      "text/plain": [
       "Ψ (generic function with 1 method)"
      ]
     },
     "execution_count": 13,
     "metadata": {},
     "output_type": "execute_result"
    }
   ],
   "source": [
    "# Lets make our life easy and set all units to 1\n",
    "m=1\n",
    "ω=1\n",
    "ħ=1\n",
    "\n",
    "#Finally, we define Ψ\n",
    "Ψ(n,x)=1/sqrt(factorial(n)*2^n)*(m*ω/(ħ*π))^(1/4)*exp(-m*ω*x^2/(2*ħ))*Hermite[n](sqrt(m*ω/ħ)*x)"
   ]
  },
  {
   "cell_type": "markdown",
   "metadata": {},
   "source": [
    "### Finding Zeros\n",
    "The eigenvalue maps to the number of zeros in the wavefunction.  Below, I use Julia's roots package to indentify roots on the interval from -3 to 3.  "
   ]
  },
  {
   "cell_type": "code",
   "execution_count": 14,
   "metadata": {
    "collapsed": false
   },
   "outputs": [
    {
     "ename": "LoadError",
     "evalue": "LoadError: UndefVarError: fzeros not defined\nwhile loading In[14], in expression starting on line 3",
     "output_type": "error",
     "traceback": [
      "LoadError: UndefVarError: fzeros not defined\nwhile loading In[14], in expression starting on line 3",
      "",
      " [inlined code] from In[14]:4",
      " in anonymous at no file:0"
     ]
    }
   ],
   "source": [
    "zeds=Array{Array{Float64}}(1)\n",
    "zeds[1]=[] #ground state has no zeros\n",
    "for j in 2:4\n",
    "    push!(zeds,fzeros(y->Ψ(j,y),-3,3))\n",
    "end"
   ]
  },
  {
   "cell_type": "code",
   "execution_count": 15,
   "metadata": {
    "collapsed": false
   },
   "outputs": [
    {
     "ename": "LoadError",
     "evalue": "LoadError: UndefVarError: plot not defined\nwhile loading In[15], in expression starting on line 5",
     "output_type": "error",
     "traceback": [
      "LoadError: UndefVarError: plot not defined\nwhile loading In[15], in expression starting on line 5",
      "",
      " [inlined code] from In[15]:6",
      " in anonymous at no file:0"
     ]
    }
   ],
   "source": [
    "# AHHHHH! So Much code!\n",
    "# Don't worry; it's all just plotting\n",
    "x=collect(-3:.01:3)  #Set some good axes\n",
    "\n",
    "for j in 1:4    #how many do you want to view? \n",
    "    plot(x,map(y->Ψ(j,y),x)+j-1,label=\"| $j >\") \n",
    "    plot(x,(j-1)*ones(x),color=\"black\")\n",
    "    scatter(zeds[j],(j-1)*ones(zeds[j]),marker=\"o\",s=40)\n",
    "end\n",
    "plot(x,.5*m*ω^2*x.^2,linestyle=\"--\",label=\"Potential\")\n",
    "\n",
    "scatter([],[],marker=\"o\",s=40,label=\"Zeros\")\n",
    "xlabel(\"x\")\n",
    "ylabel(\"Ψ+n\")\n",
    "title(\"Eigenstates of a Harmonic Osscilator\")\n",
    "legend()\n",
    "xlim(-3,3);\n",
    "ylim(-.5,4.5);"
   ]
  },
  {
   "cell_type": "markdown",
   "metadata": {},
   "source": [
    "## Example Result\n",
    "\n",
    "![My first four Eigenstates](../images/QHO/eigenstates.png)\n",
    "\n",
    "## More to come\n",
    "This barely scratched the surface into the richness that can be seen in the quantum harmonic osscilator.  Here, just we developed a way for calculating the functions, and visualized the results.  Stay tuned to hear here about ground state energy, ladder operators, and atomic trapping."
   ]
  },
  {
   "cell_type": "code",
   "execution_count": null,
   "metadata": {
    "collapsed": true
   },
   "outputs": [],
   "source": []
  }
 ],
 "metadata": {
  "kernelspec": {
   "display_name": "Julia 0.4.1",
   "language": "julia",
   "name": "julia-0.4"
  },
  "language_info": {
   "file_extension": ".jl",
   "mimetype": "application/julia",
   "name": "julia",
   "version": "0.4.1"
  }
 },
 "nbformat": 4,
 "nbformat_minor": 0
}
