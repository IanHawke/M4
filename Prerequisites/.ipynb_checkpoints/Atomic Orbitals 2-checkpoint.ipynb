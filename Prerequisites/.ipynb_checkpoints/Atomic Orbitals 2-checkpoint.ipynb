{
 "cells": [
  {
   "cell_type": "markdown",
   "metadata": {},
   "source": [
    "# Not Updating\n",
    "\n",
    "# Atomic Orbitals Pt. 2: 3D Imaging\n",
    "### Christina Lee\n",
    "### Prerequisites: Quantum Mechanics\n",
    "\n",
    "If you haven't read it already, checkout part one.  Today we try and make some prettier pictures.  GLVisualize is a quite beautiful package, but not entirely the easiest to use at this point with some not so consistent documentation.  \n",
    "\n",
    "To add"
   ]
  },
  {
   "cell_type": "code",
   "execution_count": null,
   "metadata": {},
   "outputs": [],
   "source": [
    "Pkg.add(\"GLVisualize\")"
   ]
  },
  {
   "cell_type": "markdown",
   "metadata": {},
   "source": [
    "and test with"
   ]
  },
  {
   "cell_type": "code",
   "execution_count": null,
   "metadata": {},
   "outputs": [],
   "source": [
    "Pkg.test(\"GLVisualize\")"
   ]
  },
  {
   "cell_type": "markdown",
   "metadata": {},
   "source": [
    "But other steps may be necessary to get the package working.  On a Mac, I needed to install the Homebrew.jl package."
   ]
  },
  {
   "cell_type": "code",
   "execution_count": 1,
   "metadata": {},
   "outputs": [],
   "source": [
    "#Pkg.update();\n",
    "#Pkg.add(\"GSL\");\n",
    "using GSL;\n",
    "using GLVisualize;"
   ]
  },
  {
   "cell_type": "code",
   "execution_count": 15,
   "metadata": {},
   "outputs": [
    {
     "data": {
      "text/plain": [
       "\"Defined Helper Functions\""
      ]
     },
     "execution_count": 15,
     "metadata": {},
     "output_type": "execute_result"
    }
   ],
   "source": [
    "a0=1; #for convenience, or 5.2917721092(17)×10−11 m\n",
    "\n",
    "# The unitless radial coordinate\n",
    "ρ(r,n)=2r/(n*a0);\n",
    "\n",
    "#The θ dependence\n",
    "function Pmlh(m::Int,l::Int,θ::Real)\n",
    "    return (-1.0)^m *sf_legendre_Plm(l,m,cos(θ)); \n",
    "end\n",
    "\n",
    "#The θ and ϕ dependence\n",
    "function Yml(m::Int,l::Int,θ::Real,ϕ::Real)\n",
    "    return  (-1.0)^m*sf_legendre_Plm(l,abs(m),cos(θ))*e^(im*m*ϕ)\n",
    "end\n",
    "\n",
    "#The Radial dependence\n",
    "function R(n::Int,l::Int,ρ::Real)\n",
    "    if isapprox(ρ,0)\n",
    "        ρ=.001\n",
    "    end\n",
    "     return sf_laguerre_n(n-l-1,2*l+1,ρ)*e^(-ρ/2)*ρ^l\n",
    "end\n",
    "\n",
    "#A normalization: This is dependent on the choice of polynomial representation\n",
    "function norm(n::Int,l::Int)\n",
    "    return sqrt((2/n)^3 * factorial(n-l-1)/(2n*factorial(n+l)))\n",
    "end\n",
    "\n",
    "#Generates an Orbital Funtion of (r,θ,ϕ) for a specificied n,l,m.  \n",
    "function Orbital(n::Int,l::Int,m::Int)\n",
    "    if (l>n)    # we make sure l and m are within proper bounds    \n",
    "        throw(DomainError())\n",
    "    end\n",
    "    if abs(m)>l\n",
    "       throw(DomainError())\n",
    "    end\n",
    "    psi(ρ,θ,ϕ)=norm(n, l)*R(n,l,ρ)*Yml(m,l,θ,ϕ);\n",
    "    return psi\n",
    "end\n",
    "\n",
    "#We will calculate is spherical coordinates, but plot in cartesian, so we need this array conversion\n",
    "function SphtoCart(r::Array,θ::Array,ϕ::Array)\n",
    "    x=r.*sin(θ).*cos(ϕ);\n",
    "    y=r.*sin(θ).*sin(ϕ);\n",
    "    z=r.*cos(θ);\n",
    "    return x,y,z;\n",
    "end\n",
    "\n",
    "function CarttoSph(x::Array,y::Array,z::Array)\n",
    "    r=sqrt(x.^2+y.^2+z.^2);\n",
    "    θ=acos(z./r);\n",
    "    ϕ=atan(y./x);\n",
    "    return r,θ,ϕ; \n",
    "end\n",
    "\n",
    "\"Defined Helper Functions\""
   ]
  },
  {
   "cell_type": "markdown",
   "metadata": {},
   "source": [
    "Here create a square cube, and convert those positions over to spherical coordinates.  "
   ]
  },
  {
   "cell_type": "code",
   "execution_count": 16,
   "metadata": {},
   "outputs": [
    {
     "name": "stdout",
     "output_type": "stream",
     "text": [
      "created x,y,z\n",
      "created r,θ,ϕ\n"
     ]
    }
   ],
   "source": [
    "range=-10:.5:10\n",
    "x=collect(range);\n",
    "y=collect(range);\n",
    "z=collect(range);\n",
    "N=length(x);\n",
    "xa=repeat(x,outer=[1,N,N]);\n",
    "ya=repeat(transpose(y),outer=[N,1,N]);\n",
    "za=repeat(reshape(z,1,1,N),outer=[N,N,1]);\n",
    "println(\"created x,y,z\")\n",
    "\n",
    "r,θ, ϕ=CarttoSph(xa,ya,za);\n",
    "println(\"created r,θ,ϕ\")"
   ]
  },
  {
   "cell_type": "code",
   "execution_count": 17,
   "metadata": {},
   "outputs": [
    {
     "data": {
      "text/plain": [
       "psi (generic function with 1 method)"
      ]
     },
     "execution_count": 17,
     "metadata": {},
     "output_type": "execute_result"
    }
   ],
   "source": [
    "Ψ=Orbital(3,2,-1)\n",
    "Ψp=Orbital(3,1,0)"
   ]
  },
  {
   "cell_type": "code",
   "execution_count": 18,
   "metadata": {},
   "outputs": [],
   "source": [
    "Ψv = zeros(Float32,N,N,N);\n",
    "ϕv = zeros(Float32,N,N,N);"
   ]
  },
  {
   "cell_type": "code",
   "execution_count": 19,
   "metadata": {},
   "outputs": [
    {
     "data": {
      "text/plain": [
       "21"
      ]
     },
     "execution_count": 19,
     "metadata": {},
     "output_type": "execute_result"
    }
   ],
   "source": [
    "round(Int,(N-1)/2+1)"
   ]
  },
  {
   "cell_type": "code",
   "execution_count": 20,
   "metadata": {},
   "outputs": [],
   "source": [
    "for nn in 1:N\n",
    "    for jj in 1:N\n",
    "        for kk in 1:N\n",
    "            val=Ψ(ρ(r[nn,jj,kk],2),θ[nn,jj,kk],ϕ[nn,jj,kk]);\n",
    "            #I used the commented line to make standard looking d orbitals\n",
    "            #val+=Ψp(ρ(r[nn,jj,kk],2),θ[nn,jj,kk],ϕ[nn,jj,kk]);\n",
    "            Ψv[nn,jj,kk]=convert(Float32,abs(val));\n",
    "            ϕv[nn,jj,kk]=convert(Float32,angle(val));\n",
    "        end\n",
    "    end\n",
    "end\n",
    "\n",
    "mid=round(Int,(N-1)/2+1);\n",
    "Ψv[mid,mid,:]=Ψv[mid+1,mid+1,:]; # the one at the center diverges\n",
    "Ψv=(Ψv-minimum(Ψv))/(maximum(Ψv)-minimum(Ψv) );"
   ]
  },
  {
   "cell_type": "code",
   "execution_count": 21,
   "metadata": {},
   "outputs": [
    {
     "data": {
      "text/plain": [
       "Dict{Tuple{UInt32,Array{UInt8,1}},UInt32} with 0 entries"
      ]
     },
     "execution_count": 21,
     "metadata": {},
     "output_type": "execute_result"
    }
   ],
   "source": [
    "w,r = glscreen()\n",
    "\n",
    "robj=visualize(Ψv)\n",
    "\n",
    "#choose this one for surfaces of constant of intensity\n",
    "view(visualize(robj[:intensities],:iso))\n",
    "\n",
    "#choose this for a block of 3D density\n",
    "#view(visualize(Ψv))\n",
    "r()"
   ]
  },
  {
   "cell_type": "markdown",
   "metadata": {},
   "source": [
    "## 2p Orbital\n",
    "![2p filling space](../images/Orbitals2/2p_space.png)\n",
    "![2p surface](../images/Orbitals2/2p_surface.png)\n",
    "## 3d orbitals\n",
    "m=0\n",
    "![3d surface](../images/Orbitals2/3d0_surface.png)\n",
    "m=-1\n",
    "![3d surface](../images/Orbitals2/3d-1_surface.png)\n",
    "This 3d orbital is the sum of a m=2 and a m=-2 state.  \n",
    "![3d surface](../images/Orbitals2/3d2-2_space.png)\n",
    "## 3p\n",
    "In order to get this 3p surface image to come out correctly, I used the square root of the values instead in order to be able to see the much fainter outer lobe.  \n",
    "![3p surface](../images/Orbitals2/3p_surface.png)\n",
    "![3p space](../images/Orbitals2/3p_space.png)"
   ]
  },
  {
   "cell_type": "code",
   "execution_count": null,
   "metadata": {},
   "outputs": [],
   "source": []
  },
  {
   "cell_type": "code",
   "execution_count": null,
   "metadata": {},
   "outputs": [],
   "source": []
  },
  {
   "cell_type": "code",
   "execution_count": null,
   "metadata": {},
   "outputs": [],
   "source": []
  },
  {
   "cell_type": "code",
   "execution_count": null,
   "metadata": {},
   "outputs": [],
   "source": []
  },
  {
   "cell_type": "code",
   "execution_count": null,
   "metadata": {
    "collapsed": true
   },
   "outputs": [],
   "source": []
  }
 ],
 "metadata": {
  "kernelspec": {
   "display_name": "Julia 0.4.6",
   "language": "julia",
   "name": "julia-0.4"
  },
  "language_info": {
   "file_extension": ".jl",
   "mimetype": "application/julia",
   "name": "julia",
   "version": "0.4.1"
  }
 },
 "nbformat": 4,
 "nbformat_minor": 1
}
