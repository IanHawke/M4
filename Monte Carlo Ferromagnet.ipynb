{
 "cells": [
  {
   "cell_type": "markdown",
   "metadata": {},
   "source": [
    "# Monte Carlo Ferromagnet\n",
    "Christina C Lee\n",
    "Physics Prerequisites: Statistics Mechanics/ Phase Transitions\n",
    "Numerics Prerequisite: Monte Carlo Markov Chain\n",
    "\n",
    "## The physics\n",
    "What process turns liquid water into a solid?  As objects cool down, they transition from a regime where the desire to maximize entropy dominates to a regime where the desire to minimize energy dominates.   In transitions like liquid-solid, the energy arises from atom-atom long range forces, and therefore is a difficult problem to solve.\n",
    "\n",
    "Instead of looking at the liquid-solid problem to understand phase transitions, we will look at a material (like magnetite) going from magnetized to non-magnetized (paramagnetic). In our approximation of the problem, the atoms exist at fixed positions on a lattice, and interact with their neighbor according to the following Hamiltonian,\n",
    "\\begin{equation}\n",
    "    {\\cal H} = -J \\sum_{<i,j>} S^z_i S_j^z\n",
    "\\end{equation}\n",
    ", which is basically just the energy.  This <i>Ising</i> Model has nearest neighbors interacting, and each solely points in the $\\pm z$ direction.  \n",
    "\n",
    "At a given temperature $T$, and thus inverse temperature $\\beta=1/T$ ($k_b=1$), the occupancy of a given configuration $c_i$ follows the Maxwell-Boltzmann Distribution,\n",
    "\\begin{equation}\n",
    "P(c_i)=\\frac{\\mathrm{e}^{-\\beta E(c_i)}}{\\sum\\limits_j \\mathrm{e}^{-\\beta E(c_j)}}\n",
    "\\end{equation}\n",
    "\n",
    "\n",
    "## The Numerics \n",
    "\n",
    "![A low temperature search of a couch store](Ferromagnet/couch.JPG)\n",
    "Here I am performing a low temperature search of a couch store.  I found a minimum, and even though I got stuck there, I thoroughly got to know what that minimum had to offer.\n",
    "\n",
    "![A high temperature search](Ferromagnet/mountain.jpg)\n",
    "In this picture, on the other hand, I'm performing a high temperature search of the Alexander Hills, Death Valley, California in pursuit of Neoproterzoic carbonates and dimictites.  I needed to be able to explore a lot more of the environment.  \n"
   ]
  },
  {
   "cell_type": "code",
   "execution_count": 1,
   "metadata": {
    "collapsed": false
   },
   "outputs": [],
   "source": [
    "using PyPlot;\n",
    "push!(LOAD_PATH,\".\")\n",
    "using Lattices;"
   ]
  },
  {
   "cell_type": "code",
   "execution_count": 42,
   "metadata": {
    "collapsed": true
   },
   "outputs": [],
   "source": [
    "l=50;\n",
    "beta=1.1;\n",
    "J=1;\n",
    "t=100000;"
   ]
  },
  {
   "cell_type": "markdown",
   "metadata": {},
   "source": [
    "Instead of going into calculating all the lattice parameters again, we will use a class I define in the file Lattices.jl .  This class contains\n",
    "\n",
    "Lattice Types\n",
    "* Chain\n",
    "* Square\n",
    "* Honeycomb\n",
    "\n",
    "and once a lattice is created, it contains\n",
    "\n",
    "Members of Type\n",
    "* name  , a string\n",
    "* l , length in number of unit cells\n",
    "* dim, dimension of lattice\n",
    "* a, array containing the basis vectors by which positions are generated\n",
    "* unit. array of positions inside a single unit\n",
    "* N , number of total sites\n",
    "* X, array of positions\n",
    "* nnei, number of nearest neighbors\n",
    "* neigh, Array of nearest neighbors [i][j], where i is site and j is 1:nnei\n",
    "\n",
    "Today, I will just look at the square lattice, since that indicates much of the standard phase transition properties.  Some of the lattices I have shown (kagome, triangular, ...) are special frustrated lattices, and thus will behave very wierdly in this situation."
   ]
  },
  {
   "cell_type": "code",
   "execution_count": 43,
   "metadata": {
    "collapsed": false
   },
   "outputs": [],
   "source": [
    "sq=MakeLattice(\"Square\",l);\n",
    "S=ones(Int8,l,l);  #Our spins\n",
    "dt=1/(sq.N);"
   ]
  },
  {
   "cell_type": "code",
   "execution_count": 44,
   "metadata": {
    "collapsed": false
   },
   "outputs": [
    {
     "data": {
      "text/plain": [
       "M (generic function with 1 method)"
      ]
     },
     "execution_count": 44,
     "metadata": {},
     "output_type": "execute_result"
    }
   ],
   "source": [
    "# The energy contribution of just one site\n",
    "function dE(i::Int)\n",
    "    Eii=0;\n",
    "    for j in 1:sq.nnei\n",
    "        Eii+=S[sq.neigh[i,j]];\n",
    "    end\n",
    "    Eii*=-J*S[i];  # we are computing J sz_i sz_j for one i\n",
    "    return Eii;\n",
    "end\n",
    "# The energy of the entire lattice\n",
    "function E()\n",
    "    Evar=0;\n",
    "    for k in 1:sq.N\n",
    "        Evar+=.5*dE(k);\n",
    "    end\n",
    "    return Evar;\n",
    "end\n",
    "# The magnetization of the entire lattice\n",
    "function M()\n",
    "    Mvar=0;\n",
    "    for k in 1:sq.N\n",
    "        Mvar+=S[k];\n",
    "    end\n",
    "    return Mvar;\n",
    "end"
   ]
  },
  {
   "cell_type": "markdown",
   "metadata": {},
   "source": [
    "We will be wanting to measure our magnetization and energy throughout, but only once the state has become thoroughly decorellated. \n",
    "\n",
    "The correlation time is measured by:\n",
    "\\begin{equation}\n",
    "\\langle S(0) S(t)\\rangle\n",
    "\\end{equation}\n"
   ]
  },
  {
   "cell_type": "code",
   "execution_count": 45,
   "metadata": {
    "collapsed": false
   },
   "outputs": [
    {
     "data": {
      "text/plain": [
       "\"done\""
      ]
     },
     "execution_count": 45,
     "metadata": {},
     "output_type": "execute_result"
    }
   ],
   "source": [
    "nskip=10;   # don't measure every sweep= better decorrelation\n",
    "t=500;\n",
    "nmeas=Int64(t/nskip); # how many times we will measure\n",
    "Ma=Array{Int32}(nmeas); # our magnetization measurements\n",
    "Ea=Array{Int32}(nmeas); # our energy measurements\n",
    "Correl=Array{Float64}(nmeas); # The Correlation function\n",
    "\"done\""
   ]
  },
  {
   "cell_type": "code",
   "execution_count": 48,
   "metadata": {
    "collapsed": false
   },
   "outputs": [
    {
     "data": {
      "text/plain": [
       "0.4"
      ]
     },
     "execution_count": 48,
     "metadata": {},
     "output_type": "execute_result"
    }
   ],
   "source": [
    "beta=.4"
   ]
  },
  {
   "cell_type": "code",
   "execution_count": 49,
   "metadata": {
    "collapsed": false
   },
   "outputs": [
    {
     "data": {
      "text/plain": [
       "(0.2232,0.15340148736740009)"
      ]
     },
     "execution_count": 49,
     "metadata": {},
     "output_type": "execute_result"
    }
   ],
   "source": [
    "tm=1; #Our measurement time step\n",
    "pygui(true)\n",
    "S0=copy(S);  ## To test correlation with\n",
    "for ti in 1:t\n",
    "    for j in 1:sq.N\n",
    "        i = rand(1:sq.N); #Choosing a random site\n",
    "        de=dE(i);\n",
    "        if(de>0 || rand()<exp(2*beta*de) ) \n",
    "            S[i]=-S[i]; #Switch the sign\n",
    "        end\n",
    "    end\n",
    "    if isapprox(mod(ti,nskip),0)\n",
    "        Ma[tm]=M();\n",
    "        #Correl[tm]=sum(S.*S0)/sq.N-sum(S)*sum(S0)/(sq.N^2);\n",
    "        tm+=1;\n",
    "        \n",
    "        #Uncomment to get a nice color plot of the lattice\n",
    "        pcolor(S,cmap=\"winter\")\n",
    "        temp=round(M()/sq.N,3)\n",
    "        title(\"t: $ti  M: $temp \")\n",
    "        draw()\n",
    "        sleep(.5)\n",
    "        #nm=dec(ti,4)\n",
    "        #savefig(\"Magnetimages/picl30_b2_$nm.png\")\n",
    "    end\n",
    "end\n",
    "Mave=mean(Ma/sq.N);\n",
    "Mstd=std(Ma/sq.N);\n",
    "Mave, Mstd"
   ]
  },
  {
   "cell_type": "code",
   "execution_count": null,
   "metadata": {
    "collapsed": false
   },
   "outputs": [],
   "source": []
  },
  {
   "cell_type": "code",
   "execution_count": null,
   "metadata": {
    "collapsed": false
   },
   "outputs": [],
   "source": [
    "pygui(false)\n",
    "plot(Ctest[1:50,1],linestyle=\":\")\n",
    "plot(Ctest[1:50,2],linestyle=\":\")\n",
    "plot(Ctest[1:50,3],linestyle=\":\")\n",
    "plot(Ctest[1:50,4],linestyle=\":\")\n",
    "plot(Ctest[1:50,5],linestyle=\":\")\n",
    "plot(Cmean[1:50],color=\"black\")\n",
    "\n",
    "#annotate(\"Average of 5 runs\",\n",
    "#xy=[25;0],\n",
    "#xytext=[28;-.2],\n",
    "#xycoords=\"data\",\n",
    "#arrowprops=Dict(\"facecolor\"=>\"black\"))\n",
    "\n",
    "#annotate(\"Uncorrelated at t=6\",\n",
    "#xy=[6;-.02],\n",
    "#xytext=[1;-.2],\n",
    "#xycoords=\"data\",\n",
    "#arrowprops=Dict(\"facecolor\"=>\"black\"))\n",
    "\n",
    "title(\"Correlation time at beta=0.3\")\n",
    "ylabel(\"Autocorrelation\")\n",
    "xlabel(\"Time steps ti\")"
   ]
  },
  {
   "cell_type": "code",
   "execution_count": null,
   "metadata": {
    "collapsed": false
   },
   "outputs": [],
   "source": [
    "pygui(true)\n",
    "pcolor(reshape(S,10,10),cmap=\"winter\")"
   ]
  },
  {
   "cell_type": "code",
   "execution_count": null,
   "metadata": {
    "collapsed": false
   },
   "outputs": [],
   "source": [
    "pygui(false)\n",
    "plot(Ma)"
   ]
  },
  {
   "cell_type": "code",
   "execution_count": null,
   "metadata": {
    "collapsed": false
   },
   "outputs": [],
   "source": [
    "pygui(false)\n",
    "plt[:hist](Ma);"
   ]
  },
  {
   "cell_type": "code",
   "execution_count": 71,
   "metadata": {
    "collapsed": false
   },
   "outputs": [
    {
     "data": {
      "image/png": "[encoded data removed]",
      "text/plain": [
       "PyPlot.Figure(PyObject <matplotlib.figure.Figure object at 0x7ff42aca9810>)"
      ]
     },
     "metadata": {},
     "output_type": "display_data"
    },
    {
     "data": {
      "text/plain": [
       "1-element Array{Any,1}:\n",
       " PyObject <matplotlib.lines.Line2D object at 0x7ff42ab9b310>"
      ]
     },
     "execution_count": 71,
     "metadata": {},
     "output_type": "execute_result"
    }
   ],
   "source": [
    "pygui(false)\n",
    "plot(Correl[1:50])"
   ]
  },
  {
   "cell_type": "code",
   "execution_count": null,
   "metadata": {
    "collapsed": false
   },
   "outputs": [],
   "source": []
  },
  {
   "cell_type": "code",
   "execution_count": null,
   "metadata": {
    "collapsed": false
   },
   "outputs": [],
   "source": []
  },
  {
   "cell_type": "markdown",
   "metadata": {},
   "source": [
    "## Example Results\n",
    "So here are some example results I got.\n",
    "\n",
    "![Correlation at beta=0.3](Images/MCMC/corb0_3.png)"
   ]
  },
  {
   "cell_type": "code",
   "execution_count": null,
   "metadata": {
    "collapsed": false
   },
   "outputs": [],
   "source": []
  },
  {
   "cell_type": "code",
   "execution_count": null,
   "metadata": {
    "collapsed": true
   },
   "outputs": [],
   "source": []
  }
 ],
 "metadata": {
  "kernelspec": {
   "display_name": "Julia 0.4.1",
   "language": "julia",
   "name": "julia-0.4"
  },
  "language_info": {
   "file_extension": ".jl",
   "mimetype": "application/julia",
   "name": "julia",
   "version": "0.4.1"
  }
 },
 "nbformat": 4,
 "nbformat_minor": 0
}
