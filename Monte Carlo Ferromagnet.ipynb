{
 "cells": [
  {
   "cell_type": "markdown",
   "metadata": {},
   "source": [
    "# Monte Carlo Ferromagnet\n",
    "\\begin{equation}\n",
    "    {\\cal H} = -J \\sum_{<i,j>} S^z_i S_j^z\n",
    "\\end{equation}"
   ]
  },
  {
   "cell_type": "code",
   "execution_count": 1,
   "metadata": {
    "collapsed": false
   },
   "outputs": [],
   "source": [
    "using PyPlot;\n",
    "push!(LOAD_PATH,\".\")\n",
    "using Lattices;"
   ]
  },
  {
   "cell_type": "code",
   "execution_count": 17,
   "metadata": {
    "collapsed": true
   },
   "outputs": [],
   "source": [
    "l=10;\n",
    "beta=1.1;\n",
    "J=1;\n",
    "t=1000;\n",
    "tburnin=0;"
   ]
  },
  {
   "cell_type": "markdown",
   "metadata": {},
   "source": [
    "Members of Type\n",
    "* name  , a string\n",
    "* l , length in number of unit cells\n",
    "* dim, dimension of lattice\n",
    "* a, array containing the basis vectors by which positions are generated\n",
    "* unit. array of positions inside a single unit\n",
    "* N , number of total sites\n",
    "* X, array of positions\n",
    "* nnei, number of nearest neighbors\n",
    "* neigh, Array of nearest neighbors [i][j], where i is site and j is 1:nnei"
   ]
  },
  {
   "cell_type": "code",
   "execution_count": 3,
   "metadata": {
    "collapsed": false
   },
   "outputs": [],
   "source": [
    "sq=MakeLattice(\"Square\",l);\n",
    "S=ones(Int8,sq.N);"
   ]
  },
  {
   "cell_type": "code",
   "execution_count": 4,
   "metadata": {
    "collapsed": false
   },
   "outputs": [
    {
     "data": {
      "text/plain": [
       "E (generic function with 1 method)"
      ]
     },
     "execution_count": 4,
     "metadata": {},
     "output_type": "execute_result"
    }
   ],
   "source": [
    "function dE(i::Int)\n",
    "    Eii=0;\n",
    "    for j in 1:sq.nnei\n",
    "        Eii+=S[sq.neigh[i,j]];\n",
    "    end\n",
    "    Eii*=-J*S[i];\n",
    "    return Eii;\n",
    "end\n",
    "function E()\n",
    "    Evar=0;\n",
    "    for k in 1:sq.N\n",
    "        Evar+=.5*dE(k);\n",
    "    end\n",
    "    return Evar;\n",
    "end"
   ]
  },
  {
   "cell_type": "code",
   "execution_count": 8,
   "metadata": {
    "collapsed": false
   },
   "outputs": [
    {
     "data": {
      "text/plain": [
       "0-element Array{Any,1}"
      ]
     },
     "execution_count": 8,
     "metadata": {},
     "output_type": "execute_result"
    }
   ],
   "source": [
    "changed=[]"
   ]
  },
  {
   "cell_type": "code",
   "execution_count": 27,
   "metadata": {
    "collapsed": false
   },
   "outputs": [
    {
     "data": {
      "text/plain": [
       "0.5"
      ]
     },
     "execution_count": 27,
     "metadata": {},
     "output_type": "execute_result"
    }
   ],
   "source": [
    "beta=.5"
   ]
  },
  {
   "cell_type": "code",
   "execution_count": 32,
   "metadata": {
    "collapsed": false
   },
   "outputs": [
    {
     "data": {
      "text/plain": [
       "(7373,)"
      ]
     },
     "execution_count": 32,
     "metadata": {},
     "output_type": "execute_result"
    }
   ],
   "source": [
    "changed=[]\n",
    "for dt in -tburnin:t\n",
    "    for j in 1:sq.N\n",
    "        i = rand(1:sq.N);\n",
    "        de=dE(i);\n",
    "        if(de>0 || rand()<exp(2*beta*de) )\n",
    "            S[i]=-S[i];\n",
    "            push!(changed,dt)\n",
    "        end\n",
    "        \n",
    "    end\n",
    "end\n",
    "size(changed)"
   ]
  },
  {
   "cell_type": "code",
   "execution_count": 33,
   "metadata": {
    "collapsed": false
   },
   "outputs": [
    {
     "data": {
      "image/png": "[encoded data removed]",
      "text/plain": [
       "PyPlot.Figure(PyObject <matplotlib.figure.Figure object at 0x7fde18bff210>)"
      ]
     },
     "metadata": {},
     "output_type": "display_data"
    },
    {
     "data": {
      "text/plain": [
       "PyObject <matplotlib.image.AxesImage object at 0x7fde1887d810>"
      ]
     },
     "execution_count": 33,
     "metadata": {},
     "output_type": "execute_result"
    }
   ],
   "source": [
    "imshow(reshape(S,10,10))"
   ]
  },
  {
   "cell_type": "code",
   "execution_count": 10,
   "metadata": {
    "collapsed": false
   },
   "outputs": [
    {
     "data": {
      "text/plain": [
       "748-element Array{Any,1}:\n",
       "  7\n",
       " 38\n",
       " 41\n",
       " 60\n",
       " 97\n",
       "  5\n",
       " 45\n",
       " 54\n",
       " 57\n",
       " 69\n",
       " 72\n",
       " 89\n",
       "  1\n",
       "  ⋮\n",
       " 22\n",
       " 44\n",
       " 48\n",
       " 49\n",
       " 53\n",
       " 58\n",
       " 59\n",
       " 61\n",
       " 65\n",
       " 90\n",
       " 93\n",
       " 94"
      ]
     },
     "execution_count": 10,
     "metadata": {},
     "output_type": "execute_result"
    }
   ],
   "source": []
  },
  {
   "cell_type": "code",
   "execution_count": null,
   "metadata": {
    "collapsed": true
   },
   "outputs": [],
   "source": []
  }
 ],
 "metadata": {
  "kernelspec": {
   "display_name": "Julia 0.4.0",
   "language": "julia",
   "name": "julia-0.4"
  },
  "language_info": {
   "file_extension": ".jl",
   "mimetype": "application/julia",
   "name": "julia",
   "version": "0.4.0"
  }
 },
 "nbformat": 4,
 "nbformat_minor": 0
}
