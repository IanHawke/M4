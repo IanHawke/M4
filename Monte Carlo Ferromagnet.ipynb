{
 "cells": [
  {
   "cell_type": "markdown",
   "metadata": {},
   "source": [
    "# Monte Carlo Ferromagnet\n",
    "<b>Prerequisites:</b> Statistical Physics (Phase Transitions)\n",
    "\\begin{equation}\n",
    "    {\\cal H} = -J \\sum_{<i,j>} S^z_i S_j^z\n",
    "\\end{equation}"
   ]
  },
  {
   "cell_type": "code",
   "execution_count": 1,
   "metadata": {
    "collapsed": false
   },
   "outputs": [],
   "source": [
    "using PyPlot;\n",
    "push!(LOAD_PATH,\".\")\n",
    "using Lattices;"
   ]
  },
  {
   "cell_type": "code",
   "execution_count": 2,
   "metadata": {
    "collapsed": true
   },
   "outputs": [],
   "source": [
    "l=10;\n",
    "beta=1.1;\n",
    "J=1;\n",
    "t=100000;"
   ]
  },
  {
   "cell_type": "markdown",
   "metadata": {},
   "source": [
    "Members of Type\n",
    "* name  , a string\n",
    "* l , length in number of unit cells\n",
    "* dim, dimension of lattice\n",
    "* a, array containing the basis vectors by which positions are generated\n",
    "* unit. array of positions inside a single unit\n",
    "* N , number of total sites\n",
    "* X, array of positions\n",
    "* nnei, number of nearest neighbors\n",
    "* neigh, Array of nearest neighbors [i][j], where i is site and j is 1:nnei"
   ]
  },
  {
   "cell_type": "code",
   "execution_count": 3,
   "metadata": {
    "collapsed": false
   },
   "outputs": [],
   "source": [
    "sq=MakeLattice(\"Square\",l);\n",
    "S=ones(Int8,sq.N);\n",
    "dt=1/(sq.N);"
   ]
  },
  {
   "cell_type": "code",
   "execution_count": 4,
   "metadata": {
    "collapsed": false
   },
   "outputs": [
    {
     "data": {
      "text/plain": [
       "M (generic function with 1 method)"
      ]
     },
     "execution_count": 4,
     "metadata": {},
     "output_type": "execute_result"
    }
   ],
   "source": [
    "function dE(i::Int)\n",
    "    Eii=0;\n",
    "    for j in 1:sq.nnei\n",
    "        Eii+=S[sq.neigh[i,j]];\n",
    "    end\n",
    "    Eii*=-J*S[i];\n",
    "    return Eii;\n",
    "end\n",
    "function E()\n",
    "    Evar=0;\n",
    "    for k in 1:sq.N\n",
    "        Evar+=.5*dE(k);\n",
    "    end\n",
    "    return Evar;\n",
    "end\n",
    "function M()\n",
    "    Mvar=0;\n",
    "    for k in 1:sq.N\n",
    "        Mvar+=S[k];\n",
    "    end\n",
    "    return Mvar;\n",
    "end"
   ]
  },
  {
   "cell_type": "markdown",
   "metadata": {},
   "source": [
    "We will be wanting to measure our magnetization and energy throughout, but only once the state has become thoroughly decorellated. \n",
    "\n",
    "The correlation time is measured by:\n",
    "\\begin{equation}\n",
    "C(t) = \\langle S(0) S(t)\\rangle - \\langle S(0) \\rangle \\langle S(t) \\rangle\n",
    "\\end{equation}\n"
   ]
  },
  {
   "cell_type": "code",
   "execution_count": 5,
   "metadata": {
    "collapsed": false
   },
   "outputs": [],
   "source": [
    "nskip=1;\n",
    "t=100;\n",
    "nmeas=Int64(t/nskip);\n",
    "Ma=Array{Int32}(nmeas); \n",
    "Ea=Array{Int32}(nmeas);\n",
    "Correl=Array{Float64}(nmeas);"
   ]
  },
  {
   "cell_type": "code",
   "execution_count": 40,
   "metadata": {
    "collapsed": false
   },
   "outputs": [
    {
     "data": {
      "text/plain": [
       "0.44"
      ]
     },
     "execution_count": 40,
     "metadata": {},
     "output_type": "execute_result"
    }
   ],
   "source": [
    "beta=.44"
   ]
  },
  {
   "cell_type": "code",
   "execution_count": 41,
   "metadata": {
    "collapsed": false
   },
   "outputs": [
    {
     "data": {
      "text/plain": [
       "(-0.79,0.11646302573622394)"
      ]
     },
     "execution_count": 41,
     "metadata": {},
     "output_type": "execute_result"
    }
   ],
   "source": [
    "tm=1;\n",
    "pygui(true)\n",
    "S0=copy(S);\n",
    "for ti in 1:t\n",
    "    for j in 1:sq.N\n",
    "        i = rand(1:sq.N);\n",
    "        de=dE(i);\n",
    "        if(de>0 || rand()<exp(2*beta*de) )\n",
    "            S[i]=-S[i];\n",
    "        end\n",
    "    end\n",
    "    if isapprox(mod(ti,nskip),0)\n",
    "        Ma[tm]=M();\n",
    "        Ma2[tm]=Ma[tm].^2;\n",
    "        Correl[tm]=sum(S.*S0)/sq.N-sum(S)*sum(S0)/(sq.N^2);\n",
    "        #println(sum(S.*S0)/sq.N,' ',sum(S)*sum(S0)/(sq.N^2))\n",
    "        tm+=1;\n",
    "        \n",
    "        #pcolor(reshape(S,10,10),cmap=\"winter\")\n",
    "        #draw()\n",
    "        #sleep(.5)\n",
    "    end\n",
    "end\n",
    "Mave=mean(Ma/sq.N);\n",
    "Mstd=std(Ma/sq.N);\n",
    "Mave, Mstd"
   ]
  },
  {
   "cell_type": "code",
   "execution_count": 42,
   "metadata": {
    "collapsed": false
   },
   "outputs": [
    {
     "data": {
      "image/png": "[encoded data removed]",
      "text/plain": [
       "PyPlot.Figure(PyObject <matplotlib.figure.Figure object at 0x7f3ee692e490>)"
      ]
     },
     "metadata": {},
     "output_type": "display_data"
    },
    {
     "data": {
      "text/plain": [
       "1-element Array{Any,1}:\n",
       " PyObject <matplotlib.lines.Line2D object at 0x7f3ee68b4dd0>"
      ]
     },
     "execution_count": 42,
     "metadata": {},
     "output_type": "execute_result"
    }
   ],
   "source": [
    "pygui(false)\n",
    "plot(Correl[1:20])"
   ]
  },
  {
   "cell_type": "code",
   "execution_count": null,
   "metadata": {
    "collapsed": false
   },
   "outputs": [],
   "source": [
    "pygui(false)\n",
    "plot(Ctest[1:50,1],linestyle=\":\")\n",
    "plot(Ctest[1:50,2],linestyle=\":\")\n",
    "plot(Ctest[1:50,3],linestyle=\":\")\n",
    "plot(Ctest[1:50,4],linestyle=\":\")\n",
    "plot(Ctest[1:50,5],linestyle=\":\")\n",
    "plot(Cmean[1:50],color=\"black\")\n",
    "\n",
    "#annotate(\"Average of 5 runs\",\n",
    "#xy=[25;0],\n",
    "#xytext=[28;-.2],\n",
    "#xycoords=\"data\",\n",
    "#arrowprops=Dict(\"facecolor\"=>\"black\"))\n",
    "\n",
    "#annotate(\"Uncorrelated at t=6\",\n",
    "#xy=[6;-.02],\n",
    "#xytext=[1;-.2],\n",
    "#xycoords=\"data\",\n",
    "#arrowprops=Dict(\"facecolor\"=>\"black\"))\n",
    "\n",
    "title(\"Correlation time at beta=0.3\")\n",
    "ylabel(\"Autocorrelation\")\n",
    "xlabel(\"Time steps ti\")"
   ]
  },
  {
   "cell_type": "code",
   "execution_count": null,
   "metadata": {
    "collapsed": false
   },
   "outputs": [],
   "source": [
    "pygui(true)\n",
    "pcolor(reshape(S,10,10),cmap=\"winter\")"
   ]
  },
  {
   "cell_type": "code",
   "execution_count": null,
   "metadata": {
    "collapsed": false
   },
   "outputs": [],
   "source": [
    "pygui(false)\n",
    "plot(Ma)"
   ]
  },
  {
   "cell_type": "code",
   "execution_count": null,
   "metadata": {
    "collapsed": false
   },
   "outputs": [],
   "source": [
    "pygui(false)\n",
    "plt[:hist](Ma);"
   ]
  },
  {
   "cell_type": "code",
   "execution_count": null,
   "metadata": {
    "collapsed": false
   },
   "outputs": [],
   "source": [
    "pygui(false)\n",
    "plot(Correl[1:50])"
   ]
  },
  {
   "cell_type": "code",
   "execution_count": null,
   "metadata": {
    "collapsed": false
   },
   "outputs": [],
   "source": []
  },
  {
   "cell_type": "code",
   "execution_count": null,
   "metadata": {
    "collapsed": false
   },
   "outputs": [],
   "source": []
  },
  {
   "cell_type": "markdown",
   "metadata": {},
   "source": [
    "## Example Results\n",
    "So here are some example results I got.\n",
    "\n"
   ]
  },
  {
   "cell_type": "code",
   "execution_count": 19,
   "metadata": {
    "collapsed": false
   },
   "outputs": [
    {
     "data": {
      "text/plain": [
       "86"
      ]
     },
     "execution_count": 19,
     "metadata": {},
     "output_type": "execute_result"
    }
   ],
   "source": [
    "sum(S0.*S)"
   ]
  },
  {
   "cell_type": "code",
   "execution_count": 20,
   "metadata": {
    "collapsed": false
   },
   "outputs": [
    {
     "data": {
      "text/plain": [
       "94"
      ]
     },
     "execution_count": 20,
     "metadata": {},
     "output_type": "execute_result"
    }
   ],
   "source": [
    "sum(S0)"
   ]
  },
  {
   "cell_type": "code",
   "execution_count": 21,
   "metadata": {
    "collapsed": false
   },
   "outputs": [
    {
     "data": {
      "text/plain": [
       "92"
      ]
     },
     "execution_count": 21,
     "metadata": {},
     "output_type": "execute_result"
    }
   ],
   "source": [
    "sum(S)"
   ]
  },
  {
   "cell_type": "code",
   "execution_count": null,
   "metadata": {
    "collapsed": true
   },
   "outputs": [],
   "source": []
  }
 ],
 "metadata": {
  "kernelspec": {
   "display_name": "Julia 0.4.0",
   "language": "julia",
   "name": "julia-0.4"
  },
  "language_info": {
   "file_extension": ".jl",
   "mimetype": "application/julia",
   "name": "julia",
   "version": "0.4.2"
  },
  "toc": {
   "toc_cell": false,
   "toc_number_sections": true,
   "toc_threshold": 6,
   "toc_window_display": false
  }
 },
 "nbformat": 4,
 "nbformat_minor": 0
}
