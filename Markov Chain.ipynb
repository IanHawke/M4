{
 "cells": [
  {
   "cell_type": "markdown",
   "metadata": {},
   "source": [
    "# Markov Chain\n",
    "\n",
    "Prerequisites: Monte Carlo Calculation of Pi\n",
    "\n",
    "Author: Christina Lee\n",
    "\n",
    "If you didn't check it out already, take a look at the post that introduces using random numbers in calculations.  Any such simulation is a <i>Monte Carlo</i> simulation.  The most used kind of Monte Carlo simulation is a <i>Markov Chain</i>, also known as a drunkard's walk.  A Markov Chain is a series of steps where\n",
    "* each new state is chosen probabilitically\n",
    "* the probabilities only depend on the current state (no memory)\n",
    "\n",
    "Imagine a drunkard trying to walk.  At any one point, they could progress either left or right rather randomly.  Also, just because they had been traveling in a straight line so far does not guaruntee they will continue to do.  They've just had extremely good luck.  \n",
    "\n",
    "We use Markov Chains to <b>approximate probability distributions</b>.  "
   ]
  },
  {
   "cell_type": "code",
   "execution_count": 3,
   "metadata": {
    "collapsed": true,
    "init_cell": true
   },
   "outputs": [],
   "source": [
    "using PyPlot"
   ]
  },
  {
   "cell_type": "code",
   "execution_count": 4,
   "metadata": {
    "collapsed": false
   },
   "outputs": [
    {
     "data": {
      "text/plain": [
       "armod (generic function with 1 method)"
      ]
     },
     "execution_count": 4,
     "metadata": {},
     "output_type": "execute_result"
    }
   ],
   "source": [
    "function armod(i,j)\n",
    "    return (mod(i-1+j,j)+1)  \n",
    "end"
   ]
  },
  {
   "cell_type": "code",
   "execution_count": 5,
   "metadata": {
    "collapsed": false
   },
   "outputs": [
    {
     "data": {
      "text/plain": [
       "Transition (generic function with 1 method)"
      ]
     },
     "execution_count": 5,
     "metadata": {},
     "output_type": "execute_result"
    }
   ],
   "source": [
    "function Transition(i)\n",
    "    d=rand(1:4)\n",
    "    if d==1\n",
    "        return armod(i-3,9);\n",
    "    elseif d==2\n",
    "        row=convert(Int,floor((i-1)/3));\n",
    "        return armod(i-1,3)+3*row;\n",
    "    elseif d==3\n",
    "        row=convert(Int,floor((i-1)/3));\n",
    "        return armod(i+1,3)+3*row;\n",
    "    else\n",
    "        return armod(i+3,9);\n",
    "    end    \n",
    "end"
   ]
  },
  {
   "cell_type": "code",
   "execution_count": null,
   "metadata": {
    "collapsed": false
   },
   "outputs": [],
   "source": []
  },
  {
   "cell_type": "code",
   "execution_count": 6,
   "metadata": {
    "collapsed": false
   },
   "outputs": [
    {
     "data": {
      "text/plain": [
       "2-element Array{Float64,1}:\n",
       " 0.5\n",
       " 1.5"
      ]
     },
     "execution_count": 6,
     "metadata": {},
     "output_type": "execute_result"
    }
   ],
   "source": [
    "pos=zeros(Float64,9,2)\n",
    "pos[1:3,1]=.5\n",
    "pos[4:6,1]=1.5\n",
    "pos[7:9,1]=2.5\n",
    "pos[1:3:7,2]=.5\n",
    "pos[2:3:8,2]=1.5\n",
    "pos[3:3:9,2]=2.5\n",
    "pos=transpose(pos)\n",
    "pos[:,2]"
   ]
  },
  {
   "cell_type": "code",
   "execution_count": 31,
   "metadata": {
    "collapsed": false
   },
   "outputs": [],
   "source": [
    "tn=100;\n",
    "ti=Array{Int64,1}()\n",
    "err=Array{Float64,1}()\n",
    "current=1;\n",
    "last=1;\n",
    "Naccumulated=zeros(Int64,3,3);\n",
    "Naccumulated[current]+=1;\n",
    "\n",
    "pygui(true)\n",
    "subplot(211)\n",
    "pcolor(Naccumulated-1/9,cmap=\"RdBu\",vmin=-.1,vmax=.1)\n",
    "colorbar()\n",
    "\n",
    "subplot(212)\n",
    "scatter(ti,err)\n",
    "title(\"Error\")\n",
    "\n",
    "for ii in 1:tn\n",
    "    last=current;\n",
    "    current=Transition(current);\n",
    "    Naccumulated[current]+=1;\n",
    "    \n",
    "    push!(ti,ii)\n",
    "    push!(err,round(std(Naccumulated/ii),5))\n",
    "    \n",
    "    clf()\n",
    "    subplot(211)\n",
    "    title(\"t: $ii Error: $(err[end])\")\n",
    "    pcolor(Naccumulated/ii-1/9,cmap=\"RdBu\",vmin=-.1,vmax=.1)\n",
    "    colorbar()\n",
    "    \n",
    "    annotate(\"\",\n",
    "    xy=pos[:,current],\n",
    "    xytext=pos[:,last],\n",
    "    xycoords=\"data\",\n",
    "    arrowprops=Dict(\"facecolor\"=>\"green\"))\n",
    "    \n",
    "    subplot(212)\n",
    "    scatter(ti,log(err))\n",
    "\n",
    "    sleep(.5)\n",
    "end\n",
    "Naccumulated=Naccumulated/tn;"
   ]
  },
  {
   "cell_type": "code",
   "execution_count": null,
   "metadata": {
    "collapsed": false
   },
   "outputs": [],
   "source": [
    "pygui(false)\n",
    "pcolor(reshape(Naccumulated,3,3)-1/9,cmap=\"RdBu\",vmin=-.1,vmax=.1)\n",
    "pcolor(A)\n",
    "annotate(\"X\",\n",
    "xy=[.5;.5],\n",
    "xytext=[.5;.5],\n",
    "xycoords=\"data\",\n",
    "arrowprops=Dict(\"facecolor\"=>\"black\"))\n",
    "colorbar()"
   ]
  },
  {
   "cell_type": "code",
   "execution_count": null,
   "metadata": {
    "collapsed": false
   },
   "outputs": [],
   "source": [
    "PyPlot.show()\n",
    "\n",
    "for k=1:20\n",
    "    PyPlot.plot(collect(1:10),1+k*collect(1:10))\n",
    "    PyPlot.draw()\n",
    "    sleep(0.05)\n",
    "end"
   ]
  },
  {
   "cell_type": "code",
   "execution_count": 28,
   "metadata": {
    "collapsed": false
   },
   "outputs": [
    {
     "ename": "LoadError",
     "evalue": "LoadError: MethodError: `log` has no method matching log(::Array{Any,1})\nwhile loading In[28], in expression starting on line 1",
     "output_type": "error",
     "traceback": [
      "LoadError: MethodError: `log` has no method matching log(::Array{Any,1})\nwhile loading In[28], in expression starting on line 1",
      ""
     ]
    }
   ],
   "source": [
    "log(err)"
   ]
  },
  {
   "cell_type": "code",
   "execution_count": null,
   "metadata": {
    "collapsed": false
   },
   "outputs": [],
   "source": []
  },
  {
   "cell_type": "code",
   "execution_count": null,
   "metadata": {
    "collapsed": true
   },
   "outputs": [],
   "source": []
  }
 ],
 "metadata": {
  "kernelspec": {
   "display_name": "Julia 0.4.1",
   "language": "julia",
   "name": "julia-0.4"
  },
  "language_info": {
   "file_extension": ".jl",
   "mimetype": "application/julia",
   "name": "julia",
   "version": "0.4.1"
  },
  "toc": {
   "toc_cell": true,
   "toc_number_sections": false,
   "toc_section_display": "block",
   "toc_threshold": 6,
   "toc_window_display": true
  },
  "toc_position": {
   "left": "640.683px",
   "right": "45.55px",
   "top": "124px",
   "width": "157px"
  }
 },
 "nbformat": 4,
 "nbformat_minor": 0
}
