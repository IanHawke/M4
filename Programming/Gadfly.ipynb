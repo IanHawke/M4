{
 "cells": [
  {
   "cell_type": "markdown",
   "metadata": {},
   "source": [
    "# Not Updating\n",
    "\n",
    "# I'm Moving to Gadfly\n",
    "### Christina Lee\n",
    "\n",
    "So far in this blog, all my plots have either used PyPlot, or the experimental GLVisualize. BUT, NO LONGER! \n",
    "\n",
    "While writing up my research notes, I've been trying to improve my PyPlot graphs. I was hoping for them to look nicer; Julia's PyPlot was saying no.  We had a falling out over background colors and resolution. So, I have decided to move on to a  plotting partner more willing to cope with my demands.  \n",
    "\n",
    "When I first started learning Julia, Gadfly seemed too unfamiliar, and control too tricky. I didn't give it much further thought.  After some digging, Gadfly has changed my mind, and I hope today I can change yours too.  Right now, like Julia, Gadfly doesn't have the maturity or documentation of PyPlot, but once it does, you better watch out.  \n",
    "\n",
    "\n",
    "## Let's plot some graphs!\n",
    "\n",
    "<sub><sub>By Yug, modifications by 3247 (Unknown) [CC BY-SA 2.5 (http://creativecommons.org/licenses/by-sa/2.5)], via Wikimedia Commons</sub></sub>\n",
    "</div><i class=\"fa fa-lightbulb-o \"></i>"
   ]
  },
  {
   "cell_type": "code",
   "execution_count": 2,
   "metadata": {
    "init_cell": true
   },
   "outputs": [],
   "source": [
    "# Time to load our Packages\n",
    "#Pkg.update()\n",
    "#Pkg.add(\"Gadfly\")\n",
    "using Gadfly\n",
    "\n",
    "#Pkg.add(\"Compose\")\n",
    "using Compose"
   ]
  },
  {
   "cell_type": "code",
   "execution_count": 3,
   "metadata": {},
   "outputs": [],
   "source": [
    "# Some test data\n",
    "x=collect(1:.4:10);\n",
    "y1=sin(x);\n",
    "y2=cos(x);"
   ]
  },
  {
   "cell_type": "code",
   "execution_count": 6,
   "metadata": {},
   "outputs": [],
   "source": [
    "# A simple plot\n",
    "plot(x=x,y=y1)\n"
   ]
  },
  {
   "cell_type": "markdown",
   "metadata": {},
   "source": [
    "Unlike PyPlot, we can give `plot` functions as well as points.  After receiving a function, a max value, and a min value, Gadfly figures everything else out for itself.  \n",
    "\n",
    "For the function, we can pass in either an inbuilt function, a user defined function, or an anonymous function.\n",
    "\n",
    "The brackets [ ] allow us to group multiple functions together in the plot."
   ]
  },
  {
   "cell_type": "code",
   "execution_count": 7,
   "metadata": {},
   "outputs": [],
   "source": [
    "# plotting function\n",
    "\n",
    "function testfunction(x::Real)\n",
    "    return 1-x^2\n",
    "end\n",
    "\n",
    "p=plot([cos,testfunction,x->x^2],0,1)"
   ]
  },
  {
   "cell_type": "markdown",
   "metadata": {},
   "source": [
    "But that's just one set of points...\n",
    "How do we plot more than one set of data?  That's where layers come in.  Instead of using `plot`, we use `layer`, and set it as a variable.  We can then `plot` those layers.  "
   ]
  },
  {
   "cell_type": "code",
   "execution_count": 8,
   "metadata": {},
   "outputs": [],
   "source": [
    "p1=layer(x=x,y=y1,Geom.point)\n",
    "p2=layer(x=x,y=y2,Geom.point)\n",
    "p=plot(p1,p2)\n",
    "draw(SVGJS(\"p2.js.svg\", 6inch, 6inch), p)"
   ]
  },
  {
   "cell_type": "markdown",
   "metadata": {},
   "source": [
    "## Different style of plotting: Geom\n",
    "Now, what if we want to plot something other than lines?  \n",
    "Gadfly allows a wide variety of other ways to plot our data.  We control this with the `Geom` (Geometry) object.  "
   ]
  },
  {
   "cell_type": "code",
   "execution_count": 9,
   "metadata": {},
   "outputs": [],
   "source": [
    "p=plot(x=x,y=y1,Geom.point,Geom.line)\n",
    "draw(SVGJS(\"p4.js.svg\", 6inch, 6inch), p)"
   ]
  },
  {
   "cell_type": "code",
   "execution_count": 10,
   "metadata": {},
   "outputs": [],
   "source": [
    "p=plot(x=x,y=y1,ymin=y1-.1,ymax=y1+.1,Geom.point,Geom.errorbar)\n",
    "draw(SVGJS(\"p5.js.svg\", 6inch, 6inch), p)"
   ]
  },
  {
   "cell_type": "code",
   "execution_count": 11,
   "metadata": {},
   "outputs": [],
   "source": [
    "p=plot(x=x,y=y1,ymin=y1-.1,ymax=y1+.1,Geom.line,Geom.ribbon)\n",
    "draw(SVGJS(\"p6.js.svg\", 6inch, 6inch), p)"
   ]
  },
  {
   "cell_type": "code",
   "execution_count": 12,
   "metadata": {},
   "outputs": [],
   "source": [
    "p=plot(x=x,y=y1,Geom.bar)\n",
    "draw(SVGJS(\"p7.js.svg\", 6inch, 6inch), p)"
   ]
  },
  {
   "cell_type": "code",
   "execution_count": 13,
   "metadata": {},
   "outputs": [],
   "source": [
    "p=plot(x=x,y=y1,Geom.step)\n",
    "draw(SVGJS(\"p8.js.svg\", 6inch, 6inch), p)"
   ]
  },
  {
   "cell_type": "code",
   "execution_count": 14,
   "metadata": {},
   "outputs": [],
   "source": [
    "p=plot(x=y1,y=y2,Geom.path())\n",
    "draw(SVGJS(\"p9.js.svg\", 6inch, 6inch), p)"
   ]
  },
  {
   "cell_type": "markdown",
   "metadata": {},
   "source": [
    "## Edit Point and Line style\n",
    "\n",
    "<b>Disclaimer:</b> I've learned how to do the next two things by reading the code, not the documentation. \n",
    "\n",
    "It seems like they are newer and less developed features than everything else I'm discussing here.  The syntax seems less polished than in other areas, so I believe it's still under construction. "
   ]
  },
  {
   "cell_type": "code",
   "execution_count": 15,
   "metadata": {},
   "outputs": [],
   "source": [
    "z=collect(0:.2:2)\n",
    "\n",
    "xp=[z;z+.5;z+1;z+1.5;z+2;z+2.5;z+3;z+3.5]\n",
    "yp=[z;z;z;z;z;z;z;z]\n",
    "sh=[ones(z);2*ones(z);3*ones(z);4*ones(z);5*ones(z);6*ones(z);7*ones(z);8*ones(z)]\n",
    "\n",
    "p=plot(x=xp,y=yp,shape=sh,Geom.point,Theme(default_point_size=5pt))\n",
    "draw(SVGJS(\"p10.js.svg\", 6inch, 6inch), p)"
   ]
  },
  {
   "cell_type": "code",
   "execution_count": 16,
   "metadata": {},
   "outputs": [],
   "source": [
    "# or Compose.mm for smaller sizes\n",
    "# These ratios and numbers changed around how ever you like\n",
    "\n",
    "dash = 6 * Compose.cm\n",
    "dot = 1.5 * Compose.cm\n",
    "gap = 1 * Compose.cm \n",
    "\n",
    "l1=layer(x=x,y=zeros(x),Geom.line,Theme(line_style=[dot]))\n",
    "l2=layer(x=x,y=ones(x),Geom.line,Theme(line_style=[dash]))\n",
    "l3=layer(x=x,y=2*ones(x),Geom.line,Theme(line_style=[gap]))\n",
    "l4=layer(x=x,y=3*ones(x),Geom.line,Theme(line_style=[dot,dash,dot]))\n",
    "l5=layer(x=x,y=4*ones(x),Geom.line,Theme(line_style=[gap,dash]))\n",
    "\n",
    "p=plot(l1,l2,l3,l4,l5,Coord.Cartesian(ymin=-.5,ymax=4.5),Theme(grid_line_width=0pt))\n",
    "draw(SVGJS(\"p11.js.svg\", 6inch, 6inch), p)"
   ]
  },
  {
   "cell_type": "markdown",
   "metadata": {},
   "source": [
    "## Guide: Labeling Axes\n",
    "Where `Geom` alters how we plot, `Guide` alters the labeling.  \n",
    "`Guide` ties in with `Compose.jl` through the `Guide.annotate` command, but that will take a tutorial in itself.  "
   ]
  },
  {
   "cell_type": "code",
   "execution_count": 17,
   "metadata": {},
   "outputs": [],
   "source": [
    "p=plot(x=x,y=y2,color=y2,\n",
    "Guide.xlabel(\"xlabel\"),Guide.ylabel(\"ylabel\"),Guide.title(\"Something explanatory\"),\n",
    "Guide.colorkey(\"y2\"))\n",
    "draw(SVGJS(\"p12.js.svg\", 6inch, 6inch), p)"
   ]
  },
  {
   "cell_type": "markdown",
   "metadata": {},
   "source": [
    "Here's something we can do with a combination of `Guide` and `Scale`.  Using `Guide`, we can set where we specifically want our `xticks` to be, namely at multiples of $\\pi$. But then, the labeling would write out some irrational number, making the plot look horrible.  So, we create a function that takes in a number and outputs a string label for `Scale` to use.  "
   ]
  },
  {
   "cell_type": "code",
   "execution_count": 18,
   "metadata": {},
   "outputs": [],
   "source": [
    "function labelname(x::Real)\n",
    "    n=round(Int,x/π) #nearest integer*pi\n",
    "    if n==0\n",
    "        return \"0\"\n",
    "    elseif n==1\n",
    "        return \"π\"\n",
    "    end\n",
    "    return(\"$n π\")\n",
    "end\n",
    "\n",
    "xmarks=[0,π,2π,3π]\n",
    "ymarks=[-1,0,1]\n",
    "\n",
    "p=plot(x=x,y=y2,\n",
    "Guide.yticks(ticks=ymarks),\n",
    "Guide.xticks(ticks=xmarks),Scale.x_continuous(labels=labelname))\n",
    "draw(SVGJS(\"p13.js.svg\", 6inch, 6inch), p)"
   ]
  },
  {
   "cell_type": "markdown",
   "metadata": {},
   "source": [
    "Some other cool things we can do with `Scale`:\n",
    "* Automatically transform the axis according to log, log10,log2, asinh, or sqrt.  \n",
    "* Write numbers in :plain, :scientific, :engineering, or :auto"
   ]
  },
  {
   "cell_type": "code",
   "execution_count": 19,
   "metadata": {},
   "outputs": [],
   "source": [
    "p=plot(x->exp(x),0,10,Scale.y_log,Scale.x_continuous(format=:scientific))\n",
    "draw(SVGJS(\"p14.js.svg\", 6inch, 6inch), p)"
   ]
  },
  {
   "cell_type": "markdown",
   "metadata": {},
   "source": [
    "# Themes\n",
    "I mostly chose Gadfly because of the control I could have with the `Theme` command.  http://dcjones.github.io/Gadfly.jl/themes.html has a much more exhaustive list than what I will be demonstrating with here.  "
   ]
  },
  {
   "cell_type": "code",
   "execution_count": 20,
   "metadata": {
    "collapsed": true
   },
   "outputs": [],
   "source": [
    "# Solarized Colors that I like working with\n",
    "# http://ethanschoonover.com/solarized\n",
    "using Colors\n",
    "base03=parse(Colorant,\"#002b36\");\n",
    "base02=parse(Colorant,\"#073642\");\n",
    "base01=parse(Colorant,\"#586e75\");\n",
    "base00=parse(Colorant,\"#657b83\");\n",
    "base0=parse(Colorant,\"#839496\");\n",
    "base1=parse(Colorant,\"#839496\");\n",
    "base2=parse(Colorant,\"#eee8d5\");\n",
    "base3=parse(Colorant,\"#fdf6e3\");\n",
    "\n",
    "yellow=parse(Colorant,\"#b58900\");\n",
    "orange=parse(Colorant,\"#cb4b16\");\n",
    "red=parse(Colorant,\"#dc322f\");\n",
    "magenta=parse(Colorant,\"#d33682\");\n",
    "violet=parse(Colorant,\"#6c71c4\");\n",
    "blue=parse(Colorant,\"#268bd2\");\n",
    "cyan=parse(Colorant,\"#3aa198\");\n",
    "green=parse(Colorant,\"#859900\");"
   ]
  },
  {
   "cell_type": "code",
   "execution_count": 21,
   "metadata": {},
   "outputs": [],
   "source": [
    "p=plot(x=x,y=y1,\n",
    "    Theme(highlight_width=0pt, # lose the white ring around the points\n",
    "    default_point_size=3pt,    # size of the dots\n",
    "    default_color=magenta,     # color of the dots\n",
    "    background_color=base03,   # ... background color ...\n",
    "    grid_color=base2,     # the lines\n",
    "    minor_label_color=base2,  # numbers on axes color\n",
    "    key_label_color=base2, # color key numbers color\n",
    "    key_title_color=cyan,  # label of color key color \n",
    "    major_label_color=cyan, # axes label and title color\n",
    "    major_label_font_size=20pt, # font size for axes label and title\n",
    "    minor_label_font_size=15pt, #font size for numbers on axes\n",
    "    panel_opacity=1 #setting background to opaque\n",
    ");)\n",
    "draw(SVGJS(\"p15.js.svg\", 6inch, 6inch), p)"
   ]
  },
  {
   "cell_type": "markdown",
   "metadata": {},
   "source": [
    "## Coord: Setting the boundries\n",
    "\n",
    "The documentation states that you can change the range of the axes using `Scale`, but I've found it better to use this format to set my min and max values."
   ]
  },
  {
   "cell_type": "code",
   "execution_count": 22,
   "metadata": {},
   "outputs": [],
   "source": [
    "p=plot(x=x,y=y1,Geom.line,Coord.Cartesian(ymin=0,ymax=1,xmin=0,xmax=10))\n",
    "draw(SVGJS(\"p16.js.svg\", 6inch, 6inch), p)"
   ]
  },
  {
   "cell_type": "markdown",
   "metadata": {},
   "source": [
    "So far, we have covered seperately `Guide`, `Themes`, and partially `Coord` and `Scale`. Individually, each aspect doesn't add too much clunkiness to the code. However, if we start to add everything together, then the plot function would look quite nasty.  \n",
    "\n",
    "Luckily, just like layers for data points, we can put our modifiers into variables.  Then we can simply call the variables in our plot function.  \n",
    "\n",
    "This also helps for when we want to use one theme for a series of graphs.  We can define the theme variable up top, and then include it in every graph there after, never having to declare it again.  This helps me to keep my graphs uniform in style."
   ]
  },
  {
   "cell_type": "code",
   "execution_count": 25,
   "metadata": {},
   "outputs": [],
   "source": [
    "function labelname(x::Real)\n",
    "    n=round(Int,x/π)\n",
    "    if n==0\n",
    "        return \"0\"\n",
    "    elseif n==1\n",
    "        return \"π\"\n",
    "    else\n",
    "        return(\"$n π\")\n",
    "    end\n",
    "    return(\"$n π\")\n",
    "end\n",
    "\n",
    "xticks=[0,π,2π,3π]\n",
    "yticks=[-1,0,1]\n",
    "\n",
    "data=layer(x=x,y=y1,ymin=y1-.1,ymax=y1+.1,Geom.line,Geom.ribbon)\n",
    "f=layer(cos,0,3π)\n",
    "\n",
    "yt=Guide.yticks(ticks=yticks)\n",
    "xt=Guide.xticks(ticks=xticks)\n",
    "xs=Scale.x_continuous(labels=labelname)\n",
    "\n",
    "t= Theme(highlight_width=0pt,\n",
    "    default_point_size=3pt,\n",
    "    default_color=blue,\n",
    "    background_color=base03, \n",
    "    grid_color=base2,\n",
    "    minor_label_color=base2,\n",
    "    key_label_color=base2,\n",
    "    key_title_color=cyan,\n",
    "    major_label_color=cyan,\n",
    "    major_label_font_size=20pt,\n",
    "    minor_label_font_size=15pt,\n",
    "    panel_opacity=1)\n",
    "\n",
    "xl=Guide.xlabel(\"time\")\n",
    "yl=Guide.ylabel(\"y axis\")\n",
    "GT=Guide.title(\"Important title\")\n",
    "\n",
    "p=plot(data,f,yt,xt,xs,t,xl,yl,GT)\n",
    "draw(PNG(\"p17.png\", 6inch, 6inch), p)"
   ]
  },
  {
   "cell_type": "markdown",
   "metadata": {},
   "source": [
    "Although we still have to  call quite a few variables, this is a much simpler way of doing things."
   ]
  },
  {
   "cell_type": "markdown",
   "metadata": {},
   "source": [
    "# Saving the Figure\n",
    "Julia naturally saves to SVG (or SVGJS).  \n",
    "We have to specify the `x` and `y` dimensions of the plot, but since these images rescale so easily, we can choose some reasonable numbers."
   ]
  },
  {
   "cell_type": "code",
   "execution_count": 28,
   "metadata": {},
   "outputs": [],
   "source": [
    "p=plot(data,f,yt,xt,xs,t,xl,yl,GT)\n",
    "draw(SVG(\"myplot.svg\", 15cm, 9cm), p)"
   ]
  },
  {
   "cell_type": "markdown",
   "metadata": {
    "collapsed": true
   },
   "source": [
    "If you want to save to PNG, PDF, or PS, the package Cairo.jl provides that ability.  "
   ]
  },
  {
   "cell_type": "code",
   "execution_count": 24,
   "metadata": {
    "collapsed": true
   },
   "outputs": [],
   "source": [
    "using Cairo\n",
    "draw(PNG(\"myplot.png\",15cm,9cm),p)"
   ]
  },
  {
   "cell_type": "markdown",
   "metadata": {},
   "source": [
    "<center>\n",
    "# Happy Plotting!"
   ]
  },
  {
   "cell_type": "code",
   "execution_count": null,
   "metadata": {
    "collapsed": true
   },
   "outputs": [],
   "source": []
  }
 ],
 "metadata": {
  "kernelspec": {
   "display_name": "Julia 0.4.5",
   "language": "julia",
   "name": "julia-0.4"
  },
  "language_info": {
   "file_extension": ".jl",
   "mimetype": "application/julia",
   "name": "julia",
   "version": "0.4.5"
  }
 },
 "nbformat": 4,
 "nbformat_minor": 1
}
