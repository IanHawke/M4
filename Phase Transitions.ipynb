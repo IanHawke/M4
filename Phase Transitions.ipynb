{
 "cells": [
  {
   "cell_type": "markdown",
   "metadata": {},
   "source": [
    "# Phase Transitions in Magnets\n",
    "### Christina Lee\n",
    "### Category: Prerequisites\n",
    "### Prerequisites: Monte Carlo Ferromagnet, Statistical Mechanics\n",
    "\n",
    "In Monte Carlo Ferromagnets, we only looked at the state of a magnet at one temperature.  While you could go back through and evaluate the code at any temperature, and I displayed how it looked at both a high temperature and a low temperature situation, that all had to be done manually.  Today we are going to automate our study of temperature's effect.  \n",
    "\n",
    "First off, what's the theory?  \n",
    "\n",
    "The standard aparatus for phase transitions is <b>Landau Theory</b>.  In Landau theory, we assume that we have an <b>order parameter</b>. \n",
    "\n",
    "Order parameters have\n",
    "* local physical meaning\n",
    "* global observational consequences\n",
    "\n",
    "For example, in magnets we use the local magnetization $m$: in freezing fluids, density $\\rho$.  The value of an order parameter should undergo a jump across a phase transition, either from a zero to a non-zero value or from one value to another.  \n",
    "\n",
    "Non-zero order parameters also represent symmetry breaking.  In an unmagnetized magnet, all directions are equivalent, but once it magnetizies, it chooses a preferred direction.  That direction is arbitrary up until the magnet spotaneously chooses it.  \n",
    "\n",
    "![Symmetry Breaking](Images/PhaseTransitions/symmetrybreaking.svg)\n",
    "\n",
    "For certain Chinese styles of meals, many dishes are brought out for the entire table, and you serve yourself from the dishes in the center.  To make serving easier, sometimes the table might have a platform in the middle you can rotate.  Nothing dictates whether the table must go clockwise or counterclockwise, but once someone decides the platform is going one way, that's usually the way it continues for the rest of the night.  The same could be said for ballroom dancers or cars going down the right (or left) side of the road.  \n",
    "\n"
   ]
  },
  {
   "cell_type": "markdown",
   "metadata": {},
   "source": [
    "### Specific Heat and Magnetic Susceptibility\n",
    "\n",
    "In addition to temperature dependence, today I will also be introducing the physical observables specific heat and magnetic susceptibility.  We do calculate these based on numbers calculated during a specific run, but they also describe how the numbers change with temperature.\n",
    "\n",
    "Let's take a look at the first one, <b>Specific Heat</b>:\n",
    "\\begin{equation}\n",
    "C_h=\\frac{d \\langle E \\rangle}{dT}\n",
    "\\end{equation}\n",
    "While this is the formal definition, the more convenient expression can be calculated by plugging in the Maxwell-Boltzmann Distribution:\n",
    "\n",
    "\\begin{equation}\n",
    "\\frac{ d\n",
    "\\frac{\\sum_{i} E_{i} e^{-\\beta E_i}}{ \\sum_j e^{-\\beta E_j} }\n",
    "}{dT}=\\beta^2 \\left( \\langle E^2 \\rangle - \\langle E \\rangle ^2 \\right)\n",
    "\\end{equation}\n",
    "This is the one we will be using to calculate the specific heat.  For each temperature, we will then need to then calculate both the expecation of the Energy, and the expectation of the Energy Squared.\n",
    "\n",
    "While in general a material may be difficult to describe, near phase transitions several properties diverge according to corresponding <b>critical exponents</b>.  These critical exponents obey <b>universality</b>.  Phase transitions in the same class will posses the same critical exponents.  Determining the exponent for the 2D square lattice through our simulations also determines the exponent for situations like the mixing of two materials or the percolation problem.\n",
    "\n",
    "We define our specific heat critical exponent this way,\n",
    "\\begin{equation}\n",
    "C_h \\propto \\left( T- T_c \\right)^{-\\alpha_{\\pm}}.\n",
    "\\end{equation}\n",
    "\n",
    "That works for a large bulk material, but for our simulations, the correlation length, $\\xi$, exceeds the size of the system.  This distorts its ability to achieve a proper divergence, since the divergence of the correlation length $\\xi$ underpins the divergence of all other quantities.  Therefore we modify our equation to the following form,\n",
    "\\begin{equation}\n",
    "C_h \\propto \\left( T - T_c \\right)^{-\\alpha_{\\pm}} g\\left( \\frac{L}{\\xi (T)} \\right).\n",
    "\\end{equation}\n",
    "\n",
    "\n",
    "\\begin{equation}\n",
    "\\chi =\\frac{d \\langle M \\rangle}{dT}=\\beta^2 \\left( \\langle M^2 \\rangle - \\langle M \\rangle ^2 \\right)\n",
    "\\end{equation}"
   ]
  },
  {
   "cell_type": "markdown",
   "metadata": {},
   "source": []
  },
  {
   "cell_type": "code",
   "execution_count": 2,
   "metadata": {
    "collapsed": false,
    "init_cell": true
   },
   "outputs": [],
   "source": [
    "push!(LOAD_PATH,\".\")\n",
    "using Lattices;\n",
    "using PyPlot"
   ]
  },
  {
   "cell_type": "markdown",
   "metadata": {},
   "source": [
    "Instead of going into calculating all the lattice parameters again, we will use a class I define in the file Lattices.jl .  This class contains\n",
    "\n",
    "Lattice Types\n",
    "* Chain\n",
    "* Square\n",
    "* Honeycomb\n",
    "You can edit the file to make your own types.\n",
    "\n",
    "Once a lattice is created, it contains <b>Members of Type</b>:\n",
    "* `name`, a string\n",
    "* `l`, length in number of unit cells\n",
    "* `dim`, dimension of lattice\n",
    "* `a`, array containing the basis vectors by which positions are generated\n",
    "* `unit`, array of positions inside a single unit\n",
    "* `N`, number of total sites\n",
    "* `X`, array of positions\n",
    "* `nnei`, number of nearest neighbors\n",
    "* `neigh`, Array of nearest neighbors [i][j], where i is site and j is 1:nnei\n",
    "\n",
    "Today, I will just look at the square lattice, since that indicates much of the standard phase transition properties.  Some of the lattices I have shown (kagome, triangular, ...) are special frustrated lattices, and thus will behave very wierdly in this situation."
   ]
  },
  {
   "cell_type": "code",
   "execution_count": null,
   "metadata": {
    "collapsed": true
   },
   "outputs": [],
   "source": []
  },
  {
   "cell_type": "code",
   "execution_count": 4,
   "metadata": {
    "collapsed": false,
    "init_cell": true
   },
   "outputs": [],
   "source": [
    "## Define l here\n",
    "l=20;\n",
    "\n",
    "lt=MakeLattice(\"Checkerboard\",l);\n",
    "S=ones(Int8,l,l);  #Our spins\n",
    "dt=1/(lt.N);"
   ]
  },
  {
   "cell_type": "code",
   "execution_count": 5,
   "metadata": {
    "collapsed": false,
    "init_cell": true
   },
   "outputs": [
    {
     "data": {
      "text/plain": [
       "\"defined functions\""
      ]
     },
     "execution_count": 5,
     "metadata": {},
     "output_type": "execute_result"
    }
   ],
   "source": [
    "# The energy contribution of just one site\n",
    "function dE(i::Int)\n",
    "    Eii=0;\n",
    "    for j in 1:lt.nnei\n",
    "        Eii+=S[lt.neigh[i,j]];\n",
    "    end\n",
    "    Eii*=-J*S[i];  # we are computing J sz_i sz_j for one i\n",
    "    return Eii;\n",
    "end\n",
    "# The energy of the entire lattice\n",
    "function E()\n",
    "    Evar=0;\n",
    "    for k in 1:lt.N\n",
    "        Evar+=.5*dE(k);\n",
    "    end\n",
    "    return Evar;\n",
    "end\n",
    "# The magnetization of the entire lattice\n",
    "function M()\n",
    "    Mvar=0;\n",
    "    for k in 1:lt.N\n",
    "        Mvar+=S[k];\n",
    "    end\n",
    "    return Mvar;\n",
    "end\n",
    "\"defined functions\""
   ]
  },
  {
   "cell_type": "markdown",
   "metadata": {},
   "source": [
    "# Adjustable Parameters\n",
    "\n",
    "I have set up the simulation so that you can perform two different things.  For one, you can set `video=true` and `t` to a small variable.  Then in a new window you see what the configuration looks like each time you measure.  \n",
    "\n",
    "Or you can set `video=false` and `t` to a large variable, and actually measure the statistics for the system over a bunch of configurations. "
   ]
  },
  {
   "cell_type": "code",
   "execution_count": 16,
   "metadata": {
    "collapsed": false
   },
   "outputs": [],
   "source": [
    "beta0=.1;\n",
    "betaf=2;\n",
    "dbeta=.1;\n",
    "\n",
    "J=-1;\n",
    "t=10000;\n",
    "nskip=10;   # don't measure every sweep= better decorrelation\n",
    "\"Parameters set\""
   ]
  },
  {
   "cell_type": "code",
   "execution_count": 17,
   "metadata": {
    "collapsed": false
   },
   "outputs": [],
   "source": [
    "nmeas=Int64(t/nskip); # how many times we will measure\n",
    "betas=collect(beta0:dbeta:betaf)\n",
    "\"done\""
   ]
  },
  {
   "cell_type": "code",
   "execution_count": null,
   "metadata": {
    "collapsed": false
   },
   "outputs": [],
   "source": []
  },
  {
   "cell_type": "code",
   "execution_count": 18,
   "metadata": {
    "collapsed": false
   },
   "outputs": [
    {
     "data": {
      "text/plain": [
       "MCMCMagnet (generic function with 1 method)"
      ]
     },
     "execution_count": 18,
     "metadata": {},
     "output_type": "execute_result"
    },
    {
     "name": "stderr",
     "output_type": "stream",
     "text": [
      "WARNING: Method definition MCMCMagnet(Float64) in module Main at In[9]:2 overwritten at In[18]:2.\n"
     ]
    }
   ],
   "source": [
    "function MCMCMagnet(beta::Float64)\n",
    "    tm=1; #Our measurement time step\n",
    "    \n",
    "    Ma=Array{Int32}(nmeas); # our magnetization measurements\n",
    "    Ea=Array{Int32}(nmeas); # our energy measurements\n",
    "    Ma2=Array{Int32}(nmeas); # magnetization squared\n",
    "    Ea2=Array{Int32}(nmeas); # energy squared\n",
    "    \n",
    "    for ti in 1:t\n",
    "        for j in 1:lt.N\n",
    "            i = rand(1:lt.N); #Choosing a random site\n",
    "            de=dE(i);\n",
    "            if(de>0 || rand()<exp(2*beta*de) ) \n",
    "                S[i]=-S[i]; #Switch the sign\n",
    "            end\n",
    "        end\n",
    "        if isapprox(mod(ti,nskip),0)\n",
    "            Ma[tm]=M();\n",
    "            Ma2[tm]=Ma[tm]^2;\n",
    "            \n",
    "            Ea[tm]=E();\n",
    "            Ea2[tm]=Ea[tm]^2;\n",
    "            \n",
    "            tm+=1;\n",
    "\n",
    "        end\n",
    "    end\n",
    "    Mave=mean(Ma);\n",
    "    Mstd=std(Ma)/lt.N;\n",
    "    Eave=mean(Ea);\n",
    "    Estd=std(Ea)/lt.N;\n",
    "    \n",
    "    E2ave=mean(Ea2);\n",
    "    M2ave=mean(Ma2);\n",
    "    \n",
    "    Ch=beta^2*(E2ave-Eave^2)/lt.N;\n",
    "    χ=beta*(M2ave-Mave^2)/lt.N;\n",
    "    \n",
    "    return Mave/lt.N,Mstd,Eave/lt.N,Estd,Ch,χ\n",
    "end"
   ]
  },
  {
   "cell_type": "code",
   "execution_count": 19,
   "metadata": {
    "collapsed": false
   },
   "outputs": [
    {
     "name": "stdout",
     "output_type": "stream",
     "text": [
      "beta: 0.1\tM: -0.000985\tE: -0.24251\n",
      "beta: 0.2\tM: 0.00134\tE: -0.40874000000000005\n",
      "beta: 0.3\tM: -0.00083\tE: -0.52148\n",
      "beta: 0.4\tM: 0.0007199999999999999\tE: -0.603\n",
      "beta: 0.5\tM: 0.000935\tE: -0.66281\n",
      "beta: 0.6\tM: 0.00025\tE: -0.71327\n",
      "beta: 0.7\tM: -3.0e-5\tE: -0.75657\n",
      "beta: 0.8\tM: 0.000625\tE: -0.7917400000000001\n",
      "beta: 0.9\tM: -0.000235\tE: -0.82604\n",
      "beta: 1.0\tM: -0.00048\tE: -0.85421\n",
      "beta: 1.1\tM: 0.00010999999999999999\tE: -0.8771800000000001\n",
      "beta: 1.2\tM: 0.00018999999999999998\tE: -0.89866\n",
      "beta: 1.3\tM: -9.499999999999999e-5\tE: -0.9167400000000001\n",
      "beta: 1.4\tM: 9.499999999999999e-5\tE: -0.93147\n",
      "beta: 1.5\tM: 0.00021\tE: -0.94379\n",
      "beta: 1.6\tM: 7.000000000000001e-5\tE: -0.955\n",
      "beta: 1.7\tM: 2.0e-5\tE: -0.9626600000000001\n",
      "beta: 1.8\tM: 0.000305\tE: -0.97016\n",
      "beta: 1.9\tM: -2.5e-5\tE: -0.97665\n",
      "beta: 2.0\tM: 8.999999999999999e-5\tE: -0.9808100000000001\n"
     ]
    }
   ],
   "source": [
    "Mm=zeros(betas)\n",
    "Mstd=zeros(betas)\n",
    "Ee=zeros(betas)\n",
    "Estd=zeros(betas)\n",
    "Ch=zeros(betas)\n",
    "χ=zeros(betas)\n",
    "for ii in 1:length(betas)\n",
    "    Mm[ii],Mstd[ii],Ee[ii],Estd[ii],Ch[ii],χ[ii]=MCMCMagnet(betas[ii])\n",
    "    println(\"beta: \",betas[ii],\"\\tM: \",Mm[ii],\"\\tE: \",Ee[ii])\n",
    "end"
   ]
  },
  {
   "cell_type": "code",
   "execution_count": null,
   "metadata": {
    "collapsed": false
   },
   "outputs": [],
   "source": [
    "#writedlm(\"PhaseTransitionsL20T50000.dat\",[betas Mm Mstd Ee Estd Ch χ])"
   ]
  },
  {
   "cell_type": "code",
   "execution_count": null,
   "metadata": {
    "collapsed": false
   },
   "outputs": [],
   "source": [
    "temp=readdlm(\"PhaseTransitionsL50T50000.dat\")\n",
    "Mm50=temp[:,2];\n",
    "Mstd50=temp[:,3];\n",
    "Ee50=temp[:,4];\n",
    "Estd50=temp[:,5];\n",
    "Ch50=temp[:,6];\n",
    "χ50=temp[:,7];"
   ]
  },
  {
   "cell_type": "code",
   "execution_count": null,
   "metadata": {
    "collapsed": false
   },
   "outputs": [],
   "source": [
    "#Mm20=Mm\n",
    "#Ee20=Ee\n",
    "#Ch20=Ch\n",
    "#χ20=χ;\n",
    "#Mm10=Mm\n",
    "#Ee10=Ee\n",
    "#Ch10=Ch\n",
    "#χ10=χ;\n",
    "#Mm50=Mm;\n",
    "#Ee50=Ee;\n",
    "#Ch50=Ch;\n",
    "#χ50=χ;\n",
    "Mm20=Mm;\n",
    "Ee20=Ee;\n",
    "Ch20=Ch;\n",
    "χ20=χ;"
   ]
  },
  {
   "cell_type": "code",
   "execution_count": null,
   "metadata": {
    "collapsed": false
   },
   "outputs": [],
   "source": [
    "plot(1./(betas),Ch)"
   ]
  },
  {
   "cell_type": "code",
   "execution_count": null,
   "metadata": {
    "collapsed": false
   },
   "outputs": [],
   "source": [
    "plot(betas,abs(Mm10),label=\"l=10\")\n",
    "plot(betas,abs(Mm20),label=\"l=20\")\n",
    "plot(betas,abs(Mm50),label=\"l=50\")\n",
    "xlabel(\"Inverse Temperature β\")\n",
    "ylabel(\"Magnetization\")\n",
    "legend()\n",
    "title(\"2D Square Ferromagnet Phase Transition\")"
   ]
  },
  {
   "cell_type": "code",
   "execution_count": null,
   "metadata": {
    "collapsed": false
   },
   "outputs": [],
   "source": [
    "plot(betas,Ee10,label=\"l=10\")\n",
    "plot(betas,Ee20,label=\"l=20\")\n",
    "plot(betas,Ee50,label=\"l=50\")\n",
    "xlabel(\"Inverse Temperature β\")\n",
    "ylabel(\"Magnetization\")\n",
    "legend()\n",
    "title(\"2D Square Ferromagnet Phase Transition\")"
   ]
  },
  {
   "cell_type": "code",
   "execution_count": null,
   "metadata": {
    "collapsed": false
   },
   "outputs": [],
   "source": [
    "plot(betas,Ch10,label=\"l=10\")\n",
    "plot(betas,Ch20,label=\"l=20\")\n",
    "plot(betas,Ch50,label=\"l=50\")\n",
    "xlabel(\"Inverse Temperature β\")\n",
    "ylabel(\"Specific Heat\")\n",
    "legend()\n",
    "title(\"Specific Heat Divergence with Finite Size Scaling\")"
   ]
  },
  {
   "cell_type": "markdown",
   "metadata": {},
   "source": [
    "I presented two different equivalent formulas for the specific heat.  Let's check to make sure their equivalent.  \n",
    "\n",
    "For the formal defination, we'll take a numeric derivative with respect to $\\beta$,\n",
    "\\begin{equation}\n",
    "\\frac{d \\langle E \\rangle}{dT} \\approx \\frac{ \\Delta \\langle E \\rangle}{\\Delta \\beta}\\frac{d \\beta}{d T}\n",
    "\\end{equation}\n",
    "\n",
    "Note: I corrected the scaling by hand."
   ]
  },
  {
   "cell_type": "code",
   "execution_count": null,
   "metadata": {
    "collapsed": false
   },
   "outputs": [],
   "source": [
    "Ch2=(Ee50[1:end-1]-Ee50[2:end]).*betas[2:end].^2\n",
    "\n",
    "plot(betas[2:end],Ch2*35,label=\"dE/dT\")\n",
    "plot(betas,Ch50,label=\"beta2(<E2>-<E>2)\")\n",
    "xlabel(\"Temperature\")\n",
    "ylabel(\"Specific Heat\")\n",
    "legend()\n",
    "title(\"Comparing Specific Heat Calculations\")\n"
   ]
  },
  {
   "cell_type": "code",
   "execution_count": null,
   "metadata": {
    "collapsed": false
   },
   "outputs": [],
   "source": [
    "plot(betas,χ10,label=\"l=10\")\n",
    "plot(betas,χ20,label=\"l=20\")\n",
    "plot(betas,χ50,label=\"l=50\")\n",
    "xlabel(\"Inverse Temperature β\")\n",
    "ylabel(\"Susceptibility\")\n",
    "legend()\n",
    "title(\"Magnetic Susceptibility with Finite Size Scaling\")"
   ]
  },
  {
   "cell_type": "code",
   "execution_count": null,
   "metadata": {
    "collapsed": false
   },
   "outputs": [],
   "source": [
    "M2=(Mm50[1:end-1]-Mm50[2:end]).*(betas[1:end-1]).^2\n",
    "plot(betas[1:end-1],M2*750,label=\"dM/dT\")\n",
    "plot(betas,χ50,label=\"(<M2>-<M>2)beta2\")\n",
    "legend()\n",
    "xlabel(\"Inverse Temperature β\")\n",
    "ylabel(\"Specific Heat\")\n",
    "title(\"Comparing Methods of Computing Susceptibility\")"
   ]
  },
  {
   "cell_type": "code",
   "execution_count": null,
   "metadata": {
    "collapsed": true
   },
   "outputs": [],
   "source": []
  },
  {
   "cell_type": "markdown",
   "metadata": {},
   "source": []
  },
  {
   "cell_type": "markdown",
   "metadata": {
    "collapsed": false
   },
   "source": []
  },
  {
   "cell_type": "markdown",
   "metadata": {
    "collapsed": false
   },
   "source": [
    "\n"
   ]
  },
  {
   "cell_type": "code",
   "execution_count": null,
   "metadata": {
    "collapsed": true
   },
   "outputs": [],
   "source": []
  }
 ],
 "metadata": {
  "kernelspec": {
   "display_name": "Julia 0.5.1",
   "language": "julia",
   "name": "julia-0.5"
  },
  "language_info": {
   "file_extension": ".jl",
   "mimetype": "application/julia",
   "name": "julia",
   "version": "0.5.1"
  }
 },
 "nbformat": 4,
 "nbformat_minor": 0
}
