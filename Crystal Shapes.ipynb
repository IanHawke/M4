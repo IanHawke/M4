{
 "cells": [
  {
   "cell_type": "markdown",
   "metadata": {},
   "source": [
    "# Computationally Visuallizing Crystals\n",
    "\n",
    "In condensed matter, we find ourselves in the interesting middle ground of dealing with large numbers ($10^{23}$) of extremely small particles (atoms, electrons).  \n",
    "\n",
    "Luckily, the particles don't each do their own thing, but often come in nice, structured, repeated units.  Lattices.  So as our first step into the field, we will look at some of our basic building blocks.  \n",
    "\n",
    "The first building blocks we will look at today are <i>unit cells</i>. Unit cells can either be thought of as having one particle per block, or as representing the overall translational symmetries.  Some lattices, like honeycomb or diamond, have two sites that are inside one of these unit cells.  \n",
    "\n",
    "I used an important word there, <i>translational symmetry</i>.  How can we move the lattice such that, if we had an infinite number of them, it looked the same? The unit vectors I use to generate sites also describe the translational symmetries of the lattice."
   ]
  },
  {
   "cell_type": "code",
   "execution_count": 55,
   "metadata": {
    "collapsed": false
   },
   "outputs": [],
   "source": [
    "# importing our packages\n",
    "using PyPlot;"
   ]
  },
  {
   "cell_type": "markdown",
   "metadata": {},
   "source": [
    "## Define The Relevant Variables"
   ]
  },
  {
   "cell_type": "markdown",
   "metadata": {},
   "source": [
    "Choose the lattice you want to look at, and put that string into the lattice variable.  \n",
    "Current options:\n",
    "<ul>\n",
    "    <li> Simple Cubic = \"sc\"\n",
    "    <li> Plane triangular lattice = \"pt\"\n",
    "    <li> Body-Centered Cubic = \"bcc\"\n",
    "    <li> Face-Centered Cubic = \"fcc\"\n",
    "Note: Square is Simple Cubic for Nz=1"
   ]
  },
  {
   "cell_type": "code",
   "execution_count": 91,
   "metadata": {
    "collapsed": false
   },
   "outputs": [],
   "source": [
    "lattice=\"fcc\";\n",
    "\n",
    "Nx=5;\n",
    "Ny=5;\n",
    "Nz=5;"
   ]
  },
  {
   "cell_type": "code",
   "execution_count": 99,
   "metadata": {
    "collapsed": false
   },
   "outputs": [
    {
     "data": {
      "text/plain": [
       "3-element Array{Float64,1}:\n",
       " 0.0\n",
       " 0.5\n",
       " 0.5"
      ]
     },
     "execution_count": 99,
     "metadata": {},
     "output_type": "execute_result"
    }
   ],
   "source": [
    "# A cell to just evaluate\n",
    "# This one sets the unit vectors (a,b,c) for the different unit cells\n",
    "# Can you guess what a lattice will look like by looking at the vectors?\n",
    "if(lattice==\"sc\")\n",
    "    d=3;\n",
    "    a=[1,0,0];\n",
    "    b=[0,1,0];\n",
    "    c=[0,0,1];\n",
    "elseif(lattice==\"pt\")\n",
    "    d=2;\n",
    "    a=[1,0,0];\n",
    "    b=[.5,sqrt(3)/2,0];\n",
    "    c=[0,0,1];\n",
    "elseif(lattice==\"bcc\")\n",
    "    d=3;\n",
    "    a=[.5,.5,.5];\n",
    "    b=[.5,.5,-.5];\n",
    "    c=[.5,-.5,.5];\n",
    "elseif(lattice==\"fcc\")\n",
    "    d=3;\n",
    "    a=[.5,.5,0];\n",
    "    b=[.5,0,.5];\n",
    "    c=[0,.5,.5];\n",
    "end"
   ]
  },
  {
   "cell_type": "code",
   "execution_count": 92,
   "metadata": {
    "collapsed": false
   },
   "outputs": [],
   "source": [
    "# Another cell to just evaluate\n",
    "# Here we set up some numbers and matrices for our computation\n",
    "N=Nx*Ny*Nz    #The total number of sites\n",
    "aM=transpose(a);\n",
    "bM=transpose(repeat(b,outer=[1,Nx])); #these allow us to copy an entire row or layer at once\n",
    "cM=transpose(repeat(c,outer=[1,Nx*Ny]));\n",
    "\n",
    "X=Array{Float64}(N,3);  #where we store the positions"
   ]
  },
  {
   "cell_type": "code",
   "execution_count": 93,
   "metadata": {
    "collapsed": false
   },
   "outputs": [],
   "source": [
    "# Another cell to just evaluate\n",
    "# Here we are actually calculating the positions for every site\n",
    "for i in 1:Nx    #for the first row\n",
    "    X[i,:]=(i-1)*a;\n",
    "end\n",
    "\n",
    "for j in 2:Ny    #copying the first row into the first layer\n",
    "    X[(Nx*(j-1)+1):(Nx*(j-1)+Nx),:]=X[1:Nx,:]+(j-1)*bM;\n",
    "end\n",
    "\n",
    "for j in 2:Nz    #copying the first layer into the entire cube\n",
    "    X[(Ny*Nx*(j-1)+1):(Ny*Nx*(j-1)+Nx*Ny),:]=X[1:Nx*Ny,:]+(j-1)*cM;\n",
    "end"
   ]
  },
  {
   "cell_type": "code",
   "execution_count": 95,
   "metadata": {
    "collapsed": false
   },
   "outputs": [
    {
     "data": {
      "text/plain": [
       "PyObject <mpl_toolkits.mplot3d.art3d.Path3DCollection object at 0x7f9817f4d510>"
      ]
     },
     "execution_count": 95,
     "metadata": {},
     "output_type": "execute_result"
    }
   ],
   "source": [
    "pygui(false);  #if true, launches new window with interactive capabilities\n",
    "\n",
    "drawcube=true;  #gives lines for a cube, helps interpret the dots\n",
    "ls=2;  # how many cubes to draw\n",
    "if(drawcube==true)\n",
    "    v=collect(0:ls);\n",
    "    zed=zeros(v);\n",
    "    for i in 0:ls\n",
    "        for j in 0:ls  \n",
    "            plot3D(zed+i,v,zed+j)\n",
    "            plot3D(zed+i,zed+j,v)\n",
    "    \n",
    "            plot3D(v,zed+i,zed+j)\n",
    "            plot3D(zed+j,zed+i,v)\n",
    "    \n",
    "            plot3D(v,zed+j,zed+i)\n",
    "            plot3D(zed+j,v,zed+i)\n",
    "        end\n",
    "    end\n",
    "end\n",
    "\n",
    "scatter3D(X[:,1],X[:,2],X[:,3],s=200*ones(X[:,1]),alpha=1)"
   ]
  },
  {
   "cell_type": "code",
   "execution_count": null,
   "metadata": {
    "collapsed": false
   },
   "outputs": [],
   "source": []
  },
  {
   "cell_type": "code",
   "execution_count": null,
   "metadata": {
    "collapsed": true
   },
   "outputs": [],
   "source": []
  }
 ],
 "metadata": {
  "kernelspec": {
   "display_name": "Julia 0.4.0",
   "language": "julia",
   "name": "julia-0.4"
  },
  "language_info": {
   "file_extension": ".jl",
   "mimetype": "application/julia",
   "name": "julia",
   "version": "0.4.0"
  }
 },
 "nbformat": 4,
 "nbformat_minor": 0
}
