{
 "cells": [
  {
   "cell_type": "markdown",
   "metadata": {},
   "source": [
    "# Computationally Visuallizing Crystals\n",
    "\n",
    "<b>Prerequisites:</b> none\n",
    "\n",
    "\n",
    "In condensed matter, we find ourselves in the interesting middle ground of dealing with large numbers $10^{23}$ of extremely small particles, ex. atoms, electrons.  \n",
    "\n",
    "Luckily, the particles don't each do their own thing, but often come in nice, structured, repeated units.  <i>Lattices</i>.  So as our first step into the field, we will look at the most basic type, a <i>Bravais Lattice</i>.  \n",
    "\n",
    "In a Bravais Lattice, every site looks like every other site. Mathematically, we use three vectors, $\\vec{a},\\vec{b},\\vec{c}$ to express how we move from one site to a neighbor.\n",
    "\n",
    "\\begin{equation}\n",
    "\\mathbf{R}_{lmn}=l \\vec{a} + m \\vec{b} + n \\vec{c}  \\;\\;\\;\\; \\text{for } l,m,n \\in \\mathbb{N}\n",
    "\\end{equation}\n",
    "\n",
    "To keep things working out right, we have to put a constraint on these vectors; that we can't get one from scaling and adding the other two.  If we could, then we couldn't put sites in an entire 3 dimensional space.\n",
    "\n",
    "Stay tuned for a later post where we explore more elaborate lattices. "
   ]
  },
  {
   "cell_type": "code",
   "execution_count": 1,
   "metadata": {
    "collapsed": false
   },
   "outputs": [
    {
     "name": "stderr",
     "output_type": "stream",
     "text": [
      "INFO: Nothing to be done\n",
      "INFO: METADATA is out-of-date — you may not have the latest version of PyPlot\n",
      "INFO: Use `Pkg.update()` to get the latest versions of your packages\n",
      "INFO: Updating METADATA...\n",
      "INFO: Computing changes...\n",
      "INFO: No packages to install, update or remove\n"
     ]
    }
   ],
   "source": [
    "# importing our packages\n",
    "Pkg.add(\"PyPlot\");\n",
    "Pkg.update();\n",
    "using PyPlot;"
   ]
  },
  {
   "cell_type": "markdown",
   "metadata": {},
   "source": [
    "## Define The Relevant Variables"
   ]
  },
  {
   "cell_type": "markdown",
   "metadata": {},
   "source": [
    "Choose the lattice you want to look at, and put that string into the lattice variable.  \n",
    "Current options:\n",
    "<ul>\n",
    "    <li> Simple Cubic = \"sc\"\n",
    "    <li> Plane triangular lattice = \"pt\"\n",
    "    <li> Body-Centered Cubic = \"bcc\"\n",
    "    <li> Face-Centered Cubic = \"fcc\"\n",
    "Note: Square is Simple Cubic for Nz=1\n",
    "</ul>\n",
    "\n",
    "14 distinct lattice types are possible, but these common four give the important ideas.\n",
    "\n",
    "Also, input the size of lattice you want to look at."
   ]
  },
  {
   "cell_type": "code",
   "execution_count": 47,
   "metadata": {
    "collapsed": false
   },
   "outputs": [],
   "source": [
    "lattice=\"fcc\";\n",
    "\n",
    "Nx=2;\n",
    "Ny=2;\n",
    "Nz=3;"
   ]
  },
  {
   "cell_type": "code",
   "execution_count": 48,
   "metadata": {
    "collapsed": false
   },
   "outputs": [
    {
     "data": {
      "text/plain": [
       "3-element Array{Float64,1}:\n",
       " 0.0\n",
       " 0.5\n",
       " 0.5"
      ]
     },
     "execution_count": 48,
     "metadata": {},
     "output_type": "execute_result"
    }
   ],
   "source": [
    "# A cell to just evaluate\n",
    "# This one sets the unit vectors (a,b,c) for the different unit cells\n",
    "# Can you guess what a lattice will look like by looking at the vectors?\n",
    "if(lattice==\"sc\")\n",
    "    d=3;\n",
    "    a=[1,0,0];\n",
    "    b=[0,1,0];\n",
    "    c=[0,0,1];\n",
    "elseif(lattice==\"pt\")\n",
    "    d=2;\n",
    "    a=[1,0,0];\n",
    "    b=[.5,sqrt(3)/2,0];\n",
    "    c=[0,0,1];\n",
    "elseif(lattice==\"bcc\")\n",
    "    d=3;\n",
    "    a=[.5,.5,.5];\n",
    "    b=[.5,.5,-.5];\n",
    "    c=[.5,-.5,.5];\n",
    "elseif(lattice==\"fcc\")\n",
    "    d=3;\n",
    "    a=[.5,.5,0];\n",
    "    b=[.5,0,.5];\n",
    "    c=[0,.5,.5];\n",
    "else\n",
    "    println(\"Please have a correct lattice\")\n",
    "end"
   ]
  },
  {
   "cell_type": "code",
   "execution_count": 49,
   "metadata": {
    "collapsed": false
   },
   "outputs": [
    {
     "data": {
      "text/plain": [
       "12x3 Array{Float64,2}:\n",
       " 2.27683e-314  2.27673e-314  0.0\n",
       " 2.27673e-314  2.27673e-314  0.0\n",
       " 2.27673e-314  2.27673e-314  0.0\n",
       " 2.27707e-314  2.27673e-314  0.0\n",
       " 2.27683e-314  2.27673e-314  0.0\n",
       " 2.27673e-314  2.27673e-314  0.0\n",
       " 2.27673e-314  2.27673e-314  0.0\n",
       " 2.27673e-314  2.27673e-314  0.0\n",
       " 2.27673e-314  2.27673e-314  0.0\n",
       " 2.27673e-314  2.27673e-314  0.0\n",
       " 2.27682e-314  2.27673e-314  0.0\n",
       " 2.27673e-314  0.0           0.0"
      ]
     },
     "execution_count": 49,
     "metadata": {},
     "output_type": "execute_result"
    }
   ],
   "source": [
    "# Another cell to just evaluate\n",
    "# Here we set up some numbers and matrices for our computation\n",
    "N=Nx*Ny*Nz;    #The total number of sites\n",
    "aM=transpose(a);\n",
    "bM=transpose(repeat(b,outer=[1,Nx])); #these allow us to copy an entire row or layer at once\n",
    "cM=transpose(repeat(c,outer=[1,Nx*Ny]));\n",
    "\n",
    "X=Array{Float64}(N,3);  #where we store the positions"
   ]
  },
  {
   "cell_type": "code",
   "execution_count": 50,
   "metadata": {
    "collapsed": false
   },
   "outputs": [],
   "source": [
    "# Another cell to just evaluate\n",
    "# Here we are actually calculating the positions for every site\n",
    "for i in 1:Nx    #for the first row\n",
    "    X[i,:]=(i-1)*a;\n",
    "end\n",
    "\n",
    "for j in 2:Ny    #copying the first row into the first layer\n",
    "    X[Nx*(j-1)+(1:Nx),:]=X[1:Nx,:]+(j-1)*bM;\n",
    "end\n",
    "\n",
    "for j in 2:Nz    #copying the first layer into the entire cube\n",
    "    X[Ny*Nx*(j-1)+(1:Nx*Ny),:]=X[1:Nx*Ny,:]+(j-1)*cM;\n",
    "end"
   ]
  },
  {
   "cell_type": "code",
   "execution_count": 53,
   "metadata": {
    "collapsed": false
   },
   "outputs": [
    {
     "name": "stderr",
     "output_type": "stream",
     "text": [
      "2015-12-03 17:59:57.003 julia[44869:409197] setCanCycle: is deprecated.  Please use setCollectionBehavior instead\n",
      "2015-12-03 17:59:57.007 julia[44869:409197] setCanCycle: is deprecated.  Please use setCollectionBehavior instead\n"
     ]
    },
    {
     "data": {
      "text/plain": [
       "PyObject <mpl_toolkits.mplot3d.art3d.Path3DCollection object at 0x32bbb8a10>"
      ]
     },
     "execution_count": 53,
     "metadata": {},
     "output_type": "execute_result"
    },
    {
     "name": "stderr",
     "output_type": "stream",
     "text": [
      "2015-12-03 18:00:21.511 julia[44869:409197] setCanCycle: is deprecated.  Please use setCollectionBehavior instead\n",
      "2015-12-03 18:00:21.514 julia[44869:409197] setCanCycle: is deprecated.  Please use setCollectionBehavior instead\n"
     ]
    }
   ],
   "source": [
    "pygui(true);  #if true, launches new window with interactive capabilities\n",
    "\n",
    "drawcube=true;  #gives lines for a cube, helps interpret the dots\n",
    "ls=1;  # how many cubes to draw\n",
    "if(drawcube==true)\n",
    "    v=collect(0:ls);\n",
    "    zed=zeros(v);\n",
    "    for i in 0:ls\n",
    "        for j in 0:ls  \n",
    "            plot3D(zed+i,v,zed+j)\n",
    "            plot3D(zed+i,zed+j,v)\n",
    "    \n",
    "            plot3D(v,zed+i,zed+j)\n",
    "            plot3D(zed+j,zed+i,v)\n",
    "    \n",
    "            plot3D(v,zed+j,zed+i)\n",
    "            plot3D(zed+j,v,zed+i)\n",
    "        end\n",
    "    end\n",
    "end\n",
    "\n",
    "scatter3D(X[:,1],X[:,2],X[:,3],s=200*ones(X[:,1]),alpha=1)"
   ]
  },
  {
   "cell_type": "markdown",
   "metadata": {
    "collapsed": false
   },
   "source": [
    "## Go Back and Fiddle!\n",
    "\n",
    "As you might have noticed, this isn't just a blog where you just read through it.  Interact with it.  Change some lines, and see what happens.  I choose body centered cubic to display first, but what do the other lattices look like?  \n",
    "\n",
    "Chose `pygui(true)` to pop open a window and manipulate the plot in 3D.  \n",
    "\n",
    "Look at different lattice sizes.  \n",
    "\n",
    "Can you hand draw them on paper?  \n",
    "![Mydrawing](handdraw.jpg)\n",
    "\n",
    "Let me know what you think, and stay tuned for the next post: \n",
    "## <center><i> Multi-site unit cells</i></center>\n"
   ]
  },
  {
   "cell_type": "code",
   "execution_count": null,
   "metadata": {
    "collapsed": true
   },
   "outputs": [],
   "source": []
  }
 ],
 "metadata": {
  "kernelspec": {
   "display_name": "Julia 0.4.1",
   "language": "julia",
   "name": "julia-0.4"
  },
  "language_info": {
   "file_extension": ".jl",
   "mimetype": "application/julia",
   "name": "julia",
   "version": "0.4.1"
  }
 },
 "nbformat": 4,
 "nbformat_minor": 0
}
