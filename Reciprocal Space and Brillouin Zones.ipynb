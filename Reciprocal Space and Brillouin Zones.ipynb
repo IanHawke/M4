{
 "cells": [
  {
   "cell_type": "markdown",
   "metadata": {},
   "source": [
    "# Reciprocal Space and Brillouin Zones\n",
    "## Blog Post 3\n",
    "\n",
    "Another post about lattices?! "
   ]
  },
  {
   "cell_type": "code",
   "execution_count": 1,
   "metadata": {
    "collapsed": false
   },
   "outputs": [],
   "source": [
    "push!(LOAD_PATH,\"/Users/mira/Prog/Lattices\")\n",
    "using Lattices\n",
    "using ASCIIPlots"
   ]
  },
  {
   "cell_type": "code",
   "execution_count": 2,
   "metadata": {
    "collapsed": false
   },
   "outputs": [],
   "source": [
    "lt=MakeLattice(\"Honeycomb\",4);"
   ]
  },
  {
   "cell_type": "code",
   "execution_count": 22,
   "metadata": {
    "collapsed": false
   },
   "outputs": [
    {
     "data": {
      "text/plain": [
       "3-element Array{Float64,1}:\n",
       " 0.0\n",
       " 0.0\n",
       " 1.0"
      ]
     },
     "execution_count": 22,
     "metadata": {},
     "output_type": "execute_result"
    }
   ],
   "source": [
    "a1=reshape(lt.a3[1,:],3)\n",
    "a2=reshape(lt.a3[2,:],3)\n",
    "a3=reshape(lt.a3[3,:],3)"
   ]
  },
  {
   "cell_type": "code",
   "execution_count": 24,
   "metadata": {
    "collapsed": false
   },
   "outputs": [
    {
     "data": {
      "text/plain": [
       "2.598076211353316"
      ]
     },
     "execution_count": 24,
     "metadata": {},
     "output_type": "execute_result"
    }
   ],
   "source": [
    "Ω0=a1⋅(a2 × a3)"
   ]
  },
  {
   "cell_type": "code",
   "execution_count": 25,
   "metadata": {
    "collapsed": false
   },
   "outputs": [
    {
     "data": {
      "text/plain": [
       "([3.6275987284684357,-2.0943951023931957,0.0],[0.0,4.188790204786391,0.0],[0.0,0.0,6.283185307179586])"
      ]
     },
     "execution_count": 25,
     "metadata": {},
     "output_type": "execute_result"
    }
   ],
   "source": [
    "G1=×(a2,a3)*2π/Ω0\n",
    "G2=×(a3,a1)*2π/Ω0\n",
    "G3=×(a1,a2)*2π/Ω0\n",
    "G1, G2, G3"
   ]
  },
  {
   "cell_type": "code",
   "execution_count": 39,
   "metadata": {
    "collapsed": false
   },
   "outputs": [],
   "source": [
    "K=zeros(9,3)\n",
    "for i in 1:3   #for the first row\n",
    "    K[i,:]=(i-1)*transpose(G1);\n",
    "end\n",
    "\n",
    "for j in 2:3    #copying the first row into the first layer\n",
    "    K[3*j-3+(1:3),:]=K[1:3,:]+(j-1)*repeat(transpose(G2),outer=[3,1])\n",
    "end"
   ]
  },
  {
   "cell_type": "code",
   "execution_count": 43,
   "metadata": {
    "collapsed": false
   },
   "outputs": [
    {
     "data": {
      "text/plain": [
       "\n",
       "\t-------------------------------------------------------------\n",
       "\t|^                                                           | 8.38\n",
       "\t|                                                            |\n",
       "\t|                                                            |\n",
       "\t|                                                            |\n",
       "\t|                             ^                              |\n",
       "\t|                                                            |\n",
       "\t|                                                            |\n",
       "\t|^                                                          ^|\n",
       "\t|                                                            |\n",
       "\t|                                                            |\n",
       "\t|                             ^                              |\n",
       "\t|                                                            |\n",
       "\t|                                                            |\n",
       "\t|^                                                          ^|\n",
       "\t|                                                            |\n",
       "\t|                                                            |\n",
       "\t|                             ^                              |\n",
       "\t|                                                            |\n",
       "\t|                                                            |\n",
       "\t|                                                           ^| -4.19\n",
       "\t-------------------------------------------------------------\n",
       "\t0.00                                                    7.26\n"
      ]
     },
     "execution_count": 43,
     "metadata": {},
     "output_type": "execute_result"
    }
   ],
   "source": [
    "scatterplot(K[:,1],K[:,2])"
   ]
  },
  {
   "cell_type": "code",
   "execution_count": null,
   "metadata": {
    "collapsed": true
   },
   "outputs": [],
   "source": []
  }
 ],
 "metadata": {
  "kernelspec": {
   "display_name": "Julia 0.4.1",
   "language": "julia",
   "name": "julia-0.4"
  },
  "language_info": {
   "file_extension": ".jl",
   "mimetype": "application/julia",
   "name": "julia",
   "version": "0.4.1"
  }
 },
 "nbformat": 4,
 "nbformat_minor": 0
}
