{
 "cells": [
  {
   "cell_type": "markdown",
   "metadata": {},
   "source": [
    "# Time Evolution\n"
   ]
  },
  {
   "cell_type": "code",
   "execution_count": 1,
   "metadata": {
    "collapsed": false
   },
   "outputs": [
    {
     "name": "stderr",
     "output_type": "stream",
     "text": [
      "INFO: Precompiling module Gadfly.\n",
      "WARNING: Method definition hz_linesearch!(Any...) in module Optim at deprecated.jl:29 overwritten at deprecated.jl:29.\n",
      "WARNING: Method definition mt_linesearch!(Any...) in module Optim at deprecated.jl:29 overwritten at deprecated.jl:29.\n",
      "WARNING: Method definition interpolating_linesearch!(Any...) in module Optim at deprecated.jl:29 overwritten at deprecated.jl:29.\n",
      "WARNING: Method definition backtracking_linesearch!(Any...) in module Optim at deprecated.jl:29 overwritten at deprecated.jl:29.\n"
     ]
    }
   ],
   "source": [
    "using Gadfly"
   ]
  },
  {
   "cell_type": "code",
   "execution_count": 1,
   "metadata": {
    "collapsed": false
   },
   "outputs": [],
   "source": [
    "x=[i for i in .01:.01:1];\n",
    "x[1:end-2];\n",
    "y=zeros(x);\n",
    "y=x.^2;"
   ]
  },
  {
   "cell_type": "code",
   "execution_count": 3,
   "metadata": {
    "collapsed": false
   },
   "outputs": [
    {
     "data": {
      "text/plain": [
       "deriv2 (generic function with 1 method)"
      ]
     },
     "execution_count": 3,
     "metadata": {},
     "output_type": "execute_result"
    }
   ],
   "source": [
    "function deriv(y::Array,x::Array)\n",
    "    if length(y)!=length(x)\n",
    "        error(\"derivative: x and y not same length\")\n",
    "    end\n",
    "    d=zeros(x);\n",
    "    d[2:(end-1)]=(y[3:end].-y[1:(end-2)])./(x[3:end].-x[1:(end-2)]);\n",
    "    d[1]=(y[2]-y[1])/(x[2]-x[1])\n",
    "    d[end]=(y[end]-y[end-1])/(x[end]-x[end-1])\n",
    "    \n",
    "    return d\n",
    "end\n",
    "\n",
    "function deriv2(y::Array,x::Array)\n",
    "    y2=deriv(y,x);\n",
    "    return deriv(y2,x)\n",
    "end"
   ]
  },
  {
   "cell_type": "code",
   "execution_count": 39,
   "metadata": {
    "collapsed": false
   },
   "outputs": [],
   "source": []
  },
  {
   "cell_type": "code",
   "execution_count": 41,
   "metadata": {
    "collapsed": false
   },
   "outputs": [
    {
     "data": {
      "text/plain": [
       "\n",
       "\t-------------------------------------------------------------\n",
       "\t|                                          ^  ^    ^      ^  | 2.00\n",
       "\t| ^^^^^^^^^^^^^^^^^^^^^^^^^^^^^^^^^^^^^^^^^^^^^^^^^^^^^^^^^  |\n",
       "\t|                                                            |\n",
       "\t|                                                            |\n",
       "\t|                                                            |\n",
       "\t|                                                            |\n",
       "\t|                                                            |\n",
       "\t|                                                            |\n",
       "\t|                                                            |\n",
       "\t|                                                            |\n",
       "\t|^                                                         ^ |\n",
       "\t|                                                            |\n",
       "\t|                                                            |\n",
       "\t|                                                            |\n",
       "\t|                                                            |\n",
       "\t|                                                            |\n",
       "\t|                                                            |\n",
       "\t|                                                            |\n",
       "\t|                                                            |\n",
       "\t|^                                                          ^| 1.00\n",
       "\t-------------------------------------------------------------\n",
       "\t0.01                                                    1.00\n"
      ]
     },
     "execution_count": 41,
     "metadata": {},
     "output_type": "execute_result"
    }
   ],
   "source": []
  },
  {
   "cell_type": "code",
   "execution_count": null,
   "metadata": {
    "collapsed": true
   },
   "outputs": [],
   "source": []
  }
 ],
 "metadata": {
  "kernelspec": {
   "display_name": "Julia 0.5.0",
   "language": "julia",
   "name": "julia-0.5"
  },
  "language_info": {
   "file_extension": ".jl",
   "mimetype": "application/julia",
   "name": "julia",
   "version": "0.5.0"
  }
 },
 "nbformat": 4,
 "nbformat_minor": 0
}
