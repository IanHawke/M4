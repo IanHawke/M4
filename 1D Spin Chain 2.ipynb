{
 "cells": [
  {
   "cell_type": "markdown",
   "metadata": {},
   "source": [
    "# Exact Diagonalization of a 1D Spin Chain\n",
    "<b> Christina Lee\n",
    "\n",
    "Category: Grad\n",
    "\n",
    "Prerequisites: Many-Body Quantum Mechanics </b>"
   ]
  },
  {
   "cell_type": "markdown",
   "metadata": {},
   "source": [
    "## Theoretical Background \n",
    "\\begin{equation}\n",
    "\\mathcal{H}= J \\sum\\limits_{\\langle i,j \\rangle} \\mathbf{S}_i \\cdot \\mathbf{S}_j\n",
    "\\end{equation}\n",
    "\\begin{equation}\n",
    "\\mathcal{H} = J \\sum\\limits_{\\langle i,j \\rangle}\\left[ S_i^z S_j^z + \\frac{1}{2} \\left(S^+_iS^-_j + S^-_i S^+_j \\right)\\right]\n",
    "\\end{equation}\n",
    "\n",
    "\\begin{equation}\n",
    "\\mathcal{H}|\\Psi (...,i,j,...) \\rangle \n",
    "    = \\left( \\sum\\limits_{\\langle i,j \\rangle} S^z_i S^z_j \\right) | \\Psi (...,i,j,...) \\rangle +\n",
    "    \\sum\\limits_{\\langle i,j \\rangle} \n",
    "\\end{equation}"
   ]
  },
  {
   "cell_type": "code",
   "execution_count": 1,
   "metadata": {
    "collapsed": false
   },
   "outputs": [
    {
     "data": {
      "text/plain": [
       "16"
      ]
     },
     "execution_count": 1,
     "metadata": {},
     "output_type": "execute_result"
    }
   ],
   "source": [
    "n=4\n",
    "nstates=2^n"
   ]
  },
  {
   "cell_type": "code",
   "execution_count": 2,
   "metadata": {
    "collapsed": false
   },
   "outputs": [
    {
     "name": "stdout",
     "output_type": "stream",
     "text": [
      "0000 0\n",
      "0001 1\n",
      "0010 2\n",
      "0011 3\n",
      "0100 4\n",
      "0101 5\n",
      "0110 6\n",
      "0111 7\n",
      "1000 8\n",
      "1001 9\n",
      "1010 10\n",
      "1011 11\n",
      "1100 12\n",
      "1101 13\n",
      "1110 14\n",
      "1111 15\n"
     ]
    }
   ],
   "source": [
    "psi=collect(0:(nstates-1))\n",
    "for p in psi\n",
    "    println(bin(p,4),' ',p)\n",
    "end"
   ]
  },
  {
   "cell_type": "code",
   "execution_count": 3,
   "metadata": {
    "collapsed": false
   },
   "outputs": [
    {
     "name": "stdout",
     "output_type": "stream",
     "text": [
      "0011\n",
      "0110\n",
      "1100\n"
     ]
    }
   ],
   "source": [
    "powers2=collect(0:(n-1))\n",
    "powers2=2.^powers2\n",
    "mask=[0;powers2]+[powers2;0]\n",
    "mask=mask[2:end-1]\n",
    "for i in 1:(length(mask))\n",
    "    println(bin(mask[i],4))\n",
    "end"
   ]
  },
  {
   "cell_type": "code",
   "execution_count": 4,
   "metadata": {
    "collapsed": false
   },
   "outputs": [],
   "source": [
    "m=zeros(psi)\n",
    "for i in 1:nstates\n",
    "    m[i]=sum((psi[i]&powers2)./(powers2))\n",
    "    #println(round(Int,(psi[i]&powers2)./powers2))\n",
    "end"
   ]
  },
  {
   "cell_type": "code",
   "execution_count": 5,
   "metadata": {
    "collapsed": false,
    "scrolled": true
   },
   "outputs": [
    {
     "data": {
      "text/plain": [
       "16x2 Array{Float64,2}:\n",
       "  0.0  -1.0\n",
       "  1.0  -0.5\n",
       "  2.0  -0.5\n",
       "  4.0  -0.5\n",
       "  8.0  -0.5\n",
       "  3.0   0.0\n",
       "  5.0   0.0\n",
       "  6.0   0.0\n",
       "  9.0   0.0\n",
       " 10.0   0.0\n",
       " 12.0   0.0\n",
       "  7.0   0.5\n",
       " 11.0   0.5\n",
       " 13.0   0.5\n",
       " 14.0   0.5\n",
       " 15.0   1.0"
      ]
     },
     "execution_count": 5,
     "metadata": {},
     "output_type": "execute_result"
    }
   ],
   "source": [
    "ind=sortperm(m)\n",
    "m=(m[ind]-n/2)/2\n",
    "psi=psi[ind]\n",
    "[psi m]"
   ]
  },
  {
   "cell_type": "code",
   "execution_count": 6,
   "metadata": {
    "collapsed": false
   },
   "outputs": [
    {
     "data": {
      "text/plain": [
       "5-element Array{Array{Int64,N},1}:\n",
       " [0]            \n",
       " [1,2,4,8]      \n",
       " [3,5,6,9,10,12]\n",
       " [7,11,13,14]   \n",
       " [15]           "
      ]
     },
     "execution_count": 6,
     "metadata": {},
     "output_type": "execute_result"
    }
   ],
   "source": [
    "psia=Array{Array{Int64}}(n+1)\n",
    "old=1\n",
    "new=1\n",
    "for i in 1:(n+1)\n",
    "    #println(old,' ',new)\n",
    "    psia[i]=psi[old:new]\n",
    "    old=new+1\n",
    "    new=new+binomial(n,i)\n",
    "end\n",
    "psia"
   ]
  },
  {
   "cell_type": "code",
   "execution_count": 7,
   "metadata": {
    "collapsed": false
   },
   "outputs": [
    {
     "data": {
      "text/plain": [
       "6x6 Array{Float64,2}:\n",
       " 0.0  0.0  0.0  0.0  0.0  0.0\n",
       " 0.0  0.0  0.0  0.0  0.0  0.0\n",
       " 0.0  0.0  0.0  0.0  0.0  0.0\n",
       " 0.0  0.0  0.0  0.0  0.0  0.0\n",
       " 0.0  0.0  0.0  0.0  0.0  0.0\n",
       " 0.0  0.0  0.0  0.0  0.0  0.0"
      ]
     },
     "execution_count": 7,
     "metadata": {},
     "output_type": "execute_result"
    }
   ],
   "source": [
    "i=3\n",
    "dim=binomial(n,i-1)\n",
    "M=(i-1-n/2)/2*eye(Float64,dim,dim)"
   ]
  },
  {
   "cell_type": "code",
   "execution_count": 8,
   "metadata": {
    "collapsed": false,
    "scrolled": true
   },
   "outputs": [
    {
     "name": "stdout",
     "output_type": "stream",
     "text": [
      "0011 3\n",
      "0101 5\n",
      "0110 6\n",
      "1001 9\n",
      "1010 10\n",
      "1100 12\n"
     ]
    }
   ],
   "source": [
    "test=psia[i]\n",
    "for p in test\n",
    "    println(bin(p,4),' ',p)\n",
    "end"
   ]
  },
  {
   "cell_type": "code",
   "execution_count": 45,
   "metadata": {
    "collapsed": false
   },
   "outputs": [
    {
     "data": {
      "text/plain": [
       "6-element Array{Float64,1}:\n",
       " -1.11803    \n",
       " -0.5        \n",
       "  0.0        \n",
       "  1.06254e-16\n",
       "  0.5        \n",
       "  1.11803    "
      ]
     },
     "execution_count": 45,
     "metadata": {},
     "output_type": "execute_result"
    }
   ],
   "source": [
    "for a in 1:length(test)\n",
    "    temp=round(Int,(test[a]&powers2)./powers2)\n",
    "    for b in 1:(n-1)\n",
    "        if temp[b+1]!=temp[b]\n",
    "            #println(temp,' ',test[a] $ mask[b], ' ',\n",
    "            #round(Int,((test[a]$mask[b]) & powers2)./powers2))\n",
    "            nonzero=test[a] $ mask[b]\n",
    "            c=findc(nonzero,test)\n",
    "            #println(c,' ',test[c])\n",
    "            M[a,c]=.5\n",
    "            M[c,a]=.5\n",
    "        end\n",
    "    end\n",
    "end\n",
    "eigvals(M)"
   ]
  },
  {
   "cell_type": "code",
   "execution_count": 40,
   "metadata": {
    "collapsed": false
   },
   "outputs": [
    {
     "data": {
      "text/plain": [
       "findc (generic function with 1 method)"
      ]
     },
     "execution_count": 40,
     "metadata": {},
     "output_type": "execute_result"
    }
   ],
   "source": [
    "function findc(nonzero::Int,test::Array)\n",
    "    bottom=1;\n",
    "    diff=length(test);\n",
    "    ii=ceil(Int,length(test)/2)\n",
    "    found=false\n",
    "    count=0\n",
    "    while found==false && count < length(test)\n",
    "        if test[ii]==nonzero\n",
    "            return ii\n",
    "        elseif nonzero<test[ii]\n",
    "            diff=floor(Int,diff/2)\n",
    "            ii=bottom+diff\n",
    "            #println(\"less \",bottom,' ',ii,' ',diff,' ',test[ii])\n",
    "            count+=1\n",
    "        else \n",
    "            bottom=ii;\n",
    "            diff=ceil(Int,diff/2);\n",
    "            ii=bottom+diff\n",
    "            #println(\"greater \",bottom,' ',ii,' ',diff,' ',test[ii])\n",
    "            count+=1\n",
    "        end\n",
    "    end\n",
    "    return 0\n",
    "end"
   ]
  },
  {
   "cell_type": "code",
   "execution_count": null,
   "metadata": {
    "collapsed": true
   },
   "outputs": [],
   "source": []
  }
 ],
 "metadata": {
  "kernelspec": {
   "display_name": "Julia 0.4.1",
   "language": "julia",
   "name": "julia-0.4"
  },
  "language_info": {
   "file_extension": ".jl",
   "mimetype": "application/julia",
   "name": "julia",
   "version": "0.4.1"
  },
  "toc": {
   "toc_cell": false,
   "toc_number_sections": false,
   "toc_section_display": "none",
   "toc_threshold": 6,
   "toc_window_display": true
  }
 },
 "nbformat": 4,
 "nbformat_minor": 0
}
