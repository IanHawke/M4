{
 "cells": [
  {
   "cell_type": "markdown",
   "metadata": {},
   "source": [
    "# Exact Diagonalization of a 1D Spin Chain\n",
    "<b> Christina Lee\n",
    "\n",
    "Category: Grad\n",
    "\n",
    "Prerequisites: Many-Body Quantum Mechanics, Part 1 </b>\n",
    "\n",
    "Check out part 1 for the theory background.  Today is all programming."
   ]
  },
  {
   "cell_type": "markdown",
   "metadata": {},
   "source": [
    "Here we will initialize how many spins we will have in our chain.  \n",
    "\n",
    "Remember to keep a reasonable number.  \n",
    "\n",
    "Your number of states goes as $2^n$, and the size of your Hamiltonian will goes as $4^n$.  A 10-spin chain will already have over a million entries, before taking into account our tricks.\n",
    "\n",
    "On my machine that has 16Gb of RAM and 3.2 GHz Intel i5 processor:\n",
    "\n",
    "| n | m_z | t (min) | Memory (Gb) |\n",
    "|---|-----|---------|-------------|\n",
    "|16 | 8   | 1.5     | 2           |\n",
    "|18 | 9   | ?       |  >16        |\n",
    "|18 | 8   | 32.1    |   15.5      |\n",
    "\n",
    "I included a file in this directory, ED.jl, that is the functional, rather than demonstrative, version of the code here.  "
   ]
  },
  {
   "cell_type": "code",
   "execution_count": null,
   "metadata": {
    "collapsed": true
   },
   "outputs": [],
   "source": [
    "using PyPlot"
   ]
  },
  {
   "cell_type": "markdown",
   "metadata": {
    "collapsed": false
   },
   "source": [
    "Here went enter one parameter `n`, the number of spins in our chain.\n",
    "\n",
    "The parameter `nstates` is automatically calculated given `n`.\n"
   ]
  },
  {
   "cell_type": "code",
   "execution_count": 2,
   "metadata": {
    "collapsed": false
   },
   "outputs": [
    {
     "data": {
      "text/plain": [
       "16"
      ]
     },
     "execution_count": 2,
     "metadata": {},
     "output_type": "execute_result"
    }
   ],
   "source": [
    "n=4\n",
    "nstates=2^n"
   ]
  },
  {
   "cell_type": "markdown",
   "metadata": {},
   "source": [
    "First. let's write out all our possible states in the $S^z$ basis."
   ]
  },
  {
   "cell_type": "code",
   "execution_count": 3,
   "metadata": {
    "collapsed": false
   },
   "outputs": [
    {
     "name": "stdout",
     "output_type": "stream",
     "text": [
      "0000 0\n",
      "0001 1\n",
      "0010 2\n",
      "0011 3\n",
      "0100 4\n",
      "0101 5\n",
      "0110 6\n",
      "0111 7\n",
      "1000 8\n",
      "1001 9\n",
      "1010 10\n",
      "1011 11\n",
      "1100 12\n",
      "1101 13\n",
      "1110 14\n",
      "1111 15\n"
     ]
    }
   ],
   "source": [
    "psi=collect(0:(nstates-1))\n",
    "for p in psi\n",
    "    println(bin(p,n),' ',p)\n",
    "end"
   ]
  },
  {
   "cell_type": "markdown",
   "metadata": {},
   "source": [
    "As in Part 1, we will be using the powers of 2 and the masks I described to perform operations on numbers.  So we don't have to calculate them each time, we just store them in memory."
   ]
  },
  {
   "cell_type": "code",
   "execution_count": 4,
   "metadata": {
    "collapsed": false
   },
   "outputs": [],
   "source": [
    "powers2=collect(0:(n-1));\n",
    "powers2=2.^powers2;\n",
    "\n",
    "mask=[0;powers2]+[powers2;0];\n",
    "mask=mask[2:end-1];"
   ]
  },
  {
   "cell_type": "markdown",
   "metadata": {},
   "source": [
    "`m` will be an array that will store the magnetization of each state.   See Part 1 for more explanation of how this works.  \n",
    "\n",
    "In Part 1, I just talked about counting the number of up-spins as magnetization.   That's not true.  An up-spin is $+1/2$ and a down-spin is $-1/2$.  So we have to just modify our magnetization a little."
   ]
  },
  {
   "cell_type": "code",
   "execution_count": 8,
   "metadata": {
    "collapsed": false
   },
   "outputs": [
    {
     "data": {
      "text/plain": [
       "16-element Array{Float64,1}:\n",
       " -1.0\n",
       " -0.5\n",
       " -0.5\n",
       " -0.5\n",
       " -0.5\n",
       "  0.0\n",
       "  0.0\n",
       "  0.0\n",
       "  0.0\n",
       "  0.0\n",
       "  0.0\n",
       "  0.5\n",
       "  0.5\n",
       "  0.5\n",
       "  0.5\n",
       "  1.0"
      ]
     },
     "execution_count": 8,
     "metadata": {},
     "output_type": "execute_result"
    }
   ],
   "source": [
    "m=zeros(psi)\n",
    "for i in 1:nstates\n",
    "    m[i]=sum((psi[i]&powers2)./(powers2))\n",
    "end\n",
    "m=(m-n/2)/2"
   ]
  },
  {
   "cell_type": "markdown",
   "metadata": {},
   "source": [
    "# Grouped by Magnetization\n",
    "\n",
    "Now that we have the magnetizations corresponding to each state, we perform the trickery that allows us to dramatically reduce the difficulty of our problem. \n",
    "\n",
    "Magnetization is a conserved quantity, so we know that the Hamiltonian is not going to mix states of different magnetizations.   So we only have to deal with one magnetization at a time, which is a much smaller problem.  \n",
    "\n",
    "First, we are going to sort our states by magnetization."
   ]
  },
  {
   "cell_type": "code",
   "execution_count": 9,
   "metadata": {
    "collapsed": false,
    "scrolled": true
   },
   "outputs": [
    {
     "data": {
      "text/plain": [
       "16×2 Array{Float64,2}:\n",
       "  0.0  -1.0\n",
       "  1.0  -0.5\n",
       "  2.0  -0.5\n",
       "  4.0  -0.5\n",
       "  8.0  -0.5\n",
       "  3.0   0.0\n",
       "  5.0   0.0\n",
       "  6.0   0.0\n",
       "  9.0   0.0\n",
       " 10.0   0.0\n",
       " 12.0   0.0\n",
       "  7.0   0.5\n",
       " 11.0   0.5\n",
       " 13.0   0.5\n",
       " 14.0   0.5\n",
       " 15.0   1.0"
      ]
     },
     "execution_count": 9,
     "metadata": {},
     "output_type": "execute_result"
    }
   ],
   "source": [
    "ind=sortperm(m)\n",
    "m=m[ind]\n",
    "psi=psi[ind]\n",
    "[psi m]"
   ]
  },
  {
   "cell_type": "markdown",
   "metadata": {},
   "source": [
    "But even though they're now sorted, they're still mashed all together.  Now we want to pull them apart.  "
   ]
  },
  {
   "cell_type": "code",
   "execution_count": 10,
   "metadata": {
    "collapsed": false
   },
   "outputs": [
    {
     "data": {
      "text/plain": [
       "5-element Array{Array{Int64,N},1}:\n",
       " [0]            \n",
       " [1,2,4,8]      \n",
       " [3,5,6,9,10,12]\n",
       " [7,11,13,14]   \n",
       " [15]           "
      ]
     },
     "execution_count": 10,
     "metadata": {},
     "output_type": "execute_result"
    }
   ],
   "source": [
    "ma=collect(0:.5:n/2.)-n/4\n",
    "    \n",
    "psia=Array{Array{Int64}}(n+1)\n",
    "first=1\n",
    "last=1\n",
    "for i in 1:(n+1)\n",
    "    psia[i]=psi[first:last]\n",
    "    \n",
    "    #now we compute them for the next round\n",
    "    first=last+1\n",
    "    last=last+binomial(n,i)\n",
    "end\n",
    "psia"
   ]
  },
  {
   "cell_type": "code",
   "execution_count": 13,
   "metadata": {
    "collapsed": false
   },
   "outputs": [
    {
     "data": {
      "text/plain": [
       "6×6 Array{Float64,2}:\n",
       " 0.0  0.0  0.0  0.0  0.0  0.0\n",
       " 0.0  0.0  0.0  0.0  0.0  0.0\n",
       " 0.0  0.0  0.0  0.0  0.0  0.0\n",
       " 0.0  0.0  0.0  0.0  0.0  0.0\n",
       " 0.0  0.0  0.0  0.0  0.0  0.0\n",
       " 0.0  0.0  0.0  0.0  0.0  0.0"
      ]
     },
     "execution_count": 13,
     "metadata": {},
     "output_type": "execute_result"
    }
   ],
   "source": [
    "mz=3\n",
    "\n",
    "dim=binomial(n,mz-1)\n",
    "\n",
    "#M=ma[i]*(ma[i]+1)*eye(Float64,dim,dim)\n",
    "M=zeros(Float64,dim,dim)"
   ]
  },
  {
   "cell_type": "code",
   "execution_count": null,
   "metadata": {
    "collapsed": false
   },
   "outputs": [],
   "source": []
  },
  {
   "cell_type": "markdown",
   "metadata": {},
   "source": []
  },
  {
   "cell_type": "code",
   "execution_count": 15,
   "metadata": {
    "collapsed": false,
    "scrolled": true
   },
   "outputs": [
    {
     "name": "stdout",
     "output_type": "stream",
     "text": [
      "0011 3\n",
      "0101 5\n",
      "0110 6\n",
      "1001 9\n",
      "1010 10\n",
      "1100 12\n"
     ]
    }
   ],
   "source": [
    "Psi=psia[mz]\n",
    "for p in Psi\n",
    "    println(bin(p,n),' ',p)\n",
    "end"
   ]
  },
  {
   "cell_type": "code",
   "execution_count": null,
   "metadata": {
    "collapsed": false
   },
   "outputs": [],
   "source": []
  },
  {
   "cell_type": "code",
   "execution_count": 16,
   "metadata": {
    "collapsed": false
   },
   "outputs": [
    {
     "data": {
      "text/plain": [
       "findstate (generic function with 1 method)"
      ]
     },
     "execution_count": 16,
     "metadata": {},
     "output_type": "execute_result"
    }
   ],
   "source": [
    "function findstate(state::Int,set::Array{Int})\n",
    "    iimin=1\n",
    "    iimax=length(set)\n",
    "    \n",
    "    if set[iimin] == state\n",
    "        return iimin\n",
    "    end\n",
    "    if set[iimax] == state\n",
    "        return iimax\n",
    "    end\n",
    "    \n",
    "    \n",
    "    found=false\n",
    "    count=0\n",
    "    \n",
    "    while found==false && count < length(set)\n",
    "        count+=1\n",
    "        index=floor(Int,iimin+(iimax-iimin)/2)\n",
    "        if state < set[index]\n",
    "            iimax=index-1\n",
    "        elseif state > set[index]\n",
    "            iimin=index+1\n",
    "        else\n",
    "            found=true\n",
    "            return index\n",
    "        end\n",
    "    end\n",
    "    \n",
    "    if found == false\n",
    "        println(\"findstate never found a match\")\n",
    "        println(\"Are you sure the state is in that Array?\")\n",
    "    end\n",
    "    \n",
    "    return 0\n",
    "end"
   ]
  },
  {
   "cell_type": "code",
   "execution_count": 19,
   "metadata": {
    "collapsed": false
   },
   "outputs": [
    {
     "name": "stdout",
     "output_type": "stream",
     "text": [
      "0011\t0101\n",
      "0101\t0110\n",
      "0101\t0011\n",
      "0101\t1001\n",
      "0110\t0101\n",
      "0110\t1010\n",
      "1001\t1010\n",
      "1001\t0101\n",
      "1010\t1001\n",
      "1010\t1100\n",
      "1010\t0110\n",
      "1100\t1010\n"
     ]
    }
   ],
   "source": [
    "mp=sum(Psi[1]&powers2./powers2)\n",
    "\n",
    "for ii in 1:length(Psi)\n",
    "    p=Psi[ii]\n",
    "    for jj in 1:(n-1)\n",
    "        flipped=p$mask[jj]\n",
    "        if sum((flipped&powers2)./powers2) == mp\n",
    "            index=findstate(flipped,Psi)\n",
    "            M[ii,index]=.5\n",
    "            M[index,ii]=.5\n",
    "            println(bin(p,n),'\\t',bin(flipped,n))\n",
    "        end\n",
    "            \n",
    "    end\n",
    "end"
   ]
  },
  {
   "cell_type": "code",
   "execution_count": 20,
   "metadata": {
    "collapsed": false
   },
   "outputs": [
    {
     "data": {
      "text/plain": [
       "6×6 Array{Float64,2}:\n",
       " 0.0  0.5  0.0  0.0  0.0  0.0\n",
       " 0.5  0.0  0.5  0.5  0.0  0.0\n",
       " 0.0  0.5  0.0  0.0  0.5  0.0\n",
       " 0.0  0.5  0.0  0.0  0.5  0.0\n",
       " 0.0  0.0  0.5  0.5  0.0  0.5\n",
       " 0.0  0.0  0.0  0.0  0.5  0.0"
      ]
     },
     "execution_count": 20,
     "metadata": {},
     "output_type": "execute_result"
    }
   ],
   "source": [
    "M"
   ]
  },
  {
   "cell_type": "code",
   "execution_count": 21,
   "metadata": {
    "collapsed": false
   },
   "outputs": [
    {
     "data": {
      "text/plain": [
       "6-element Array{Float64,1}:\n",
       " -1.11803    \n",
       " -0.5        \n",
       "  0.0        \n",
       "  1.06254e-16\n",
       "  0.5        \n",
       "  1.11803    "
      ]
     },
     "execution_count": 21,
     "metadata": {},
     "output_type": "execute_result"
    }
   ],
   "source": [
    "eigvals(M)"
   ]
  },
  {
   "cell_type": "code",
   "execution_count": 23,
   "metadata": {
    "collapsed": false
   },
   "outputs": [
    {
     "data": {
      "text/plain": [
       "6×6 Array{Float64,2}:\n",
       " -0.223607  -0.5           0.0        0.632456      -0.5          -0.223607\n",
       "  0.5        0.5           0.0        2.81452e-308  -0.5          -0.5     \n",
       " -0.447214  -4.44089e-16  -0.707107  -0.316228      -4.44089e-16  -0.447214\n",
       " -0.447214  -4.44089e-16   0.707107  -0.316228      -4.44089e-16  -0.447214\n",
       "  0.5       -0.5           0.0        6.3195e-16     0.5          -0.5     \n",
       " -0.223607   0.5           0.0        0.632456       0.5          -0.223607"
      ]
     },
     "execution_count": 23,
     "metadata": {},
     "output_type": "execute_result"
    }
   ],
   "source": [
    "eigvecs(M)"
   ]
  },
  {
   "cell_type": "code",
   "execution_count": 116,
   "metadata": {
    "collapsed": false
   },
   "outputs": [
    {
     "data": {
      "text/plain": [
       "792-element Array{Float64,1}:\n",
       " -3.52758\n",
       " -3.29351\n",
       " -3.08005\n",
       " -3.05244\n",
       " -2.8996 \n",
       " -2.83898\n",
       " -2.81837\n",
       " -2.76266\n",
       " -2.67717\n",
       " -2.65853\n",
       " -2.60491\n",
       " -2.60491\n",
       " -2.60491\n",
       "  ⋮      \n",
       "  2.60491\n",
       "  2.60491\n",
       "  2.65853\n",
       "  2.67717\n",
       "  2.76266\n",
       "  2.81837\n",
       "  2.83898\n",
       "  2.8996 \n",
       "  3.05244\n",
       "  3.08005\n",
       "  3.29351\n",
       "  3.52758"
      ]
     },
     "execution_count": 116,
     "metadata": {},
     "output_type": "execute_result"
    }
   ],
   "source": [
    "lambdap=eigvals(M)"
   ]
  },
  {
   "cell_type": "code",
   "execution_count": 120,
   "metadata": {
    "collapsed": false
   },
   "outputs": [
    {
     "data": {
      "text/plain": [
       "Array{Float64,1}"
      ]
     },
     "execution_count": 120,
     "metadata": {},
     "output_type": "execute_result"
    }
   ],
   "source": [
    "length()"
   ]
  },
  {
   "cell_type": "code",
   "execution_count": 84,
   "metadata": {
    "collapsed": false
   },
   "outputs": [
    {
     "data": {
      "text/plain": [
       "512-element Array{Float64,1}:\n",
       " -2.65688\n",
       " -2.65688\n",
       " -2.34786\n",
       " -2.34786\n",
       " -2.34786\n",
       " -2.34786\n",
       " -2.06909\n",
       " -2.06909\n",
       " -2.06909\n",
       " -2.06909\n",
       " -2.03884\n",
       " -2.03884\n",
       " -1.84786\n",
       "  ⋮      \n",
       "  2.03884\n",
       "  2.03884\n",
       "  2.06909\n",
       "  2.06909\n",
       "  2.06909\n",
       "  2.06909\n",
       "  2.34786\n",
       "  2.34786\n",
       "  2.34786\n",
       "  2.34786\n",
       "  2.65688\n",
       "  2.65688"
      ]
     },
     "execution_count": 84,
     "metadata": {},
     "output_type": "execute_result"
    }
   ],
   "source": [
    "lambda=sort(cat(1,lambda1,lambda2,lambda3,lambda4,lambda5,lambda6,lambda7,lambda8,lambda9,lambda10))"
   ]
  },
  {
   "cell_type": "code",
   "execution_count": 99,
   "metadata": {
    "collapsed": false
   },
   "outputs": [
    {
     "data": {
      "image/png": "[encoded data removed]",
      "text/plain": [
       "PyPlot.Figure(PyObject <matplotlib.figure.Figure object at 0x7fde0c4a1c88>)"
      ]
     },
     "metadata": {},
     "output_type": "display_data"
    },
    {
     "data": {
      "text/plain": [
       "1-element Array{Any,1}:\n",
       " PyObject <matplotlib.lines.Line2D object at 0x7fde0c43ac50>"
      ]
     },
     "execution_count": 99,
     "metadata": {},
     "output_type": "execute_result"
    }
   ],
   "source": [
    "plot(lambda)\n",
    "xtemp=collect(1:length(lambda))\n",
    "ytemp=(-acos(xtemp*2/length(lambda)-1)+pi/2)*pi/2\n",
    "plot(xtemp,ytemp)"
   ]
  },
  {
   "cell_type": "code",
   "execution_count": 91,
   "metadata": {
    "collapsed": false
   },
   "outputs": [
    {
     "data": {
      "text/plain": [
       "512-element Array{Float64,1}:\n",
       " -0.996094\n",
       " -0.992188\n",
       " -0.988281\n",
       " -0.984375\n",
       " -0.980469\n",
       " -0.976563\n",
       " -0.972656\n",
       " -0.96875 \n",
       " -0.964844\n",
       " -0.960938\n",
       " -0.957031\n",
       " -0.953125\n",
       " -0.949219\n",
       "  ⋮       \n",
       "  0.957031\n",
       "  0.960938\n",
       "  0.964844\n",
       "  0.96875 \n",
       "  0.972656\n",
       "  0.976563\n",
       "  0.980469\n",
       "  0.984375\n",
       "  0.988281\n",
       "  0.992188\n",
       "  0.996094\n",
       "  1.0     "
      ]
     },
     "execution_count": 91,
     "metadata": {},
     "output_type": "execute_result"
    }
   ],
   "source": [
    "xtemp*2/length(lambda)-1"
   ]
  },
  {
   "cell_type": "code",
   "execution_count": null,
   "metadata": {
    "collapsed": true
   },
   "outputs": [],
   "source": []
  }
 ],
 "metadata": {
  "kernelspec": {
   "display_name": "Julia 0.5.1",
   "language": "julia",
   "name": "julia-0.5"
  },
  "language_info": {
   "file_extension": ".jl",
   "mimetype": "application/julia",
   "name": "julia",
   "version": "0.5.1"
  },
  "toc": {
   "toc_cell": false,
   "toc_number_sections": false,
   "toc_section_display": "none",
   "toc_threshold": 6,
   "toc_window_display": true
  }
 },
 "nbformat": 4,
 "nbformat_minor": 0
}
