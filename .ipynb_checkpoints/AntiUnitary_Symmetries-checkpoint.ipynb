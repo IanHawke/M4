{
 "cells": [
  {
   "cell_type": "markdown",
   "metadata": {},
   "source": [
    "$$\n",
    "H= H^{T*}\n",
    "$$"
   ]
  },
  {
   "cell_type": "markdown",
   "metadata": {},
   "source": [
    "\n",
    "$$\n",
    "T^{-1} H T = H \\qquad T=U_{T} K \\qquad U_{T} U_{T}^* = \\pm \\mathcal{1}\n",
    "$$\n",
    "\n",
    "$$\n",
    "C^{-1} H C= -H \\qquad C=U_{C} K \\qquad U_{C} U_{C}^* = \\pm \\mathcal{1}\n",
    "$$\n",
    "\n",
    "$$\n",
    "S^{-1} H S = - H \\qquad S= U_{S} \\qquad U_{S} U_{S}^{\\dagger} = \\mathcal{1}\n",
    "$$\n",
    "\n",
    "Moving to Fourier Space\n",
    "\n",
    "$$\n",
    "T H(k) T^{-1} = H(-k)\n",
    "$$\n",
    "$$\n",
    "C H(k) C^{-1} = - H(-k)\n",
    "$$\n",
    "$$\n",
    "S H(k) S^{-1} = -H(k)\n",
    "$$"
   ]
  },
  {
   "cell_type": "markdown",
   "metadata": {},
   "source": [
    "Class | A | AIII | AI | BDI | D | DIII | AII | CII | C | CI\n",
    "---   | --- | ---  | --- | --- | --- | ---  | --- | --- | --- | ---\n",
    "T     | 0 | 0    | +  | +   | 0 | -    | -   | -   | 0 | +\n",
    "C     | 0 | 0    | 0  | +   | + | +    | 0   | -   | - | -\n",
    "S     | 0 | 0    | 0  | 1   | 0 | 1    | 0   | 1   | 0 | 1 "
   ]
  },
  {
   "cell_type": "markdown",
   "metadata": {},
   "source": [
    "Eigenfact\n",
    "$$\n",
    "H = U \\epsilon U^{-1} \\qquad U^{-1} H U = \\epsilon\n",
    "$$\n",
    "$$\n",
    "U_{1}^{-1} H_{1} U_{1} = U_{2}^{-1} H_{2} U_{2}\n",
    "$$\n",
    "$$\n",
    "U_{2} U_{1}^{-1} H_{1} U_{1} U_{2}^{-1}\n",
    "= \\left( U_{2} U_{1}^{-1} \\right) H_{1} \\left( U_{2} U_{1}^{-1} \\right)^{-1} = H_{2}\n",
    "$$"
   ]
  },
  {
   "cell_type": "code",
   "execution_count": 7,
   "metadata": {},
   "outputs": [],
   "source": [
    "using LinearAlgebra"
   ]
  },
  {
   "cell_type": "code",
   "execution_count": 1,
   "metadata": {},
   "outputs": [
    {
     "data": {
      "text/plain": [
       "2×2 Array{Int64,2}:\n",
       " 1   0\n",
       " 0  -1"
      ]
     },
     "execution_count": 1,
     "metadata": {},
     "output_type": "execute_result"
    }
   ],
   "source": [
    "σx=[[0 1]\n",
    "    [1 0]]\n",
    "σy=[[0 -im]\n",
    "    [im 0]]\n",
    "σz=[[1 0]\n",
    "    [0 -1]]"
   ]
  },
  {
   "cell_type": "code",
   "execution_count": 238,
   "metadata": {},
   "outputs": [
    {
     "data": {
      "text/plain": [
       "ξ (generic function with 1 method)"
      ]
     },
     "execution_count": 238,
     "metadata": {},
     "output_type": "execute_result"
    }
   ],
   "source": [
    "R1x(k::Array{Float64},v=1,w=2)=v-w*cos(k[1])\n",
    "R1y(k::Array{Float64},w=2)=-w*sin(k[1])\n",
    "\n",
    "R2x(k::Array{Float64})=-2*sin(k[1])\n",
    "R2y(k::Array{Float64})=-2*sin(k[2])\n",
    "R2z(k::Array{Float64},μ)=μ+2*sum(cos.(k))\n",
    "\n",
    "\n",
    "Δ(k::Array{Float64};Δ0=1.0)=Δ0*im*σy*(k[1]*σx+k[2]*σy+k[3]*σz)\n",
    "ξ(k::Array{Float64};m=1,μ=0.0)=sum(k.^2)/2m-μ"
   ]
  },
  {
   "cell_type": "code",
   "execution_count": 239,
   "metadata": {
    "scrolled": false
   },
   "outputs": [
    {
     "data": {
      "text/plain": [
       "H3 (generic function with 2 methods)"
      ]
     },
     "execution_count": 239,
     "metadata": {},
     "output_type": "execute_result"
    }
   ],
   "source": [
    "H1(k::Array{Float64},v=1,w=2)=R1x(k,v,w)*σx+R1y(k,w)*σy\n",
    "H2(k::Array{Float64},t=1.0,μ=0.0,Δ0=1.0)=(t*cos(k[1])-μ)*σz-Δ0*sin(k[1])*σy\n",
    "H3(k::Array{Float64},μ=1.0)=R2x(k)*σx+R2y(k)*σy+R2z(k,μ)*σz"
   ]
  },
  {
   "cell_type": "code",
   "execution_count": 278,
   "metadata": {},
   "outputs": [
    {
     "data": {
      "text/plain": [
       "2×2 Array{Complex{Float64},2}:\n",
       "      0.0+0.0im       0.937825-0.494808im\n",
       " 0.937825+0.494808im       0.0+0.0im     "
      ]
     },
     "execution_count": 278,
     "metadata": {},
     "output_type": "execute_result"
    }
   ],
   "source": [
    "k=[.25,.656]\n",
    "m=H1(k)\n",
    "mp=-m"
   ]
  },
  {
   "cell_type": "code",
   "execution_count": null,
   "metadata": {},
   "outputs": [],
   "source": []
  },
  {
   "cell_type": "code",
   "execution_count": 279,
   "metadata": {},
   "outputs": [
    {
     "data": {
      "text/plain": [
       "Eigen{Complex{Float64},Float64,Array{Complex{Float64},2},Array{Float64,1}}\n",
       "eigenvalues:\n",
       "2-element Array{Float64,1}:\n",
       " -1.0603538622353488\n",
       "  1.0603538622353488\n",
       "eigenvectors:\n",
       "2×2 Array{Complex{Float64},2}:\n",
       "  0.625397-0.329967im  0.625397-0.329967im\n",
       " -0.707107+0.0im       0.707107+0.0im     "
      ]
     },
     "execution_count": 279,
     "metadata": {},
     "output_type": "execute_result"
    }
   ],
   "source": [
    "f=eigen(m)\n",
    "fp=eigen(mp)"
   ]
  },
  {
   "cell_type": "code",
   "execution_count": 280,
   "metadata": {},
   "outputs": [
    {
     "data": {
      "text/plain": [
       "2×2 Array{Complex{Float64},2}:\n",
       "       0.0+0.0im       0.884445-0.466644im\n",
       " -0.884445-0.466644im       0.0+0.0im     "
      ]
     },
     "execution_count": 280,
     "metadata": {},
     "output_type": "execute_result"
    }
   ],
   "source": [
    "U=(fp.vectors)*(f.vectors)^(-1)"
   ]
  },
  {
   "cell_type": "code",
   "execution_count": 271,
   "metadata": {},
   "outputs": [
    {
     "data": {
      "text/plain": [
       "2×2 Array{Complex{Float64},2}:\n",
       " 1.0+1.16355e-17im  0.0+0.0im        \n",
       " 0.0+0.0im          1.0+1.12452e-17im"
      ]
     },
     "execution_count": 271,
     "metadata": {},
     "output_type": "execute_result"
    }
   ],
   "source": []
  },
  {
   "cell_type": "code",
   "execution_count": 281,
   "metadata": {},
   "outputs": [
    {
     "data": {
      "text/plain": [
       "2×2 Array{Complex{Float64},2}:\n",
       "       0.0-0.0im       -0.466644-0.884445im\n",
       " -0.466644+0.884445im        0.0-0.0im     "
      ]
     },
     "execution_count": 281,
     "metadata": {},
     "output_type": "execute_result"
    }
   ],
   "source": [
    "a=U*U\n",
    "Up=U/sqrt(a)"
   ]
  },
  {
   "cell_type": "code",
   "execution_count": 286,
   "metadata": {},
   "outputs": [
    {
     "data": {
      "text/plain": [
       "2×2 Array{Complex{Float64},2}:\n",
       "     -0.0+0.0im      0.752239+1.42574im\n",
       " 0.752239-1.42574im       0.0-0.0im    "
      ]
     },
     "execution_count": 286,
     "metadata": {},
     "output_type": "execute_result"
    }
   ],
   "source": [
    "kp=[.656,.732]\n",
    "Up*H(kp)*Up^(-1)+H(kp)"
   ]
  },
  {
   "cell_type": "code",
   "execution_count": 282,
   "metadata": {},
   "outputs": [
    {
     "data": {
      "text/plain": [
       "2×2 Array{Complex{Float64},2}:\n",
       " 1.0+0.0im  -0.0+0.0im\n",
       " 0.0+0.0im   1.0+0.0im"
      ]
     },
     "execution_count": 282,
     "metadata": {},
     "output_type": "execute_result"
    }
   ],
   "source": [
    "Up*Up"
   ]
  },
  {
   "cell_type": "code",
   "execution_count": 277,
   "metadata": {},
   "outputs": [
    {
     "data": {
      "text/plain": [
       "2×2 Array{Complex{Float64},2}:\n",
       " 1.0+0.0im          0.0+1.11022e-16im\n",
       " 0.0-1.11022e-16im  1.0+0.0im        "
      ]
     },
     "execution_count": 277,
     "metadata": {},
     "output_type": "execute_result"
    }
   ],
   "source": [
    "Up*conj(transpose(Up))"
   ]
  },
  {
   "cell_type": "code",
   "execution_count": 242,
   "metadata": {},
   "outputs": [
    {
     "data": {
      "text/plain": [
       "Sf (generic function with 1 method)"
      ]
     },
     "execution_count": 242,
     "metadata": {},
     "output_type": "execute_result"
    }
   ],
   "source": [
    "function Sf(H::Function,k::Array{Float64};atol=1e-10)\n",
    "    M=H(k)\n",
    "    Mp=-H(k)\n",
    "    \n",
    "    f=eigen(M)\n",
    "    fp=eigen(Mp)\n",
    "    \n",
    "    U=(fp.vectors)*(f.vectors)^(-1)\n",
    "    \n",
    "    a=U*U\n",
    "    Up=U/sqrt(a[1])\n",
    "    \n",
    "    return isapprox.(Up*M*Up^(-1),Mp,atol=atol),\n",
    "        isapprox.(Up*Up,one(M),atol=atol)\n",
    "end"
   ]
  },
  {
   "cell_type": "code",
   "execution_count": 245,
   "metadata": {},
   "outputs": [
    {
     "data": {
      "text/plain": [
       "Cf (generic function with 1 method)"
      ]
     },
     "execution_count": 245,
     "metadata": {},
     "output_type": "execute_result"
    }
   ],
   "source": [
    "function Cf(H::Function,k::Array{Float64};atol=1e-10)\n",
    "    M=H(k)\n",
    "    Mp=-H(-k)\n",
    "    cM=conj.(M)\n",
    "    \n",
    "    f=eigen(cM)\n",
    "    fp=eigen(Mp)\n",
    "    \n",
    "    U=(fp.vectors)*(f.vectors)^(-1)\n",
    "    \n",
    "    a=U*U\n",
    "    Up=U/sqrt(a[1])\n",
    "    \n",
    "    return isapprox.(Up*cM*Up^(-1),Mp,atol=atol),\n",
    "        isapprox.(Up*Up,one(M),atol=atol)\n",
    "end"
   ]
  },
  {
   "cell_type": "code",
   "execution_count": 236,
   "metadata": {},
   "outputs": [
    {
     "data": {
      "text/plain": [
       "Sa (generic function with 1 method)"
      ]
     },
     "execution_count": 236,
     "metadata": {},
     "output_type": "execute_result"
    }
   ],
   "source": [
    "function Sa(M::Array{Float64};atol=1e-10)\n",
    "    Mp=-M\n",
    "    \n",
    "    f=eigen(M)\n",
    "    fp=eigen(Mp)\n",
    "    \n",
    "    U=(fp.vectors)*(f.vectors)^(-1)\n",
    "    \n",
    "    a=U*U\n",
    "    Up=U/sqrt(a[1])\n",
    "    \n",
    "    return isapprox.(Up*M*Up^(-1),Mp,atol=atol),\n",
    "        isapprox.(Up*Up,one(M),atol=atol)\n",
    "end"
   ]
  },
  {
   "cell_type": "code",
   "execution_count": null,
   "metadata": {},
   "outputs": [],
   "source": [
    "function Ca(M::Array{Float64};atol=1e-10)\n",
    "    Mp=-H(-k)\n",
    "    cM=conj.(M)\n",
    "    \n",
    "    f=eigen(cM)\n",
    "    fp=eigen(Mp)\n",
    "    \n",
    "    U=(fp.vectors)*(f.vectors)^(-1)\n",
    "    \n",
    "    a=U*U\n",
    "    Up=U/sqrt(a[1])\n",
    "    \n",
    "    return isapprox.(Up*cM*Up^(-1),Mp,atol=atol),\n",
    "        isapprox.(Up*Up,one(M),atol=atol)\n",
    "end"
   ]
  },
  {
   "cell_type": "code",
   "execution_count": null,
   "metadata": {},
   "outputs": [],
   "source": []
  },
  {
   "cell_type": "code",
   "execution_count": null,
   "metadata": {},
   "outputs": [],
   "source": []
  },
  {
   "cell_type": "code",
   "execution_count": null,
   "metadata": {},
   "outputs": [],
   "source": []
  },
  {
   "cell_type": "code",
   "execution_count": null,
   "metadata": {},
   "outputs": [],
   "source": []
  },
  {
   "cell_type": "code",
   "execution_count": null,
   "metadata": {},
   "outputs": [],
   "source": []
  },
  {
   "cell_type": "code",
   "execution_count": null,
   "metadata": {},
   "outputs": [],
   "source": []
  }
 ],
 "metadata": {
  "@webio": {
   "lastCommId": "aff78348df3d44ff800f418c4d376a4f",
   "lastKernelId": "e683db29-8f07-484e-9924-cf7ebd81c571"
  },
  "kernelspec": {
   "display_name": "Julia 1.0.1",
   "language": "julia",
   "name": "julia-1.0"
  },
  "language_info": {
   "file_extension": ".jl",
   "mimetype": "application/julia",
   "name": "julia",
   "version": "1.0.1"
  }
 },
 "nbformat": 4,
 "nbformat_minor": 2
}
