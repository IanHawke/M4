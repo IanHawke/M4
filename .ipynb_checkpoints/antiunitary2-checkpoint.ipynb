{
 "cells": [
  {
   "cell_type": "code",
   "execution_count": null,
   "metadata": {
    "scrolled": true
   },
   "outputs": [],
   "source": [
    "using SymPy\n",
    "using LinearAlgebra"
   ]
  },
  {
   "cell_type": "code",
   "execution_count": 2,
   "metadata": {},
   "outputs": [
    {
     "data": {
      "text/plain": [
       "2×2 Array{Int64,2}:\n",
       " 1   0\n",
       " 0  -1"
      ]
     },
     "execution_count": 2,
     "metadata": {},
     "output_type": "execute_result"
    }
   ],
   "source": [
    "σx=[[0 1]\n",
    "    [1 0]]\n",
    "σy=[[0 -im]\n",
    "    [im 0]]\n",
    "σz=[[1 0]\n",
    "    [0 -1]]"
   ]
  },
  {
   "cell_type": "code",
   "execution_count": null,
   "metadata": {},
   "outputs": [],
   "source": []
  },
  {
   "cell_type": "code",
   "execution_count": 3,
   "metadata": {
    "scrolled": false
   },
   "outputs": [
    {
     "data": {
      "text/plain": [
       "(v, w, μ)"
      ]
     },
     "execution_count": 3,
     "metadata": {},
     "output_type": "execute_result"
    }
   ],
   "source": [
    "kx, ky = symbols(\"kx, ky\",real=true)\n",
    "v,w,μ=symbols(\"v,w,μ\",real=true)"
   ]
  },
  {
   "cell_type": "code",
   "execution_count": 4,
   "metadata": {},
   "outputs": [
    {
     "data": {
      "text/latex": [
       "\\begin{equation*}μ + 2 \\cos{\\left (kx \\right )} + 2 \\cos{\\left (ky \\right )}\\end{equation*}"
      ],
      "text/plain": [
       "μ + 2⋅cos(kx) + 2⋅cos(ky)"
      ]
     },
     "execution_count": 4,
     "metadata": {},
     "output_type": "execute_result"
    }
   ],
   "source": [
    "Rx=-2*sin(kx)\n",
    "Ry=-2*sin(ky)\n",
    "Rz=μ+2*(cos(kx)+cos(ky))"
   ]
  },
  {
   "cell_type": "code",
   "execution_count": 5,
   "metadata": {},
   "outputs": [
    {
     "data": {
      "text/latex": [
       "\\begin{equation*}- w \\sin{\\left (kx \\right )}\\end{equation*}"
      ],
      "text/plain": [
       "-w⋅sin(kx)"
      ]
     },
     "execution_count": 5,
     "metadata": {},
     "output_type": "execute_result"
    }
   ],
   "source": [
    "Rx2=v-w*cos(kx)\n",
    "Ry2=-w*sin(kx)"
   ]
  },
  {
   "cell_type": "code",
   "execution_count": 6,
   "metadata": {},
   "outputs": [
    {
     "data": {
      "text/latex": [
       "\\[\\left[ \\begin{array}{rr}μ + 2 \\cos{\\left (kx \\right )} + 2 \\cos{\\left (ky \\right )}&- 2 \\sin{\\left (kx \\right )} + 2 i \\sin{\\left (ky \\right )}\\\\- 2 \\sin{\\left (kx \\right )} - 2 i \\sin{\\left (ky \\right )}&- μ - 2 \\cos{\\left (kx \\right )} - 2 \\cos{\\left (ky \\right )}\\end{array}\\right]\\]"
      ],
      "text/plain": [
       "2×2 Array{Sym,2}:\n",
       " μ + 2*cos(kx) + 2*cos(ky)    -2*sin(kx) + 2*I*sin(ky)\n",
       "  -2*sin(kx) - 2*I*sin(ky)  -μ - 2*cos(kx) - 2*cos(ky)"
      ]
     },
     "execution_count": 6,
     "metadata": {},
     "output_type": "execute_result"
    }
   ],
   "source": [
    "H1=Rx*σx+Ry*σy+Rz*σz"
   ]
  },
  {
   "cell_type": "code",
   "execution_count": 7,
   "metadata": {},
   "outputs": [
    {
     "data": {
      "text/latex": [
       "\\[\\left[ \\begin{array}{rr}0&v + i w \\sin{\\left (kx \\right )} - w \\cos{\\left (kx \\right )}\\\\v - i w \\sin{\\left (kx \\right )} - w \\cos{\\left (kx \\right )}&0\\end{array}\\right]\\]"
      ],
      "text/plain": [
       "2×2 Array{Sym,2}:\n",
       "                           0  v + I*w*sin(kx) - w*cos(kx)\n",
       " v - I*w*sin(kx) - w*cos(kx)                            0"
      ]
     },
     "execution_count": 7,
     "metadata": {},
     "output_type": "execute_result"
    }
   ],
   "source": [
    "H2=Rx2*σx+Ry2*σy"
   ]
  },
  {
   "cell_type": "code",
   "execution_count": null,
   "metadata": {},
   "outputs": [],
   "source": [
    "eigvals(H1)"
   ]
  },
  {
   "cell_type": "code",
   "execution_count": null,
   "metadata": {},
   "outputs": [],
   "source": [
    "eigvals(-H1)"
   ]
  },
  {
   "cell_type": "code",
   "execution_count": 14,
   "metadata": {},
   "outputs": [
    {
     "data": {
      "text/plain": [
       "2-element Array{Array{Sym,1},1}:\n",
       " [-(-v - I*w*sin(kx) + w*cos(kx))/sqrt(v^2 - 2*v*w*cos(kx) + w^2), 1]\n",
       " [(-v - I*w*sin(kx) + w*cos(kx))/sqrt(v^2 - 2*v*w*cos(kx) + w^2), 1] "
      ]
     },
     "execution_count": 14,
     "metadata": {},
     "output_type": "execute_result"
    }
   ],
   "source": [
    "a=eigvecs(H2)\n",
    "b=eigvecs(-H2)"
   ]
  },
  {
   "cell_type": "code",
   "execution_count": 15,
   "metadata": {},
   "outputs": [
    {
     "data": {
      "text/latex": [
       "\\[\\left[ \\begin{array}{rr}- \\frac{v + i w \\sin{\\left (kx \\right )} - w \\cos{\\left (kx \\right )}}{\\sqrt{v^{2} - 2 v w \\cos{\\left (kx \\right )} + w^{2}}}&\\frac{v + i w \\sin{\\left (kx \\right )} - w \\cos{\\left (kx \\right )}}{\\sqrt{v^{2} - 2 v w \\cos{\\left (kx \\right )} + w^{2}}}\\\\1&1\\end{array}\\right]\\]"
      ],
      "text/plain": [
       "2×2 Array{Sym,2}:\n",
       " -(v + I*w*sin(kx) - w*cos(kx))/sqrt(v^2 - 2*v*w*cos(kx) + w^2)  …  (v + I*w*sin(kx) - w*cos(kx))/sqrt(v^2 - 2*v*w*cos(kx) + w^2)\n",
       "                                                              1                                                                 1"
      ]
     },
     "execution_count": 15,
     "metadata": {},
     "output_type": "execute_result"
    }
   ],
   "source": [
    "U1=hcat(a[1], a[2])"
   ]
  },
  {
   "cell_type": "code",
   "execution_count": 17,
   "metadata": {},
   "outputs": [
    {
     "data": {
      "text/latex": [
       "\\[\\left[ \\begin{array}{rr}- \\frac{- v - i w \\sin{\\left (kx \\right )} + w \\cos{\\left (kx \\right )}}{\\sqrt{v^{2} - 2 v w \\cos{\\left (kx \\right )} + w^{2}}}&\\frac{- v - i w \\sin{\\left (kx \\right )} + w \\cos{\\left (kx \\right )}}{\\sqrt{v^{2} - 2 v w \\cos{\\left (kx \\right )} + w^{2}}}\\\\1&1\\end{array}\\right]\\]"
      ],
      "text/plain": [
       "2×2 Array{Sym,2}:\n",
       " -(-v - I*w*sin(kx) + w*cos(kx))/sqrt(v^2 - 2*v*w*cos(kx) + w^2)  …  (-v - I*w*sin(kx) + w*cos(kx))/sqrt(v^2 - 2*v*w*cos(kx) + w^2)\n",
       "                                                               1                                                                  1"
      ]
     },
     "execution_count": 17,
     "metadata": {},
     "output_type": "execute_result"
    }
   ],
   "source": [
    "U2=hcat(b[1],b[2])"
   ]
  },
  {
   "cell_type": "code",
   "execution_count": 18,
   "metadata": {},
   "outputs": [
    {
     "data": {
      "text/latex": [
       "\\[\\left[ \\begin{array}{rr}2 \\sqrt{v^{2} - 2 v w \\cos{\\left (kx \\right )} + w^{2}} \\overline{\\frac{1}{\\sqrt{v^{2} - 2 v w \\cos{\\left (kx \\right )} + w^{2}}}}&0\\\\0&2\\end{array}\\right]\\]"
      ],
      "text/plain": [
       "2×2 Array{Sym,2}:\n",
       " 2*sqrt(v^2 - 2*v*w*cos(kx) + w^2)*conjugate(1/sqrt(v^2 - 2*v*w*cos(kx) + w^2))  …  0\n",
       "                                                                              0     2"
      ]
     },
     "execution_count": 18,
     "metadata": {},
     "output_type": "execute_result"
    }
   ],
   "source": [
    "simplify.(U2*conj.(transpose(U2)))"
   ]
  },
  {
   "cell_type": "code",
   "execution_count": null,
   "metadata": {},
   "outputs": [],
   "source": [
    "Ut=U2*U1^(-1)\n",
    "Ut=simplify.(Ut)"
   ]
  },
  {
   "cell_type": "code",
   "execution_count": null,
   "metadata": {},
   "outputs": [],
   "source": [
    "simplify.(Ut*conj(Ut)-Matrix{Float64}(I,2,2) )"
   ]
  },
  {
   "cell_type": "code",
   "execution_count": null,
   "metadata": {},
   "outputs": [],
   "source": [
    "simplify.(Ut*H1*Ut^(-1)+H1)"
   ]
  },
  {
   "cell_type": "code",
   "execution_count": null,
   "metadata": {},
   "outputs": [],
   "source": [
    "simplify.(Ut*Ut)"
   ]
  },
  {
   "cell_type": "code",
   "execution_count": null,
   "metadata": {},
   "outputs": [],
   "source": []
  },
  {
   "cell_type": "code",
   "execution_count": null,
   "metadata": {},
   "outputs": [],
   "source": [
    "M=H\n",
    "\n",
    "a=eigvecs(M)\n",
    "b=eigvecs(-M)\n",
    "U1=hcat(a[1], a[2])\n",
    "U2=hcat(b[1],b[2])\n",
    "Ut=U2*U1^(-1)\n",
    "\n",
    "simplify.(Ut*M*Ut^(-1)+M)"
   ]
  },
  {
   "cell_type": "code",
   "execution_count": null,
   "metadata": {},
   "outputs": [],
   "source": [
    "Matrix{Float64}(I,2,2)"
   ]
  },
  {
   "cell_type": "code",
   "execution_count": null,
   "metadata": {},
   "outputs": [],
   "source": []
  },
  {
   "cell_type": "code",
   "execution_count": null,
   "metadata": {},
   "outputs": [],
   "source": []
  },
  {
   "cell_type": "code",
   "execution_count": null,
   "metadata": {},
   "outputs": [],
   "source": []
  }
 ],
 "metadata": {
  "@webio": {
   "lastCommId": "71db2f9ea07845abb2679dc3592da482",
   "lastKernelId": "28a09391-8b8e-4334-939a-e3ad88901603"
  },
  "kernelspec": {
   "display_name": "Julia 1.1.0",
   "language": "julia",
   "name": "julia-1.1"
  },
  "language_info": {
   "file_extension": ".jl",
   "mimetype": "application/julia",
   "name": "julia",
   "version": "1.1.0"
  }
 },
 "nbformat": 4,
 "nbformat_minor": 2
}
