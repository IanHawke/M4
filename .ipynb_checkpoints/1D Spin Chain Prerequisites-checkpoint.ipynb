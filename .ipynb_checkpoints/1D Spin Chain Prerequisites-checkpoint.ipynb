{
 "cells": [
  {
   "cell_type": "markdown",
   "metadata": {},
   "source": [
    "# Exact Diagonalization Prerequisites\n",
    "<b> Christina Lee\n",
    "\n",
    "Category: Grad</b>\n",
    "\n",
    "So I was going to go at exact diagonalization of a 1D Heisenburg Spin Chain all in one post, but then I realized, even for a grad level post, I need to explain a lot of stuff.  So here I'm going to examine some of the tricks we will use when actually performing exact diagonalization.  "
   ]
  },
  {
   "cell_type": "markdown",
   "metadata": {},
   "source": [
    "One easy initialization cell.\n",
    "\n",
    "The number of spins we will deal with, `n`.\n",
    "We have $2^n$ possible states that we will then have to create."
   ]
  },
  {
   "cell_type": "code",
   "execution_count": 1,
   "metadata": {
    "collapsed": false
   },
   "outputs": [
    {
     "data": {
      "text/plain": [
       "8"
      ]
     },
     "execution_count": 1,
     "metadata": {},
     "output_type": "execute_result"
    }
   ],
   "source": [
    "n=3\n",
    "nstates=2^n"
   ]
  },
  {
   "cell_type": "markdown",
   "metadata": {},
   "source": [
    "So Exact Diagonalization is often memory limited.  Thus we want to represent our states in the most compact format possible.  Luckily, if we are dealing with spin $\\frac{1}{2}$, we can just use the `0`'s and `1`'s of the machine.  If you are dealing with higher spin, you can use base 3, 4, etc...  Part of the reason I needed to create this seperate post was to examine working with binary data.\n",
    "\n",
    "We will keep our states stored as Int, but Julia has operations we can perform to look at the binary format and change the bits."
   ]
  },
  {
   "cell_type": "code",
   "execution_count": 3,
   "metadata": {
    "collapsed": false
   },
   "outputs": [
    {
     "name": "stdout",
     "output_type": "stream",
     "text": [
      "0000 0\n",
      "0001 1\n",
      "0010 2\n",
      "0011 3\n",
      "0100 4\n",
      "0101 5\n",
      "0110 6\n",
      "0111 7\n"
     ]
    }
   ],
   "source": [
    "psi=collect(0:(nstates-1))\n",
    "for p in psi\n",
    "    println(bin(p,n+1),' ',p)\n",
    "end"
   ]
  },
  {
   "cell_type": "markdown",
   "metadata": {},
   "source": [
    "For handy reference, since we will be using them a lot in our calculations, lets store all the powers of two in an array. They are our placeholders."
   ]
  },
  {
   "cell_type": "code",
   "execution_count": 8,
   "metadata": {
    "collapsed": false
   },
   "outputs": [
    {
     "name": "stdout",
     "output_type": "stream",
     "text": [
      "0001 1\n",
      "0010 2\n",
      "0100 4\n",
      "1000 8\n"
     ]
    }
   ],
   "source": [
    "powers2=2.^collect(0:(n))\n",
    "for p in powers2\n",
    "    println(bin(p,n+1),' ',p)\n",
    "end"
   ]
  },
  {
   "cell_type": "markdown",
   "metadata": {},
   "source": [
    "We could look at the binary format of a number by calling `bin`, but that converts the number to an array of strings.  So instead we want to perform bitwise operations to determine what the binary format looks like in terms of numbers.\n",
    "\n",
    "Julia's `&` is a bitwise and.  That means if I combine two numbers, it states the overlap between the two. 1 overlaps with 1; 2 overlaps with 2; 3 overlaps with 2 and 1.\n",
    "\n",
    "We will use this to compute magnetization."
   ]
  },
  {
   "cell_type": "code",
   "execution_count": 14,
   "metadata": {
    "collapsed": false
   },
   "outputs": [
    {
     "name": "stdout",
     "output_type": "stream",
     "text": [
      "0000 [0,0,0,0] [0,0,0,0]\n",
      "0001 [1,0,0,0] [1,0,0,0]\n",
      "0010 [0,2,0,0] [0,1,0,0]\n",
      "0011 [1,2,0,0] [1,1,0,0]\n",
      "0100 [0,0,4,0] [0,0,1,0]\n",
      "0101 [1,0,4,0] [1,0,1,0]\n",
      "0110 [0,2,4,0] [0,1,1,0]\n",
      "0111 [1,2,4,0] [1,1,1,0]\n"
     ]
    }
   ],
   "source": [
    "for p in psi\n",
    "    println(bin(p,4),' ',p&powers2,' ',round(Int,(p&powers2)./powers2)) \n",
    "end"
   ]
  },
  {
   "cell_type": "markdown",
   "metadata": {},
   "source": [
    "## Masks and Permuting Indices\n",
    "\n",
    "The off diagonal elements of the Hamiltonian are the permutation of two neighboring elements in the array.  We can permute two indices by combining a mask with a bitwise XOR `$` ."
   ]
  },
  {
   "cell_type": "code",
   "execution_count": 21,
   "metadata": {
    "collapsed": false
   },
   "outputs": [
    {
     "name": "stdout",
     "output_type": "stream",
     "text": [
      "11 01 10\n"
     ]
    }
   ],
   "source": [
    "testmask=3\n",
    "testp=1\n",
    "println(bin(testmask,2),' ',bin(testp,2),' ',bin(testp$testmask,2))"
   ]
  },
  {
   "cell_type": "code",
   "execution_count": 15,
   "metadata": {
    "collapsed": false
   },
   "outputs": [
    {
     "name": "stdout",
     "output_type": "stream",
     "text": [
      "0011\n",
      "0110\n",
      "1100\n"
     ]
    }
   ],
   "source": [
    "mask=[0;powers2]+[powers2;0]\n",
    "mask=mask[2:end-1]\n",
    "for p in mask\n",
    "    println(bin(p,4))\n",
    "end"
   ]
  },
  {
   "cell_type": "code",
   "execution_count": 18,
   "metadata": {
    "collapsed": false
   },
   "outputs": [
    {
     "name": "stdout",
     "output_type": "stream",
     "text": [
      "0 0000 3 0011\n",
      "1 0001 2 0010\n",
      "2 0010 1 0001\n",
      "3 0011 0 0000\n",
      "4 0100 7 0111\n",
      "5 0101 6 0110\n",
      "6 0110 5 0101\n",
      "7 0111 4 0100\n"
     ]
    }
   ],
   "source": [
    "for p in psi\n",
    "    println(p,' ',bin(p,4),' ',p $ mask[1],' ',bin(p$mask[1],4)) \n",
    "end"
   ]
  },
  {
   "cell_type": "markdown",
   "metadata": {},
   "source": [
    "Obviously in situations like `0`, that's not a permutation going from `0000` to `0011`.  We need to find a set of two neighbors that are different from each other first, before we then mask them to find the permuted value."
   ]
  },
  {
   "cell_type": "code",
   "execution_count": null,
   "metadata": {
    "collapsed": true
   },
   "outputs": [],
   "source": []
  }
 ],
 "metadata": {
  "kernelspec": {
   "display_name": "Julia 0.4.1",
   "language": "julia",
   "name": "julia-0.4"
  },
  "language_info": {
   "file_extension": ".jl",
   "mimetype": "application/julia",
   "name": "julia",
   "version": "0.4.1"
  },
  "toc": {
   "toc_cell": false,
   "toc_number_sections": false,
   "toc_section_display": "none",
   "toc_threshold": 6,
   "toc_window_display": true
  },
  "toc_position": {
   "left": "656.283px",
   "right": "27.65px",
   "top": "120px",
   "width": "198px"
  }
 },
 "nbformat": 4,
 "nbformat_minor": 0
}
