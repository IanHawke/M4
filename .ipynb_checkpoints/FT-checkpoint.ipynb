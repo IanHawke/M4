{
 "cells": [
  {
   "cell_type": "markdown",
   "metadata": {},
   "source": [
    "# Fast Fourier Transform\n",
    "## Category: Numerics\n",
    "## Author: Christina Lee"
   ]
  },
  {
   "cell_type": "code",
   "execution_count": null,
   "metadata": {},
   "outputs": [],
   "source": [
    "using FFTW;\n",
    "using Plots;\n",
    "gr()"
   ]
  },
  {
   "cell_type": "markdown",
   "metadata": {},
   "source": [
    "Again and again in numerics we use Fourier Transforms. Quantum Mechanics, Optics, Fluid Mechanics, circuits, pure differential equations: the applications are near endless.  \n",
    "\n",
    "$$\n",
    "F[f](k) = \\hat{f} (k) = \\int_{-\\infty}^{\\infty} f(t) e^{-i k t} dt \\qquad \\leftrightarrow \\qquad F^{-1} (\\hat{f}) (t) = f(t) = \\int_{-\\infty}^{\\infty} \\hat{f} (k) e^{i k t} \\frac{d k}{2 \\pi}\n",
    "$$\n",
    "$$\n",
    "F[f](k) = \\hat{f} (k) =\\frac{1}{T} \\int_{x_0}^{x_0+T} f(t) e^{-i k t} dt \\qquad \\leftrightarrow \\qquad F^{-1} (\\hat{f}) (t) = f(t) = \\int_{-\\infty}^{\\infty} \\hat{f} (k) e^{k t} \\frac{d k}{2 \\pi}\n",
    "$$\n",
    "\n",
    "$$\n",
    "\\{f_i\\}=F[\\{y_i\\}] = \\sum_i e^{-i k x_i} y_i \\qquad \\leftrightarrow \\qquad \\{y_i\\} = F^{-1}[\\{f_i\\}] = \\frac{1}{2\\pi} \\sum_i e^{i k_i t} f_i\n",
    "$$"
   ]
  },
  {
   "cell_type": "code",
   "execution_count": null,
   "metadata": {},
   "outputs": [],
   "source": [
    "result=fft(sin.(0:.5:10π))\n",
    "plot(abs.(result))"
   ]
  },
  {
   "cell_type": "markdown",
   "metadata": {},
   "source": [
    "shows the fft of a sin wave with peaks at the positive and negative frequencies of the sin data.\n",
    "\n",
    "All I needed to do was import the FFTW library and call `fft()`.  Note: FFTW is under the GNU GPL license, so you might want a different library if you are developing something proprietary, like Intel's MKL.\n",
    "\n",
    "In this simple example we can already notice several key things that will help us out later.  First, FFT returns a complex data array.  This is why I use `abs` to plot the results.  \n",
    "\n",
    "Second, the domain of a Fourier transforms seems simple, but can cause endless problems.  Let's expand on the above simple syntax to some code where we calculate the domain for the fft."
   ]
  },
  {
   "cell_type": "code",
   "execution_count": null,
   "metadata": {},
   "outputs": [],
   "source": [
    "dx=.5\n",
    "xmax=10π\n",
    "xmin=0\n",
    "\n",
    "data=sin.(xmin:dx:xmax)\n",
    "\n",
    "N=length(data);\n",
    "ldomain=xmax-xmin;\n",
    "\n",
    "dk=2π/ldomain;\n",
    "\n",
    "# All frequencies positive, same order as fft output\n",
    "k_type1=collect(0:N-1)*dk\n",
    "\n",
    "# Symmetric around Origin\n",
    "if iseven(N) \n",
    "    k_type2=[collect(0:N/2) ; collect(-N/2:-1)]*dk\n",
    "    else # N is odd\n",
    "    k_type2=[collect(0:(N-1)/2) ; collect(-(N-1)/2:-1)]*dk\n",
    "end\n",
    "\n",
    "result=fft(data)\n",
    "plot(k1,abs.(result))\n",
    "plot!(k2,abs.(result))"
   ]
  },
  {
   "cell_type": "markdown",
   "metadata": {},
   "source": [
    "There are two different ways we can calculate the domain.  One is symmetric around the origin and favored for conceptual purposes.  The second is how we get our data out of standard fft algorithms, where all frequencies are positive.  "
   ]
  },
  {
   "cell_type": "markdown",
   "metadata": {},
   "source": [
    "## The DFT\n",
    "\n",
    "$$\n",
    "\\sum_{i=0}^{N-1} e^{2\\pi i k j/N} x_j\n",
    "$$"
   ]
  },
  {
   "cell_type": "code",
   "execution_count": 24,
   "metadata": {},
   "outputs": [
    {
     "data": {
      "text/plain": [
       "Fk (generic function with 1 method)"
      ]
     },
     "execution_count": 24,
     "metadata": {},
     "output_type": "execute_result"
    }
   ],
   "source": [
    "function Fk(k::Float64,y::Array)\n",
    "    N=length(y)\n",
    "    fi=0\n",
    "    for jj in 1:N\n",
    "        fi+=exp(-im*k*jj/N)*y[jj]\n",
    "    end\n",
    "    return fi\n",
    "end"
   ]
  },
  {
   "cell_type": "code",
   "execution_count": 42,
   "metadata": {},
   "outputs": [],
   "source": [
    "xmax=10π\n",
    "xmin=0\n",
    "N=2^5\n",
    "\n",
    "ldomain=xmax-xmin;\n",
    "dk=2π/ldomain;\n",
    "\n",
    "x=range(xmin,stop=xmax,length=N)\n",
    "y=sin.(x);\n",
    "\n",
    "# Symmetric around Origin\n",
    "if iseven(N)\n",
    "    k=[collect(1:N/2) ; collect(-N/2:-1)]*dk;\n",
    "    else # N is odd\n",
    "    k=[collect(0:(N-1)/2) ; collect(-(N-1)/2:-1)]*dk;\n",
    "end;\n",
    "\n",
    "k2=2*π*collect(0:3*N-1);"
   ]
  },
  {
   "cell_type": "code",
   "execution_count": 43,
   "metadata": {},
   "outputs": [],
   "source": [
    "Fy=zeros(Complex{Float64},length(k2))\n",
    "for ii in 1:length(k2)\n",
    "    Fy[ii]=Fk(k2[ii],y)\n",
    "end"
   ]
  },
  {
   "cell_type": "code",
   "execution_count": null,
   "metadata": {},
   "outputs": [],
   "source": []
  },
  {
   "cell_type": "code",
   "execution_count": 45,
   "metadata": {},
   "outputs": [
    {
     "data": {
      "image/svg+xml": [
       "<?xml version=\"1.0\" encoding=\"utf-8\"?>\n",
       "<svg xmlns=\"http://www.w3.org/2000/svg\" xmlns:xlink=\"http://www.w3.org/1999/xlink\" width=\"600\" height=\"400\" viewBox=\"0 0 2400 1600\">\n",
       "<defs>\n",
       "  <clipPath id=\"clip2700\">\n",
       "    <rect x=\"0\" y=\"0\" width=\"2000\" height=\"2000\"/>\n",
       "  </clipPath>\n",
       "</defs>\n",
       "<defs>\n",
       "  <clipPath id=\"clip2701\">\n",
       "    <rect x=\"0\" y=\"0\" width=\"2400\" height=\"1600\"/>\n",
       "  </clipPath>\n",
       "</defs>\n",
       "<polygon clip-path=\"url(#clip2701)\" points=\"\n",
       "0,1600 2400,1600 2400,0 0,0 \n",
       "  \" fill=\"#ffffff\" fill-rule=\"evenodd\" fill-opacity=\"1\"/>\n",
       "<defs>\n",
       "  <clipPath id=\"clip2702\">\n",
       "    <rect x=\"480\" y=\"0\" width=\"1681\" height=\"1600\"/>\n",
       "  </clipPath>\n",
       "</defs>\n",
       "<polygon clip-path=\"url(#clip2701)\" points=\"\n",
       "176.123,1503.47 2321.26,1503.47 2321.26,47.2441 176.123,47.2441 \n",
       "  \" fill=\"#ffffff\" fill-rule=\"evenodd\" fill-opacity=\"1\"/>\n",
       "<defs>\n",
       "  <clipPath id=\"clip2703\">\n",
       "    <rect x=\"176\" y=\"47\" width=\"2146\" height=\"1457\"/>\n",
       "  </clipPath>\n",
       "</defs>\n",
       "<polyline clip-path=\"url(#clip2703)\" style=\"stroke:#000000; stroke-width:2; stroke-opacity:0.1; fill:none\" points=\"\n",
       "  215.532,1503.47 215.532,47.2441 \n",
       "  \"/>\n",
       "<polyline clip-path=\"url(#clip2703)\" style=\"stroke:#000000; stroke-width:2; stroke-opacity:0.1; fill:none\" points=\"\n",
       "  641.577,1503.47 641.577,47.2441 \n",
       "  \"/>\n",
       "<polyline clip-path=\"url(#clip2703)\" style=\"stroke:#000000; stroke-width:2; stroke-opacity:0.1; fill:none\" points=\"\n",
       "  1067.62,1503.47 1067.62,47.2441 \n",
       "  \"/>\n",
       "<polyline clip-path=\"url(#clip2703)\" style=\"stroke:#000000; stroke-width:2; stroke-opacity:0.1; fill:none\" points=\"\n",
       "  1493.67,1503.47 1493.67,47.2441 \n",
       "  \"/>\n",
       "<polyline clip-path=\"url(#clip2703)\" style=\"stroke:#000000; stroke-width:2; stroke-opacity:0.1; fill:none\" points=\"\n",
       "  1919.71,1503.47 1919.71,47.2441 \n",
       "  \"/>\n",
       "<polyline clip-path=\"url(#clip2703)\" style=\"stroke:#000000; stroke-width:2; stroke-opacity:0.1; fill:none\" points=\"\n",
       "  176.123,1293.37 2321.26,1293.37 \n",
       "  \"/>\n",
       "<polyline clip-path=\"url(#clip2703)\" style=\"stroke:#000000; stroke-width:2; stroke-opacity:0.1; fill:none\" points=\"\n",
       "  176.123,1034.36 2321.26,1034.36 \n",
       "  \"/>\n",
       "<polyline clip-path=\"url(#clip2703)\" style=\"stroke:#000000; stroke-width:2; stroke-opacity:0.1; fill:none\" points=\"\n",
       "  176.123,775.359 2321.26,775.359 \n",
       "  \"/>\n",
       "<polyline clip-path=\"url(#clip2703)\" style=\"stroke:#000000; stroke-width:2; stroke-opacity:0.1; fill:none\" points=\"\n",
       "  176.123,516.356 2321.26,516.356 \n",
       "  \"/>\n",
       "<polyline clip-path=\"url(#clip2703)\" style=\"stroke:#000000; stroke-width:2; stroke-opacity:0.1; fill:none\" points=\"\n",
       "  176.123,257.353 2321.26,257.353 \n",
       "  \"/>\n",
       "<polyline clip-path=\"url(#clip2701)\" style=\"stroke:#000000; stroke-width:4; stroke-opacity:1; fill:none\" points=\"\n",
       "  176.123,1503.47 2321.26,1503.47 \n",
       "  \"/>\n",
       "<polyline clip-path=\"url(#clip2701)\" style=\"stroke:#000000; stroke-width:4; stroke-opacity:1; fill:none\" points=\"\n",
       "  176.123,1503.47 176.123,47.2441 \n",
       "  \"/>\n",
       "<polyline clip-path=\"url(#clip2701)\" style=\"stroke:#000000; stroke-width:4; stroke-opacity:1; fill:none\" points=\"\n",
       "  215.532,1503.47 215.532,1481.63 \n",
       "  \"/>\n",
       "<polyline clip-path=\"url(#clip2701)\" style=\"stroke:#000000; stroke-width:4; stroke-opacity:1; fill:none\" points=\"\n",
       "  641.577,1503.47 641.577,1481.63 \n",
       "  \"/>\n",
       "<polyline clip-path=\"url(#clip2701)\" style=\"stroke:#000000; stroke-width:4; stroke-opacity:1; fill:none\" points=\"\n",
       "  1067.62,1503.47 1067.62,1481.63 \n",
       "  \"/>\n",
       "<polyline clip-path=\"url(#clip2701)\" style=\"stroke:#000000; stroke-width:4; stroke-opacity:1; fill:none\" points=\"\n",
       "  1493.67,1503.47 1493.67,1481.63 \n",
       "  \"/>\n",
       "<polyline clip-path=\"url(#clip2701)\" style=\"stroke:#000000; stroke-width:4; stroke-opacity:1; fill:none\" points=\"\n",
       "  1919.71,1503.47 1919.71,1481.63 \n",
       "  \"/>\n",
       "<polyline clip-path=\"url(#clip2701)\" style=\"stroke:#000000; stroke-width:4; stroke-opacity:1; fill:none\" points=\"\n",
       "  176.123,1293.37 208.3,1293.37 \n",
       "  \"/>\n",
       "<polyline clip-path=\"url(#clip2701)\" style=\"stroke:#000000; stroke-width:4; stroke-opacity:1; fill:none\" points=\"\n",
       "  176.123,1034.36 208.3,1034.36 \n",
       "  \"/>\n",
       "<polyline clip-path=\"url(#clip2701)\" style=\"stroke:#000000; stroke-width:4; stroke-opacity:1; fill:none\" points=\"\n",
       "  176.123,775.359 208.3,775.359 \n",
       "  \"/>\n",
       "<polyline clip-path=\"url(#clip2701)\" style=\"stroke:#000000; stroke-width:4; stroke-opacity:1; fill:none\" points=\"\n",
       "  176.123,516.356 208.3,516.356 \n",
       "  \"/>\n",
       "<polyline clip-path=\"url(#clip2701)\" style=\"stroke:#000000; stroke-width:4; stroke-opacity:1; fill:none\" points=\"\n",
       "  176.123,257.353 208.3,257.353 \n",
       "  \"/>\n",
       "<g clip-path=\"url(#clip2701)\">\n",
       "<text style=\"fill:#000000; fill-opacity:1; font-family:Arial,Helvetica Neue,Helvetica,sans-serif; font-size:48px; text-anchor:middle;\" transform=\"rotate(0, 215.532, 1557.47)\" x=\"215.532\" y=\"1557.47\">0</text>\n",
       "</g>\n",
       "<g clip-path=\"url(#clip2701)\">\n",
       "<text style=\"fill:#000000; fill-opacity:1; font-family:Arial,Helvetica Neue,Helvetica,sans-serif; font-size:48px; text-anchor:middle;\" transform=\"rotate(0, 641.577, 1557.47)\" x=\"641.577\" y=\"1557.47\">20</text>\n",
       "</g>\n",
       "<g clip-path=\"url(#clip2701)\">\n",
       "<text style=\"fill:#000000; fill-opacity:1; font-family:Arial,Helvetica Neue,Helvetica,sans-serif; font-size:48px; text-anchor:middle;\" transform=\"rotate(0, 1067.62, 1557.47)\" x=\"1067.62\" y=\"1557.47\">40</text>\n",
       "</g>\n",
       "<g clip-path=\"url(#clip2701)\">\n",
       "<text style=\"fill:#000000; fill-opacity:1; font-family:Arial,Helvetica Neue,Helvetica,sans-serif; font-size:48px; text-anchor:middle;\" transform=\"rotate(0, 1493.67, 1557.47)\" x=\"1493.67\" y=\"1557.47\">60</text>\n",
       "</g>\n",
       "<g clip-path=\"url(#clip2701)\">\n",
       "<text style=\"fill:#000000; fill-opacity:1; font-family:Arial,Helvetica Neue,Helvetica,sans-serif; font-size:48px; text-anchor:middle;\" transform=\"rotate(0, 1919.71, 1557.47)\" x=\"1919.71\" y=\"1557.47\">80</text>\n",
       "</g>\n",
       "<g clip-path=\"url(#clip2701)\">\n",
       "<text style=\"fill:#000000; fill-opacity:1; font-family:Arial,Helvetica Neue,Helvetica,sans-serif; font-size:48px; text-anchor:end;\" transform=\"rotate(0, 152.123, 1310.87)\" x=\"152.123\" y=\"1310.87\">-10</text>\n",
       "</g>\n",
       "<g clip-path=\"url(#clip2701)\">\n",
       "<text style=\"fill:#000000; fill-opacity:1; font-family:Arial,Helvetica Neue,Helvetica,sans-serif; font-size:48px; text-anchor:end;\" transform=\"rotate(0, 152.123, 1051.86)\" x=\"152.123\" y=\"1051.86\">-5</text>\n",
       "</g>\n",
       "<g clip-path=\"url(#clip2701)\">\n",
       "<text style=\"fill:#000000; fill-opacity:1; font-family:Arial,Helvetica Neue,Helvetica,sans-serif; font-size:48px; text-anchor:end;\" transform=\"rotate(0, 152.123, 792.859)\" x=\"152.123\" y=\"792.859\">0</text>\n",
       "</g>\n",
       "<g clip-path=\"url(#clip2701)\">\n",
       "<text style=\"fill:#000000; fill-opacity:1; font-family:Arial,Helvetica Neue,Helvetica,sans-serif; font-size:48px; text-anchor:end;\" transform=\"rotate(0, 152.123, 533.856)\" x=\"152.123\" y=\"533.856\">5</text>\n",
       "</g>\n",
       "<g clip-path=\"url(#clip2701)\">\n",
       "<text style=\"fill:#000000; fill-opacity:1; font-family:Arial,Helvetica Neue,Helvetica,sans-serif; font-size:48px; text-anchor:end;\" transform=\"rotate(0, 152.123, 274.853)\" x=\"152.123\" y=\"274.853\">10</text>\n",
       "</g>\n",
       "<polyline clip-path=\"url(#clip2703)\" style=\"stroke:#009af9; stroke-width:4; stroke-opacity:1; fill:none\" points=\"\n",
       "  236.834,775.359 258.137,776.294 279.439,779.596 300.741,787.605 322.043,811.498 343.346,1142.52 364.648,682.601 385.95,722.369 407.252,733.806 428.555,739.08 \n",
       "  449.857,742.022 471.159,743.833 492.461,745.003 513.764,745.769 535.066,746.253 556.368,746.522 577.67,746.608 598.973,746.522 620.275,746.253 641.577,745.769 \n",
       "  662.879,745.003 684.182,743.833 705.484,742.022 726.786,739.08 748.088,733.806 769.391,722.369 790.693,682.601 811.995,1142.52 833.297,811.498 854.6,787.605 \n",
       "  875.902,779.596 897.204,776.294 918.506,775.359 939.809,776.294 961.111,779.596 982.413,787.605 1003.72,811.498 1025.02,1142.52 1046.32,682.601 1067.62,722.369 \n",
       "  1088.92,733.806 1110.23,739.08 1131.53,742.022 1152.83,743.833 1174.13,745.003 1195.44,745.769 1216.74,746.253 1238.04,746.522 1259.34,746.608 1280.64,746.522 \n",
       "  1301.95,746.253 1323.25,745.769 1344.55,745.003 1365.85,743.833 1387.16,742.022 1408.46,739.08 1429.76,733.806 1451.06,722.369 1472.37,682.601 1493.67,1142.52 \n",
       "  1514.97,811.498 1536.27,787.605 1557.57,779.596 1578.88,776.294 1600.18,775.359 1621.48,776.294 1642.78,779.596 1664.09,787.605 1685.39,811.498 1706.69,1142.52 \n",
       "  1727.99,682.601 1749.29,722.369 1770.6,733.806 1791.9,739.08 1813.2,742.022 1834.5,743.833 1855.81,745.003 1877.11,745.769 1898.41,746.253 1919.71,746.522 \n",
       "  1941.01,746.608 1962.32,746.522 1983.62,746.253 2004.92,745.769 2026.22,745.003 2047.53,743.833 2068.83,742.022 2090.13,739.08 2111.43,733.806 2132.73,722.369 \n",
       "  2154.04,682.601 2175.34,1142.52 2196.64,811.498 2217.94,787.605 2239.25,779.596 2260.55,776.294 \n",
       "  \"/>\n",
       "<polyline clip-path=\"url(#clip2703)\" style=\"stroke:#e26f46; stroke-width:4; stroke-opacity:1; fill:none\" points=\"\n",
       "  236.834,775.359 258.137,784.85 279.439,796.659 300.741,815.727 322.043,862.606 343.346,1462.26 364.648,636.537 385.95,710.791 407.252,733.806 428.555,745.586 \n",
       "  449.857,753.084 471.159,758.508 492.461,762.785 513.764,766.383 535.066,769.57 556.368,772.519 577.67,775.359 598.973,778.2 620.275,781.149 641.577,784.336 \n",
       "  662.879,787.933 684.182,792.211 705.484,797.635 726.786,805.133 748.088,816.913 769.391,839.928 790.693,914.182 811.995,88.4582 833.297,688.113 854.6,734.991 \n",
       "  875.902,754.06 897.204,765.869 918.506,775.359 939.809,784.85 961.111,796.659 982.413,815.727 1003.72,862.606 1025.02,1462.26 1046.32,636.537 1067.62,710.791 \n",
       "  1088.92,733.806 1110.23,745.586 1131.53,753.084 1152.83,758.508 1174.13,762.785 1195.44,766.383 1216.74,769.57 1238.04,772.519 1259.34,775.359 1280.64,778.2 \n",
       "  1301.95,781.149 1323.25,784.336 1344.55,787.933 1365.85,792.211 1387.16,797.635 1408.46,805.133 1429.76,816.913 1451.06,839.928 1472.37,914.182 1493.67,88.4582 \n",
       "  1514.97,688.113 1536.27,734.991 1557.57,754.06 1578.88,765.869 1600.18,775.359 1621.48,784.85 1642.78,796.659 1664.09,815.727 1685.39,862.606 1706.69,1462.26 \n",
       "  1727.99,636.537 1749.29,710.791 1770.6,733.806 1791.9,745.586 1813.2,753.084 1834.5,758.508 1855.81,762.785 1877.11,766.383 1898.41,769.57 1919.71,772.519 \n",
       "  1941.01,775.359 1962.32,778.2 1983.62,781.149 2004.92,784.336 2026.22,787.933 2047.53,792.211 2068.83,797.635 2090.13,805.133 2111.43,816.913 2132.73,839.928 \n",
       "  2154.04,914.182 2175.34,88.4582 2196.64,688.113 2217.94,734.991 2239.25,754.06 2260.55,765.869 \n",
       "  \"/>\n",
       "<polygon clip-path=\"url(#clip2701)\" points=\"\n",
       "1958.43,312.204 2249.26,312.204 2249.26,130.764 1958.43,130.764 \n",
       "  \" fill=\"#ffffff\" fill-rule=\"evenodd\" fill-opacity=\"1\"/>\n",
       "<polyline clip-path=\"url(#clip2701)\" style=\"stroke:#000000; stroke-width:4; stroke-opacity:1; fill:none\" points=\"\n",
       "  1958.43,312.204 2249.26,312.204 2249.26,130.764 1958.43,130.764 1958.43,312.204 \n",
       "  \"/>\n",
       "<polyline clip-path=\"url(#clip2701)\" style=\"stroke:#009af9; stroke-width:4; stroke-opacity:1; fill:none\" points=\"\n",
       "  1982.43,191.244 2126.43,191.244 \n",
       "  \"/>\n",
       "<g clip-path=\"url(#clip2701)\">\n",
       "<text style=\"fill:#000000; fill-opacity:1; font-family:Arial,Helvetica Neue,Helvetica,sans-serif; font-size:48px; text-anchor:start;\" transform=\"rotate(0, 2150.43, 208.744)\" x=\"2150.43\" y=\"208.744\">y1</text>\n",
       "</g>\n",
       "<polyline clip-path=\"url(#clip2701)\" style=\"stroke:#e26f46; stroke-width:4; stroke-opacity:1; fill:none\" points=\"\n",
       "  1982.43,251.724 2126.43,251.724 \n",
       "  \"/>\n",
       "<g clip-path=\"url(#clip2701)\">\n",
       "<text style=\"fill:#000000; fill-opacity:1; font-family:Arial,Helvetica Neue,Helvetica,sans-serif; font-size:48px; text-anchor:start;\" transform=\"rotate(0, 2150.43, 269.224)\" x=\"2150.43\" y=\"269.224\">y2</text>\n",
       "</g>\n",
       "</svg>\n"
      ]
     },
     "execution_count": 45,
     "metadata": {},
     "output_type": "execute_result"
    }
   ],
   "source": [
    "plot(real.(Fy))\n",
    "plot!(imag.(Fy))"
   ]
  },
  {
   "cell_type": "code",
   "execution_count": null,
   "metadata": {},
   "outputs": [],
   "source": [
    "fk=zeros(Complex{Float64},N);\n",
    "\n",
    "for ik in 1:N # sum over momentum\n",
    "        fk[ik]+=exp(im*ik*jj/N)*y[jj]    \n",
    "    end\n",
    "end"
   ]
  },
  {
   "cell_type": "code",
   "execution_count": null,
   "metadata": {},
   "outputs": [],
   "source": [
    "exp(2*pi*im*k[1]*10/N)*y[10]   "
   ]
  },
  {
   "cell_type": "code",
   "execution_count": null,
   "metadata": {},
   "outputs": [],
   "source": [
    "plot(x,y)"
   ]
  },
  {
   "cell_type": "code",
   "execution_count": null,
   "metadata": {},
   "outputs": [],
   "source": [
    "plot(k.+1,abs.(fk))\n",
    "plot!(k,abs.(fft(y)))"
   ]
  },
  {
   "cell_type": "markdown",
   "metadata": {},
   "source": [
    "## The FFT\n",
    "\n",
    "The Fast Fourier Transform works by splitting one Fourier transform of length $N$ into two Fourier transforms of length $N/2$ via the formula \n",
    "$$\n",
    "\\sum_{i=0}^{N-1} e^{2\\pi i k j/N} x_j\n",
    "= \\sum_{i=0}^{N/2-1} e^{2 \\pi i k (2 j)/N} x_{2j} + \\sum_{i=0}^{N/2-1} e^{2\\pi i k (2 j + 1)/N} x_{2j+1}\n",
    "$$\n",
    "$$\n",
    "= \\sum_{i=0}^{N^{\\prime}-1} e^{2 \\pi i k j/N^{\\prime}} x_{2j} + e^{2\\pi i k/ N^{\\prime}} \\sum_{i=0}^{N^{\\prime}-1} e^{2\\pi i k j/N^{\\prime}} x_{2j+1}\n",
    "$$\n",
    "\n",
    "Once this formula is applied once, nothing stops us from applying the formula again and again until $N^{\\prime \\dots} = 1$. \n",
    "\n",
    "Taking this the reverse direction, a Fourier transform of two data points is\n",
    "$$\n",
    "x_0 + e^{2\\pi i k/ 1} x_1\n",
    "$$\n",
    "and then building to four data points,\n",
    "$$\n",
    "\\left( x_0 + e^{2\\pi i k /1} x_1 \\right) + e^{2\\pi i k /4} \\left( x_2 + e^{2\\pi i k/1} x_3 \\right)\n",
    "$$\n",
    "So on and so forth...\n",
    "\n",
    "\n",
    "To calculate the FFT, we need to evaluate the exponential multiplying each data point.\n",
    "\n",
    "Combining from single data points to Fourier transforms of two data points, each point with an even index will be left untouched.  Each point with an odd index will get a $e^{2\\pi i k/1}$ term.  \n",
    "\n",
    "For example, in this picture all the red points be multiplied by $1$, but blue points will get $e^{2\\pi i k/1}$.\n",
    "\n",
    "![pic](fft_step1.svg)"
   ]
  },
  {
   "cell_type": "code",
   "execution_count": null,
   "metadata": {},
   "outputs": [],
   "source": []
  },
  {
   "cell_type": "code",
   "execution_count": null,
   "metadata": {},
   "outputs": [],
   "source": []
  }
 ],
 "metadata": {
  "@webio": {
   "lastCommId": "6b3731e17b614c088a2be0633320522c",
   "lastKernelId": "71620ab8-eeeb-4449-bd47-42bf27c09606"
  },
  "kernelspec": {
   "display_name": "Julia 1.0.1",
   "language": "julia",
   "name": "julia-1.0"
  },
  "language_info": {
   "file_extension": ".jl",
   "mimetype": "application/julia",
   "name": "julia",
   "version": "1.0.1"
  }
 },
 "nbformat": 4,
 "nbformat_minor": 2
}
