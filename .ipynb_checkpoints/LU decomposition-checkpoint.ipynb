{
 "cells": [
  {
   "cell_type": "markdown",
   "metadata": {},
   "source": [
    "# LU decomposition\n",
    "\n",
    "\\begin{equation}\n",
    "L \\cdot y = b\n",
    "\\end{equation}\n",
    "\\begin{equation}\n",
    "U \\cdot x = y\n",
    "\\end{equation}"
   ]
  },
  {
   "cell_type": "code",
   "execution_count": 54,
   "metadata": {
    "collapsed": false
   },
   "outputs": [
    {
     "data": {
      "text/plain": [
       "3"
      ]
     },
     "execution_count": 54,
     "metadata": {},
     "output_type": "execute_result"
    }
   ],
   "source": [
    "N=3"
   ]
  },
  {
   "cell_type": "code",
   "execution_count": 1,
   "metadata": {
    "collapsed": false
   },
   "outputs": [
    {
     "data": {
      "text/plain": [
       "3x3 Array{Float64,2}:\n",
       " -0.163076   1.65865    0.671784\n",
       "  0.461614   0.616162   0.497391\n",
       " -0.456335  -0.948841  -0.249824"
      ]
     },
     "execution_count": 1,
     "metadata": {},
     "output_type": "execute_result"
    }
   ],
   "source": [
    "A=randn(N,N)"
   ]
  },
  {
   "cell_type": "code",
   "execution_count": 2,
   "metadata": {
    "collapsed": false
   },
   "outputs": [
    {
     "data": {
      "text/plain": [
       "3-element Array{Float64,1}:\n",
       " 0.0280345\n",
       " 1.47202  \n",
       " 0.145366 "
      ]
     },
     "execution_count": 2,
     "metadata": {},
     "output_type": "execute_result"
    }
   ],
   "source": [
    "b=randn(N)"
   ]
  },
  {
   "cell_type": "code",
   "execution_count": null,
   "metadata": {
    "collapsed": false
   },
   "outputs": [],
   "source": []
  },
  {
   "cell_type": "code",
   "execution_count": 62,
   "metadata": {
    "collapsed": false
   },
   "outputs": [
    {
     "data": {
      "text/plain": [
       "(\n",
       "3x3 Array{Float64,2}:\n",
       "   0.0    0.0  0.0\n",
       " NaN      0.0  0.0\n",
       " NaN    NaN    0.0,\n",
       "\n",
       "3x3 Array{Float64,2}:\n",
       " 1.0  NaN    NaN  \n",
       " 0.0    1.0  NaN  \n",
       " 0.0    0.0    1.0)"
      ]
     },
     "execution_count": 62,
     "metadata": {},
     "output_type": "execute_result"
    }
   ],
   "source": [
    "U=Array(Float64,N,N) #beta\n",
    "L=Array(Float64,N,N) #alpha\n",
    "fill!(U,NaN)\n",
    "fill!(L,NaN)\n",
    "\n",
    "for i=1:N\n",
    "    for j=1:i\n",
    "        L[i,j]=0\n",
    "    end\n",
    "    for j=N:-1:i\n",
    "        U[i,j]=0\n",
    "    end\n",
    "    L[i,i]=1.0\n",
    "end\n",
    "U, L"
   ]
  },
  {
   "cell_type": "code",
   "execution_count": 57,
   "metadata": {
    "collapsed": false
   },
   "outputs": [
    {
     "data": {
      "text/plain": [
       "betaij (generic function with 1 method)"
      ]
     },
     "execution_count": 57,
     "metadata": {},
     "output_type": "execute_result"
    }
   ],
   "source": [
    "function betaij(i::Int,j::Int)\n",
    "    l=0\n",
    "    if i!=1\n",
    "        for k = 1:i\n",
    "           l+=U[i,k]*L[k,j]\n",
    "        end\n",
    "    end\n",
    "    return A[i,j]-l\n",
    "end"
   ]
  },
  {
   "cell_type": "code",
   "execution_count": 53,
   "metadata": {
    "collapsed": false
   },
   "outputs": [
    {
     "data": {
      "text/plain": [
       "alphaij (generic function with 1 method)"
      ]
     },
     "execution_count": 53,
     "metadata": {},
     "output_type": "execute_result"
    }
   ],
   "source": [
    "function alphaij(i::Int,j::Int)\n",
    "    l=0\n",
    "    for k=1:j\n",
    "        l+=U[i,k]*L[k,j]\n",
    "    end\n",
    "    if isnan(l)\n",
    "        l=0\n",
    "    end\n",
    "    return (A[i,j]-l)/L[j,j]\n",
    "end"
   ]
  },
  {
   "cell_type": "code",
   "execution_count": 56,
   "metadata": {
    "collapsed": false
   },
   "outputs": [
    {
     "name": "stdout",
     "output_type": "stream",
     "text": [
      "0\n",
      "0\n",
      "0\n"
     ]
    }
   ],
   "source": [
    "i=1\n",
    "for j=i:N\n",
    "    L[j,i]=betaij(i,j)\n",
    "end"
   ]
  },
  {
   "cell_type": "code",
   "execution_count": 23,
   "metadata": {
    "collapsed": false
   },
   "outputs": [],
   "source": [
    "j=1\n",
    "for i=2:3\n",
    "    U[i,j]=alphaij(i,j)\n",
    "end"
   ]
  },
  {
   "cell_type": "code",
   "execution_count": 24,
   "metadata": {
    "collapsed": false
   },
   "outputs": [
    {
     "data": {
      "text/plain": [
       "3x3 Array{Float64,2}:\n",
       "  1.0      NaN    NaN  \n",
       " -2.83067    1.0  NaN  \n",
       "  2.79829  NaN      1.0"
      ]
     },
     "execution_count": 24,
     "metadata": {},
     "output_type": "execute_result"
    }
   ],
   "source": [
    "U"
   ]
  },
  {
   "cell_type": "code",
   "execution_count": 58,
   "metadata": {
    "collapsed": false
   },
   "outputs": [
    {
     "data": {
      "text/plain": [
       "3x3 Array{Float64,2}:\n",
       " -0.163076    1.65865    0.671784\n",
       "  0.0       NaN        NaN       \n",
       "  0.0         0.0        0.0     "
      ]
     },
     "execution_count": 58,
     "metadata": {},
     "output_type": "execute_result"
    }
   ],
   "source": [
    "L"
   ]
  },
  {
   "cell_type": "code",
   "execution_count": null,
   "metadata": {
    "collapsed": true
   },
   "outputs": [],
   "source": []
  }
 ],
 "metadata": {
  "kernelspec": {
   "display_name": "Julia 0.4.1",
   "language": "julia",
   "name": "julia-0.4"
  },
  "language_info": {
   "file_extension": ".jl",
   "mimetype": "application/julia",
   "name": "julia",
   "version": "0.4.1"
  }
 },
 "nbformat": 4,
 "nbformat_minor": 0
}
