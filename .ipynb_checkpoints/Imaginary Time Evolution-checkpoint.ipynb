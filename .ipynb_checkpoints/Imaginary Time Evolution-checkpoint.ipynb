{
 "cells": [
  {
   "cell_type": "markdown",
   "metadata": {},
   "source": [
    "# Ground States: Imaginary Time Evolution\n",
    "## Category: Prerequisites\n",
    "## Prerequisites: Quantum Harmonic Oscillator, Time Evolution: Split Operator, Quantum Mechanics\n",
    "## Author: Christina Lee\n",
    "\n",
    "I've long thought that instead of being called the imaginary number, $i$ should be called the magic number. For many tricky problems, I feel like I can almost just throw $i$ at the problem and then the problem solves itself.  Once again, $i$ performs unexpected wonders when we perform <i>analytic continuation</i> of the time variable into the complex plane.  \n",
    "\n",
    "<i>Analytic continuation</i> is when we take a variable limited to the Real $\\mathbb{R}$ axis and allow it to take on all values in the complex plane $\\mathbb{C}$.\n",
    "\n",
    "In the Split Operator post, we saw one computational method of performing time evolution. If you haven't read that, I recommend perusing it before trying the parse the code here. Split Operator is just one method; other methods include Green's functions and semi-classical molecular dynamics. Imaginary time evolution would equally apply to any other time evolution method.\n",
    "\n",
    "Given the Split Operator Method, we can evolve any wavefunction we want. But what wavefunction do we evolve?\n",
    "\n",
    "In the previous post, I just used a variation on an exactly solvable problem,  allowing me to plug in an exact solution.  However, I won't always be able to do that, given the minimal number of exact solutions in Quantum Mechanics. Imaginary time allows us to determine the lowest energy eigenstate, or ground state, of just about any Hamiltonian.  In cold atomic physics, we usually care most about the ground state, and this method provides a robust method of determining it.\n",
    "\n",
    "So how does imaginary time in Quantum Mechanics work? We can write  any arbitrary wavefunction as a superposition of eigenstates,\n",
    "$$\n",
    "\\Psi = \\sum_i a_i \\phi_i .\n",
    "$$\n",
    "Each eigenstate doesn't change in overall magnitude as time progresses but rotates with a frequency proportional to the energy.  The superposition changes from a changing interference pattern,\n",
    "$$\n",
    "\\Psi (t) = \\sum_i a_i (0) e^{-i E_i t} \\phi_i .\n",
    "$$\n",
    "\n",
    "If we now perform the substitution $(t \\mapsto -i t)$\n",
    "$$\n",
    "\\Psi (-it) = \\sum_i a_i (0) e^{- E_i t} \\phi_i,\n",
    "$$\n",
    "we can see that all eigenstates dissipate away in an imaginary time system, but the states with higher energy dissipate more rapidly.  Over time, the lowest energy state comes to dominate the wavefunction. \n",
    "\n",
    "This trick is called a [Wick rotation](https://en.wikipedia.org/wiki/Wick_rotation).  Wick rotations are also used to equate inverse temperature $1/T$ with imaginary time $i t$ to statistical quantum mechanics problems or to solve problems in cosmology.  \n",
    "\n"
   ]
  },
  {
   "cell_type": "markdown",
   "metadata": {},
   "source": [
    "## Coding Time!\n",
    "\n",
    "Let's load our packages:"
   ]
  },
  {
   "cell_type": "code",
   "execution_count": null,
   "metadata": {},
   "outputs": [],
   "source": [
    "using FFTW\n",
    "using Plots\n",
    "gr()"
   ]
  },
  {
   "cell_type": "markdown",
   "metadata": {},
   "source": [
    "## Parameters\n",
    "This code just needs to run long enough to get decent convergence.  Make sure to have small enough steps in space and time."
   ]
  },
  {
   "cell_type": "code",
   "execution_count": null,
   "metadata": {},
   "outputs": [],
   "source": [
    "# Set Time Parameters\n",
    "t0=0\n",
    "tf=5\n",
    "dt=.01\n",
    "\n",
    "# Set Space Grid Parameters \n",
    "dx=.05\n",
    "xmax=6\n",
    "# xmin will be -xmax.  Making the situation symmetric\n"
   ]
  },
  {
   "cell_type": "code",
   "execution_count": null,
   "metadata": {},
   "outputs": [],
   "source": [
    "t=collect(t0:dt:tf)\n",
    "x=collect(-xmax:dx:xmax)\n",
    "\n",
    "nt=length(t)\n",
    "N=length(x)\n",
    "\n",
    "dk=2*π/(N*dx)\n",
    "if iseven(N) \n",
    "    k[collect(0:N/2) ; collect(-N/2:-1)]*dk\n",
    "    else # N is odd\n",
    "    k=[collect(0:(N-1)/2) ; collect(-(N-1)/2:-1)]*dk\n",
    "end;"
   ]
  },
  {
   "cell_type": "markdown",
   "metadata": {},
   "source": [
    "In the next cell, we define our evolution operators.\n",
    "\n",
    "This cell holds the key differences between standard time evolution and imaginary time evolution.  Note the absence of $i$ in the definition of the evolution operators."
   ]
  },
  {
   "cell_type": "code",
   "execution_count": null,
   "metadata": {},
   "outputs": [],
   "source": [
    "Vx=.5*x.^2;\n",
    "Vk=.5*k.^2\n",
    "\n",
    "Uxh=exp.(-Vx*dt/2);\n",
    "Ux=exp.(-Vx*dt);\n",
    "Uf=exp.(-Vk*dt);\n",
    "\"potentials and evolvers defined\""
   ]
  },
  {
   "cell_type": "markdown",
   "metadata": {},
   "source": [
    "To see the decay to the ground state, we will check the overlap with some higher energy harmonic oscillator eigenstates."
   ]
  },
  {
   "cell_type": "code",
   "execution_count": null,
   "metadata": {},
   "outputs": [],
   "source": [
    "ϕ(x)=π^(-.25)*exp(-x.^2/2)\n",
    "ϕ1(x)=sqrt(2)*π^(-.25)*exp(-x.^2/2)*x\n",
    "ϕ2(x)=1/sqrt(2)*π^(-.25)*exp(-x.^2/2)*(2*x^2-1)\n",
    "ϕ4(x)=1/(2*sqrt(6)*π^(.25))*exp(-x.^2/2)*(4*x^4-12*x^2+3)"
   ]
  },
  {
   "cell_type": "code",
   "execution_count": null,
   "metadata": {},
   "outputs": [],
   "source": [
    "Ψ0=(1.0/(2*xmax))*ones(Complex{Float64},N);\n",
    "Ψtrue=(1+0*im).*ϕ.(x);\n",
    "fΨtrue=fft(Ψtrue);\n",
    "Ψ1=(1+0*im).*ϕ1.(x);\n",
    "Ψ2=(1+0*im).*ϕ2.(x);\n",
    "Ψ4=(1+0*im).*ϕ4.(x);\n",
    "\n",
    "plot(x,abs.(Ψ0),label=\"Starting Wavefunction\")\n",
    "plot!(x,abs.(Ψtrue),label=\"Analytic Ground State\")\n",
    "plot!(x,abs.(Ψ1),label=\"First Excited\")\n",
    "plot!(x,abs.(Ψ2),label=\"Second Excited\")\n",
    "\n",
    "\n",
    "plot!(xlabel=\"x\",ylabel=\"Absolute Value\",title=\"Wavefunctions\")"
   ]
  },
  {
   "cell_type": "markdown",
   "metadata": {},
   "source": [
    "###  Planning and Initializing"
   ]
  },
  {
   "cell_type": "code",
   "execution_count": null,
   "metadata": {},
   "outputs": [],
   "source": [
    "## If you are doing lots of fft's, plan them before for optimization!\n",
    "ft=plan_fft(Ψ0);\n",
    "Ψf=ft*Ψ0;\n",
    "ift=plan_ifft(Ψf);"
   ]
  },
  {
   "cell_type": "code",
   "execution_count": null,
   "metadata": {},
   "outputs": [],
   "source": [
    "nmeas=1\n",
    "lmeas=floor(Int, nt/nmeas)\n",
    "\n",
    "Ex=zeros(Float64,lmeas);\n",
    "Ek=zeros(Float64,lmeas);\n",
    "E=zeros(Float64,lmeas);\n",
    "E2=zeros(Float64,lmeas);\n",
    "\n",
    "c=zeros(Float64,lmeas);\n",
    "c1=zeros(Float64,lmeas);\n",
    "c2=zeros(Float64,lmeas);\n",
    "c4=zeros(Float64,lmeas);"
   ]
  },
  {
   "cell_type": "markdown",
   "metadata": {
    "scrolled": true
   },
   "source": [
    "## The Code Body\n",
    "\n",
    "Now we finally get to run the body of the code.  If you look back over the Split Operator Method Post, you will see almost identical code, as I am doing virtually the same thing.  I am only using different evolution operators and measuring different quantities."
   ]
  },
  {
   "cell_type": "code",
   "execution_count": null,
   "metadata": {},
   "outputs": [],
   "source": [
    "Ψ0=(1.0/(2*xmax))*ones(Complex{Float64},N);\n",
    "Ψ=copy(Ψ0);\n",
    "jj=1\n",
    "\n",
    "# The operators we have to start off with\n",
    "Ψ=Ψ.*Uxh\n",
    "\n",
    "Psif=(ft*Ψ)*dx\n",
    "Psif=Psif.*Uf    \n",
    "Ψ=(ift*Psif)*(dk/2π)\n",
    "\n",
    "for ii in 1:nt\n",
    "    \n",
    "    Ψ=Ψ.*Ux\n",
    "    \n",
    "    \n",
    "    Psif=(ft*Ψ)*dx\n",
    "    Psif=Psif.*Uf \n",
    "    \n",
    "    Ψ=(ift*Psif)*(dk/2π)   \n",
    "    nn=sum(conj(Ψ).*Ψ)*dx\n",
    "    Ψ=1/sqrt(nn)*Ψ\n",
    "    \n",
    "    if ii%nmeas == 0\n",
    "        # Every time we measure, we have to finish with a U_x half time step\n",
    "        Ψt=Ψ.*Uxh\n",
    "        Ψft=(ft*Ψt)*dx\n",
    "    \n",
    "        Ex[jj]=real(sum(conj(Ψt).*Vx.*Ψt))*dx\n",
    "        \n",
    "        Ek[jj]=real(sum(conj(Ψft).*Vk.*Ψft))*(dk/2π)\n",
    "    \n",
    "        E[jj]=Ex[jj]+Ek[jj]\n",
    "        \n",
    "        c[jj]=abs(sum( conj(Ψt).* Ψtrue)) *dx\n",
    "        c1[jj]=abs(sum( conj(Ψt).* Ψ1)) *dx\n",
    "        c2[jj]=abs(sum( conj(Ψt).* Ψ2)) *dx\n",
    "        c4[jj]=abs(sum( conj(Ψt).* Ψ4)) *dx\n",
    "        \n",
    "        jj+=1\n",
    "    end\n",
    "end    \n",
    "\n",
    "\n",
    "Ψ=Ψ.*Uxh;\n",
    "fΨ=ft*Ψ;"
   ]
  },
  {
   "cell_type": "markdown",
   "metadata": {},
   "source": [
    "## Results\n",
    "\n",
    "In this next section, we examine the results that we calculated above, making sure they agree with our analytical predictions.  \n",
    "\n",
    "The first two pictures show how the final wavefunction after imaginary time evolution agrees with the ground state for the Quantum Harmonic Oscillator, both in position and momentum space.  "
   ]
  },
  {
   "cell_type": "code",
   "execution_count": null,
   "metadata": {},
   "outputs": [],
   "source": [
    "plot(x,abs.(Ψ),linewidth=10, label=\"Final\")\n",
    "plot!(x,abs.(Ψtrue), linewidth=5,label=\"Analytic\")\n",
    "\n",
    "plot!(xlabel=\"x\",ylabel=\"Absolute Value\",title=\"Wavefunction\")"
   ]
  },
  {
   "cell_type": "code",
   "execution_count": null,
   "metadata": {},
   "outputs": [],
   "source": [
    "plot(fftshift(k),abs.(fftshift(fΨ)),linewidth=10,label=\"Final\")\n",
    "plot!(fftshift(k),abs.(fftshift(fΨtrue)), linewidth=5,label=\"Analytic\")\n",
    "\n",
    "plot!(xlabel=\"k\",ylabel=\"Absolute Value\",title=\"Fourier Transform of Wavefunction\")"
   ]
  },
  {
   "cell_type": "markdown",
   "metadata": {},
   "source": [
    "The Energy of the system converges to $1/2 \\hbar \\omega$, which in this case is just 1/2.  The potential and kinetic energy each contribute to half of the total energy."
   ]
  },
  {
   "cell_type": "code",
   "execution_count": null,
   "metadata": {},
   "outputs": [],
   "source": [
    "plot(E,label=\" Total Energy\")\n",
    "plot!(Ex,label=\"Potential\")\n",
    "plot!(Ek,label=\"Kinetic\")\n",
    "hline!([1/2],label=\"1/2\")\n",
    "\n",
    "plot!(xlabel=\"Steps\",ylabel=\"Energy\",title=\"Convergence of Energy\")"
   ]
  },
  {
   "cell_type": "markdown",
   "metadata": {},
   "source": [
    "Here we look at how the state converges to the ground state by dissipating out higher energy states.  \n",
    "\n",
    "We start with an even ground state, so any odd eigenstates will have no occupation in the beginning. As the state evolves, the odd eigenstates will never have any occupation, as that quantity can't climb from zero.  That's why the 1st excited state remains zero for all steps.  This highlights the importance of a good first guess, though numerical error might save the day if the ground state wasn't present in our starting state.\n",
    "\n",
    "The higher the energy of the state, the faster it will decay.  We even see that the Second Excited State increases in occupation for a short while in the beginning as the higher energy states rapidly disappear.  "
   ]
  },
  {
   "cell_type": "code",
   "execution_count": null,
   "metadata": {},
   "outputs": [],
   "source": [
    "plot(c,label=\"Ground State\")\n",
    "plot!(c1,label=\"First Excited\")\n",
    "plot!(c2,label=\"Second Excited\")\n",
    "plot!(c4,label=\"Fourth Excited\")\n",
    "\n",
    "plot!(xlabel=\"Steps\",ylabel=\"Occupation of State\",title=\"Occupation of Eigenstates\")"
   ]
  },
  {
   "cell_type": "markdown",
   "metadata": {},
   "source": [
    "## Points of Clarification\n",
    "\n",
    "* This algorithm will fall prey to <b>degeneracies</b>.  If you have two or more ground states, or states extremely close together, this algorithm will fail to distinguish between them or let you know they exist.  If you start in a different starting state, you may end in a different superposition.\n",
    "* Make sure to store your wavefunction as double precision Float64\n",
    "\n",
    "A big thank you to Lee O'Riordan for his expertise. Check out his Github repository [@mlxd](https://github.com/mlxd), his project [GPUE](https://github.com/GPUE-group/GPUE) solving for the evolution of rapidly rotating Bose-Einstein condensates, or his thesis on that topic ([Non-equilibrium vortex dynamics in rapidly rotating Bose-Einstein condensates](https://ci.nii.ac.jp/naid/500001054902/?l=en)).\n",
    "\n",
    "## Bibliography\n",
    "\n",
    "Bader, Philipp, Sergio Blanes, and Fernando Casas. \"Solving the Schrödinger eigenvalue problem by the imaginary time propagation technique using splitting methods with complex coefficients.\" The Journal of chemical physics 139.12 (2013): 124117.\n",
    "\n",
    "O'Riordan, Lee James. Non-equilibrium vortex dynamics in rapidly rotating Bose-Einstein condensates. Diss. Okinawa Institute of Science and Technology Graduate University, 2017."
   ]
  },
  {
   "cell_type": "code",
   "execution_count": null,
   "metadata": {},
   "outputs": [],
   "source": []
  }
 ],
 "metadata": {
  "@webio": {
   "lastCommId": "813d8c622c884b7485e73cfe11172bdd",
   "lastKernelId": "0a0ad4d6-7cd7-4077-8f98-8a3ace4ca3af"
  },
  "kernelspec": {
   "display_name": "Julia 1.0.1",
   "language": "julia",
   "name": "julia-1.0"
  },
  "language_info": {
   "file_extension": ".jl",
   "mimetype": "application/julia",
   "name": "julia",
   "version": "1.0.1"
  }
 },
 "nbformat": 4,
 "nbformat_minor": 2
}
