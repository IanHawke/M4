{
 "cells": [
  {
   "cell_type": "markdown",
   "metadata": {},
   "source": [
    "# AutoDifferentiation and Dual Numbers\n",
    "## Numerics\n",
    "\n",
    "$\\epsilon^2=0$ \n",
    "\n",
    "Then we can compile numbers numbers together just like imaginary numbers, for example $1+2\\epsilon$ or $6+0.5\\epsilon$. For addition or subtraction, the operations work on the real or dual components individually.  For example,\n",
    "$$\n",
    "(a+b\\epsilon)+(d+f\\epsilon) = (a+d)+(b+f)\\epsilon\n",
    "$$\n",
    "For multiplication, we expand out the binomial with standard algebra rules and then eliminate all terms of $\\epsilon^2$ and higher.  For example,\n",
    "$$\n",
    "(a+b\\epsilon)*(d+f\\epsilon)=ad+af\\epsilon+bd\\epsilon + bf \\epsilon^2 = ad + ( af + bd )\\epsilon\n",
    "$$\n",
    "\n",
    "### Polynomials \n",
    "\n",
    "$$ f(x) = mx + b $$\n",
    "\n",
    "$$\n",
    "f( x+ 1 \\epsilon) = ( m + 0 \\epsilon)( x + \\epsilon) + (b + 0 \\epsilon) \n",
    "$$\n",
    "$$\n",
    "( m x +b )+ m \\epsilon \n",
    "$$\n",
    "What's the coefficient for $\\epsilon$? The derivative at $x$.  Now for just a straight line, you might just think this is a weird coincidince, so let's take another example.  \n",
    "\n",
    "$$\n",
    "g(x) = x^2\n",
    "$$\n",
    "$$\n",
    "f(x+1\\epsilon) = (x+1 \\epsilon)(x + 1 \\epsilon) \n",
    "= x^2 + x \\epsilon + x \\epsilon + \\epsilon^2\n",
    "$$\n",
    "$$\n",
    "= x^2 + 2 x \\epsilon\n",
    "$$\n",
    "And look! Again! The coefficient for $\\epsilon$ is the derivative.\n",
    "\n",
    "In general, we can consider expanding a dual number raised to the $n$th power with a binomial theorem,\n",
    "$$\n",
    "(a+b \\epsilon)^n = \\sum_k {n\\choose k} a^{n-k} (b \\epsilon )^{k}\n",
    "$$\n",
    "$$\n",
    "a^n + n b a^{n-1} \\epsilon + \\mathcal{O} (\\epsilon^2)\n",
    "$$\n",
    "\n",
    "So we can see that neither polynomial we looked at was a special case.  We can pull out the derivative of any polynomial using dual numbers.\n",
    "\n",
    "### Transcendentals \n",
    "\n",
    "$$\n",
    "e^{x+1 \\epsilon} = \\sum_{n=0}^{\\infty} \\frac{(x+\\epsilon)^n}{n!}\n",
    "= \\sum_{n=0}^{\\infty} \\frac{ x^n}{n!} + \\epsilon \\sum_{n=1}^{\\infty} \\frac{x^{n-1}}{(n-1)!}\n",
    "$$\n",
    "$$\n",
    "= e^{x} + \\epsilon e^{x} \n",
    "$$"
   ]
  },
  {
   "cell_type": "code",
   "execution_count": 2,
   "metadata": {},
   "outputs": [],
   "source": [
    "import Base.+, Base.-, Base.*, Base./, Base.^"
   ]
  },
  {
   "cell_type": "code",
   "execution_count": 3,
   "metadata": {},
   "outputs": [],
   "source": [
    "struct Dual\n",
    "    real::Float64\n",
    "    dual::Float64\n",
    "end"
   ]
  },
  {
   "cell_type": "code",
   "execution_count": 4,
   "metadata": {},
   "outputs": [
    {
     "data": {
      "text/plain": [
       "Dual(3.0, 1.0)"
      ]
     },
     "execution_count": 4,
     "metadata": {},
     "output_type": "execute_result"
    }
   ],
   "source": [
    "a=Dual(5,1)\n",
    "b=Dual(3,1)"
   ]
  },
  {
   "cell_type": "code",
   "execution_count": 5,
   "metadata": {},
   "outputs": [
    {
     "data": {
      "text/plain": [
       "(5.0, 1.0)"
      ]
     },
     "execution_count": 5,
     "metadata": {},
     "output_type": "execute_result"
    }
   ],
   "source": [
    "a.real,a.dual"
   ]
  },
  {
   "cell_type": "code",
   "execution_count": 6,
   "metadata": {},
   "outputs": [
    {
     "data": {
      "text/plain": [
       "/ (generic function with 105 methods)"
      ]
     },
     "execution_count": 6,
     "metadata": {},
     "output_type": "execute_result"
    }
   ],
   "source": [
    "function +(a::Dual,b::Dual)\n",
    "    return Dual((a.real+b.real),(a.dual+b.dual))\n",
    "end\n",
    "function -(d::Dual,b::Dual)\n",
    "    return Dual((a.real-b.real),(a.dual-b.dual))\n",
    "end\n",
    "\n",
    "function *(a::Dual,b::Dual)\n",
    "    return Dual((a.real*b.real),(a.real*b.dual+a.dual*b.real))\n",
    "end\n",
    "function /(a::Dual,b::Dual)\n",
    "    return Dual((a.real/b.real),( (b.real*a.dual-a.real*b.dual)/(b.real*b.real) ) )\n",
    "end"
   ]
  },
  {
   "cell_type": "code",
   "execution_count": 7,
   "metadata": {},
   "outputs": [
    {
     "data": {
      "text/plain": [
       "^ (generic function with 63 methods)"
      ]
     },
     "execution_count": 7,
     "metadata": {},
     "output_type": "execute_result"
    }
   ],
   "source": [
    "function ^(a::Dual,n::Int)\n",
    "    return Dual(a.real^n, a.dual*n*a.real^(n-1))\n",
    "end"
   ]
  },
  {
   "cell_type": "markdown",
   "metadata": {},
   "source": [
    "While we've already redefined our base functions when they are operating on <b>two</b> dual numbers, sometimes we will perform a base operation on a Real and a Dual or a Dual and a Real, and we need to specify both of these cases explicitly.  \n",
    "\n",
    "<i>Note:</i> There may be a better way of doing this, as I don't specialize in computer language design or optimization.  But this does seem to work fairly well."
   ]
  },
  {
   "cell_type": "code",
   "execution_count": 8,
   "metadata": {},
   "outputs": [
    {
     "data": {
      "text/plain": [
       "* (generic function with 346 methods)"
      ]
     },
     "execution_count": 8,
     "metadata": {},
     "output_type": "execute_result"
    }
   ],
   "source": [
    "function +(a::Real,b::Dual)\n",
    "    return Dual((a+b.real),b.dual)\n",
    "end\n",
    "function +(a::Dual,b::Real)\n",
    "    return Dual((a.real+b),a.dual)\n",
    "end\n",
    "\n",
    "function -(a::Real,b::Dual)\n",
    "    return Dual((a-b.real),b.dual)\n",
    "end\n",
    "function -(a::Dual,b::Real)\n",
    "    return Dual((a.real-b),b.dual)\n",
    "end\n",
    "\n",
    "function *(a::Real,b::Dual)\n",
    "    return Dual((a*b.real),a*b.dual)\n",
    "end\n",
    "function *(a::Dual,b::Real)\n",
    "    return Dual((a.real*b),a.dual*b)\n",
    "end"
   ]
  },
  {
   "cell_type": "code",
   "execution_count": 9,
   "metadata": {},
   "outputs": [
    {
     "data": {
      "text/plain": [
       "Dual(1.6666666666666667, -0.2222222222222222)"
      ]
     },
     "execution_count": 9,
     "metadata": {},
     "output_type": "execute_result"
    }
   ],
   "source": [
    "c=a+b\n",
    "d=a-b\n",
    "f=a*b\n",
    "g=a/b"
   ]
  },
  {
   "cell_type": "code",
   "execution_count": 13,
   "metadata": {},
   "outputs": [
    {
     "data": {
      "text/plain": [
       "quadratic (generic function with 1 method)"
      ]
     },
     "execution_count": 13,
     "metadata": {},
     "output_type": "execute_result"
    }
   ],
   "source": [
    "function line(x)\n",
    "    return 5.0*x+3.0\n",
    "end\n",
    "\n",
    "function quadratic(x)\n",
    "    return x^2\n",
    "end"
   ]
  },
  {
   "cell_type": "code",
   "execution_count": 11,
   "metadata": {},
   "outputs": [
    {
     "data": {
      "text/plain": [
       "Dual(18.0, 5.0)"
      ]
     },
     "execution_count": 11,
     "metadata": {},
     "output_type": "execute_result"
    }
   ],
   "source": [
    "line(Dual(3.0,1.0))"
   ]
  },
  {
   "cell_type": "code",
   "execution_count": 14,
   "metadata": {},
   "outputs": [
    {
     "data": {
      "text/plain": [
       "Dual(4.0, 4.0)"
      ]
     },
     "execution_count": 14,
     "metadata": {},
     "output_type": "execute_result"
    }
   ],
   "source": [
    "quadratic(Dual(2.0,1.0))"
   ]
  },
  {
   "cell_type": "code",
   "execution_count": null,
   "metadata": {},
   "outputs": [],
   "source": []
  }
 ],
 "metadata": {
  "@webio": {
   "lastCommId": "61a6d03b3ccc48ccb67acb30c6213818",
   "lastKernelId": "fbb2df65-1722-455b-985b-50c3a703a72e"
  },
  "kernelspec": {
   "display_name": "Julia 1.0.1",
   "language": "julia",
   "name": "julia-1.0"
  },
  "language_info": {
   "file_extension": ".jl",
   "mimetype": "application/julia",
   "name": "julia",
   "version": "1.0.1"
  }
 },
 "nbformat": 4,
 "nbformat_minor": 2
}
