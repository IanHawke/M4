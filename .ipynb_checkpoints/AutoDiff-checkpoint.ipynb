{
 "cells": [
  {
   "cell_type": "code",
   "execution_count": 7,
   "metadata": {},
   "outputs": [],
   "source": [
    "import Base.+, Base.-, Base.*, Base./"
   ]
  },
  {
   "cell_type": "code",
   "execution_count": 2,
   "metadata": {},
   "outputs": [],
   "source": [
    "struct Dual\n",
    "    real::Float64\n",
    "    dual::Float64\n",
    "end"
   ]
  },
  {
   "cell_type": "code",
   "execution_count": 3,
   "metadata": {},
   "outputs": [
    {
     "data": {
      "text/plain": [
       "Dual(3.0, 1.0)"
      ]
     },
     "execution_count": 3,
     "metadata": {},
     "output_type": "execute_result"
    }
   ],
   "source": [
    "a=Dual(5,1)\n",
    "b=Dual(3,1)"
   ]
  },
  {
   "cell_type": "code",
   "execution_count": 4,
   "metadata": {},
   "outputs": [
    {
     "data": {
      "text/plain": [
       "(5.0, 1.0)"
      ]
     },
     "execution_count": 4,
     "metadata": {},
     "output_type": "execute_result"
    }
   ],
   "source": [
    "a.real,a.dual"
   ]
  },
  {
   "cell_type": "code",
   "execution_count": 9,
   "metadata": {},
   "outputs": [
    {
     "data": {
      "text/plain": [
       "/ (generic function with 105 methods)"
      ]
     },
     "execution_count": 9,
     "metadata": {},
     "output_type": "execute_result"
    }
   ],
   "source": [
    "function +(a::Dual,b::Dual)\n",
    "    return Dual((a.real+b.real),(a.dual+b.dual))\n",
    "end\n",
    "function -(d::Dual,b::Dual)\n",
    "    return Dual((a.real-b.real),(a.dual-b.dual))\n",
    "end\n",
    "\n",
    "function *(a::Dual,b::Dual)\n",
    "    return Dual((a.real*b.real),(a.real*b.dual+a.dual*b.real))\n",
    "end\n",
    "function /(a::Dual,b::Dual)\n",
    "    return Dual((a.real/b.real),( (b.real*a.dual-a.real*b.dual)/(b.real*b.real) ) )\n",
    "    end"
   ]
  },
  {
   "cell_type": "code",
   "execution_count": 25,
   "metadata": {},
   "outputs": [
    {
     "data": {
      "text/plain": [
       "* (generic function with 342 methods)"
      ]
     },
     "execution_count": 25,
     "metadata": {},
     "output_type": "execute_result"
    }
   ],
   "source": [
    "function +(a::Real,b::Dual)\n",
    "    return Dual((a+b.real),b.dual)\n",
    "end\n",
    "function +(a::Dual,b::Real)\n",
    "    return Dual((a.real+b),a.dual)\n",
    "end\n",
    "\n",
    "function -(a::Real,b::Dual)\n",
    "    return Dual((a-b.real),b.dual)\n",
    "end\n",
    "function -(a::Dual,b::Real)\n",
    "    return Dual((a.real-b),b.dual)\n",
    "end\n",
    "\n",
    "function *(a::Real,b::Dual)\n",
    "    return Dual((a*b.real),a*b.dual)\n",
    "end\n",
    "function *(a::Dual,b::Real)\n",
    "    return Dual((a.real*b),a.dual*b)\n",
    "end"
   ]
  },
  {
   "cell_type": "code",
   "execution_count": 10,
   "metadata": {},
   "outputs": [
    {
     "data": {
      "text/plain": [
       "Dual(1.6666666666666667, -0.2222222222222222)"
      ]
     },
     "execution_count": 10,
     "metadata": {},
     "output_type": "execute_result"
    }
   ],
   "source": [
    "c=a+b\n",
    "d=a-b\n",
    "f=a*b\n",
    "g=a/b"
   ]
  },
  {
   "cell_type": "code",
   "execution_count": 21,
   "metadata": {},
   "outputs": [
    {
     "data": {
      "text/plain": [
       "line (generic function with 1 method)"
      ]
     },
     "execution_count": 21,
     "metadata": {},
     "output_type": "execute_result"
    }
   ],
   "source": [
    "function line(x)\n",
    "    return 5.0*x+3.0\n",
    "end"
   ]
  },
  {
   "cell_type": "code",
   "execution_count": 26,
   "metadata": {},
   "outputs": [
    {
     "data": {
      "text/plain": [
       "Dual(18.0, 5.0)"
      ]
     },
     "execution_count": 26,
     "metadata": {},
     "output_type": "execute_result"
    }
   ],
   "source": [
    "line(Dual(3.0,1.0))"
   ]
  },
  {
   "cell_type": "code",
   "execution_count": 23,
   "metadata": {},
   "outputs": [
    {
     "data": {
      "text/plain": [
       "Dual(25.0, 5.0)"
      ]
     },
     "execution_count": 23,
     "metadata": {},
     "output_type": "execute_result"
    }
   ],
   "source": [
    "5.0*a"
   ]
  },
  {
   "cell_type": "code",
   "execution_count": null,
   "metadata": {},
   "outputs": [],
   "source": []
  }
 ],
 "metadata": {
  "kernelspec": {
   "display_name": "Julia 1.0.3",
   "language": "julia",
   "name": "julia-1.0"
  },
  "language_info": {
   "file_extension": ".jl",
   "mimetype": "application/julia",
   "name": "julia",
   "version": "1.0.3"
  }
 },
 "nbformat": 4,
 "nbformat_minor": 2
}
