{
 "cells": [
  {
   "cell_type": "markdown",
   "metadata": {},
   "source": [
    "# Fast Fourier Transform\n",
    "## Category: Numerics\n",
    "## Author: Christina Lee"
   ]
  }
 ],
 "metadata": {
  "@webio": {
   "lastCommId": "d3e4229223c042f38f6fa8c2f80432ee",
   "lastKernelId": "6162df74-1084-428c-9690-8197067cd014"
  },
  "kernelspec": {
   "display_name": "Julia 1.0.1",
   "language": "julia",
   "name": "julia-1.0"
  },
  "language_info": {
   "file_extension": ".jl",
   "mimetype": "application/julia",
   "name": "julia",
   "version": "1.0.1"
  }
 },
 "nbformat": 4,
 "nbformat_minor": 2
}
