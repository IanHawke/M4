{
 "cells": [
  {
   "cell_type": "code",
   "execution_count": 1,
   "metadata": {},
   "outputs": [
    {
     "data": {
      "text/html": [
       "    <script class='js-collapse-script'>\n",
       "        var curMatch =\n",
       "            window.location.href\n",
       "            .match(/(.*?)\\/notebooks\\/.*\\.ipynb/);\n",
       "\n",
       "        curMatch = curMatch ||\n",
       "            window.location.href\n",
       "            .match(/(.*?)\\/apps\\/.*\\.ipynb/);\n",
       "\n",
       "        if ( curMatch ) {\n",
       "            $('head').append('<base href=\"' + curMatch[1] + '/\">');\n",
       "        }\n",
       "    </script>\n"
      ],
      "text/plain": [
       "HTML{String}(\"    <script class='js-collapse-script'>\\n        var curMatch =\\n            window.location.href\\n            .match(/(.*?)\\\\/notebooks\\\\/.*\\\\.ipynb/);\\n\\n        curMatch = curMatch ||\\n            window.location.href\\n            .match(/(.*?)\\\\/apps\\\\/.*\\\\.ipynb/);\\n\\n        if ( curMatch ) {\\n            \\$('head').append('<base href=\\\"' + curMatch[1] + '/\\\">');\\n        }\\n    </script>\\n\")"
      ]
     },
     "metadata": {},
     "output_type": "display_data"
    },
    {
     "data": {
      "text/html": [
       "<script class='js-collapse-script' src='/assetserver/21fde8bc1249fc66f25673b17ad18642c3dcfd4f-assets/webio/dist/bundle.js'></script>"
      ],
      "text/plain": [
       "HTML{String}(\"<script class='js-collapse-script' src='/assetserver/21fde8bc1249fc66f25673b17ad18642c3dcfd4f-assets/webio/dist/bundle.js'></script>\")"
      ]
     },
     "metadata": {},
     "output_type": "display_data"
    },
    {
     "data": {
      "text/html": [
       "<script class='js-collapse-script' src='/assetserver/21fde8bc1249fc66f25673b17ad18642c3dcfd4f-assets/providers/ijulia_setup.js'></script>"
      ],
      "text/plain": [
       "HTML{String}(\"<script class='js-collapse-script' src='/assetserver/21fde8bc1249fc66f25673b17ad18642c3dcfd4f-assets/providers/ijulia_setup.js'></script>\")"
      ]
     },
     "metadata": {},
     "output_type": "display_data"
    },
    {
     "data": {
      "text/html": [
       "  <script class='js-collapse-script'>\n",
       "    $('.js-collapse-script').parent('.output_subarea').css('padding', '0');\n",
       "  </script>\n"
      ],
      "text/plain": [
       "HTML{String}(\"  <script class='js-collapse-script'>\\n    \\$('.js-collapse-script').parent('.output_subarea').css('padding', '0');\\n  </script>\\n\")"
      ]
     },
     "metadata": {},
     "output_type": "display_data"
    },
    {
     "ename": "ArgumentError",
     "evalue": "ArgumentError: Package ORCA not found in current path:\n- Run `import Pkg; Pkg.add(\"ORCA\")` to install the ORCA package.\n",
     "output_type": "error",
     "traceback": [
      "ArgumentError: Package ORCA not found in current path:\n- Run `import Pkg; Pkg.add(\"ORCA\")` to install the ORCA package.\n",
      "",
      "Stacktrace:",
      " [1] require(::Module, ::Symbol) at .\\loading.jl:823",
      " [2] top-level scope at C:\\Users\\chris\\.julia\\packages\\Plots\\PGn1u\\src\\backends.jl:504",
      " [3] eval at .\\boot.jl:319 [inlined]",
      " [4] _initialize_backend(::Plots.PlotlyJSBackend) at C:\\Users\\chris\\.julia\\packages\\Plots\\PGn1u\\src\\backends.jl:503",
      " [5] backend(::Plots.PlotlyJSBackend) at C:\\Users\\chris\\.julia\\packages\\Plots\\PGn1u\\src\\backends.jl:196",
      " [6] backend(::Symbol) at C:\\Users\\chris\\.julia\\packages\\Plots\\PGn1u\\src\\backends.jl:209",
      " [7] plotlyjs() at C:\\Users\\chris\\.julia\\packages\\Plots\\PGn1u\\src\\backends.jl:29",
      " [8] top-level scope at In[1]:2"
     ]
    }
   ],
   "source": [
    "using Plots;\n",
    "plotlyjs();"
   ]
  },
  {
   "cell_type": "markdown",
   "metadata": {},
   "source": []
  },
  {
   "cell_type": "markdown",
   "metadata": {},
   "source": []
  },
  {
   "cell_type": "code",
   "execution_count": null,
   "metadata": {},
   "outputs": [],
   "source": [
    "function Rotmat(θ::Float64)\n",
    "    R=Array{Float64,2}(2,2)\n",
    "    R[1,1]=cos(θ)\n",
    "    R[2,2]=cos(θ)\n",
    "    R[1,2]=-sin(θ)\n",
    "    R[2,1]=sin(θ)\n",
    "    return R\n",
    "end"
   ]
  },
  {
   "cell_type": "code",
   "execution_count": null,
   "metadata": {},
   "outputs": [],
   "source": []
  }
 ],
 "metadata": {
  "kernelspec": {
   "display_name": "Julia 1.0.3",
   "language": "julia",
   "name": "julia-1.0"
  },
  "language_info": {
   "file_extension": ".jl",
   "mimetype": "application/julia",
   "name": "julia",
   "version": "1.0.3"
  }
 },
 "nbformat": 4,
 "nbformat_minor": 2
}
