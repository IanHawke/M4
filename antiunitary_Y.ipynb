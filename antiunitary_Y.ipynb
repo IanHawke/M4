{
 "cells": [
  {
   "cell_type": "markdown",
   "metadata": {},
   "source": [
    "# Anti-Unitary Symmetires\n",
    "## Graduate: Topological Matter\n",
    "## Christina Lee\n",
    "\n",
    "$$\n",
    "T^{-1} H T = H \\qquad T=U_{T} K \\qquad U_{T} U_{T}^* = \\pm \\mathcal{1}\n",
    "$$\n",
    "\n",
    "$$\n",
    "C^{-1} H C= -H \\qquad C=U_{C} K \\qquad U_{C} U_{C}^* = \\pm \\mathcal{1}\n",
    "$$\n",
    "\n",
    "$$\n",
    "S^{-1} H S = - H \\qquad S= U_{S} \\qquad U_{S} U_{S}^{\\dagger} = \\mathcal{1}\n",
    "$$\n",
    "\n",
    "Moving to Fourier Space\n",
    "\n",
    "$$\n",
    "T H(k) T^{-1} = H(-k)\n",
    "$$\n",
    "$$\n",
    "C H(k) C^{-1} = - H(-k)\n",
    "$$\n",
    "$$\n",
    "S H(k) S^{-1} = -H(k)\n",
    "$$"
   ]
  },
  {
   "cell_type": "markdown",
   "metadata": {},
   "source": [
    "Class | A | AIII | AI | BDI | D | DIII | AII | CII | C | CI\n",
    "---   | --- | ---  | --- | --- | --- | ---  | --- | --- | --- | ---\n",
    "T     | 0 | 0    | +  | +   | 0 | -    | -   | -   | 0 | +\n",
    "C     | 0 | 0    | 0  | +   | + | +    | 0   | -   | - | -\n",
    "S     | 0 | 0    | 0  | 1   | 0 | 1    | 0   | 1   | 0 | 1 "
   ]
  },
  {
   "cell_type": "markdown",
   "metadata": {},
   "source": [
    "### Are two matrices related by a Unitary Transfomation? \n",
    "\n",
    "If they are, then they belong in the same <i>group</i> of matrices that are all related to each other by unitary transformations.  If we can find a unique member of this group and show that they are both related to it, then we are good to go.  But if they each have different versions of this unique form, or group defining characteristic, then we know that they belong in seperate groups.\n",
    "\n",
    "For this unique form, we can use the eigendecomposition,\n",
    "$$\n",
    "M= \\Lambda \\epsilon \\Lambda^{-1} \\qquad \\qquad \\Lambda^{-1} M \\Lambda = \\epsilon\n",
    "$$\n",
    "where $U$ is a matrix whose rows are composed of the eigenvectors of the matrix and $\\epsilon$ is a diagonal matrix whose values on the diagonals are the eigenvalues.  If we specify that the eigenvalues are ordered from smallest to largest, we have a unique form for this decomposition.\n",
    "\n",
    "Right now $\\Lambda$ is just some arbitrary matrix, and we don't know whether or not it's unitary or not.  If could be, but that's not for certain."
   ]
  },
  {
   "cell_type": "markdown",
   "metadata": {},
   "source": [
    "$$\n",
    "U M_1 U^{-1} = M_2\n",
    "$$\n",
    "$$\n",
    "\\epsilon_1= \\Lambda_1^{-1} M_1 \\Lambda_1\n",
    "$$\n",
    "$$\n",
    "M_2 = \\Lambda_2 \\epsilon_2 \\Lambda_2^{-1}\n",
    "$$\n",
    "$$\n",
    "M_2 = \\Lambda_2 \\Lambda_1^{-1} M_1 \\Lambda_1 \\Lambda_2^{-1}\n",
    "$$\n",
    "$$\n",
    "U=\\Lambda_2^{-1} \\Lambda_1\n",
    "$$"
   ]
  },
  {
   "cell_type": "markdown",
   "metadata": {},
   "source": [
    "### Test Hamiltonians\n",
    "\n",
    "#### Polyacetlyne \n",
    "\n",
    "$$\n",
    "\\mathcal{H}(k) = \\sigma_x (v-w \\cos k ) - \\sigma_yw \\sin k \n",
    "$$\n",
    "\n",
    "\n",
    "How would we go about proving that an arbitrary Hamiltonian, let's say in matrix form, does or does not have an anti-unitary symmetry?  If H and U are handed to us, like the polyacetylene and sigma_z case, we just show that it works and we are good to go.  We can try to find U via eigendecomposition, and that is always guaranteed to give us a matrix that relates H (or conj(H) ) to either H(-k) ,-H(-k), -H. But the matrix is not guaranteed to be unitary.  How would we go about proving that an arbitrary Hamiltonian, let's say in matrix form, does or does not have an anti-unitary symmetry?  If H and U are handed to us, like the polyacetylene and sigma_z case, we just show that it works and we are good to go.  We can try to find U via eigendecomposition, and that is always guaranteed to give us a matrix that relates H (or conj(H) ) to either H(-k) ,-H(-k), -H. But the matrix is not guaranteed to be unitary.  "
   ]
  },
  {
   "cell_type": "code",
   "execution_count": 1,
   "metadata": {
    "scrolled": true
   },
   "outputs": [
    {
     "name": "stderr",
     "output_type": "stream",
     "text": [
      "┌ Info: Recompiling stale cache file /home/shaula/.julia/compiled/v1.1/SymPy/KzewI.ji for SymPy [24249f21-da20-56a4-8eb1-6a02cf4ae2e6]\n",
      "└ @ Base loading.jl:1184\n"
     ]
    }
   ],
   "source": [
    "using SymPy\n",
    "using LinearAlgebra"
   ]
  },
  {
   "cell_type": "code",
   "execution_count": null,
   "metadata": {
    "scrolled": true
   },
   "outputs": [],
   "source": [
    "σx=[[0 1]\n",
    "    [1 0]]\n",
    "σy=[[0 -im]\n",
    "    [im 0]]\n",
    "σz=[[1 0]\n",
    "    [0 -1]]"
   ]
  },
  {
   "cell_type": "code",
   "execution_count": null,
   "metadata": {},
   "outputs": [],
   "source": [
    "star(A)=conj(transpose(A))"
   ]
  },
  {
   "cell_type": "code",
   "execution_count": null,
   "metadata": {
    "scrolled": false
   },
   "outputs": [],
   "source": [
    "kx, ky = symbols(\"kx, ky\",real=true)\n",
    "v,w,μ, Δ0,t=symbols(\"v,w,μ, Δ0,t\",real=true)"
   ]
  },
  {
   "cell_type": "code",
   "execution_count": null,
   "metadata": {},
   "outputs": [],
   "source": []
  },
  {
   "cell_type": "code",
   "execution_count": null,
   "metadata": {},
   "outputs": [],
   "source": [
    "Rx=v-w*cos(kx)\n",
    "Ry=-w*sin(kx)\n",
    "\n",
    "Rx2=-2*sin(kx)\n",
    "Ry2=-2*sin(ky)\n",
    "Rz2=μ + 2*(cos(kx)+cos(ky))\n",
    "\n",
    "Ry3=-Δ0*sin(kx)\n",
    "Rz3=t*cos(kx)-μ"
   ]
  },
  {
   "cell_type": "code",
   "execution_count": null,
   "metadata": {},
   "outputs": [],
   "source": [
    "H2=Rx2*σx+Ry2*σy+Rz2*σz"
   ]
  },
  {
   "cell_type": "code",
   "execution_count": 14,
   "metadata": {},
   "outputs": [
    {
     "data": {
      "text/latex": [
       "\\[\\left[ \\begin{array}{rr}0&v + i w \\sin{\\left(kx \\right)} - w \\cos{\\left(kx \\right)}\\\\v - i w \\sin{\\left(kx \\right)} - w \\cos{\\left(kx \\right)}&0\\end{array}\\right]\\]"
      ],
      "text/plain": [
       "2×2 Array{Sym,2}:\n",
       "                           0  v + I*w*sin(kx) - w*cos(kx)\n",
       " v - I*w*sin(kx) - w*cos(kx)                            0"
      ]
     },
     "execution_count": 14,
     "metadata": {},
     "output_type": "execute_result"
    }
   ],
   "source": [
    "H1=Rx*σx+Ry*σy"
   ]
  },
  {
   "cell_type": "code",
   "execution_count": 9,
   "metadata": {},
   "outputs": [
    {
     "data": {
      "text/latex": [
       "\\[\\left[ \\begin{array}{rr}t \\cos{\\left(kx \\right)} - μ&i Δ0 \\sin{\\left(kx \\right)}\\\\- i Δ0 \\sin{\\left(kx \\right)}&- t \\cos{\\left(kx \\right)} + μ\\end{array}\\right]\\]"
      ],
      "text/plain": [
       "2×2 Array{Sym,2}:\n",
       " t*cos(kx) - μ    I*Δ0*sin(kx)\n",
       " -I*Δ0*sin(kx)  -t*cos(kx) + μ"
      ]
     },
     "execution_count": 9,
     "metadata": {},
     "output_type": "execute_result"
    }
   ],
   "source": [
    "H3=Ry3*σy+Rz3*σz"
   ]
  },
  {
   "cell_type": "code",
   "execution_count": 17,
   "metadata": {},
   "outputs": [
    {
     "data": {
      "text/latex": [
       "\\[\\left[ \\begin{array}{rr}\\frac{- v - i w \\sin{\\left(kx \\right)} + w \\cos{\\left(kx \\right)}}{\\sqrt{v^{2} - 2 v w \\cos{\\left(kx \\right)} + w^{2}}}&1\\end{array}\\right]\\]"
      ],
      "text/plain": [
       "1×2 Array{Sym,2}:\n",
       " (-v - I*w*sin(kx) + w*cos(kx))/sqrt(v^2 - 2*v*w*cos(kx) + w^2)  1"
      ]
     },
     "execution_count": 17,
     "metadata": {},
     "output_type": "execute_result"
    }
   ],
   "source": [
    "    a=eigvecs(H1)\n",
    "    b=eigvecs(-H1)\n",
    "    U1=simplify.(hcat(a[1], a[2]))"
   ]
  },
  {
   "cell_type": "code",
   "execution_count": 19,
   "metadata": {},
   "outputs": [
    {
     "data": {
      "text/latex": [
       "\\[\\left[ \\begin{array}{rr}\\frac{- v - i w \\sin{\\left(kx \\right)} + w \\cos{\\left(kx \\right)}}{\\sqrt{v^{2} - 2 v w \\cos{\\left(kx \\right)} + w^{2}}}&1\\end{array}\\right]\\]"
      ],
      "text/plain": [
       "1×2 Array{Sym,2}:\n",
       " (-v - I*w*sin(kx) + w*cos(kx))/sqrt(v^2 - 2*v*w*cos(kx) + w^2)  1"
      ]
     },
     "execution_count": 19,
     "metadata": {},
     "output_type": "execute_result"
    }
   ],
   "source": [
    "U1"
   ]
  },
  {
   "cell_type": "code",
   "execution_count": null,
   "metadata": {},
   "outputs": [],
   "source": []
  },
  {
   "cell_type": "code",
   "execution_count": null,
   "metadata": {},
   "outputs": [],
   "source": []
  },
  {
   "cell_type": "markdown",
   "metadata": {},
   "source": [
    "### S"
   ]
  },
  {
   "cell_type": "code",
   "execution_count": null,
   "metadata": {},
   "outputs": [],
   "source": []
  },
  {
   "cell_type": "code",
   "execution_count": 20,
   "metadata": {},
   "outputs": [
    {
     "data": {
      "text/plain": [
       "S (generic function with 1 method)"
      ]
     },
     "execution_count": 20,
     "metadata": {},
     "output_type": "execute_result"
    }
   ],
   "source": [
    "function S(H)\n",
    "    display(\"___________________________________________________\")\n",
    "    display(H)\n",
    "    display(\"___________________________________________________\")\n",
    "    display(\"Eigenvalues of H and -H\")\n",
    "    display( eigvals(H))\n",
    "    display( eigvals(-H))\n",
    "    display(\"___________________________________________________\")\n",
    "\n",
    "    U1=eigvecs(H)\n",
    "    U2=eigvecs(-H)\n",
    "    Ut=U2*U1^(-1)\n",
    "    Ut=simplify.(Ut)\n",
    "    display(simplify.(U2*conj(transpose(U2))-Matrix{Float64}(I,2,2)  ))\n",
    "\n",
    "    \n",
    "    display(\"What is the operator?\")\n",
    "    display(Ut)\n",
    "    display(\"___________________________________________________\")\n",
    "    \n",
    "    \n",
    "    display(\"Does Ut relate them? Ut*H*Ut^-1 +H = 0?\")\n",
    "    t1=simplify.(Ut*H*Ut^(-1)+H)\n",
    "    if t1==zeros(2,2)\n",
    "        test1=true\n",
    "    else\n",
    "        test1=false\n",
    "    end\n",
    "    display(t1)\n",
    "    display(\"___________________________________________________\")\n",
    "\n",
    "    display(\"Symmetry Operator? Ut*conj(transpose(Ut))- 1 =0 \")\n",
    "    t2=simplify.(Ut*conj(transpose(Ut))-Matrix{Float64}(I,2,2) )\n",
    "    if t2==zeros(2,2)\n",
    "        test2=true\n",
    "    else\n",
    "        test2=false\n",
    "    end\n",
    "    display(t2)\n",
    "    display(\"___________________________________________________\")\n",
    "    return test1,test2\n",
    "end"
   ]
  },
  {
   "cell_type": "code",
   "execution_count": 21,
   "metadata": {},
   "outputs": [
    {
     "data": {
      "text/plain": [
       "\"___________________________________________________\""
      ]
     },
     "metadata": {},
     "output_type": "display_data"
    },
    {
     "data": {
      "text/latex": [
       "\\[\\left[ \\begin{array}{rr}0&v + i w \\sin{\\left(kx \\right)} - w \\cos{\\left(kx \\right)}\\\\v - i w \\sin{\\left(kx \\right)} - w \\cos{\\left(kx \\right)}&0\\end{array}\\right]\\]"
      ],
      "text/plain": [
       "2×2 Array{Sym,2}:\n",
       "                           0  v + I*w*sin(kx) - w*cos(kx)\n",
       " v - I*w*sin(kx) - w*cos(kx)                            0"
      ]
     },
     "metadata": {},
     "output_type": "display_data"
    },
    {
     "data": {
      "text/plain": [
       "\"___________________________________________________\""
      ]
     },
     "metadata": {},
     "output_type": "display_data"
    },
    {
     "data": {
      "text/plain": [
       "\"Eigenvalues of H and -H\""
      ]
     },
     "metadata": {},
     "output_type": "display_data"
    },
    {
     "data": {
      "text/latex": [
       "\\[ \\left[ \\begin{array}{r}- \\sqrt{v^{2} - 2 v w \\cos{\\left(kx \\right)} + w^{2}}\\\\\\sqrt{v^{2} - 2 v w \\cos{\\left(kx \\right)} + w^{2}}\\end{array} \\right] \\]"
      ],
      "text/plain": [
       "2-element Array{Sym,1}:\n",
       " -sqrt(v^2 - 2*v*w*cos(kx) + w^2)\n",
       "  sqrt(v^2 - 2*v*w*cos(kx) + w^2)"
      ]
     },
     "metadata": {},
     "output_type": "display_data"
    },
    {
     "data": {
      "text/latex": [
       "\\[ \\left[ \\begin{array}{r}- \\sqrt{v^{2} - 2 v w \\cos{\\left(kx \\right)} + w^{2}}\\\\\\sqrt{v^{2} - 2 v w \\cos{\\left(kx \\right)} + w^{2}}\\end{array} \\right] \\]"
      ],
      "text/plain": [
       "2-element Array{Sym,1}:\n",
       " -sqrt(v^2 - 2*v*w*cos(kx) + w^2)\n",
       "  sqrt(v^2 - 2*v*w*cos(kx) + w^2)"
      ]
     },
     "metadata": {},
     "output_type": "display_data"
    },
    {
     "data": {
      "text/plain": [
       "\"___________________________________________________\""
      ]
     },
     "metadata": {},
     "output_type": "display_data"
    },
    {
     "data": {
      "text/latex": [
       "\\[\\left[ \\begin{array}{rr}- \\frac{1.0 \\sqrt{v^{2} - 2 v w \\cos{\\left(kx \\right)} + w^{2}} - 2 \\left(v^{2} - 2 v w \\cos{\\left(kx \\right)} + w^{2}\\right) \\overline{\\frac{1}{\\sqrt{v^{2} - 2 v w \\cos{\\left(kx \\right)} + w^{2}}}}}{\\sqrt{v^{2} - 2 v w \\cos{\\left(kx \\right)} + w^{2}}}&0\\\\0&1.0\\end{array}\\right]\\]"
      ],
      "text/plain": [
       "2×2 Array{Sym,2}:\n",
       " -(1.0*sqrt(v^2 - 2*v*w*cos(kx) + w^2) - 2*(v^2 - 2*v*w*cos(kx) + w^2)*conjugate(1/sqrt(v^2 - 2*v*w*cos(kx) + w^2)))/sqrt(v^2 - 2*v*w*cos(kx) + w^2)  …                 0\n",
       "                                                                                                                                                   0     1.00000000000000"
      ]
     },
     "metadata": {},
     "output_type": "display_data"
    },
    {
     "data": {
      "text/plain": [
       "\"What is the operator?\""
      ]
     },
     "metadata": {},
     "output_type": "display_data"
    },
    {
     "data": {
      "text/latex": [
       "\\[\\left[ \\begin{array}{rr}-1&0\\\\0&1\\end{array}\\right]\\]"
      ],
      "text/plain": [
       "2×2 Array{Sym,2}:\n",
       " -1  0\n",
       "  0  1"
      ]
     },
     "metadata": {},
     "output_type": "display_data"
    },
    {
     "data": {
      "text/plain": [
       "\"___________________________________________________\""
      ]
     },
     "metadata": {},
     "output_type": "display_data"
    },
    {
     "data": {
      "text/plain": [
       "\"Does Ut relate them? Ut*H*Ut^-1 +H = 0?\""
      ]
     },
     "metadata": {},
     "output_type": "display_data"
    },
    {
     "data": {
      "text/latex": [
       "\\[\\left[ \\begin{array}{rr}0&0\\\\0&0\\end{array}\\right]\\]"
      ],
      "text/plain": [
       "2×2 Array{Sym,2}:\n",
       " 0  0\n",
       " 0  0"
      ]
     },
     "metadata": {},
     "output_type": "display_data"
    },
    {
     "data": {
      "text/plain": [
       "\"___________________________________________________\""
      ]
     },
     "metadata": {},
     "output_type": "display_data"
    },
    {
     "data": {
      "text/plain": [
       "\"Symmetry Operator? Ut*conj(transpose(Ut))- 1 =0 \""
      ]
     },
     "metadata": {},
     "output_type": "display_data"
    },
    {
     "data": {
      "text/latex": [
       "\\[\\left[ \\begin{array}{rr}0&0\\\\0&0\\end{array}\\right]\\]"
      ],
      "text/plain": [
       "2×2 Array{Sym,2}:\n",
       " 0  0\n",
       " 0  0"
      ]
     },
     "metadata": {},
     "output_type": "display_data"
    },
    {
     "data": {
      "text/plain": [
       "\"___________________________________________________\""
      ]
     },
     "metadata": {},
     "output_type": "display_data"
    },
    {
     "data": {
      "text/plain": [
       "(true, true)"
      ]
     },
     "execution_count": 21,
     "metadata": {},
     "output_type": "execute_result"
    }
   ],
   "source": [
    "S(H1)"
   ]
  },
  {
   "cell_type": "code",
   "execution_count": 22,
   "metadata": {
    "scrolled": false
   },
   "outputs": [
    {
     "data": {
      "text/plain": [
       "\"___________________________________________________\""
      ]
     },
     "metadata": {},
     "output_type": "display_data"
    },
    {
     "data": {
      "text/latex": [
       "\\[\\left[ \\begin{array}{rr}μ + 2 \\cos{\\left(kx \\right)} + 2 \\cos{\\left(ky \\right)}&- 2 \\sin{\\left(kx \\right)} + 2 i \\sin{\\left(ky \\right)}\\\\- 2 \\sin{\\left(kx \\right)} - 2 i \\sin{\\left(ky \\right)}&- μ - 2 \\cos{\\left(kx \\right)} - 2 \\cos{\\left(ky \\right)}\\end{array}\\right]\\]"
      ],
      "text/plain": [
       "2×2 Array{Sym,2}:\n",
       " μ + 2*cos(kx) + 2*cos(ky)    -2*sin(kx) + 2*I*sin(ky)\n",
       "  -2*sin(kx) - 2*I*sin(ky)  -μ - 2*cos(kx) - 2*cos(ky)"
      ]
     },
     "metadata": {},
     "output_type": "display_data"
    },
    {
     "data": {
      "text/plain": [
       "\"___________________________________________________\""
      ]
     },
     "metadata": {},
     "output_type": "display_data"
    },
    {
     "data": {
      "text/plain": [
       "\"Eigenvalues of H and -H\""
      ]
     },
     "metadata": {},
     "output_type": "display_data"
    },
    {
     "data": {
      "text/latex": [
       "\\[ \\left[ \\begin{array}{r}\\sqrt{μ^{2} + 4 μ \\cos{\\left(kx \\right)} + 4 μ \\cos{\\left(ky \\right)} + 8 \\cos{\\left(kx \\right)} \\cos{\\left(ky \\right)} + 8}\\\\- \\sqrt{μ^{2} + 4 μ \\cos{\\left(kx \\right)} + 4 μ \\cos{\\left(ky \\right)} + 8 \\cos{\\left(kx \\right)} \\cos{\\left(ky \\right)} + 8}\\end{array} \\right] \\]"
      ],
      "text/plain": [
       "2-element Array{Sym,1}:\n",
       "  sqrt(μ^2 + 4*μ*cos(kx) + 4*μ*cos(ky) + 8*cos(kx)*cos(ky) + 8)\n",
       " -sqrt(μ^2 + 4*μ*cos(kx) + 4*μ*cos(ky) + 8*cos(kx)*cos(ky) + 8)"
      ]
     },
     "metadata": {},
     "output_type": "display_data"
    },
    {
     "data": {
      "text/latex": [
       "\\[ \\left[ \\begin{array}{r}\\sqrt{μ^{2} + 4 μ \\cos{\\left(kx \\right)} + 4 μ \\cos{\\left(ky \\right)} + 8 \\cos{\\left(kx \\right)} \\cos{\\left(ky \\right)} + 8}\\\\- \\sqrt{μ^{2} + 4 μ \\cos{\\left(kx \\right)} + 4 μ \\cos{\\left(ky \\right)} + 8 \\cos{\\left(kx \\right)} \\cos{\\left(ky \\right)} + 8}\\end{array} \\right] \\]"
      ],
      "text/plain": [
       "2-element Array{Sym,1}:\n",
       "  sqrt(μ^2 + 4*μ*cos(kx) + 4*μ*cos(ky) + 8*cos(kx)*cos(ky) + 8)\n",
       " -sqrt(μ^2 + 4*μ*cos(kx) + 4*μ*cos(ky) + 8*cos(kx)*cos(ky) + 8)"
      ]
     },
     "metadata": {},
     "output_type": "display_data"
    },
    {
     "data": {
      "text/plain": [
       "\"___________________________________________________\""
      ]
     },
     "metadata": {},
     "output_type": "display_data"
    },
    {
     "data": {
      "text/latex": [
       "\\[\\left[ \\begin{array}{rr}\\frac{\\left(2 \\sin{\\left(kx \\right)} - 2 i \\sin{\\left(ky \\right)}\\right) \\left(2 \\sin{\\left(kx \\right)} + 2 i \\sin{\\left(ky \\right)}\\right)}{\\left(μ + \\sqrt{μ^{2} + 4 μ \\cos{\\left(kx \\right)} + 4 μ \\cos{\\left(ky \\right)} + 8 \\cos{\\left(kx \\right)} \\cos{\\left(ky \\right)} + 8} + 2 \\cos{\\left(kx \\right)} + 2 \\cos{\\left(ky \\right)}\\right) \\left(μ + 2 \\cos{\\left(kx \\right)} + 2 \\cos{\\left(ky \\right)} + \\overline{\\sqrt{μ^{2} + 4 μ \\cos{\\left(kx \\right)} + 4 μ \\cos{\\left(ky \\right)} + 8 \\cos{\\left(kx \\right)} \\cos{\\left(ky \\right)} + 8}}\\right)} + \\frac{\\left(2 \\sin{\\left(kx \\right)} - 2 i \\sin{\\left(ky \\right)}\\right) \\left(2 \\sin{\\left(kx \\right)} + 2 i \\sin{\\left(ky \\right)}\\right)}{\\left(μ - \\sqrt{μ^{2} + 4 μ \\cos{\\left(kx \\right)} + 4 μ \\cos{\\left(ky \\right)} + 8 \\cos{\\left(kx \\right)} \\cos{\\left(ky \\right)} + 8} + 2 \\cos{\\left(kx \\right)} + 2 \\cos{\\left(ky \\right)}\\right) \\left(μ + 2 \\cos{\\left(kx \\right)} + 2 \\cos{\\left(ky \\right)} - \\overline{\\sqrt{μ^{2} + 4 μ \\cos{\\left(kx \\right)} + 4 μ \\cos{\\left(ky \\right)} + 8 \\cos{\\left(kx \\right)} \\cos{\\left(ky \\right)} + 8}}\\right)} - 1.0&\\frac{μ \\sin{\\left(kx \\right)} - i μ \\sin{\\left(ky \\right)} + 2 \\sin{\\left(kx \\right)} \\cos{\\left(ky \\right)} + \\sin{\\left(2 kx \\right)} - 2 i \\sin{\\left(ky \\right)} \\cos{\\left(kx \\right)} - i \\sin{\\left(2 ky \\right)}}{\\cos^{2}{\\left(kx \\right)} + \\cos^{2}{\\left(ky \\right)} - 2}\\\\\\frac{4 \\left(\\sin{\\left(kx \\right)} + i \\sin{\\left(ky \\right)}\\right) \\left(μ + 2 \\cos{\\left(kx \\right)} + 2 \\cos{\\left(ky \\right)}\\right)}{\\left(μ + 2 \\cos{\\left(kx \\right)} + 2 \\cos{\\left(ky \\right)} - \\overline{\\sqrt{μ^{2} + 4 μ \\cos{\\left(kx \\right)} + 4 μ \\cos{\\left(ky \\right)} + 8 \\cos{\\left(kx \\right)} \\cos{\\left(ky \\right)} + 8}}\\right) \\left(μ + 2 \\cos{\\left(kx \\right)} + 2 \\cos{\\left(ky \\right)} + \\overline{\\sqrt{μ^{2} + 4 μ \\cos{\\left(kx \\right)} + 4 μ \\cos{\\left(ky \\right)} + 8 \\cos{\\left(kx \\right)} \\cos{\\left(ky \\right)} + 8}}\\right)}&1.0\\end{array}\\right]\\]"
      ],
      "text/plain": [
       "2×2 Array{Sym,2}:\n",
       " (2*sin(kx) - 2*I*sin(ky))*(2*sin(kx) + 2*I*sin(ky))/((μ + sqrt(μ^2 + 4*μ*cos(kx) + 4*μ*cos(ky) + 8*cos(kx)*cos(ky) + 8) + 2*cos(kx) + 2*cos(ky))*(μ + 2*cos(kx) + 2*cos(ky) + conjugate(sqrt(μ^2 + 4*μ*cos(kx) + 4*μ*cos(ky) + 8*cos(kx)*cos(ky) + 8)))) + (2*sin(kx) - 2*I*sin(ky))*(2*sin(kx) + 2*I*sin(ky))/((μ - sqrt(μ^2 + 4*μ*cos(kx) + 4*μ*cos(ky) + 8*cos(kx)*cos(ky) + 8) + 2*cos(kx) + 2*cos(ky))*(μ + 2*cos(kx) + 2*cos(ky) - conjugate(sqrt(μ^2 + 4*μ*cos(kx) + 4*μ*cos(ky) + 8*cos(kx)*cos(ky) + 8)))) - 1.0  …  (μ*sin(kx) - I*μ*sin(ky) + 2*sin(kx)*cos(ky) + sin(2*kx) - 2*I*sin(ky)*cos(kx) - I*sin(2*ky))/(cos(kx)^2 + cos(ky)^2 - 2)\n",
       "                                                                                                                                                                                                                                                       4*(sin(kx) + I*sin(ky))*(μ + 2*cos(kx) + 2*cos(ky))/((μ + 2*cos(kx) + 2*cos(ky) - conjugate(sqrt(μ^2 + 4*μ*cos(kx) + 4*μ*cos(ky) + 8*cos(kx)*cos(ky) + 8)))*(μ + 2*cos(kx) + 2*cos(ky) + conjugate(sqrt(μ^2 + 4*μ*cos(kx) + 4*μ*cos(ky) + 8*cos(kx)*cos(ky) + 8))))                                                                                                              1.00000000000000"
      ]
     },
     "metadata": {},
     "output_type": "display_data"
    },
    {
     "data": {
      "text/plain": [
       "\"What is the operator?\""
      ]
     },
     "metadata": {},
     "output_type": "display_data"
    },
    {
     "data": {
      "text/latex": [
       "\\[\\left[ \\begin{array}{rr}-1&\\frac{2 i μ \\sin{\\left(kx \\right)} \\sin{\\left(ky \\right)} + μ \\cos^{2}{\\left(kx \\right)} - μ \\cos^{2}{\\left(ky \\right)} + 4 i \\sin{\\left(kx \\right)} \\sin{\\left(ky \\right)} \\cos{\\left(kx \\right)} + 4 i \\sin{\\left(kx \\right)} \\sin{\\left(ky \\right)} \\cos{\\left(ky \\right)} + 2 \\cos^{3}{\\left(kx \\right)} + 2 \\cos^{2}{\\left(kx \\right)} \\cos{\\left(ky \\right)} - 2 \\cos{\\left(kx \\right)} \\cos^{2}{\\left(ky \\right)} - 2 \\cos^{3}{\\left(ky \\right)}}{\\sin^{3}{\\left(kx \\right)} - i \\sin^{2}{\\left(kx \\right)} \\sin{\\left(ky \\right)} + \\sin{\\left(kx \\right)} \\sin^{2}{\\left(ky \\right)} - i \\sin^{3}{\\left(ky \\right)}}\\\\0&1\\end{array}\\right]\\]"
      ],
      "text/plain": [
       "2×2 Array{Sym,2}:\n",
       " -1  …  (2*I*μ*sin(kx)*sin(ky) + μ*cos(kx)^2 - μ*cos(ky)^2 + 4*I*sin(kx)*sin(ky)*cos(kx) + 4*I*sin(kx)*sin(ky)*cos(ky) + 2*cos(kx)^3 + 2*cos(kx)^2*cos(ky) - 2*cos(kx)*cos(ky)^2 - 2*cos(ky)^3)/(sin(kx)^3 - I*sin(kx)^2*sin(ky) + sin(kx)*sin(ky)^2 - I*sin(ky)^3)\n",
       "  0                                                                                                                                                                                                                                                               1"
      ]
     },
     "metadata": {},
     "output_type": "display_data"
    },
    {
     "data": {
      "text/plain": [
       "\"___________________________________________________\""
      ]
     },
     "metadata": {},
     "output_type": "display_data"
    },
    {
     "data": {
      "text/plain": [
       "\"Does Ut relate them? Ut*H*Ut^-1 +H = 0?\""
      ]
     },
     "metadata": {},
     "output_type": "display_data"
    },
    {
     "data": {
      "text/latex": [
       "\\[\\left[ \\begin{array}{rr}0&0\\\\0&0\\end{array}\\right]\\]"
      ],
      "text/plain": [
       "2×2 Array{Sym,2}:\n",
       " 0  0\n",
       " 0  0"
      ]
     },
     "metadata": {},
     "output_type": "display_data"
    },
    {
     "data": {
      "text/plain": [
       "\"___________________________________________________\""
      ]
     },
     "metadata": {},
     "output_type": "display_data"
    },
    {
     "data": {
      "text/plain": [
       "\"Symmetry Operator? Ut*conj(transpose(Ut))- 1 =0 \""
      ]
     },
     "metadata": {},
     "output_type": "display_data"
    },
    {
     "data": {
      "text/latex": [
       "\\[\\left[ \\begin{array}{rr}- \\frac{\\left(2 i μ \\sin{\\left(kx \\right)} \\sin{\\left(ky \\right)} - μ \\cos^{2}{\\left(kx \\right)} + μ \\cos^{2}{\\left(ky \\right)} + i \\left(\\cos{\\left(kx - 2 ky \\right)} - \\cos{\\left(kx + 2 ky \\right)}\\right) + i \\left(\\cos{\\left(2 kx - ky \\right)} - \\cos{\\left(2 kx + ky \\right)}\\right) - 2 \\cos^{3}{\\left(kx \\right)} - 2 \\cos^{2}{\\left(kx \\right)} \\cos{\\left(ky \\right)} + 2 \\cos{\\left(kx \\right)} \\cos^{2}{\\left(ky \\right)} + 2 \\cos^{3}{\\left(ky \\right)}\\right) \\left(2 i μ \\sin{\\left(kx \\right)} \\sin{\\left(ky \\right)} + μ \\cos^{2}{\\left(kx \\right)} - μ \\cos^{2}{\\left(ky \\right)} + i \\left(\\cos{\\left(kx - 2 ky \\right)} - \\cos{\\left(kx + 2 ky \\right)}\\right) + i \\left(\\cos{\\left(2 kx - ky \\right)} - \\cos{\\left(2 kx + ky \\right)}\\right) + 2 \\cos^{3}{\\left(kx \\right)} + 2 \\cos^{2}{\\left(kx \\right)} \\cos{\\left(ky \\right)} - 2 \\cos{\\left(kx \\right)} \\cos^{2}{\\left(ky \\right)} - 2 \\cos^{3}{\\left(ky \\right)}\\right)}{\\left(\\sin^{3}{\\left(kx \\right)} - i \\sin^{2}{\\left(kx \\right)} \\sin{\\left(ky \\right)} + \\sin{\\left(kx \\right)} \\sin^{2}{\\left(ky \\right)} - i \\sin^{3}{\\left(ky \\right)}\\right) \\left(\\sin^{3}{\\left(kx \\right)} + i \\sin^{2}{\\left(kx \\right)} \\sin{\\left(ky \\right)} + \\sin{\\left(kx \\right)} \\sin^{2}{\\left(ky \\right)} + i \\sin^{3}{\\left(ky \\right)}\\right)}&\\frac{2 i μ \\sin{\\left(kx \\right)} \\sin{\\left(ky \\right)} + μ \\cos^{2}{\\left(kx \\right)} - μ \\cos^{2}{\\left(ky \\right)} + i \\left(\\cos{\\left(kx - 2 ky \\right)} - \\cos{\\left(kx + 2 ky \\right)}\\right) + i \\left(\\cos{\\left(2 kx - ky \\right)} - \\cos{\\left(2 kx + ky \\right)}\\right) + 2 \\cos^{3}{\\left(kx \\right)} + 2 \\cos^{2}{\\left(kx \\right)} \\cos{\\left(ky \\right)} - 2 \\cos{\\left(kx \\right)} \\cos^{2}{\\left(ky \\right)} - 2 \\cos^{3}{\\left(ky \\right)}}{\\sin^{3}{\\left(kx \\right)} - i \\sin^{2}{\\left(kx \\right)} \\sin{\\left(ky \\right)} + \\sin{\\left(kx \\right)} \\sin^{2}{\\left(ky \\right)} - i \\sin^{3}{\\left(ky \\right)}}\\\\\\frac{- 2 i μ \\sin{\\left(kx \\right)} \\sin{\\left(ky \\right)} + μ \\cos^{2}{\\left(kx \\right)} - μ \\cos^{2}{\\left(ky \\right)} - i \\left(\\cos{\\left(kx - 2 ky \\right)} - \\cos{\\left(kx + 2 ky \\right)}\\right) - i \\left(\\cos{\\left(2 kx - ky \\right)} - \\cos{\\left(2 kx + ky \\right)}\\right) + 2 \\cos^{3}{\\left(kx \\right)} + 2 \\cos^{2}{\\left(kx \\right)} \\cos{\\left(ky \\right)} - 2 \\cos{\\left(kx \\right)} \\cos^{2}{\\left(ky \\right)} - 2 \\cos^{3}{\\left(ky \\right)}}{\\sin^{3}{\\left(kx \\right)} + i \\sin^{2}{\\left(kx \\right)} \\sin{\\left(ky \\right)} + \\sin{\\left(kx \\right)} \\sin^{2}{\\left(ky \\right)} + i \\sin^{3}{\\left(ky \\right)}}&0\\end{array}\\right]\\]"
      ],
      "text/plain": [
       "2×2 Array{Sym,2}:\n",
       " -(2*I*μ*sin(kx)*sin(ky) - μ*cos(kx)^2 + μ*cos(ky)^2 + I*(cos(kx - 2*ky) - cos(kx + 2*ky)) + I*(cos(2*kx - ky) - cos(2*kx + ky)) - 2*cos(kx)^3 - 2*cos(kx)^2*cos(ky) + 2*cos(kx)*cos(ky)^2 + 2*cos(ky)^3)*(2*I*μ*sin(kx)*sin(ky) + μ*cos(kx)^2 - μ*cos(ky)^2 + I*(cos(kx - 2*ky) - cos(kx + 2*ky)) + I*(cos(2*kx - ky) - cos(2*kx + ky)) + 2*cos(kx)^3 + 2*cos(kx)^2*cos(ky) - 2*cos(kx)*cos(ky)^2 - 2*cos(ky)^3)/((sin(kx)^3 - I*sin(kx)^2*sin(ky) + sin(kx)*sin(ky)^2 - I*sin(ky)^3)*(sin(kx)^3 + I*sin(kx)^2*sin(ky) + sin(kx)*sin(ky)^2 + I*sin(ky)^3))  …  (2*I*μ*sin(kx)*sin(ky) + μ*cos(kx)^2 - μ*cos(ky)^2 + I*(cos(kx - 2*ky) - cos(kx + 2*ky)) + I*(cos(2*kx - ky) - cos(2*kx + ky)) + 2*cos(kx)^3 + 2*cos(kx)^2*cos(ky) - 2*cos(kx)*cos(ky)^2 - 2*cos(ky)^3)/(sin(kx)^3 - I*sin(kx)^2*sin(ky) + sin(kx)*sin(ky)^2 - I*sin(ky)^3)\n",
       "                                                                                                                                                                                                                                                                               (-2*I*μ*sin(kx)*sin(ky) + μ*cos(kx)^2 - μ*cos(ky)^2 - I*(cos(kx - 2*ky) - cos(kx + 2*ky)) - I*(cos(2*kx - ky) - cos(2*kx + ky)) + 2*cos(kx)^3 + 2*cos(kx)^2*cos(ky) - 2*cos(kx)*cos(ky)^2 - 2*cos(ky)^3)/(sin(kx)^3 + I*sin(kx)^2*sin(ky) + sin(kx)*sin(ky)^2 + I*sin(ky)^3)                                                                                                                                                                                                                                                                               0"
      ]
     },
     "metadata": {},
     "output_type": "display_data"
    },
    {
     "data": {
      "text/plain": [
       "\"___________________________________________________\""
      ]
     },
     "metadata": {},
     "output_type": "display_data"
    },
    {
     "data": {
      "text/plain": [
       "(true, false)"
      ]
     },
     "execution_count": 22,
     "metadata": {},
     "output_type": "execute_result"
    }
   ],
   "source": [
    "S(H2)"
   ]
  },
  {
   "cell_type": "code",
   "execution_count": 30,
   "metadata": {
    "scrolled": true
   },
   "outputs": [
    {
     "data": {
      "text/plain": [
       "\"___________________________________________________\""
      ]
     },
     "metadata": {},
     "output_type": "display_data"
    },
    {
     "data": {
      "text/latex": [
       "\\[\\left[ \\begin{array}{rr}t \\cos{\\left (kx \\right )} - μ&i Δ0 \\sin{\\left (kx \\right )}\\\\- i Δ0 \\sin{\\left (kx \\right )}&- t \\cos{\\left (kx \\right )} + μ\\end{array}\\right]\\]"
      ],
      "text/plain": [
       "2×2 Array{Sym,2}:\n",
       " t*cos(kx) - μ    I*Δ0*sin(kx)\n",
       " -I*Δ0*sin(kx)  -t*cos(kx) + μ"
      ]
     },
     "metadata": {},
     "output_type": "display_data"
    },
    {
     "data": {
      "text/plain": [
       "\"___________________________________________________\""
      ]
     },
     "metadata": {},
     "output_type": "display_data"
    },
    {
     "data": {
      "text/plain": [
       "\"Eigenvalues of H and -H\""
      ]
     },
     "metadata": {},
     "output_type": "display_data"
    },
    {
     "data": {
      "text/latex": [
       "\\[ \\left[ \\begin{array}{r}\\sqrt{Δ0^{2} \\sin^{2}{\\left (kx \\right )} + \\left(t \\cos{\\left (kx \\right )} - μ\\right)^{2}}\\\\- \\sqrt{Δ0^{2} \\sin^{2}{\\left (kx \\right )} + \\left(t \\cos{\\left (kx \\right )} - μ\\right)^{2}}\\end{array} \\right] \\]"
      ],
      "text/plain": [
       "2-element Array{Sym,1}:\n",
       "  sqrt(Δ0^2*sin(kx)^2 + (t*cos(kx) - μ)^2)\n",
       " -sqrt(Δ0^2*sin(kx)^2 + (t*cos(kx) - μ)^2)"
      ]
     },
     "metadata": {},
     "output_type": "display_data"
    },
    {
     "data": {
      "text/latex": [
       "\\[ \\left[ \\begin{array}{r}\\sqrt{Δ0^{2} \\sin^{2}{\\left (kx \\right )} + \\left(t \\cos{\\left (kx \\right )} - μ\\right)^{2}}\\\\- \\sqrt{Δ0^{2} \\sin^{2}{\\left (kx \\right )} + \\left(t \\cos{\\left (kx \\right )} - μ\\right)^{2}}\\end{array} \\right] \\]"
      ],
      "text/plain": [
       "2-element Array{Sym,1}:\n",
       "  sqrt(Δ0^2*sin(kx)^2 + (t*cos(kx) - μ)^2)\n",
       " -sqrt(Δ0^2*sin(kx)^2 + (t*cos(kx) - μ)^2)"
      ]
     },
     "metadata": {},
     "output_type": "display_data"
    },
    {
     "data": {
      "text/plain": [
       "\"___________________________________________________\""
      ]
     },
     "metadata": {},
     "output_type": "display_data"
    },
    {
     "data": {
      "text/plain": [
       "\"What is the operator?\""
      ]
     },
     "metadata": {},
     "output_type": "display_data"
    },
    {
     "data": {
      "text/latex": [
       "\\[\\left[ \\begin{array}{rr}-1&\\frac{2 i \\left(t \\cos{\\left (kx \\right )} - μ\\right)}{Δ0 \\sin{\\left (kx \\right )}}\\\\0&1\\end{array}\\right]\\]"
      ],
      "text/plain": [
       "2×2 Array{Sym,2}:\n",
       " -1  2*I*(t*cos(kx) - μ)/(Δ0*sin(kx))\n",
       "  0                                 1"
      ]
     },
     "metadata": {},
     "output_type": "display_data"
    },
    {
     "data": {
      "text/plain": [
       "\"___________________________________________________\""
      ]
     },
     "metadata": {},
     "output_type": "display_data"
    },
    {
     "data": {
      "text/plain": [
       "\"Does Ut relate them? Ut*H*Ut^-1 +H = 0?\""
      ]
     },
     "metadata": {},
     "output_type": "display_data"
    },
    {
     "data": {
      "text/latex": [
       "\\[\\left[ \\begin{array}{rr}0&0\\\\0&0\\end{array}\\right]\\]"
      ],
      "text/plain": [
       "2×2 Array{Sym,2}:\n",
       " 0  0\n",
       " 0  0"
      ]
     },
     "metadata": {},
     "output_type": "display_data"
    },
    {
     "data": {
      "text/plain": [
       "\"___________________________________________________\""
      ]
     },
     "metadata": {},
     "output_type": "display_data"
    },
    {
     "data": {
      "text/plain": [
       "\"Symmetry Operator? Ut*conj(transpose(Ut))= 1\""
      ]
     },
     "metadata": {},
     "output_type": "display_data"
    },
    {
     "data": {
      "text/latex": [
       "\\[\\left[ \\begin{array}{rr}1 + \\frac{4 \\left(t \\cos{\\left (kx \\right )} - μ\\right)^{2}}{Δ0^{2} \\sin^{2}{\\left (kx \\right )}}&\\frac{2 i \\left(t \\cos{\\left (kx \\right )} - μ\\right)}{Δ0 \\sin{\\left (kx \\right )}}\\\\\\frac{2 i \\left(- t \\cos{\\left (kx \\right )} + μ\\right)}{Δ0 \\sin{\\left (kx \\right )}}&1\\end{array}\\right]\\]"
      ],
      "text/plain": [
       "2×2 Array{Sym,2}:\n",
       " 1 + 4*(t*cos(kx) - μ)^2/(Δ0^2*sin(kx)^2)  2*I*(t*cos(kx) - μ)/(Δ0*sin(kx))\n",
       "        2*I*(-t*cos(kx) + μ)/(Δ0*sin(kx))                                 1"
      ]
     },
     "metadata": {},
     "output_type": "display_data"
    },
    {
     "data": {
      "text/plain": [
       "\"___________________________________________________\""
      ]
     },
     "metadata": {},
     "output_type": "display_data"
    },
    {
     "data": {
      "text/plain": [
       "(true, false)"
      ]
     },
     "execution_count": 30,
     "metadata": {},
     "output_type": "execute_result"
    }
   ],
   "source": [
    "S(H3)"
   ]
  },
  {
   "cell_type": "code",
   "execution_count": 26,
   "metadata": {},
   "outputs": [
    {
     "data": {
      "text/plain": [
       "C (generic function with 1 method)"
      ]
     },
     "execution_count": 26,
     "metadata": {},
     "output_type": "execute_result"
    }
   ],
   "source": [
    "function C(H,params)\n",
    "    cH=conj.(H)\n",
    "    \n",
    "    Hp=-H\n",
    "    for ii in params\n",
    "        Hp=subs(Hp,ii,-ii)\n",
    "    end\n",
    "    \n",
    "    display(\"___________________________________________________\")\n",
    "    display(H)\n",
    "    display(\"___________________________________________________\")\n",
    "    display(\"Eigenvalues of H and -H\")\n",
    "    display( eigvals(cH)) \n",
    "    display( eigvals(Hp))\n",
    "    display(\"___________________________________________________\")\n",
    "\n",
    "    a=eigvecs(cH)\n",
    "    b=eigvecs(Hp)\n",
    "    U1=simplify.(hcat(a[1], a[2]))\n",
    "    U2=simplify.(hcat(b[1],b[2]))\n",
    "    Ut=U2*U1^(-1)\n",
    "    Ut=simplify.(Ut)\n",
    "\n",
    "    display(\"What is Ut?\")\n",
    "    display(Ut)\n",
    "    display(\"___________________________________________________\")\n",
    "\n",
    "    display(\"Does Ut relate them? Ut*conj(H)*Ut^-1 +H(-k) = 0?\")\n",
    "    t1=simplify.(Ut*cH*Ut^(-1)-Hp)\n",
    "    if t1==zeros(2,2)\n",
    "        test1=true\n",
    "    else\n",
    "        test1=false\n",
    "    end\n",
    "    display(t1)\n",
    "    display(\"___________________________________________________\")\n",
    "\n",
    "    display(\"Symmetry Operator? Ut* conj(Ut)= 1\")\n",
    "    t2=simplify.(Ut*conj(Ut) )\n",
    "    if t2==Matrix{Float64}(I,2,2)\n",
    "        test2=+1\n",
    "    elseif t2==-Matrix{Float64}(I,2,2)\n",
    "        test2=-1\n",
    "    else\n",
    "        test2=0\n",
    "    end\n",
    "    display(t2)\n",
    "    display(\"___________________________________________________\")\n",
    "    return test1,test2\n",
    "end"
   ]
  },
  {
   "cell_type": "code",
   "execution_count": 27,
   "metadata": {},
   "outputs": [
    {
     "data": {
      "text/plain": [
       "\"___________________________________________________\""
      ]
     },
     "metadata": {},
     "output_type": "display_data"
    },
    {
     "data": {
      "text/latex": [
       "\\[\\left[ \\begin{array}{rr}0&v + i w \\sin{\\left (kx \\right )} - w \\cos{\\left (kx \\right )}\\\\v - i w \\sin{\\left (kx \\right )} - w \\cos{\\left (kx \\right )}&0\\end{array}\\right]\\]"
      ],
      "text/plain": [
       "2×2 Array{Sym,2}:\n",
       "                           0  v + I*w*sin(kx) - w*cos(kx)\n",
       " v - I*w*sin(kx) - w*cos(kx)                            0"
      ]
     },
     "metadata": {},
     "output_type": "display_data"
    },
    {
     "data": {
      "text/plain": [
       "\"___________________________________________________\""
      ]
     },
     "metadata": {},
     "output_type": "display_data"
    },
    {
     "data": {
      "text/plain": [
       "\"Eigenvalues of H and -H\""
      ]
     },
     "metadata": {},
     "output_type": "display_data"
    },
    {
     "data": {
      "text/latex": [
       "\\[ \\left[ \\begin{array}{r}\\sqrt{v^{2} - 2 v w \\cos{\\left (kx \\right )} + w^{2}}\\\\- \\sqrt{v^{2} - 2 v w \\cos{\\left (kx \\right )} + w^{2}}\\end{array} \\right] \\]"
      ],
      "text/plain": [
       "2-element Array{Sym,1}:\n",
       "  sqrt(v^2 - 2*v*w*cos(kx) + w^2)\n",
       " -sqrt(v^2 - 2*v*w*cos(kx) + w^2)"
      ]
     },
     "metadata": {},
     "output_type": "display_data"
    },
    {
     "data": {
      "text/latex": [
       "\\[ \\left[ \\begin{array}{r}\\sqrt{v^{2} - 2 v w \\cos{\\left (kx \\right )} + w^{2}}\\\\- \\sqrt{v^{2} - 2 v w \\cos{\\left (kx \\right )} + w^{2}}\\end{array} \\right] \\]"
      ],
      "text/plain": [
       "2-element Array{Sym,1}:\n",
       "  sqrt(v^2 - 2*v*w*cos(kx) + w^2)\n",
       " -sqrt(v^2 - 2*v*w*cos(kx) + w^2)"
      ]
     },
     "metadata": {},
     "output_type": "display_data"
    },
    {
     "data": {
      "text/plain": [
       "\"___________________________________________________\""
      ]
     },
     "metadata": {},
     "output_type": "display_data"
    },
    {
     "data": {
      "text/plain": [
       "\"What is Ut?\""
      ]
     },
     "metadata": {},
     "output_type": "display_data"
    },
    {
     "data": {
      "text/latex": [
       "\\[\\left[ \\begin{array}{rr}-1&0\\\\0&1\\end{array}\\right]\\]"
      ],
      "text/plain": [
       "2×2 Array{Sym,2}:\n",
       " -1  0\n",
       "  0  1"
      ]
     },
     "metadata": {},
     "output_type": "display_data"
    },
    {
     "data": {
      "text/plain": [
       "\"___________________________________________________\""
      ]
     },
     "metadata": {},
     "output_type": "display_data"
    },
    {
     "data": {
      "text/plain": [
       "\"Does Ut relate them? Ut*conj(H)*Ut^-1 +H(-k) = 0?\""
      ]
     },
     "metadata": {},
     "output_type": "display_data"
    },
    {
     "data": {
      "text/latex": [
       "\\[\\left[ \\begin{array}{rr}0&0\\\\0&0\\end{array}\\right]\\]"
      ],
      "text/plain": [
       "2×2 Array{Sym,2}:\n",
       " 0  0\n",
       " 0  0"
      ]
     },
     "metadata": {},
     "output_type": "display_data"
    },
    {
     "data": {
      "text/plain": [
       "\"___________________________________________________\""
      ]
     },
     "metadata": {},
     "output_type": "display_data"
    },
    {
     "data": {
      "text/plain": [
       "\"Symmetry Operator? Ut* conj(Ut)= 1\""
      ]
     },
     "metadata": {},
     "output_type": "display_data"
    },
    {
     "data": {
      "text/latex": [
       "\\[\\left[ \\begin{array}{rr}1&0\\\\0&1\\end{array}\\right]\\]"
      ],
      "text/plain": [
       "2×2 Array{Sym,2}:\n",
       " 1  0\n",
       " 0  1"
      ]
     },
     "metadata": {},
     "output_type": "display_data"
    },
    {
     "data": {
      "text/plain": [
       "\"___________________________________________________\""
      ]
     },
     "metadata": {},
     "output_type": "display_data"
    },
    {
     "data": {
      "text/plain": [
       "(true, 1)"
      ]
     },
     "execution_count": 27,
     "metadata": {},
     "output_type": "execute_result"
    }
   ],
   "source": [
    "C(H1,[kx])"
   ]
  },
  {
   "cell_type": "code",
   "execution_count": 28,
   "metadata": {},
   "outputs": [
    {
     "data": {
      "text/plain": [
       "\"___________________________________________________\""
      ]
     },
     "metadata": {},
     "output_type": "display_data"
    },
    {
     "data": {
      "text/latex": [
       "\\[\\left[ \\begin{array}{rr}μ + 2 \\cos{\\left (kx \\right )} + 2 \\cos{\\left (ky \\right )}&- 2 \\sin{\\left (kx \\right )} + 2 i \\sin{\\left (ky \\right )}\\\\- 2 \\sin{\\left (kx \\right )} - 2 i \\sin{\\left (ky \\right )}&- μ - 2 \\cos{\\left (kx \\right )} - 2 \\cos{\\left (ky \\right )}\\end{array}\\right]\\]"
      ],
      "text/plain": [
       "2×2 Array{Sym,2}:\n",
       " μ + 2*cos(kx) + 2*cos(ky)    -2*sin(kx) + 2*I*sin(ky)\n",
       "  -2*sin(kx) - 2*I*sin(ky)  -μ - 2*cos(kx) - 2*cos(ky)"
      ]
     },
     "metadata": {},
     "output_type": "display_data"
    },
    {
     "data": {
      "text/plain": [
       "\"___________________________________________________\""
      ]
     },
     "metadata": {},
     "output_type": "display_data"
    },
    {
     "data": {
      "text/plain": [
       "\"Eigenvalues of H and -H\""
      ]
     },
     "metadata": {},
     "output_type": "display_data"
    },
    {
     "data": {
      "text/latex": [
       "\\[ \\left[ \\begin{array}{r}\\sqrt{μ^{2} + 4 μ \\cos{\\left (kx \\right )} + 4 μ \\cos{\\left (ky \\right )} + 8 \\cos{\\left (kx \\right )} \\cos{\\left (ky \\right )} + 8}\\\\- \\sqrt{μ^{2} + 4 μ \\cos{\\left (kx \\right )} + 4 μ \\cos{\\left (ky \\right )} + 8 \\cos{\\left (kx \\right )} \\cos{\\left (ky \\right )} + 8}\\end{array} \\right] \\]"
      ],
      "text/plain": [
       "2-element Array{Sym,1}:\n",
       "  sqrt(μ^2 + 4*μ*cos(kx) + 4*μ*cos(ky) + 8*cos(kx)*cos(ky) + 8)\n",
       " -sqrt(μ^2 + 4*μ*cos(kx) + 4*μ*cos(ky) + 8*cos(kx)*cos(ky) + 8)"
      ]
     },
     "metadata": {},
     "output_type": "display_data"
    },
    {
     "data": {
      "text/latex": [
       "\\[ \\left[ \\begin{array}{r}\\sqrt{μ^{2} + 4 μ \\cos{\\left (kx \\right )} + 4 μ \\cos{\\left (ky \\right )} + 8 \\cos{\\left (kx \\right )} \\cos{\\left (ky \\right )} + 8}\\\\- \\sqrt{μ^{2} + 4 μ \\cos{\\left (kx \\right )} + 4 μ \\cos{\\left (ky \\right )} + 8 \\cos{\\left (kx \\right )} \\cos{\\left (ky \\right )} + 8}\\end{array} \\right] \\]"
      ],
      "text/plain": [
       "2-element Array{Sym,1}:\n",
       "  sqrt(μ^2 + 4*μ*cos(kx) + 4*μ*cos(ky) + 8*cos(kx)*cos(ky) + 8)\n",
       " -sqrt(μ^2 + 4*μ*cos(kx) + 4*μ*cos(ky) + 8*cos(kx)*cos(ky) + 8)"
      ]
     },
     "metadata": {},
     "output_type": "display_data"
    },
    {
     "data": {
      "text/plain": [
       "\"___________________________________________________\""
      ]
     },
     "metadata": {},
     "output_type": "display_data"
    },
    {
     "data": {
      "text/plain": [
       "\"What is Ut?\""
      ]
     },
     "metadata": {},
     "output_type": "display_data"
    },
    {
     "data": {
      "text/latex": [
       "\\[\\left[ \\begin{array}{rr}\\frac{\\sin{\\left (kx \\right )} - i \\sin{\\left (ky \\right )}}{\\sin{\\left (kx \\right )} + i \\sin{\\left (ky \\right )}}&\\frac{- μ \\sin{\\left (kx \\right )} + i μ \\sin{\\left (ky \\right )} - 2 \\sin{\\left (kx \\right )} \\cos{\\left (ky \\right )} - \\sin{\\left (2 kx \\right )} + 2 i \\sin{\\left (ky \\right )} \\cos{\\left (kx \\right )} + i \\sin{\\left (2 ky \\right )}}{\\cos^{2}{\\left (kx \\right )} + \\cos^{2}{\\left (ky \\right )} - 2}\\\\0&1\\end{array}\\right]\\]"
      ],
      "text/plain": [
       "2×2 Array{Sym,2}:\n",
       " (sin(kx) - I*sin(ky))/(sin(kx) + I*sin(ky))  …  (-μ*sin(kx) + I*μ*sin(ky) - 2*sin(kx)*cos(ky) - sin(2*kx) + 2*I*sin(ky)*cos(kx) + I*sin(2*ky))/(cos(kx)^2 + cos(ky)^2 - 2)\n",
       "                                           0                                                                                                                              1"
      ]
     },
     "metadata": {},
     "output_type": "display_data"
    },
    {
     "data": {
      "text/plain": [
       "\"___________________________________________________\""
      ]
     },
     "metadata": {},
     "output_type": "display_data"
    },
    {
     "data": {
      "text/plain": [
       "\"Does Ut relate them? Ut*conj(H)*Ut^-1 +H(-k) = 0?\""
      ]
     },
     "metadata": {},
     "output_type": "display_data"
    },
    {
     "data": {
      "text/latex": [
       "\\[\\left[ \\begin{array}{rr}0&\\frac{4 \\sin^{6}{\\left (kx \\right )} - 6 \\sin^{4}{\\left (kx \\right )} + \\frac{9 \\sin^{2}{\\left (kx \\right )}}{4} - \\frac{\\sin^{2}{\\left (3 kx \\right )}}{4} + 4 \\sin^{6}{\\left (ky \\right )} - 6 \\sin^{4}{\\left (ky \\right )} + \\frac{9 \\sin^{2}{\\left (ky \\right )}}{4} - \\frac{\\sin^{2}{\\left (3 ky \\right )}}{4}}{\\left(\\sin{\\left (kx \\right )} + i \\sin{\\left (ky \\right )}\\right) \\left(\\sin^{2}{\\left (kx \\right )} + \\sin^{2}{\\left (ky \\right )}\\right)^{2}}\\\\0&0\\end{array}\\right]\\]"
      ],
      "text/plain": [
       "2×2 Array{Sym,2}:\n",
       " 0  …  (4*sin(kx)^6 - 6*sin(kx)^4 + 9*sin(kx)^2/4 - sin(3*kx)^2/4 + 4*sin(ky)^6 - 6*sin(ky)^4 + 9*sin(ky)^2/4 - sin(3*ky)^2/4)/((sin(kx) + I*sin(ky))*(sin(kx)^2 + sin(ky)^2)^2)\n",
       " 0                                                                                                                                                                             0"
      ]
     },
     "metadata": {},
     "output_type": "display_data"
    },
    {
     "data": {
      "text/plain": [
       "\"___________________________________________________\""
      ]
     },
     "metadata": {},
     "output_type": "display_data"
    },
    {
     "data": {
      "text/plain": [
       "\"Symmetry Operator? Ut* conj(Ut)= 1\""
      ]
     },
     "metadata": {},
     "output_type": "display_data"
    },
    {
     "data": {
      "text/latex": [
       "\\[\\left[ \\begin{array}{rr}1&\\frac{2 \\left(μ + 2 \\cos{\\left (kx \\right )} + 2 \\cos{\\left (ky \\right )}\\right)}{\\sin{\\left (kx \\right )} + i \\sin{\\left (ky \\right )}}\\\\0&1\\end{array}\\right]\\]"
      ],
      "text/plain": [
       "2×2 Array{Sym,2}:\n",
       " 1  2*(μ + 2*cos(kx) + 2*cos(ky))/(sin(kx) + I*sin(ky))\n",
       " 0                                                    1"
      ]
     },
     "metadata": {},
     "output_type": "display_data"
    },
    {
     "data": {
      "text/plain": [
       "\"___________________________________________________\""
      ]
     },
     "metadata": {},
     "output_type": "display_data"
    },
    {
     "data": {
      "text/plain": [
       "(false, 0)"
      ]
     },
     "execution_count": 28,
     "metadata": {},
     "output_type": "execute_result"
    }
   ],
   "source": [
    "C(H2,[kx,ky])"
   ]
  },
  {
   "cell_type": "code",
   "execution_count": null,
   "metadata": {},
   "outputs": [],
   "source": []
  },
  {
   "cell_type": "code",
   "execution_count": null,
   "metadata": {},
   "outputs": [],
   "source": []
  },
  {
   "cell_type": "code",
   "execution_count": null,
   "metadata": {},
   "outputs": [],
   "source": []
  },
  {
   "cell_type": "code",
   "execution_count": null,
   "metadata": {},
   "outputs": [],
   "source": []
  },
  {
   "cell_type": "code",
   "execution_count": null,
   "metadata": {},
   "outputs": [],
   "source": []
  },
  {
   "cell_type": "code",
   "execution_count": null,
   "metadata": {},
   "outputs": [],
   "source": []
  },
  {
   "cell_type": "code",
   "execution_count": null,
   "metadata": {},
   "outputs": [],
   "source": []
  },
  {
   "cell_type": "code",
   "execution_count": null,
   "metadata": {},
   "outputs": [],
   "source": []
  },
  {
   "cell_type": "code",
   "execution_count": null,
   "metadata": {},
   "outputs": [],
   "source": []
  },
  {
   "cell_type": "code",
   "execution_count": null,
   "metadata": {},
   "outputs": [],
   "source": []
  },
  {
   "cell_type": "code",
   "execution_count": null,
   "metadata": {},
   "outputs": [],
   "source": []
  }
 ],
 "metadata": {
  "@webio": {
   "lastCommId": null,
   "lastKernelId": null
  },
  "kernelspec": {
   "display_name": "Julia 1.1.0",
   "language": "julia",
   "name": "julia-1.1"
  },
  "language_info": {
   "file_extension": ".jl",
   "mimetype": "application/julia",
   "name": "julia",
   "version": "1.1.0"
  }
 },
 "nbformat": 4,
 "nbformat_minor": 2
}
