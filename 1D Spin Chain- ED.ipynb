{
 "cells": [
  {
   "cell_type": "markdown",
   "metadata": {},
   "source": [
    "# Exact Diagonalization of a 1D Spin Chain\n",
    "<b> Christina Lee\n",
    "\n",
    "Category: Grad\n",
    "\n",
    "Prerequisites: Many-Body Quantum Mechanics </b>"
   ]
  },
  {
   "cell_type": "markdown",
   "metadata": {
    "toc": "true"
   },
   "source": [
    "# Table of Contents\n",
    " <p><div class=\"lev1\"><a href=\"#Exact-Diagonalization-of-a-1D-Spin-Chain\">Exact Diagonalization of a 1D Spin Chain</a></div><div class=\"lev2\"><a href=\"#Theoretical-Background\">Theoretical Background</a></div><div class=\"lev2\"><a href=\"#Initializing-Variables\">Initializing Variables</a></div><div class=\"lev2\"><a href=\"#Creating-Basis-Vectors\">Creating Basis Vectors</a></div><div class=\"lev3\"><a href=\"#Conservation-of-Magnetization\">Conservation of Magnetization</a></div><div class=\"lev5\"><a href=\"#The-Hamiltonian-Operator\">The Hamiltonian Operator</a></div><div class=\"lev2\"><a href=\"#For-Further-Information\">For Further Information</a></div><div class=\"lev1\"><a href=\"#A-different-way-I'm-trying\">A different way I'm trying</a></div>"
   ]
  },
  {
   "cell_type": "markdown",
   "metadata": {},
   "source": [
    "## Theoretical Background \n",
    "\\begin{equation}\n",
    "\\mathcal{H}= J \\sum\\limits_{\\langle i,j \\rangle} \\mathbf{S}_i \\cdot \\mathbf{S}_j\n",
    "\\end{equation}\n",
    "\\begin{equation}\n",
    "\\mathcal{H} = J \\sum\\limits_{\\langle i,j \\rangle}\\left[ S_i^z S_j^z + \\frac{1}{2} \\left(S^+_iS^-_j + S^-_i S^+_j \\right)\\right]\n",
    "\\end{equation}\n",
    "\n",
    "\\begin{equation}\n",
    "\\mathcal{H}|\\Psi (...,i,j,...) \\rangle \n",
    "    = \\left( \\sum\\limits_{\\langle i,j \\rangle} S^z_i S^z_j \\right) | \\Psi (...,i,j,...) \\rangle +\n",
    "    \\sum\\limits_{\\langle i,j \\rangle} \n",
    "\\end{equation}"
   ]
  },
  {
   "cell_type": "code",
   "execution_count": 1,
   "metadata": {
    "collapsed": false,
    "init_cell": true
   },
   "outputs": [
    {
     "name": "stderr",
     "output_type": "stream",
     "text": [
      "INFO: Recompiling stale cache file /Users/mira/.julia/lib/v0.4/Iterators.ji for module Iterators.\n"
     ]
    }
   ],
   "source": [
    "# Pkg.update()\n",
    "# Pkg.add(\"Iterators\")\n",
    "# Pkg.add(\"PyPlot\")\n",
    "using Iterators\n",
    "using PyPlot"
   ]
  },
  {
   "cell_type": "markdown",
   "metadata": {},
   "source": [
    "## Initializing Variables"
   ]
  },
  {
   "cell_type": "code",
   "execution_count": 3,
   "metadata": {
    "collapsed": false
   },
   "outputs": [
    {
     "data": {
      "text/plain": [
       "16"
      ]
     },
     "execution_count": 3,
     "metadata": {},
     "output_type": "execute_result"
    }
   ],
   "source": [
    "n=4\n",
    "nstates=2^n"
   ]
  },
  {
   "cell_type": "markdown",
   "metadata": {},
   "source": [
    "## Creating Basis Vectors\n",
    "\n",
    "If we were doing this with a different language, we could actually represent our ones and zeros with individual bits instead of the collection of 8-bits in our `Int8`. But right now lets do a trade off of computational efficiency versus coding efficiency and call this implementation sufficient."
   ]
  },
  {
   "cell_type": "code",
   "execution_count": 35,
   "metadata": {
    "collapsed": false
   },
   "outputs": [
    {
     "data": {
      "text/plain": [
       "16-element Array{Tuple{Int8,Int8,Int8,Int8},1}:\n",
       " (0,0,0,0)\n",
       " (1,0,0,0)\n",
       " (0,1,0,0)\n",
       " (1,1,0,0)\n",
       " (0,0,1,0)\n",
       " (1,0,1,0)\n",
       " (0,1,1,0)\n",
       " (1,1,1,0)\n",
       " (0,0,0,1)\n",
       " (1,0,0,1)\n",
       " (0,1,0,1)\n",
       " (1,1,0,1)\n",
       " (0,0,1,1)\n",
       " (1,0,1,1)\n",
       " (0,1,1,1)\n",
       " (1,1,1,1)"
      ]
     },
     "execution_count": 35,
     "metadata": {},
     "output_type": "execute_result"
    }
   ],
   "source": [
    "Ψv=collect(product(repeated(convert(Int8,0):convert(Int8,1),n)...))"
   ]
  },
  {
   "cell_type": "code",
   "execution_count": 73,
   "metadata": {
    "collapsed": false
   },
   "outputs": [],
   "source": [
    "Ψvn=Array{Array{Int8}}(nstates)\n",
    "for i in 1:nstates\n",
    "    Ψvn[i]=collect(Ψv[i])\n",
    "end"
   ]
  },
  {
   "cell_type": "code",
   "execution_count": 74,
   "metadata": {
    "collapsed": false
   },
   "outputs": [
    {
     "data": {
      "text/plain": [
       "16-element Array{Array{Int8,N},1}:\n",
       " Int8[0,0,0,0]\n",
       " Int8[1,0,0,0]\n",
       " Int8[0,1,0,0]\n",
       " Int8[0,0,1,0]\n",
       " Int8[0,0,0,1]\n",
       " Int8[1,1,0,0]\n",
       " Int8[1,0,1,0]\n",
       " Int8[0,1,1,0]\n",
       " Int8[1,0,0,1]\n",
       " Int8[0,1,0,1]\n",
       " Int8[0,0,1,1]\n",
       " Int8[1,1,1,0]\n",
       " Int8[1,1,0,1]\n",
       " Int8[1,0,1,1]\n",
       " Int8[0,1,1,1]\n",
       " Int8[1,1,1,1]"
      ]
     },
     "execution_count": 74,
     "metadata": {},
     "output_type": "execute_result"
    }
   ],
   "source": [
    "Ψvn"
   ]
  },
  {
   "cell_type": "markdown",
   "metadata": {},
   "source": [
    "### Conservation of Magnetization\n",
    "\n",
    "If we seperate our Hilbert Space into subspaces of conserved quantities, like total magnetization, that shrinks the size of our problem.  Here I create a vector `m` which holds the total magnetization for each of our basis states.  \n",
    "    \n",
    "We can then use a Julia sorting function to sort both `m` and `Ψv` into blocks of constant magnetization."
   ]
  },
  {
   "cell_type": "code",
   "execution_count": 62,
   "metadata": {
    "collapsed": false
   },
   "outputs": [
    {
     "data": {
      "text/plain": [
       "16x2 Array{Any,2}:\n",
       " Int8[0,0,0,0]  -2\n",
       " Int8[1,0,0,0]  -1\n",
       " Int8[0,1,0,0]  -1\n",
       " Int8[0,0,1,0]  -1\n",
       " Int8[0,0,0,1]  -1\n",
       " Int8[1,1,0,0]   0\n",
       " Int8[1,0,1,0]   0\n",
       " Int8[0,1,1,0]   0\n",
       " Int8[1,0,0,1]   0\n",
       " Int8[0,1,0,1]   0\n",
       " Int8[0,0,1,1]   0\n",
       " Int8[1,1,1,0]   1\n",
       " Int8[1,1,0,1]   1\n",
       " Int8[1,0,1,1]   1\n",
       " Int8[0,1,1,1]   1\n",
       " Int8[1,1,1,1]   2"
      ]
     },
     "execution_count": 62,
     "metadata": {},
     "output_type": "execute_result"
    }
   ],
   "source": [
    "m=zeros(Int64,nstates)\n",
    "for i in 1:nstates\n",
    "    m[i]=sum(Ψvn[i]-.5)\n",
    "end\n",
    "ind=sortperm(m)\n",
    "m=m[ind]\n",
    "Ψvn=Ψvn[ind]\n",
    "[Ψvn m]"
   ]
  },
  {
   "cell_type": "code",
   "execution_count": 75,
   "metadata": {
    "collapsed": false
   },
   "outputs": [],
   "source": [
    "Ψvm=Array{Array{Array{Int8}}}(n+1)\n",
    "lengths=zeros(Int16,n+1);\n",
    "old=1\n",
    "new=1\n",
    "for i in 1:(n+1)\n",
    "    Ψvm[i]=[]\n",
    "    for j in old:new\n",
    "       push!(Ψvm[i],Ψvn[j]) \n",
    "    end\n",
    "    old=new+1\n",
    "    new=old+binomial(n,i)-1\n",
    "    lengths[i]=binomial(n,i-1)\n",
    "end"
   ]
  },
  {
   "cell_type": "code",
   "execution_count": 105,
   "metadata": {
    "collapsed": false
   },
   "outputs": [
    {
     "data": {
      "text/plain": [
       "6x2 Array{Any,2}:\n",
       " 1  Int8[1,1,0,0]\n",
       " 2  Int8[1,0,1,0]\n",
       " 3  Int8[0,1,1,0]\n",
       " 4  Int8[1,0,0,1]\n",
       " 5  Int8[0,1,0,1]\n",
       " 6  Int8[0,0,1,1]"
      ]
     },
     "execution_count": 105,
     "metadata": {},
     "output_type": "execute_result"
    }
   ],
   "source": [
    "[1:6 Ψvm[3]]"
   ]
  },
  {
   "cell_type": "markdown",
   "metadata": {},
   "source": [
    "##### The Hamiltonian Operator"
   ]
  },
  {
   "cell_type": "code",
   "execution_count": 86,
   "metadata": {
    "collapsed": false
   },
   "outputs": [
    {
     "data": {
      "text/plain": [
       "4x4 Array{Float64,2}:\n",
       " -1.0   0.5   0.0   0.0\n",
       "  0.5  -1.0   0.5   0.0\n",
       "  0.0   0.5  -1.0   0.5\n",
       "  0.0   0.0   0.5  -1.0"
      ]
     },
     "execution_count": 86,
     "metadata": {},
     "output_type": "execute_result"
    }
   ],
   "source": [
    "state=2\n",
    "i=lengths[state]\n",
    "M=zeros(i,i)\n",
    "for j in 1:i\n",
    "    M[j,j]=m[i]\n",
    "end\n",
    "M[1,2]=.5\n",
    "M[2,1]=.5\n",
    "M[2,3]=.5\n",
    "M[3,2]=.5\n",
    "M[4,3]=.5\n",
    "M[3,4]=.5\n",
    "\n",
    "M"
   ]
  },
  {
   "cell_type": "code",
   "execution_count": 123,
   "metadata": {
    "collapsed": false
   },
   "outputs": [
    {
     "data": {
      "text/plain": [
       "6-element Array{Array{Int8,N},1}:\n",
       " Int8[1,1,0,0]\n",
       " Int8[1,0,1,0]\n",
       " Int8[0,1,1,0]\n",
       " Int8[1,0,0,1]\n",
       " Int8[0,1,0,1]\n",
       " Int8[0,0,1,1]"
      ]
     },
     "execution_count": 123,
     "metadata": {},
     "output_type": "execute_result"
    }
   ],
   "source": [
    "test=[0;Ψvm[3]]-[Ψvm[3];0]\n",
    "test=test[2:end-1]\n",
    "Ψvm[3]"
   ]
  },
  {
   "cell_type": "code",
   "execution_count": 125,
   "metadata": {
    "collapsed": false
   },
   "outputs": [
    {
     "data": {
      "text/plain": [
       "5-element Array{Int64,1}:\n",
       " 1\n",
       " 1\n",
       " 2\n",
       " 1\n",
       " 1"
      ]
     },
     "execution_count": 125,
     "metadata": {},
     "output_type": "execute_result"
    }
   ],
   "source": [
    "test2=[count(i->i==1,test[i]) for i in 1:5]"
   ]
  },
  {
   "cell_type": "code",
   "execution_count": 82,
   "metadata": {
    "collapsed": false
   },
   "outputs": [
    {
     "name": "stdout",
     "output_type": "stream",
     "text": [
      "[-2.0]\n",
      "[-1.0 0.0 0.0 0.0\n",
      " 0.0 -1.0 0.0 0.0\n",
      " 0.0 0.0 -1.0 0.0\n",
      " 0.0 0.0 0.0 -1.0]\n",
      "[0.0 0.0 0.0 0.0 0.0 0.0\n",
      " 0.0 0.0 0.0 0.0 0.0 0.0\n",
      " 0.0 0.0 0.0 0.0 0.0 0.0\n",
      " 0.0 0.0 0.0 0.0 0.0 0.0\n",
      " 0.0 0.0 0.0 0.0 0.0 0.0\n",
      " 0.0 0.0 0.0 0.0 0.0 0.0]\n",
      "[-1.0 0.0 0.0 0.0\n",
      " 0.0 -1.0 0.0 0.0\n",
      " 0.0 0.0 -1.0 0.0\n",
      " 0.0 0.0 0.0 -1.0]\n"
     ]
    }
   ],
   "source": [
    "for k in 1:n\n",
    "    i=lengths[k]\n",
    "    M=zeros(i,i)\n",
    "    for j in 1:i\n",
    "        M[j,j]=m[i]\n",
    "    end\n",
    "    println(M)\n",
    "end"
   ]
  },
  {
   "cell_type": "code",
   "execution_count": 24,
   "metadata": {
    "collapsed": false
   },
   "outputs": [
    {
     "data": {
      "text/plain": [
       "1x1 Array{Float64,2}:\n",
       " 0.0"
      ]
     },
     "execution_count": 24,
     "metadata": {},
     "output_type": "execute_result"
    }
   ],
   "source": [
    "M"
   ]
  },
  {
   "cell_type": "code",
   "execution_count": null,
   "metadata": {
    "collapsed": true
   },
   "outputs": [],
   "source": [
    "function GetOperator(basis,n)\n",
    "\tn2=2^n\n",
    "\tM=zeros(n2,n2)\n",
    "    maxbin=length(bin(n2-1))\n",
    "\n",
    "\tfor j=1:n2\n",
    "\n",
    "        for k=1:(n2/2+1)\n",
    "            count='2'\n",
    "            if j!=k\n",
    "                for m=1:maxbin\n",
    "                    if basis[j][m]!=basis[k][m] && count=='2'\n",
    "                        count=basis[j][m]\n",
    "                    elseif basis[j][m]!=basis[k][m] && basis[j][m]!=count && count !='2'\n",
    "                        count='3'\n",
    "                        M[j,k]=.5\n",
    "                        M[k,j]=.5\n",
    "                    elseif basis[j][m]!=basis[k][m] && count=='3'\n",
    "                        M[j,k]=0\n",
    "                        M[k,j]=0\n",
    "                    end\n",
    "                end\n",
    "\n",
    "            end\n",
    "        end\n",
    "\tend\n",
    "\treturn M\n",
    "end\n"
   ]
  },
  {
   "cell_type": "markdown",
   "metadata": {},
   "source": [
    "## For Further Information\n",
    "* http://physics.bu.edu/~sandvik/vietri/dia.pdf\n"
   ]
  },
  {
   "cell_type": "markdown",
   "metadata": {},
   "source": [
    "# A different way I'm trying"
   ]
  },
  {
   "cell_type": "code",
   "execution_count": 3,
   "metadata": {
    "collapsed": false
   },
   "outputs": [
    {
     "data": {
      "text/plain": [
       "16"
      ]
     },
     "execution_count": 3,
     "metadata": {},
     "output_type": "execute_result"
    }
   ],
   "source": [
    "n=4\n",
    "nstates=2^n"
   ]
  },
  {
   "cell_type": "code",
   "execution_count": 4,
   "metadata": {
    "collapsed": false
   },
   "outputs": [
    {
     "name": "stdout",
     "output_type": "stream",
     "text": [
      "0000 0\n",
      "0001 1\n",
      "0010 2\n",
      "0011 3\n",
      "0100 4\n",
      "0101 5\n",
      "0110 6\n",
      "0111 7\n",
      "1000 8\n",
      "1001 9\n",
      "1010 10\n",
      "1011 11\n",
      "1100 12\n",
      "1101 13\n",
      "1110 14\n",
      "1111 15\n"
     ]
    }
   ],
   "source": [
    "psi=collect(0:(nstates-1))\n",
    "for p in psi\n",
    "    println(bin(p,4),' ',p)\n",
    "end"
   ]
  },
  {
   "cell_type": "code",
   "execution_count": 5,
   "metadata": {
    "collapsed": false
   },
   "outputs": [
    {
     "name": "stdout",
     "output_type": "stream",
     "text": [
      "11\n",
      "110\n",
      "1100\n"
     ]
    }
   ],
   "source": [
    "powers2=collect(0:(n-1))\n",
    "powers2=2.^powers2\n",
    "mask=[0;powers2]+[powers2;0]\n",
    "mask=mask[2:end-1]\n",
    "for i in 1:(length(mask))\n",
    "    println(bin(mask[i]))\n",
    "end\n"
   ]
  },
  {
   "cell_type": "code",
   "execution_count": 48,
   "metadata": {
    "collapsed": false
   },
   "outputs": [
    {
     "data": {
      "text/plain": [
       "16-element Array{Int64,1}:\n",
       " 0\n",
       " 1\n",
       " 1\n",
       " 1\n",
       " 1\n",
       " 2\n",
       " 2\n",
       " 2\n",
       " 2\n",
       " 2\n",
       " 2\n",
       " 3\n",
       " 3\n",
       " 3\n",
       " 3\n",
       " 4"
      ]
     },
     "execution_count": 48,
     "metadata": {},
     "output_type": "execute_result"
    }
   ],
   "source": [
    "m=zeros(psi)\n",
    "for i in 1:nstates\n",
    "    m[i]=sum((psi[i]&powers2)./(powers2))\n",
    "    #println(round(Int,(psi[i]&powers2)./powers2))\n",
    "end\n",
    "m"
   ]
  },
  {
   "cell_type": "code",
   "execution_count": 50,
   "metadata": {
    "collapsed": false
   },
   "outputs": [
    {
     "data": {
      "text/plain": [
       "16x2 Array{Float64,2}:\n",
       "  0.0  -1.0\n",
       "  1.0  -0.5\n",
       "  2.0  -0.5\n",
       "  4.0  -0.5\n",
       "  8.0  -0.5\n",
       "  3.0   0.0\n",
       "  5.0   0.0\n",
       "  6.0   0.0\n",
       "  9.0   0.0\n",
       " 10.0   0.0\n",
       " 12.0   0.0\n",
       "  7.0   0.5\n",
       " 11.0   0.5\n",
       " 13.0   0.5\n",
       " 14.0   0.5\n",
       " 15.0   1.0"
      ]
     },
     "execution_count": 50,
     "metadata": {},
     "output_type": "execute_result"
    }
   ],
   "source": [
    "ind=sortperm(m)\n",
    "m=(m[ind]-n/2)/2\n",
    "psi=psi[ind]\n",
    "[psi m]"
   ]
  },
  {
   "cell_type": "code",
   "execution_count": 8,
   "metadata": {
    "collapsed": false
   },
   "outputs": [
    {
     "data": {
      "text/plain": [
       "5-element Array{Array{Int64,N},1}:\n",
       " [0]            \n",
       " [1,2,4,8]      \n",
       " [3,5,6,9,10,12]\n",
       " [7,11,13,14]   \n",
       " [15]           "
      ]
     },
     "execution_count": 8,
     "metadata": {},
     "output_type": "execute_result"
    }
   ],
   "source": [
    "psia=Array{Array{Int64}}(n+1)\n",
    "old=1\n",
    "new=1\n",
    "for i in 1:(n+1)\n",
    "    #println(old,' ',new)\n",
    "    psia[i]=psi[old:new]\n",
    "    old=new+1\n",
    "    new=new+binomial(n,i)\n",
    "end\n",
    "psia"
   ]
  },
  {
   "cell_type": "code",
   "execution_count": 58,
   "metadata": {
    "collapsed": false
   },
   "outputs": [
    {
     "data": {
      "text/plain": [
       "6x6 Array{Float64,2}:\n",
       " 0.0  0.0  0.0  0.0  0.0  0.0\n",
       " 0.0  0.0  0.0  0.0  0.0  0.0\n",
       " 0.0  0.0  0.0  0.0  0.0  0.0\n",
       " 0.0  0.0  0.0  0.0  0.0  0.0\n",
       " 0.0  0.0  0.0  0.0  0.0  0.0\n",
       " 0.0  0.0  0.0  0.0  0.0  0.0"
      ]
     },
     "execution_count": 58,
     "metadata": {},
     "output_type": "execute_result"
    }
   ],
   "source": [
    "i=3\n",
    "dim=binomial(n,i-1)\n",
    "M=(i-1-n/2)/2*eye(Float64,dim,dim)"
   ]
  },
  {
   "cell_type": "code",
   "execution_count": 60,
   "metadata": {
    "collapsed": false
   },
   "outputs": [
    {
     "data": {
      "text/plain": [
       "6-element Array{Int64,1}:\n",
       "  3\n",
       "  5\n",
       "  6\n",
       "  9\n",
       " 10\n",
       " 12"
      ]
     },
     "execution_count": 60,
     "metadata": {},
     "output_type": "execute_result"
    }
   ],
   "source": [
    "test=psia[i]"
   ]
  },
  {
   "cell_type": "code",
   "execution_count": 70,
   "metadata": {
    "collapsed": false
   },
   "outputs": [
    {
     "name": "stdout",
     "output_type": "stream",
     "text": [
      "0011 3\n",
      "0101 5\n",
      "0110 6\n",
      "1001 9\n",
      "1010 10\n",
      "1100 12\n"
     ]
    }
   ],
   "source": [
    "for p in test\n",
    "    println(bin(p,4),' ',p)\n",
    "end"
   ]
  },
  {
   "cell_type": "code",
   "execution_count": 68,
   "metadata": {
    "collapsed": false
   },
   "outputs": [
    {
     "name": "stdout",
     "output_type": "stream",
     "text": [
      "[1"
     ]
    },
    {
     "ename": "LoadError",
     "evalue": "LoadError: indexing Array{Float64,2} with types Tuple{Int64,Void} is not supported\nwhile loading In[68], in expression starting on line 1",
     "output_type": "error",
     "traceback": [
      "LoadError: indexing Array{Float64,2} with types Tuple{Int64,Void} is not supported\nwhile loading In[68], in expression starting on line 1",
      "",
      " in error at /Applications/Julia-0.4.1.app/Contents/Resources/julia/lib/julia/sys.dylib",
      " in setindex! at abstractarray.jl:595",
      " [inlined code] from In[68]:10",
      " in anonymous at no file:0"
     ]
    },
    {
     "name": "stdout",
     "output_type": "stream",
     "text": [
      ",1,0,0]\n",
      "[1,1,0,0] 5[1.0,0.0,1.0,0.0]\n",
      "2\n",
      "[1,0,1,0]\n",
      "[1,0,1,0] 6[0.0,1.0,1.0,0.0]\n",
      "3\n",
      "[1,0,1,0] 3[1.0,1.0,0.0,0.0]\n",
      "nothing\n"
     ]
    }
   ],
   "source": [
    "for a in 1:6\n",
    "    temp=round(Int,(test[a]&powers2)./powers2)\n",
    "    println(temp)\n",
    "    for b in 1:(n-1)\n",
    "        if temp[b+1]!=temp[b]\n",
    "            println(temp,' ',test[a] $ mask[b], ((test[a]$mask[b]) & powers2)./powers2)\n",
    "            nonzero=test[a] $ mask[b]\n",
    "            c=findc(nonzero,test)\n",
    "            println(c)\n",
    "            M[a,c]=.5\n",
    "            M[c,a]=.5\n",
    "        end\n",
    "    end\n",
    "end"
   ]
  },
  {
   "cell_type": "code",
   "execution_count": 42,
   "metadata": {
    "collapsed": false
   },
   "outputs": [
    {
     "data": {
      "text/plain": [
       "findc (generic function with 1 method)"
      ]
     },
     "execution_count": 42,
     "metadata": {},
     "output_type": "execute_result"
    }
   ],
   "source": [
    "function findc(nonzero::Int,test::Array)\n",
    "    \n",
    "    lp=ceil(Int,length(test)/2)\n",
    "    while lp>1\n",
    "        #println(lp)\n",
    "        if(nonzero==test[lp] )\n",
    "            return lp\n",
    "        elseif nonzero < test[lp] \n",
    "            #println(\"less than \",nonzero,' ',test[lp],' ',lp)\n",
    "            test=test[1:(lp)]\n",
    "            lp=ceil(Int,length(test)/2)\n",
    "            \n",
    "        else\n",
    "            #println(\"greater than \",nonzero,' ',test[lp])\n",
    "            test=test[(lp):end]\n",
    "            lp=ceil(Int,length(test)/2)\n",
    "        end\n",
    "    end\n",
    "end"
   ]
  },
  {
   "cell_type": "code",
   "execution_count": null,
   "metadata": {
    "collapsed": false
   },
   "outputs": [],
   "source": []
  },
  {
   "cell_type": "code",
   "execution_count": null,
   "metadata": {
    "collapsed": true
   },
   "outputs": [],
   "source": []
  }
 ],
 "metadata": {
  "kernelspec": {
   "display_name": "Julia 0.4.1",
   "language": "julia",
   "name": "julia-0.4"
  },
  "language_info": {
   "file_extension": ".jl",
   "mimetype": "application/julia",
   "name": "julia",
   "version": "0.4.1"
  },
  "toc": {
   "toc_cell": true,
   "toc_number_sections": false,
   "toc_section_display": "none",
   "toc_threshold": 6,
   "toc_window_display": true
  },
  "toc_position": {
   "left": "661.083px",
   "right": "25.85px",
   "top": "26px",
   "width": "196px"
  }
 },
 "nbformat": 4,
 "nbformat_minor": 0
}
