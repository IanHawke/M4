{
 "cells": [
  {
   "cell_type": "markdown",
   "metadata": {},
   "source": [
    "# Exact Diagonalization of a 1D Spin Chain\n",
    "<b> Christina Lee\n",
    "\n",
    "Category: Grad\n",
    "\n",
    "Prerequisites: Many-Body Quantum Mechanics </b>"
   ]
  },
  {
   "cell_type": "markdown",
   "metadata": {
    "toc": "true"
   },
   "source": [
    "# Table of Contents\n",
    " <p><div class=\"lev1\"><a href=\"#Exact-Diagonalization-of-a-1D-Spin-Chain-1\">Exact Diagonalization of a 1D Spin Chain</a></div><div class=\"lev2\"><a href=\"#Theoretical-Background-1.1\">Theoretical Background</a></div><div class=\"lev2\"><a href=\"#Initializing-Variables-1.2\">Initializing Variables</a></div><div class=\"lev2\"><a href=\"#Creating-Basis-Vectors-1.3\">Creating Basis Vectors</a></div><div class=\"lev3\"><a href=\"#Conservation-of-Magnetization-1.3.1\">Conservation of Magnetization</a></div><div class=\"lev2\"><a href=\"#The-Hamiltonian-Operator-1.4\">The Hamiltonian Operator</a></div><div class=\"lev2\"><a href=\"#For-Further-Information-1.5\">For Further Information</a></div>"
   ]
  },
  {
   "cell_type": "markdown",
   "metadata": {},
   "source": [
    "## Theoretical Background \n",
    "\\begin{equation}\n",
    "\\mathcal{H}= J \\sum\\limits_{\\langle i,j \\rangle} \\mathbf{S}_i \\cdot \\mathbf{S}_j\n",
    "\\end{equation}\n",
    "\\begin{equation}\n",
    "\\mathcal{H} = J \\sum\\limits_{\\langle i,j \\rangle}\\left[ S_i^z S_j^z + \\frac{1}{2} \\left(S^+_iS^-_j + S^-_i S^+_j \\right)\\right]\n",
    "\\end{equation}\n",
    "\n",
    "\\begin{equation}\n",
    "\\mathcal{H}|\\Psi (...,i,j,...) \\rangle \n",
    "    = \\left( \\sum\\limits_{\\langle i,j \\rangle} S^z_i S^z_j \\right) | \\Psi (...,i,j,...) \\rangle +\n",
    "    \\sum\\limits_{\\langle i,j \\rangle} \n",
    "\\end{equation}"
   ]
  },
  {
   "cell_type": "code",
   "execution_count": 1,
   "metadata": {
    "collapsed": true,
    "init_cell": true
   },
   "outputs": [],
   "source": [
    "# Pkg.update()\n",
    "# Pkg.add(\"Iterators\")\n",
    "# Pkg.add(\"PyPlot\")\n",
    "using Iterators\n",
    "using PyPlot"
   ]
  },
  {
   "cell_type": "markdown",
   "metadata": {},
   "source": [
    "## Initializing Variables"
   ]
  },
  {
   "cell_type": "code",
   "execution_count": 12,
   "metadata": {
    "collapsed": false
   },
   "outputs": [
    {
     "data": {
      "text/plain": [
       "8"
      ]
     },
     "execution_count": 12,
     "metadata": {},
     "output_type": "execute_result"
    }
   ],
   "source": [
    "n=3\n",
    "nstates=2^n"
   ]
  },
  {
   "cell_type": "markdown",
   "metadata": {},
   "source": [
    "## Creating Basis Vectors\n",
    "\n",
    "If we were doing this with a different language, we could actually represent our ones and zeros with individual bits instead of the collection of 8-bits in our `Int8`. But right now lets do a trade off of computational efficiency versus coding efficiency and call this implementation sufficient."
   ]
  },
  {
   "cell_type": "code",
   "execution_count": 18,
   "metadata": {
    "collapsed": false
   },
   "outputs": [
    {
     "data": {
      "text/plain": [
       "8-element Array{Tuple{Int8,Int8,Int8},1}:\n",
       " (0,0,0)\n",
       " (1,0,0)\n",
       " (0,1,0)\n",
       " (1,1,0)\n",
       " (0,0,1)\n",
       " (1,0,1)\n",
       " (0,1,1)\n",
       " (1,1,1)"
      ]
     },
     "execution_count": 18,
     "metadata": {},
     "output_type": "execute_result"
    }
   ],
   "source": [
    "Ψv=collect(product(repeated(convert(Int8,0):convert(Int8,1),n)...))"
   ]
  },
  {
   "cell_type": "markdown",
   "metadata": {},
   "source": [
    "### Conservation of Magnetization\n",
    "\n",
    "If we seperate our Hilbert Space into subspaces of conserved quantities, like total magnetization, that shrinks the size of our problem.  Here I create a vector `m` which holds the total magnetization for each of our basis states.  \n",
    "    \n",
    "We can then use a Julia sorting function to sort both `m` and `Ψv` into blocks of constant magnetization."
   ]
  },
  {
   "cell_type": "code",
   "execution_count": 20,
   "metadata": {
    "collapsed": false
   },
   "outputs": [
    {
     "data": {
      "text/plain": [
       "8-element Array{Tuple{Int8,Int8,Int8},1}:\n",
       " (0,0,0)\n",
       " (1,0,0)\n",
       " (0,1,0)\n",
       " (0,0,1)\n",
       " (1,1,0)\n",
       " (1,0,1)\n",
       " (0,1,1)\n",
       " (1,1,1)"
      ]
     },
     "execution_count": 20,
     "metadata": {},
     "output_type": "execute_result"
    }
   ],
   "source": [
    "m=zeros(Int64,nstates)\n",
    "for i in 1:nstates\n",
    "    m[i]=sum(Ψv[i])\n",
    "end\n",
    "ind=sortperm(m)\n",
    "m=m[ind]\n",
    "Ψv=Ψv[ind]"
   ]
  },
  {
   "cell_type": "markdown",
   "metadata": {},
   "source": [
    "## The Hamiltonian Operator"
   ]
  },
  {
   "cell_type": "code",
   "execution_count": 22,
   "metadata": {
    "collapsed": false
   },
   "outputs": [],
   "source": [
    "M=zeros(nstates,nstates)\n",
    "\n",
    "for j=1:nstates\n",
    "\tdiag=0\n",
    "\tfor i=1:(n-1)\n",
    "        if Ψv[j][i]==Ψv[j][i+1]\n",
    "\t\t\tdiag+=.25\n",
    "\t\telse\n",
    "\t\t\tdiag-=.25\n",
    "\t\tend\n",
    "\tend\n",
    "    M[j,j]=diag\n",
    "end"
   ]
  },
  {
   "cell_type": "code",
   "execution_count": 14,
   "metadata": {
    "collapsed": false
   },
   "outputs": [
    {
     "data": {
      "text/plain": [
       "8x8 Array{Float64,2}:\n",
       " 0.5  0.0   0.0  0.0  0.0   0.0  0.0  0.0\n",
       " 0.0  0.0   0.0  0.0  0.0   0.0  0.0  0.0\n",
       " 0.0  0.0  -0.5  0.0  0.0   0.0  0.0  0.0\n",
       " 0.0  0.0   0.0  0.0  0.0   0.0  0.0  0.0\n",
       " 0.0  0.0   0.0  0.0  0.0   0.0  0.0  0.0\n",
       " 0.0  0.0   0.0  0.0  0.0  -0.5  0.0  0.0\n",
       " 0.0  0.0   0.0  0.0  0.0   0.0  0.0  0.0\n",
       " 0.0  0.0   0.0  0.0  0.0   0.0  0.0  0.5"
      ]
     },
     "execution_count": 14,
     "metadata": {},
     "output_type": "execute_result"
    }
   ],
   "source": [
    "M"
   ]
  },
  {
   "cell_type": "code",
   "execution_count": null,
   "metadata": {
    "collapsed": true
   },
   "outputs": [],
   "source": [
    "function GetOperator(basis,n)\n",
    "\tn2=2^n\n",
    "\tM=zeros(n2,n2)\n",
    "    maxbin=length(bin(n2-1))\n",
    "\n",
    "\tfor j=1:n2\n",
    "\n",
    "        for k=1:(n2/2+1)\n",
    "            count='2'\n",
    "            if j!=k\n",
    "                for m=1:maxbin\n",
    "                    if basis[j][m]!=basis[k][m] && count=='2'\n",
    "                        count=basis[j][m]\n",
    "                    elseif basis[j][m]!=basis[k][m] && basis[j][m]!=count && count !='2'\n",
    "                        count='3'\n",
    "                        M[j,k]=.5\n",
    "                        M[k,j]=.5\n",
    "                    elseif basis[j][m]!=basis[k][m] && count=='3'\n",
    "                        M[j,k]=0\n",
    "                        M[k,j]=0\n",
    "                    end\n",
    "                end\n",
    "\n",
    "            end\n",
    "        end\n",
    "\tend\n",
    "\treturn M\n",
    "end\n"
   ]
  },
  {
   "cell_type": "markdown",
   "metadata": {},
   "source": [
    "## For Further Information\n",
    "* http://physics.bu.edu/~sandvik/vietri/dia.pdf\n"
   ]
  },
  {
   "cell_type": "code",
   "execution_count": null,
   "metadata": {
    "collapsed": true
   },
   "outputs": [],
   "source": []
  }
 ],
 "metadata": {
  "kernelspec": {
   "display_name": "Julia 0.4.0",
   "language": "julia",
   "name": "julia-0.4"
  },
  "language_info": {
   "file_extension": ".jl",
   "mimetype": "application/julia",
   "name": "julia",
   "version": "0.4.0"
  },
  "toc": {
   "toc_cell": true,
   "toc_number_sections": false,
   "toc_threshold": 6,
   "toc_window_display": true
  }
 },
 "nbformat": 4,
 "nbformat_minor": 0
}
