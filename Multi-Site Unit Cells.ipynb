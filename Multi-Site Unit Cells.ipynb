{
 "cells": [
  {
   "cell_type": "markdown",
   "metadata": {},
   "source": [
    "# Multi-Site Unit Cells\n",
    "## Blog Post 2"
   ]
  },
  {
   "cell_type": "code",
   "execution_count": 1,
   "metadata": {
    "collapsed": false
   },
   "outputs": [
    {
     "name": "stderr",
     "output_type": "stream",
     "text": [
      "INFO: Nothing to be done\n",
      "INFO: METADATA is out-of-date — you may not have the latest version of PyPlot\n",
      "INFO: Use `Pkg.update()` to get the latest versions of your packages\n",
      "INFO: Updating METADATA...\n",
      "INFO: Updating cache of Compat...\n",
      "INFO: Computing changes...\n",
      "INFO: Upgrading Compat: v0.7.7 => v0.7.8\n"
     ]
    }
   ],
   "source": [
    "# importing our packages\n",
    "Pkg.add(\"PyPlot\");\n",
    "Pkg.update();\n",
    "using PyPlot;"
   ]
  },
  {
   "cell_type": "code",
   "execution_count": 46,
   "metadata": {
    "collapsed": true
   },
   "outputs": [],
   "source": [
    "lattice=\"kagome\";\n",
    "\n",
    "Nx=5;\n",
    "Ny=5;\n",
    "Nz=1;"
   ]
  },
  {
   "cell_type": "code",
   "execution_count": 47,
   "metadata": {
    "collapsed": false
   },
   "outputs": [
    {
     "data": {
      "text/plain": [
       "3-element Array{Int64,1}:\n",
       " 0\n",
       " 0\n",
       " 1"
      ]
     },
     "execution_count": 47,
     "metadata": {},
     "output_type": "execute_result"
    }
   ],
   "source": [
    "# A cell to just evaluate\n",
    "# This one sets the unit vectors (a,b,c) for the different unit cells\n",
    "# Can you guess what a lattice will look like by looking at the vectors?\n",
    "if(lattice==\"honeycomb\")\n",
    "    d=2;\n",
    "    Ncell=2;\n",
    "    unit=[[0 0 0]\n",
    "        [cos(π/6) sin(π/6) 0]];\n",
    "    a=[2*cos(π/6),0,0];\n",
    "    b=[cos(π/6),1+sin(π/6),0];\n",
    "    c=[0,0,1];\n",
    "elseif(lattice==\"kagome\")\n",
    "    d=2;\n",
    "    Ncell=3;\n",
    "    unit=[[0 0 0]\n",
    "          [1 0 0]\n",
    "          [cos(π/3) sin(π/3) 0]];\n",
    "    a=[2,0,0];\n",
    "    b=[2*cos(π/3), 2*sin(π/3), 0];\n",
    "    c=[0,0,1];\n",
    "elseif(lattice==\"pyrochlore\")\n",
    "    \n",
    "    \n",
    "else\n",
    "    println(\"Please have a correct lattice\")\n",
    "end"
   ]
  },
  {
   "cell_type": "code",
   "execution_count": 42,
   "metadata": {
    "collapsed": false
   },
   "outputs": [
    {
     "data": {
      "text/plain": [
       "108x3 Array{Float64,2}:\n",
       "   0.0             5.90328e-316    5.58923e-316\n",
       "   5.90159e-316    5.89764e-316    5.89939e-316\n",
       " NaN               6.93457e-310    6.93457e-310\n",
       "   0.0           NaN               1.4822e-322 \n",
       "   0.0             1.73249e-316    1.73249e-316\n",
       "   0.0             0.0             0.0         \n",
       "   3.95116e-311    0.0             5.9039e-316 \n",
       "   7.16395e-322    5.90164e-316    5.90168e-316\n",
       "   5.90301e-316  NaN               9.88131e-324\n",
       "   5.90435e-316    0.0             0.0         \n",
       "   5.90093e-316    0.0             0.0         \n",
       "   0.0             0.0             0.0         \n",
       "   5.90383e-316    3.95116e-311    4.26873e-321\n",
       "   ⋮                                           \n",
       "   5.90163e-316    0.0             0.0         \n",
       " NaN               5.90167e-316    0.0         \n",
       "   0.0           NaN               5.90172e-316\n",
       "   0.0             0.0           NaN           \n",
       "   0.0             0.0             0.0         \n",
       "   3.95116e-311    0.0             0.0         \n",
       " NaN               3.95116e-311    0.0         \n",
       "   6.72423e-321    7.16395e-322    3.95116e-311\n",
       "   6.93457e-310    5.89472e-316  NaN           \n",
       "   6.93457e-310    5.89475e-316    7.16395e-322\n",
       "   5.90163e-316    5.89723e-316    5.90531e-316\n",
       "   5.90163e-316    0.0             5.90607e-316"
      ]
     },
     "execution_count": 42,
     "metadata": {},
     "output_type": "execute_result"
    }
   ],
   "source": [
    "# Another cell to just evaluate\n",
    "# Here we set up some numbers and matrices for our computation\n",
    "N=Nx*Ny*Nz*Ncell;    #The total number of sites\n",
    "aM=transpose(repeat(a,outer=[1,Ncell]));\n",
    "bM=transpose(repeat(b,outer=[1,Ncell*Nx])); #these allow us to copy an entire row or layer at once\n",
    "cM=transpose(repeat(c,outer=[1,Ncell*Nx*Ny]));\n",
    "\n",
    "X=Array{Float64}(N,3);  #where we store the positions"
   ]
  },
  {
   "cell_type": "code",
   "execution_count": 48,
   "metadata": {
    "collapsed": false
   },
   "outputs": [
    {
     "ename": "LoadError",
     "evalue": "LoadError: DimensionMismatch(\"dimensions must match\")\nwhile loading In[48], in expression starting on line 7",
     "output_type": "error",
     "traceback": [
      "LoadError: DimensionMismatch(\"dimensions must match\")\nwhile loading In[48], in expression starting on line 7",
      "",
      " in promote_shape at operators.jl:220",
      " in + at arraymath.jl:96",
      " [inlined code] from In[48]:8",
      " in anonymous at no file:0"
     ]
    }
   ],
   "source": [
    "# Another cell to just evaluate\n",
    "# Here we are actually calculating the positions for every site\n",
    "for i in 1:Nx    #for the first row\n",
    "    X[Ncell*i-Ncell+1:Ncell*i,:]=unit+(i-1)*aM;\n",
    "end\n",
    "\n",
    "for j in 2:Ny    #copying the first row into the first layer\n",
    "    X[(Ncell*Nx*(j-1)+1):(Ncell*Nx*(j-1)+Ncell*Nx),:]=X[1:Ncell*Nx,:]+(j-1)*bM;\n",
    "end\n",
    "\n",
    "for j in 2:Nz    #copying the first layer into the entire cube\n",
    "    X[(Ncell*Ny*Nx*(j-1)+1):(Ncell*Ny*Nx*(j-1)+Ncell*Nx*Ny),:]=X[1:Ncell*Nx*Ny,:]+(j-1)*cM;\n",
    "end"
   ]
  },
  {
   "cell_type": "code",
   "execution_count": 49,
   "metadata": {
    "collapsed": false
   },
   "outputs": [
    {
     "data": {
      "image/png": "[encoded data removed]",
      "text/plain": [
       "PyPlot.Figure(PyObject <matplotlib.figure.Figure object at 0x7fa54f34f350>)"
      ]
     },
     "metadata": {},
     "output_type": "display_data"
    },
    {
     "data": {
      "text/plain": [
       "PyObject <matplotlib.collections.PathCollection object at 0x7fa54f172910>"
      ]
     },
     "execution_count": 49,
     "metadata": {},
     "output_type": "execute_result"
    }
   ],
   "source": [
    "w, h = plt[:figaspect](.5)\n",
    "figure(figsize=(w,h))\n",
    "scatter(X[:,1],X[:,2])"
   ]
  },
  {
   "cell_type": "code",
   "execution_count": null,
   "metadata": {
    "collapsed": false
   },
   "outputs": [],
   "source": []
  },
  {
   "cell_type": "code",
   "execution_count": null,
   "metadata": {
    "collapsed": false
   },
   "outputs": [],
   "source": []
  },
  {
   "cell_type": "code",
   "execution_count": null,
   "metadata": {
    "collapsed": true
   },
   "outputs": [],
   "source": []
  }
 ],
 "metadata": {
  "kernelspec": {
   "display_name": "Julia 0.4.0",
   "language": "julia",
   "name": "julia-0.4"
  },
  "language_info": {
   "file_extension": ".jl",
   "mimetype": "application/julia",
   "name": "julia",
   "version": "0.4.0"
  }
 },
 "nbformat": 4,
 "nbformat_minor": 0
}
