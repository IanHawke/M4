{
 "cells": [
  {
   "cell_type": "code",
   "execution_count": 3,
   "metadata": {},
   "outputs": [
    {
     "data": {
      "text/plain": [
       "Plots.PlotlyJSBackend()"
      ]
     },
     "execution_count": 3,
     "metadata": {},
     "output_type": "execute_result"
    }
   ],
   "source": [
    "using Plots\n",
    "plotlyjs()"
   ]
  },
  {
   "cell_type": "code",
   "execution_count": 2,
   "metadata": {},
   "outputs": [
    {
     "data": {
      "text/plain": [
       "Rotmat (generic function with 1 method)"
      ]
     },
     "execution_count": 2,
     "metadata": {},
     "output_type": "execute_result"
    }
   ],
   "source": [
    "function Rotmat(θ::Float64)\n",
    "    R=Array{Float64,2}(2,2)\n",
    "    R[1,1]=cos(θ)\n",
    "    R[2,2]=cos(θ)\n",
    "    R[1,2]=-sin(θ)\n",
    "    R[2,1]=sin(θ)\n",
    "    return R\n",
    "end"
   ]
  },
  {
   "cell_type": "code",
   "execution_count": null,
   "metadata": {},
   "outputs": [],
   "source": []
  },
  {
   "cell_type": "markdown",
   "metadata": {},
   "source": [
    "\\begin{equation}\n",
    "R_1=\\begin{pmatrix}\n",
    "\\cos \\omega + \\nu & -sin \\omega + \\nu & 0 \\\\\n",
    "sin \\omega + \\nu  & \\cos \\omega + \\nu & 0 \\\\\n",
    "0 & 0 & 1 \\\\\n",
    "\\end{pmatrix}\n",
    "\\end{equation}\n",
    "\n",
    "\\begin{equation}\n",
    "R_2 = \\begin{pmatrix}\n",
    "\\cos i & 0 &- \\sin i \\\\\n",
    "0 & 1 & 0 \\\\\n",
    "\\sin i & 0 & \\cos i \\\\\n",
    "\\end{pmatrix}\n",
    "\\end{equation}\n",
    "\n",
    "\\begin{equation}\n",
    "R_3= \\begin{pmatrix}\n",
    "\\cos \\Omega & -\\sin \\Omega & 0 \\\\\n",
    "\\sin \\Omega & \\cos \\Omega & 0 \\\\\n",
    "0 & 0 & 1 \\\\\n",
    "\\end{pmatrix}\n",
    "\\end{equation}\n"
   ]
  },
  {
   "cell_type": "markdown",
   "metadata": {},
   "source": [
    "![](Images/Kepler/Orbit1.svg)\n",
    "By Lasunncty at the English language Wikipedia, CC BY-SA 3.0, https://commons.wikimedia.org/w/index.php?curid=8971052\\\n",
    "\n",
    "![](Images/Kepler/ellipse.svg)"
   ]
  },
  {
   "cell_type": "code",
   "execution_count": null,
   "metadata": {
    "collapsed": true
   },
   "outputs": [],
   "source": []
  },
  {
   "cell_type": "code",
   "execution_count": null,
   "metadata": {
    "collapsed": true
   },
   "outputs": [],
   "source": [
    "type coordCart\n",
    "    x::Float64\n",
    "    y::Float64\n",
    "    z::Float64\n",
    "    \n",
    "    vx::Float64\n",
    "    vy::Float64\n",
    "    vz::Float64\n",
    "end"
   ]
  },
  {
   "cell_type": "code",
   "execution_count": null,
   "metadata": {
    "collapsed": true
   },
   "outputs": [],
   "source": [
    "type coordOrb\n",
    "    a::Float64 # Semimajor Axis\n",
    "    e::Float64  # eccentricity\n",
    "    i::Float64  # inclination\n",
    "    \n",
    "    ω::Float64 # \\omega Argument of periapsis\n",
    "    Ω::Float64 # \\Omega Longitude of ascending node\n",
    "    \n",
    "    ν::Float64 # \\nu True Anomaly\n",
    "end"
   ]
  },
  {
   "cell_type": "code",
   "execution_count": null,
   "metadata": {
    "collapsed": true
   },
   "outputs": [],
   "source": [
    "type coordDel\n",
    "    L::Float64\n",
    "    G::Float64\n",
    "    H::Float64\n",
    "    \n",
    "    l::Float64\n",
    "    g::Float64\n",
    "    h::Float64\n",
    "end"
   ]
  },
  {
   "cell_type": "markdown",
   "metadata": {},
   "source": [
    "Reduced Mass of System\n",
    "\\begin{equation}\n",
    "\\frac{1}{\\mu} = \\frac{1}{M_1} + \\frac{1}{M_2}\n",
    "\\end{equation}\n",
    "\n",
    "\\begin{equation}\n",
    "r = \\sqrt{x^2 + y^2 + z^2 }\n",
    "\\end{equation}\n",
    "\n",
    "\\begin{equation}\n",
    "v= \\sqrt{v_x^2+v_y^2+v_z^2}\n",
    "\\end{equation}\n",
    "\n",
    "\\begin{equation}\n",
    "\\vec{h}= \\vec{x} \\times \\vec{v}\n",
    "\\qquad \n",
    "h = |\\vec{h}|\n",
    "\\end{equation}\n",
    "\n",
    "\\begin{equation}\n",
    "E = \\frac{1}{2} v^2 - \\frac{\\mu}{r}\n",
    "\\end{equation}\n",
    "\n",
    "\\begin{equation}\n",
    "a = - \\frac{\\mu}{2 E}\n",
    "\\end{equation}\n",
    "\n",
    "\\begin{equation}\n",
    "e = \\sqrt{ \\left( 1 -\\frac{h^2}{a \\mu} \\right) }\n",
    "\\end{equation}\n",
    "\n",
    "\\begin{equation}\n",
    "i = \\text{acos} \\frac{h_z}{h}\n",
    "\\end{equation}\n",
    "\n",
    "\\begin{equation}\n",
    "\\Omega = \\text{atan}^2- \\frac{h_x}{h_y}\n",
    "\\end{equation}\n",
    "\n",
    "\\begin{equation}\n",
    "\\omega = \\text{atan}^2 \\frac{z /\\sin i }{x * \\cos \\Omega + y * \\sin \\Omega }\n",
    "\\end{equation}\n",
    "\\begin{equation}\n",
    "\\nu = \\text{acos} \\left( \\frac{ a \\left( 1 -e^2 \\right) -r}{e r} \\right)\n",
    "\\end{equation}"
   ]
  },
  {
   "cell_type": "markdown",
   "metadata": {},
   "source": [
    "http://ccar.colorado.edu/asen5070/handouts/cart2kep2002.pdf"
   ]
  },
  {
   "cell_type": "code",
   "execution_count": null,
   "metadata": {},
   "outputs": [],
   "source": [
    "function CarttoOrb(C::coordCart,μ::Float64)\n",
    "    r=sqrt(C.x^2+C.y^2+C.z^2)\n",
    "    v=sqrt(C.vx^2+C.vy^2+C.vz^2)\n",
    "    hvec=cross([C.x,C.y,C.z],[C.vx,C.vy,C.vz])\n",
    "    h=norm(hvec)\n",
    "    \n",
    "    E=v^2/2-μ/r\n",
    "    \n",
    "    a=-μ/(2*E)\n",
    "    e=sqrt(1-(h^2)/(a*μ))\n",
    "    \n",
    "    i=acos(hvec[3]/h)\n",
    "    \n",
    "    Ω=atan2(hvec[1],-hvec[2])\n",
    "    \n",
    "    ων=atan2(C.z/sin(i),C.x*cos(Ω)+C.y*sin(Ω))\n",
    "    ν=acos((a*(1-e^2)-r)/(e*r))\n",
    "    \n",
    "    \n",
    "   return coordOrb(a,e,i,Ω,ω,ν)\n",
    "end"
   ]
  },
  {
   "cell_type": "code",
   "execution_count": null,
   "metadata": {},
   "outputs": [],
   "source": [
    "function OrbtoCart(O::coordOrb,μ::Float64)\n",
    "    r=(O.a*(1-O.e^2))/(1+O.e*cos(O.ν))\n",
    "    h=sqrt(μ*O.a*(1-O.e^2))\n",
    "    v=h/r\n",
    "    \n",
    "    R1=eye(Float64,3)\n",
    "    R1[[1,2],[1,2]]=Rotmat(O.ω+O.ν)\n",
    "    \n",
    "    R2=eye(Float64,3)\n",
    "    R2[[1,3],[1,3]]=Rotmat(O.i)\n",
    "    \n",
    "    R3=eye(Float64,3)\n",
    "    R3[[1,2],[1,2]]=Rotmat(O.Ω)\n",
    "    \n",
    "    pos=r*R3*R2*R1*[1,0,0]\n",
    "    vel=v*R3*R2*R1*[0,1,0]\n",
    "    \n",
    "   return coordCart(pos[1],pos[2],pos[3],vel[1],vel[2],vel[3])\n",
    "end"
   ]
  },
  {
   "cell_type": "code",
   "execution_count": null,
   "metadata": {},
   "outputs": [],
   "source": [
    "function OrbtoDel(O::coordOrb,μ::Float64)\n",
    "    L=√(μ*O.a)\n",
    "    G=L*√(1-O.e^2)\n",
    "    H=cos(O.i)*G\n",
    "    return coordDel(L,G,H,O.ν,O.ω,O.Ω)\n",
    "end"
   ]
  },
  {
   "cell_type": "code",
   "execution_count": null,
   "metadata": {},
   "outputs": [],
   "source": []
  },
  {
   "cell_type": "code",
   "execution_count": null,
   "metadata": {
    "scrolled": true
   },
   "outputs": [],
   "source": []
  },
  {
   "cell_type": "code",
   "execution_count": null,
   "metadata": {
    "collapsed": true
   },
   "outputs": [],
   "source": [
    "νi=linspace(0,2π,100)\n",
    "orbit=Array{coordCart}(100)\n",
    "\n",
    "for ii in 1:100\n",
    "    orbit[ii] =OrbtoCart(coordOrb(1,.2,0,π/2,0,νi[ii]),1.) \n",
    "end"
   ]
  },
  {
   "cell_type": "code",
   "execution_count": null,
   "metadata": {
    "collapsed": true
   },
   "outputs": [],
   "source": [
    "plot([or.x for or in orbit],[or.y for or in orbit])\n",
    "hline!([-1,1])\n",
    "vline!([-1,1])"
   ]
  },
  {
   "cell_type": "code",
   "execution_count": null,
   "metadata": {},
   "outputs": [],
   "source": []
  },
  {
   "cell_type": "code",
   "execution_count": null,
   "metadata": {},
   "outputs": [],
   "source": []
  },
  {
   "cell_type": "code",
   "execution_count": null,
   "metadata": {},
   "outputs": [],
   "source": []
  },
  {
   "cell_type": "code",
   "execution_count": null,
   "metadata": {},
   "outputs": [],
   "source": []
  },
  {
   "cell_type": "code",
   "execution_count": null,
   "metadata": {},
   "outputs": [],
   "source": []
  },
  {
   "cell_type": "code",
   "execution_count": null,
   "metadata": {},
   "outputs": [],
   "source": []
  },
  {
   "cell_type": "code",
   "execution_count": null,
   "metadata": {
    "collapsed": true
   },
   "outputs": [],
   "source": []
  },
  {
   "cell_type": "code",
   "execution_count": null,
   "metadata": {
    "collapsed": true
   },
   "outputs": [],
   "source": []
  },
  {
   "cell_type": "code",
   "execution_count": null,
   "metadata": {
    "collapsed": true
   },
   "outputs": [],
   "source": []
  },
  {
   "cell_type": "code",
   "execution_count": null,
   "metadata": {
    "collapsed": true
   },
   "outputs": [],
   "source": []
  },
  {
   "cell_type": "code",
   "execution_count": null,
   "metadata": {
    "collapsed": true
   },
   "outputs": [],
   "source": []
  }
 ],
 "metadata": {
  "kernelspec": {
   "display_name": "Julia 0.6.0",
   "language": "julia",
   "name": "julia-0.6"
  },
  "language_info": {
   "file_extension": ".jl",
   "mimetype": "application/julia",
   "name": "julia",
   "version": "0.6.0"
  }
 },
 "nbformat": 4,
 "nbformat_minor": 2
}
