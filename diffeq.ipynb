{
 "cells": [
  {
   "cell_type": "markdown",
   "metadata": {},
   "source": [
    "# Ordinary Differential Equation Solvers\n",
    "## Christina Lee\n",
    "\n",
    "For a while I've been working on research and a behemoth 4-part post on Exact Diagonalization of the Spin 1/2 Heisenburg 1D Chain.  So let me take a break from staring at pages of fermionic algebra to write to you all about the simple computational methods of solving Ordinary Differential Equations.  \n",
    "\n",
    "<b>WARNING:</b> If you actually need to solve a troublesome differential equation for a research problem, use a package, like [DifferentialEquations](https://github.com/JuliaDiffEq/DifferentialEquations.jl).  These packages have much better error handling and optimization.\n",
    "\n",
    "Nonetheless, in order to work with ANY computational differential equation solver, you need to understand the fundementals of routines like Euler and Runge Kutta, their error propogation, and where they can go wrong. Otherwise, you might misinterpret the results of more advanced routines. \n",
    "\n",
    "Lets first add our plotting package and colors."
   ]
  },
  {
   "cell_type": "code",
   "execution_count": null,
   "metadata": {
    "collapsed": false
   },
   "outputs": [],
   "source": [
    "using Gadfly\n",
    "# Solarized Colors that I like working with\n",
    "# http://ethanschoonover.com/solarized\n",
    "using Colors\n",
    "base03=parse(Colorant,\"#002b36\");\n",
    "base02=parse(Colorant,\"#073642\");\n",
    "base01=parse(Colorant,\"#586e75\");\n",
    "base00=parse(Colorant,\"#657b83\");\n",
    "base0=parse(Colorant,\"#839496\");\n",
    "base1=parse(Colorant,\"#839496\");\n",
    "base2=parse(Colorant,\"#eee8d5\");\n",
    "base3=parse(Colorant,\"#fdf6e3\");\n",
    "\n",
    "yellow=parse(Colorant,\"#b58900\");\n",
    "orange=parse(Colorant,\"#cb4b16\");\n",
    "red=parse(Colorant,\"#dc322f\");\n",
    "magenta=parse(Colorant,\"#d33682\");\n",
    "violet=parse(Colorant,\"#6c71c4\");\n",
    "blue=parse(Colorant,\"#268bd2\");\n",
    "cyan=parse(Colorant,\"#3aa198\");\n",
    "green=parse(Colorant,\"#859900\");\n",
    "\n"
   ]
  },
  {
   "cell_type": "markdown",
   "metadata": {},
   "source": []
  },
  {
   "cell_type": "code",
   "execution_count": 1,
   "metadata": {
    "collapsed": false
   },
   "outputs": [
    {
     "data": {
      "text/plain": [
       "1-element Array{Function,1}:\n",
       " f1"
      ]
     },
     "execution_count": 1,
     "metadata": {},
     "output_type": "execute_result"
    }
   ],
   "source": [
    "function f1(x::Array{Float64,1})\n",
    "    return x[2]\n",
    "end\n",
    "f=Array{Function}\n",
    "f=[f1]"
   ]
  },
  {
   "cell_type": "code",
   "execution_count": null,
   "metadata": {
    "collapsed": false
   },
   "outputs": [],
   "source": [
    "function g1(x::Array{Float64,1})\n",
    "    return -15*x[2]\n",
    "end\n",
    "g=Array{Function}\n",
    "g=[g1]"
   ]
  },
  {
   "cell_type": "code",
   "execution_count": 16,
   "metadata": {
    "collapsed": false
   },
   "outputs": [
    {
     "data": {
      "text/plain": [
       "Euler (generic function with 2 methods)"
      ]
     },
     "execution_count": 16,
     "metadata": {},
     "output_type": "execute_result"
    }
   ],
   "source": [
    "function Euler(f::Array{Function,1},x::Array{Float64,1},dt::Float64)\n",
    "    d=length(f)\n",
    "\n",
    "    xp=x\n",
    "    xp[1]=x[1]+dt\n",
    "\n",
    "    for ii in 1:d\n",
    "        xp[ii+1]=x[ii+1]+dt*f[ii](x)\n",
    "    end\n",
    "    \n",
    "    return xp\n",
    "end"
   ]
  },
  {
   "cell_type": "markdown",
   "metadata": {},
   "source": [
    "## Implicit Method or Backward Euler\n",
    "\n",
    "\\begin{equation}\n",
    "x_{k+1}+\\delta t f(t_{k+1},x_{k+1})= x_k\n",
    "\\end{equation}\n",
    "\n",
    "If $f(t,x)$ has a form that is invertible, we can form a specific expression for the next step.  For example, if we use our exponential,\n",
    "\n",
    "\\begin{equation}\n",
    "x_{k+1}+\\delta tx_{k+1}=x_k\n",
    "\\end{equation}\n",
    "\\begin{equation}\n",
    "x_{k+1}=\\frac{x_k}{1+\\delta t}\n",
    "\\end{equation}"
   ]
  },
  {
   "cell_type": "code",
   "execution_count": null,
   "metadata": {
    "collapsed": false
   },
   "outputs": [],
   "source": [
    "function Implicit(f::Function,x::Array{Float64,1},dt)\n",
    "    return [x[1]+dt,x[2]/(1-dt)]\n",
    "end"
   ]
  },
  {
   "cell_type": "markdown",
   "metadata": {},
   "source": [
    "## 2nd Order Runge-Kutta\n",
    "\n",
    "So the Euler Method, we could just make more, tinier steps to achieve more precise results.\n",
    "\\begin{equation}\n",
    "y_{n+1}=y_n+h f(y_n,x_n) + \\frac{h^2}{2} f^{\\prime}(y_n,x_n)+ \\mathcal{O} (h^3)\n",
    "\\end{equation}\n",
    "Define\n",
    "\\begin{equation}\n",
    "k_1=f(x_n,y_n)\n",
    "\\end{equation}\n",
    "\n",
    "\\begin{equation}\n",
    "f^{\\prime}(x_n,y_n)=\\frac{f(x_n+h/2,y_n+k_1/2)-k_1}{h/2}+\\mathcal{O}(h^2)\n",
    "\\end{equation}\n",
    "\n",
    "\\begin{equation}\n",
    "y_{n+1}=y_n+hf(x_n+h/2,y_n+k_1/2)+\\mathcal{O}(h^3)\n",
    "\\end{equation}\n",
    "Finally "
   ]
  },
  {
   "cell_type": "code",
   "execution_count": 18,
   "metadata": {
    "collapsed": false
   },
   "outputs": [
    {
     "data": {
      "text/plain": [
       "RK2 (generic function with 1 method)"
      ]
     },
     "execution_count": 18,
     "metadata": {},
     "output_type": "execute_result"
    }
   ],
   "source": [
    "function RK2(f::Array{Function,1},x::Array{Float64,1},dt)\n",
    "    d=length(f)\n",
    "    \n",
    "    xp=x\n",
    "    xpp=x\n",
    "    xp[1]=x[1]+dt\n",
    "    xpp[1]=x[1]+dt/2\n",
    "    \n",
    "    for ii in 1:d\n",
    "        xpp[ii+1]=x[ii+1]+f[ii+1](x)/2\n",
    "    end\n",
    "    for ii in 1:d\n",
    "        xp[ii+1]=x[ii+1]+dt*f[ii](xpp) \n",
    "    end\n",
    "    \n",
    "    return xp\n",
    "end"
   ]
  },
  {
   "cell_type": "code",
   "execution_count": 24,
   "metadata": {
    "collapsed": false
   },
   "outputs": [
    {
     "data": {
      "text/plain": [
       "RK4 (generic function with 1 method)"
      ]
     },
     "execution_count": 24,
     "metadata": {},
     "output_type": "execute_result"
    }
   ],
   "source": [
    "function RK4(f::Array{Function,1},x::Array{Float64,1},dt)\n",
    "    d=length(f)\n",
    "    \n",
    "    k1=zeros(x)\n",
    "    k2=zeros(x)\n",
    "    k3=zeros(x)\n",
    "    k4=zeros(x)\n",
    "    \n",
    "    k1[1]=dt\n",
    "    k2[1]=dt\n",
    "    k3[1]=dt\n",
    "    k4[1]=dt\n",
    "    \n",
    "    for ii in 1:d\n",
    "        k1[ii+1]=dt*f[ii](x)\n",
    "        println(k1[ii+1])\n",
    "    end\n",
    "    for ii in 1:d\n",
    "        k2[ii+1]=dt*f[ii](x+k1/2)\n",
    "        println(k2[ii+1])\n",
    "    end\n",
    "    for ii in 1:d\n",
    "        k3[ii+1]=dt*f[ii](x+k2/2) \n",
    "        println(k3[ii+1])\n",
    "    end\n",
    "    for ii in 1:d\n",
    "        k4[ii+1]=dt*f[ii](x+k3)\n",
    "        println(k4[ii+1])\n",
    "    end\n",
    "    \n",
    "    return x+(k1+2*k2+2*k3+k4)/6\n",
    "end"
   ]
  },
  {
   "cell_type": "code",
   "execution_count": 25,
   "metadata": {
    "collapsed": false
   },
   "outputs": [
    {
     "name": "stdout",
     "output_type": "stream",
     "text": [
      "0.1\n",
      "0.10500000000000001\n",
      "0.10525000000000001\n",
      "0.11052500000000001\n"
     ]
    },
    {
     "data": {
      "text/plain": [
       "([0.09999999999999999,1.1051708333333334],1.1051709180756477)"
      ]
     },
     "execution_count": 25,
     "metadata": {},
     "output_type": "execute_result"
    }
   ],
   "source": [
    "RK4(f,[0.,1.],.1), exp(.1)"
   ]
  },
  {
   "cell_type": "code",
   "execution_count": null,
   "metadata": {
    "collapsed": false
   },
   "outputs": [],
   "source": [
    "function Stepper(f::Function,Method::Function,\n",
    "        x0::Array{Float64,1},dt::Float64,N::Int64)\n",
    "    xs=zeros(Float64,2,N+1)\n",
    "    xs[:,1]=x0\n",
    "    for i in 2:(N+1)\n",
    "        xs[:,i]=Method(f,xs[:,i-1],dt)\n",
    "    end\n",
    "    \n",
    "    return xs\n",
    "end"
   ]
  },
  {
   "cell_type": "code",
   "execution_count": null,
   "metadata": {
    "collapsed": false
   },
   "outputs": [],
   "source": [
    "N=1000\n",
    "xf=10\n",
    "x0=[0.,1]\n",
    "dt=(xf-x0[1])/N\n",
    "\n",
    "xEU=Stepper(f,Euler,x0,dt,N);\n",
    "xIm=Stepper(f,Implicit,x0,dt,N);\n",
    "xRK2=Stepper(f,RK2,x0,dt,N);\n",
    "xRK4=Stepper(f,RK4,x0,dt,N);\n",
    "\n",
    "xi=Float64[ x0[1]+dt*i for i in 0:(N-1)]\n",
    "yi=exp(xi);\n",
    "\n",
    "errEU=reshape(xEU[2,:],N)-yi\n",
    "errIm=reshape(xIm[2,:],N)-yi\n",
    "errRK2=reshape(xRK2[2,:],N)-yi;\n",
    "errRK4=reshape(xRK4[2,:],N)-yi;"
   ]
  },
  {
   "cell_type": "code",
   "execution_count": null,
   "metadata": {
    "collapsed": false
   },
   "outputs": [],
   "source": []
  },
  {
   "cell_type": "code",
   "execution_count": null,
   "metadata": {
    "collapsed": false
   },
   "outputs": [],
   "source": [
    "lEU=layer(x=xEU[1,:],y=xEU[2,:],Geom.point,\n",
    "Theme(highlight_width=0pt,default_color=green,\n",
    "default_point_size=3pt))\n",
    "\n",
    "lIm=layer(x=xIm[1,:],y=xIm[2,:],Geom.point,\n",
    "Theme(highlight_width=0pt,default_color=yellow,\n",
    "default_point_size=3pt))\n",
    "\n",
    "lRK2=layer(x=xRK2[1,:],y=xRK2[2,:],Geom.point,\n",
    "Theme(highlight_width=0pt,default_color=cyan,\n",
    "default_point_size=2pt))\n",
    "\n",
    "lRK4=layer(x=xRK4[1,:],y=xRK4[2,:],Geom.point,\n",
    "Theme(highlight_width=0pt,default_color=violet,\n",
    "default_point_size=4pt))\n",
    "\n",
    "lp=layer(x->e^x,-.1,10,Geom.line,Theme(default_color=red))\n",
    "\n",
    "plot(lp,lEU,lIm,lRK2,lRK4,\n",
    "Guide.manual_color_key(\"Legend\",[\"Euler\",\"Implicit\",\"RK2\",\"RK4\",\"Exact\"],\n",
    "[green,yellow,cyan,violet,red]),\n",
    "Coord.cartesian(xmin=9.5,xmax=10.1))"
   ]
  },
  {
   "cell_type": "code",
   "execution_count": null,
   "metadata": {
    "collapsed": false
   },
   "outputs": [],
   "source": [
    "lEU=layer(x=xi,y=errEU,Geom.point,\n",
    "Theme(highlight_width=0pt,default_color=green,\n",
    "default_point_size=1pt))\n",
    "\n",
    "lIm=layer(x=xi,y=errIm,Geom.point,\n",
    "Theme(highlight_width=0pt,default_color=yellow,\n",
    "default_point_size=1pt))\n",
    "\n",
    "lRK2=layer(x=xi,y=errRK2,Geom.point,\n",
    "Theme(highlight_width=0pt,default_color=cyan,\n",
    "default_point_size=1pt))\n",
    "\n",
    "lRK4=layer(x=xi,y=errRK4,Geom.point,\n",
    "Theme(highlight_width=0pt,default_color=violet,\n",
    "default_point_size=1pt))\n",
    "\n",
    "plot(lEU,lIm,lRK2,lRK4,Scale.y_asinh,\n",
    "Guide.manual_color_key(\"Legend\",[\"Euler\",\"Implicit\",\"RK2\",\"RK4\"],\n",
    "[green,yellow,cyan,violet]))"
   ]
  },
  {
   "cell_type": "code",
   "execution_count": null,
   "metadata": {
    "collapsed": false
   },
   "outputs": [],
   "source": [
    "xi=0\n",
    "xf=1\n",
    "dx=xf-xi\n",
    "x0=[0.,1.]\n",
    "\n",
    "dt=collect(.001:.0001:.01)\n",
    "\n",
    "correctans=exp(xf)\n",
    "errfEU=zeros(dt)\n",
    "errfIm=zeros(dt)\n",
    "errfRK2=zeros(dt)\n",
    "errfRK4=zeros(dt)\n",
    "\n",
    "\n",
    "\n",
    "for ii in 1:length(dt)\n",
    "    N=round(Int,dx/dt[ii])\n",
    "    dt[ii]=dx/N\n",
    "    \n",
    "    xEU=Stepper(f,Euler,x0,dt[ii],N);\n",
    "    xIm=Stepper(f,Implicit,x0,dt[ii],N);\n",
    "    xRK2=Stepper(f,RK2,x0,dt[ii],N);\n",
    "    xRK4=Stepper(f,RK4,x0,dt[ii],N);\n",
    "    \n",
    "    errfEU[ii]=xEU[2,end]-correctans\n",
    "    errfIm[ii]=xIm[2,end]-correctans\n",
    "    errfRK2[ii]=xRK2[2,end]-correctans\n",
    "    errfRK4[ii]=xRK4[2,end]-correctans\n",
    "end"
   ]
  },
  {
   "cell_type": "code",
   "execution_count": null,
   "metadata": {
    "collapsed": false
   },
   "outputs": [],
   "source": []
  },
  {
   "cell_type": "code",
   "execution_count": null,
   "metadata": {
    "collapsed": false,
    "scrolled": true
   },
   "outputs": [],
   "source": [
    "lEU=layer(x=dt,y=errfEU,Geom.point,\n",
    "Theme(highlight_width=0pt,default_color=green,\n",
    "default_point_size=1pt))\n",
    "\n",
    "lIm=layer(x=dt,y=errfIm,Geom.point,\n",
    "Theme(highlight_width=0pt,default_color=yellow,\n",
    "default_point_size=1pt))\n",
    "\n",
    "lRK2=layer(x=dt,y=errfRK2*10^5,Geom.point,\n",
    "Theme(highlight_width=0pt,default_color=cyan,\n",
    "default_point_size=1pt))\n",
    "\n",
    "lRK4=layer(x=dt,y=errfRK4*10^10,Geom.point,\n",
    "Theme(highlight_width=0pt,default_color=violet,\n",
    "default_point_size=1pt))\n",
    "\n",
    "tempEU(x)=(errfEU[end]*x/.01)\n",
    "tempIm(x)=(errfIm[end]*x/.01)\n",
    "le=layer([tempEU,tempIm],0,.01,Geom.line)\n",
    "\n",
    "temp2(x)=(errfRK2[end]*(x/.01)^2*10^5)\n",
    "l2=layer(temp2,0,.01,Geom.line)\n",
    "\n",
    "temp4(x)=(errfRK4[end]*(x/.01)^4*10^10)\n",
    "l4=layer(temp4,0,.01,Geom.line)\n",
    "\n",
    "xl=Guide.xlabel(\"h\")\n",
    "ylrk2=Guide.ylabel(\"Error e-5\")\n",
    "ylrk4=Guide.ylabel(\"Error e-10\")\n",
    "yl=Guide.ylabel(\"Error\")\n",
    "\n",
    "pEU=plot(lEU,lIm,le,xl,yl,Guide.title(\"Euler and Implicit, linear error\"))\n",
    "p2=plot(lRK2,l2,xl,ylrk2,Guide.title(\"RK2, error h^2\"))\n",
    "p4=plot(lRK4,l4,xl,ylrk4,Guide.title(\"RK4, error h^4\"))\n",
    "vstack(hstack(p2,p4),pEU)"
   ]
  },
  {
   "cell_type": "code",
   "execution_count": null,
   "metadata": {
    "collapsed": false
   },
   "outputs": [],
   "source": []
  },
  {
   "cell_type": "code",
   "execution_count": null,
   "metadata": {
    "collapsed": true
   },
   "outputs": [],
   "source": []
  }
 ],
 "metadata": {
  "kernelspec": {
   "display_name": "Julia 0.4.5",
   "language": "julia",
   "name": "julia-0.4"
  },
  "language_info": {
   "file_extension": ".jl",
   "mimetype": "application/julia",
   "name": "julia",
   "version": "0.4.5"
  }
 },
 "nbformat": 4,
 "nbformat_minor": 0
}
