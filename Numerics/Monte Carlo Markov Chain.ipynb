{
 "cells": [
  {
   "cell_type": "markdown",
   "metadata": {},
   "source": [
    "# Monte Carlo Markov Chain\n",
    "\n",
    "Prerequisites: Monte Carlo Calculation of Pi\n",
    "\n",
    "Author: Christina Lee\n",
    "\n",
    "### Intro\n",
    "\n",
    "If you didn't check it out already, take a look at the post that introduces using random numbers in calculations.  Any such simulation is a <i>Monte Carlo</i> simulation.  The most used kind of Monte Carlo simulation is a <i>Markov Chain</i>, also known as a random walk, or drunkard's walk.  A Markov Chain is a series of steps where\n",
    "* each new state is chosen probabilitically\n",
    "* the probabilities only depend on the current state (no memory)\n",
    "\n",
    "Imagine a drunkard trying to walk.  At any one point, they could progress either left or right rather randomly.  Also, just because they had been traveling in a straight line so far does not guaruntee they will continue to do.  They've just had extremely good luck.  \n",
    "\n",
    "We use Markov Chains to <b>approximate probability distributions</b>.  \n",
    "\n",
    "To create a good Markov Chain, we need\n",
    "* <b> Ergodicity</b>: All states can be reached\n",
    "* <b> Global Balance</b>: A condition that ensures the proper equilibrium distribution\n",
    "\n",
    "### The Balances\n",
    "\n",
    "Let $\\pi_i$ be the probability that a particle is at site $i$, and $p_{ij}$ be the probability that a particle moves from $i$ to $j$.  Then Global Balance can be written as,\n",
    "\n",
    "\\begin{equation}\n",
    "\\sum\\limits_j \\pi_i p_{i j} = \\sum\\limits_j \\pi_j p_{j i} \\;\\;\\;\\;\\; \\forall i.\n",
    "\\end{equation}\n",
    "\n",
    "In non-equation terms, this says the amount of \"chain\" leaving site $i$ is the same as the amount of \"chain\" entering site $i$ for every site in equilibrium.  There is no flow.  \n",
    "\n",
    "Usually though, we actually want to work with a stricter rule than Global Balance, <b> Detailed Balance </b>, written as\n",
    "\n",
    "\\begin{equation}\n",
    "\\pi_i p_{i j} = \\pi_j p_{j i}.\n",
    "\\end{equation}\n",
    "\n",
    "Detailed Balance further constricts the transition probabilities we can assign and makes it easier to design an algorithm. Almost all MCMC algorithms out there use detailed balance, and only lately have certain applied mathematicians begun looking and breaking detailed balance to increase efficiency in certain classes of problems. \n",
    "\n",
    "### Today's Test Problem\n",
    "\n",
    "I will let you know now; this might be one of the most powerful numerical methods you could ever learn.  I was going to put down a list of applications, but the only limit to such a list is your imagination.  \n",
    "\n",
    "Today though, we will not be trying to predict stock market crashes, calculate the PageRank of a webpage, or calculate the entropy a quantum spin liquid at zero temperature.  We just want to calculate an uniform probability distribution, and look at how Monte Carlo Markov Chains behave.\n",
    "\n",
    "* We will start with an $l\\times l$ grid\n",
    "\n",
    "* Our chain starts somewhere in that grid\n",
    "\n",
    "* We can then move up, down, left or right equally \n",
    "\n",
    "* If we hit an edge, we come out the opposite side <i>(toroidal boundary conditions)</i>\n",
    "\n",
    "<b>First question!</b> Is this ergodic?\n",
    "\n",
    "Yes! Nothing stops us from reaching any location.\n",
    "\n",
    "<b>Second question!</b> Does this obey detailed balance?\n",
    "\n",
    "Yes!  In equilibrium, each block has a probability of $\\pi_i = \\frac{1}{l^2}$, and can travel to any of its 4 neighbors with probability of $p_{ij} = \\frac{1}{4}$.  For any two neighbors\n",
    "\\begin{equation}\n",
    "\\frac{1}{l^2}\\frac{1}{4} = \\frac{1}{l^2}\\frac{1}{4},\n",
    "\\end{equation}\n",
    "and if they are not neighbors,\n",
    "\\begin{equation}\n",
    "0 = 0.\n",
    "\\end{equation}"
   ]
  },
  {
   "cell_type": "code",
   "execution_count": 21,
   "metadata": {
    "collapsed": true,
    "init_cell": true
   },
   "outputs": [],
   "source": [
    "#Pkg.add(\"PyCall\")\n",
    "using PyPlot\n",
    "using PyCall\n",
    "@pyimport IPython.display as d"
   ]
  },
  {
   "cell_type": "code",
   "execution_count": 4,
   "metadata": {
    "collapsed": false
   },
   "outputs": [
    {
     "data": {
      "text/plain": [
       "armod (generic function with 1 method)"
      ]
     },
     "execution_count": 4,
     "metadata": {},
     "output_type": "execute_result"
    }
   ],
   "source": [
    "# This is just the equivalent of `mod`\n",
    "# for using in an array that indexes from 1.   \n",
    "function armod(i,j)\n",
    "    return (mod(i-1+j,j)+1)  \n",
    "end"
   ]
  },
  {
   "cell_type": "code",
   "execution_count": 11,
   "metadata": {
    "collapsed": false
   },
   "outputs": [],
   "source": [
    "# input the size of the grid\n",
    "l=5;\n",
    "n=l^2;"
   ]
  },
  {
   "cell_type": "code",
   "execution_count": 12,
   "metadata": {
    "collapsed": false
   },
   "outputs": [
    {
     "data": {
      "text/plain": [
       "Transition (generic function with 1 method)"
      ]
     },
     "execution_count": 12,
     "metadata": {},
     "output_type": "execute_result"
    }
   ],
   "source": [
    "function Transition(i)\n",
    "    #randomly chose up, down, left or right\n",
    "    d=rand(1:4);\n",
    "    if d==1 #if down\n",
    "        return armod(i-l,n);\n",
    "        \n",
    "    elseif d==2 #if left\n",
    "        row=convert(Int,floor((i-1)/l));\n",
    "        return armod(i-1,l)+l*row;\n",
    "        \n",
    "    elseif d==3 #if right\n",
    "        row=convert(Int,floor((i-1)/l));\n",
    "        return armod(i+1,l)+l*row;\n",
    "        \n",
    "    else  # otherwise up\n",
    "        return armod(i+l,n);\n",
    "    end    \n",
    "end"
   ]
  },
  {
   "cell_type": "code",
   "execution_count": 13,
   "metadata": {
    "collapsed": false
   },
   "outputs": [],
   "source": [
    "# The centers of blocks.\n",
    "# Will be using for pictoral purposes\n",
    "\n",
    "pos=zeros(Float64,2,n);\n",
    "pos[1,:]=[floor((i-1)/l) for i in 1:n]+.5;\n",
    "pos[2,:]=[mod(i-1,l) for i in 1:n]+.5;"
   ]
  },
  {
   "cell_type": "code",
   "execution_count": 17,
   "metadata": {
    "collapsed": false
   },
   "outputs": [
    {
     "name": "stderr",
     "output_type": "stream",
     "text": [
      "2016-03-24 21:35:26.019 julia[12690:149394] setCanCycle: is deprecated.  Please use setCollectionBehavior instead\n",
      "2016-03-24 21:35:26.022 julia[12690:149394] setCanCycle: is deprecated.  Please use setCollectionBehavior instead\n"
     ]
    }
   ],
   "source": [
    "# How many timesteps\n",
    "tn=2000;\n",
    "\n",
    "# Array of timesteps\n",
    "ti=Array{Int64,1}()\n",
    "# Array of errors\n",
    "err=Array{Float64,1}()\n",
    "\n",
    "# Stores current location, initialized randomly\n",
    "current=rand(1:n);\n",
    "# Stores last location, used for pictoral purposes\n",
    "last=current;\n",
    "\n",
    "#Keeps track of where chain went\n",
    "Naccumulated=zeros(Int64,l,l);\n",
    "\n",
    "# put in our first point\n",
    "# can index 2d array as 1d\n",
    "Naccumulated[current]+=1;\n",
    "\n",
    "# A graph will open up where we can watch the chain\n",
    "pygui(true)\n",
    "w, h = plt[:figaspect](.4)\n",
    "figure(figsize=(w,h))\n",
    "\n",
    "for ii in 1:tn\n",
    "    \n",
    "    last=current;\n",
    "    # Determine the new point\n",
    "    current=Transition(current);\n",
    "    Naccumulated[current]+=1;\n",
    "    \n",
    "    # add new time steps and error points\n",
    "    push!(ti,ii)\n",
    "    push!(err,round(std(Naccumulated/ii),5))\n",
    "    \n",
    "    if false\n",
    "        clf() #clean previous figure\n",
    "    \n",
    "        subplot(121) #subplot 1\n",
    "\n",
    "        title(\"t: $ii std: $(err[end])\")\n",
    "        pcolor(Naccumulated/ii-1/n,cmap=\"RdBu\",vmin=-.1,vmax=.1)\n",
    "        colorbar()\n",
    "    \n",
    "        # An arrow from the previous point to the current point\n",
    "        annotate(\"\",\n",
    "        xy=pos[:,current],\n",
    "        xytext=pos[:,last],\n",
    "        xycoords=\"data\",\n",
    "        arrowprops=Dict(\"facecolor\"=>\"green\"))\n",
    "    \n",
    "        subplot(122) #subplot 2\n",
    "        title(\"Error\")\n",
    "        xlabel(\"Step\")\n",
    "        ylabel(\"Log10 std\")\n",
    "        scatter(ti,log10(err))\n",
    "\n",
    "        #how long to wait between showing steps (in seconds)\n",
    "        sleep(.5)\n",
    "    end\n",
    "end"
   ]
  },
  {
   "cell_type": "markdown",
   "metadata": {},
   "source": [
    "If your video is not working right, check out the youtube video I assembled of a 6x6 grid.\n",
    "\n",
    "I'm used `PyCall` to import `IPython.display` above, and here we use the python function `YouTubeVideo`.  One great thing about Julia is its ability to the supplement itself with other extremely well developed languages.  "
   ]
  },
  {
   "cell_type": "code",
   "execution_count": null,
   "metadata": {
    "collapsed": false
   },
   "outputs": [],
   "source": [
    "d.YouTubeVideo(\"gxX3Fu1uuCs\")"
   ]
  },
  {
   "cell_type": "code",
   "execution_count": 18,
   "metadata": {
    "collapsed": false
   },
   "outputs": [
    {
     "data": {
      "image/png": "[encoded data removed]",
      "text/plain": [
       "PyPlot.Figure(PyObject <matplotlib.figure.Figure object at 0x3266e9d50>)"
      ]
     },
     "metadata": {},
     "output_type": "display_data"
    },
    {
     "data": {
      "text/plain": [
       "PyObject <matplotlib.colorbar.Colorbar instance at 0x32717c440>"
      ]
     },
     "execution_count": 18,
     "metadata": {},
     "output_type": "execute_result"
    }
   ],
   "source": [
    "pygui(false)\n",
    "pcolor(Naccumulated/tn-1/n,cmap=\"RdBu\",vmin=-.02,vmax=.02)\n",
    "colorbar()"
   ]
  },
  {
   "cell_type": "code",
   "execution_count": 23,
   "metadata": {
    "collapsed": false
   },
   "outputs": [
    {
     "data": {
      "image/png": "[encoded data removed]",
      "text/plain": [
       "PyPlot.Figure(PyObject <matplotlib.figure.Figure object at 0x3271f8690>)"
      ]
     },
     "metadata": {},
     "output_type": "display_data"
    },
    {
     "data": {
      "text/plain": [
       "PyObject <matplotlib.collections.PathCollection object at 0x327236f90>"
      ]
     },
     "execution_count": 23,
     "metadata": {},
     "output_type": "execute_result"
    }
   ],
   "source": [
    "title(\"Error for a 5x5\")\n",
    "xlabel(\"Step\")\n",
    "ylabel(\"Log10 std\")\n",
    "scatter(ti,log10(err))"
   ]
  },
  {
   "cell_type": "markdown",
   "metadata": {
    "collapsed": false
   },
   "source": [
    "So, after running the above code and trying to figure out how it works (mostly plotting stuff), go back and study some properties of the system.\n",
    "\n",
    "* How long does it take to forget it's initial position?\n",
    "\n",
    "* How does the behaviour change with system size?\n",
    "\n",
    "* How long would you have to go to get a certain accuracy? (especially if you didn't know what distribution you where looking for)\n",
    "\n",
    "So hopefully you enjoyed this tiny introduction to an incredibly rich subject.  Feel free to explore all the nooks and crannies to really understand the basics of this kind of simulation, so you can gain more control over the more complex simulations.  \n",
    "\n",
    "Monte Carlo simulations are as much of an art as a science.  You need to live them, love them, and breathe them till you find out exactly why they are behaving like little kittens that can finally jump on top of your countertops, or open your bedroom door at 1am. \n",
    "\n",
    "For all their mishaving, you love the kittens anyway.\n"
   ]
  },
  {
   "cell_type": "code",
   "execution_count": 20,
   "metadata": {
    "collapsed": false
   },
   "outputs": [
    {
     "data": {
      "text/plain": [
       "5x5 Array{Float64,2}:\n",
       " -0.013   -0.0115  -0.007   -0.007  0.0005\n",
       " -0.003    0.001   -0.0015   0.001  0.0015\n",
       "  0.007    0.0135   0.009    0.014  0.012 \n",
       " -0.0035   0.0      0.001   -0.002  0.004 \n",
       " -0.0105  -0.006    0.0015  -0.002  0.0015"
      ]
     },
     "execution_count": 20,
     "metadata": {},
     "output_type": "execute_result"
    }
   ],
   "source": [
    "Naccumulated/tn-1/n"
   ]
  },
  {
   "cell_type": "code",
   "execution_count": null,
   "metadata": {
    "collapsed": false
   },
   "outputs": [],
   "source": [
    "log10(std(Naccumulated/tn-1/9))"
   ]
  },
  {
   "cell_type": "code",
   "execution_count": null,
   "metadata": {
    "collapsed": true
   },
   "outputs": [],
   "source": []
  }
 ],
 "metadata": {
  "kernelspec": {
   "display_name": "Julia 0.4.1",
   "language": "julia",
   "name": "julia-0.4"
  },
  "language_info": {
   "file_extension": ".jl",
   "mimetype": "application/julia",
   "name": "julia",
   "version": "0.4.1"
  },
  "toc": {
   "toc_cell": true,
   "toc_number_sections": false,
   "toc_section_display": "block",
   "toc_threshold": 6,
   "toc_window_display": true
  },
  "toc_position": {
   "left": "640.683px",
   "right": "45.55px",
   "top": "124px",
   "width": "157px"
  }
 },
 "nbformat": 4,
 "nbformat_minor": 0
}
