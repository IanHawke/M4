{
 "cells": [
  {
   "cell_type": "markdown",
   "metadata": {},
   "source": [
    "# Jacobi Transformation of a Symmetric Matrix\n",
    "### Christina Lee\n",
    "### Category: Numerics\n",
    "#### based on Numerical Recipes in C++, Sec 11.1\n",
    "\n",
    "So you want to diagonalize a matrix, do you?\n",
    "Well, if you have a tiny symmetric matrix, you REALLY want to write up the algorithm by hand, and don't want to spend much time trying to understand the algorithm, then you have come to the right place. \n",
    "\n",
    "Otherwise, use LAPACK/BLAS to call a highly optimized routine that can work extremely quickly on large matrices.  Julia has those libraries built in already.  Even if you do call those matrices, you can make them work better by understanding what's going on underneath the hood, which is why we are going through this now."
   ]
  },
  {
   "cell_type": "markdown",
   "metadata": {},
   "source": [
    "Start with a base Rotation Matrix of the Form\n",
    "\\begin{equation}\n",
    "    P_{pq} =\n",
    "    \\begin{pmatrix}\n",
    "           1& &  &  && && 0\\\\\n",
    "           & \\ddots &&&&  & \\\\\n",
    "            && c & \\cdots & s && \\\\\n",
    "                &&\\vdots& 1 & \\vdots &&\\\\\n",
    "               && -s & \\cdots & c && \\\\\n",
    "               &&&&& \\ddots & \\\\\n",
    "               0&&& &  && 1 \n",
    "    \\end{pmatrix}\n",
    "\\end{equation}\n",
    "\n",
    "From our starting arbitrary symmetric A,\n",
    "\\begin{equation}\n",
    "A^{T} = A\n",
    "\\end{equation}\n",
    "we will run a series of transformations,\n",
    "\\begin{equation}\n",
    "A^{\\prime}= P^{T}_{pq} \\cdot A \\cdot P_{pq}\n",
    "\\end{equation}\n",
    "where each iteration brings A closer to diagonal form.  Thus in our implementing our algorithm, we need to determine two things\n",
    "<ul>\n",
    "<li> The values of c and s\n",
    "<li> The pattern of sweeping p and q\n",
    "</ul>\n",
    "And in the end we will need to finally determine if this actually converges, and if has any sort of efficiency."
   ]
  },
  {
   "cell_type": "markdown",
   "metadata": {},
   "source": [
    "So lets expand one transformation, and we if we can solve for $c$ and $s$.\n",
    "\n",
    "\\begin{align}\n",
    "a^{\\prime}_{rp} & = c a_{rp} - s a_{rq} \\\\\n",
    "a^{\\prime}_{rq} & = c a_{rq} + s a_{rp} \\\\ \n",
    "a^{\\prime}_{pp} & = c^2 a_{pp} + s^2 a_{qq} -2 sc a_{pq} \\\\\n",
    "a^{\\prime}_{qq} & = s^2 a_{qq} + c^2 a_{qq} + 2sc a_{pq} \\\\\n",
    "a^{\\prime}_{pq} & = \\left( c^2-s^2 \\right) a_{pq} + sc \\left(a_{pq} - a_{qq} \\right)\n",
    "\\end{align}"
   ]
  },
  {
   "cell_type": "markdown",
   "metadata": {},
   "source": [
    "## Determining $s$ and $c$\n",
    "Given we specifically want $a^{\\prime}_{pq}$ to be zero, we re-arrange the last equation,\n",
    "\\begin{equation}\n",
    "        \\frac{c^2-s^2}{2 sc} = \\frac{a_{pq}-a_{qq}}{2 a_{pq}} =\\theta\n",
    "\\end{equation}\n",
    "At first glance, this equation might not look easier to solve for $s$ or $c$.  Second either. We define a new parameter $t = s/c$, which now makes the equation,\n",
    "\\begin{equation}\n",
    "\\frac{1-t^2}{2 t} = \\theta \\;\\;\\;\\; \\implies \\;\\;\\; t^2 -2 \\theta t -1=0,\n",
    "\\end{equation}\n",
    "now quite easily solvable by our friendly quadratic formula.  Though the book does recommend using form that pulls out smaller root through\n",
    "\\begin{equation}\n",
    "t=\\frac{\\text{sgn}(\\theta)}{|\\theta| + \\sqrt{\\theta^2 + 1} }.\n",
    "\\end{equation}\n",
    "Then reverse solve back to\n",
    "\\begin{align}\n",
    "c&=\\frac{1}{\\sqrt{t^2+1}}\\\\\n",
    "s&=tc\n",
    "\\end{align}\n",
    "\n",
    "Though we could use the expressions above, if we simplify them with our new expressions for $c$ and $s$ analytically, we reduce computational load and round off error. These new expressions are\n",
    "\\begin{align}\n",
    "a^{\\prime}_{pq} & = 0\\\\\n",
    "a^{\\prime}_{qq} & = a_{qq} + t a_{qp} \\\\\n",
    "a^{\\prime}_{pp} &= a_{pp} - t a_{pq} \\\\\n",
    "a^{\\prime}_{rp} &= a_{rp} - s \\left( a_{rq} +\\tau a_{rp} \\right) \\\\\n",
    "a^{\\prime}_{rq} &= a_{rq} + s \\left( a_{rp} -\\tau a_{rq} \\right)\n",
    "\\end{align}\n",
    "with the new variable\n",
    "\\begin{equation}\n",
    "\\tau = \\frac{s}{1+c}\n",
    "\\end{equation}\n",
    "\n",
    "## Convergence\n",
    "\n",
    "The sum of the squares of the off diagonal elements (choosen in either upper or lower triagnles arbitrarily)\n",
    "\\begin{equation}\n",
    "S=\\sum\\limits_{r < s} |a_{rs}|^2\n",
    "\\end{equation}\n",
    "\n",
    "## Eigenvectors\n",
    "\n",
    "By forming a product of every rotation matrix, we also come to approximate the matrix $V$ where \n",
    "\\begin{equation}\n",
    "D = V^{T} \\cdot A \\cdot V\n",
    "\\end{equation}\n",
    "and $D$ is the diagonal form of $A$.  $V$ is computed through itereative computation\n",
    "\\begin{align}\n",
    "V^{\\prime} & = V \\cdot P_i \\\\\n",
    "v^{\\prime}_{rs} &= v_{rs} \\\\\n",
    "v^{\\prime}_{rp} &= c v_{rp} - s v_{rq} \\\\\n",
    "v^{\\prime}_{rq} &= s v_{rp} + c v_{rq} \n",
    "\\end{align}\n",
    "\n",
    "### Enough with the talking! LETS COMPUTE STUFF"
   ]
  },
  {
   "cell_type": "code",
   "execution_count": 8,
   "metadata": {
    "collapsed": false
   },
   "outputs": [
    {
     "data": {
      "text/plain": [
       "convergence (generic function with 1 method)"
      ]
     },
     "execution_count": 8,
     "metadata": {},
     "output_type": "execute_result"
    }
   ],
   "source": [
    "# First, Lets make our nice, helpful functions\n",
    "\n",
    "## A function to look at the convergence\n",
    "function convergence(A::Array)\n",
    "    num=0.0\n",
    "    l=size(A)[1]\n",
    "    for ii in 1:(l-1)\n",
    "        for jj in (ii+1):l ## just looking at the lower triangle\n",
    "            num+=A[ii,jj]^2\n",
    "            #println(ii,' ',jj,' ',num,' ',A[ii,jj])\n",
    "        end\n",
    "    end\n",
    "    return num\n",
    "end"
   ]
  },
  {
   "cell_type": "code",
   "execution_count": 9,
   "metadata": {
    "collapsed": false
   },
   "outputs": [
    {
     "data": {
      "text/plain": [
       "roundmatrix (generic function with 1 method)"
      ]
     },
     "execution_count": 9,
     "metadata": {},
     "output_type": "execute_result"
    }
   ],
   "source": [
    "# This makes a matrix easier to look at when its filled \n",
    "# with 1.043848974e-12 everywhere\n",
    "function roundmatrix(A::Array,rtol::Real)\n",
    "    Ap=copy(A)\n",
    "    for ii in 1:length(A)\n",
    "        if abs(Ap[ii])<rtol \n",
    "            Ap[ii]=0\n",
    "        end\n",
    "    end\n",
    "    return Ap;\n",
    "end"
   ]
  },
  {
   "cell_type": "code",
   "execution_count": 10,
   "metadata": {
    "collapsed": false
   },
   "outputs": [
    {
     "data": {
      "text/plain": [
       "makeA (generic function with 1 method)"
      ]
     },
     "execution_count": 10,
     "metadata": {},
     "output_type": "execute_result"
    }
   ],
   "source": [
    "## Here we create a random symmetric matrix\n",
    "function makeA(n)\n",
    "    A=randn(n,n);\n",
    "    for ii in 1:n\n",
    "        A[ii,1:ii]=transpose(A[1:ii,ii]) \n",
    "    end\n",
    "    V=eye(n) #initializing the orthogonal transformation\n",
    "    return A,copy(A),V\n",
    "end\n",
    "## One A returned will be stored to compare initial and final"
   ]
  },
  {
   "cell_type": "code",
   "execution_count": 11,
   "metadata": {
    "collapsed": false
   },
   "outputs": [
    {
     "data": {
      "text/plain": [
       "Rotate (generic function with 1 method)"
      ]
     },
     "execution_count": 11,
     "metadata": {},
     "output_type": "execute_result"
    }
   ],
   "source": [
    "#Now on to the Rotations!\n",
    "\n",
    "# We don't always want to compute the eigenvectors, so those are in the \n",
    "# optional entries slot. \n",
    "# Both tell the function to compute the vectors with computeV=true\n",
    "# and input the V=V after the semicolon.\n",
    "\n",
    "function Rotate(A::Array,p::Int,q::Int; computeV=false, V::Array=eye(1))\n",
    "    θ=(A[q,q]-A[p,p])/(2*A[p,q]);\n",
    "    t=sign(θ)/(abs(θ)+sqrt(θ^2+1));\n",
    "    \n",
    "    c=1/sqrt(t^2+1)\n",
    "    s=t*c\n",
    "    τ=s/(1+c)\n",
    "    \n",
    "    l=size(A)[1]\n",
    "    Ap=copy(A[:,p])\n",
    "    Aq=copy(A[:,q])\n",
    "    for r in 1:l\n",
    "        A[r,p]=Ap[r]-s*(Aq[r]+τ*Ap[r]) \n",
    "        A[r,q]=Aq[r]+s*(Ap[r]-τ*Aq[r])\n",
    "        \n",
    "        A[p,r]=A[r,p]\n",
    "        A[q,r]=A[r,q]\n",
    "    end\n",
    "    A[p,q]=0\n",
    "    A[q,p]=0\n",
    "    A[p,p]=Ap[p]-t*Aq[p]\n",
    "    A[q,q]=Aq[q]+t*Aq[p]\n",
    "    \n",
    "    if computeV==true\n",
    "        Vp=copy(V[:,p])\n",
    "        Vq=copy(V[:,q])    \n",
    "        for r in 1:l   \n",
    "            V[r,p]=c*Vp[r]-s*Vq[r]\n",
    "            V[r,q]=s*Vp[r]+c*Vq[r]\n",
    "        end\n",
    "        return A,V\n",
    "    else\n",
    "        return A;\n",
    "    end\n",
    "end"
   ]
  },
  {
   "cell_type": "code",
   "execution_count": 14,
   "metadata": {
    "collapsed": false
   },
   "outputs": [
    {
     "data": {
      "text/plain": [
       "Sweep (generic function with 1 method)"
      ]
     },
     "execution_count": 14,
     "metadata": {},
     "output_type": "execute_result"
    }
   ],
   "source": [
    "# This function performs one sweep\n",
    "function Sweep(A;compV=false,V=eye(1))\n",
    "    n=size(A)[1]\n",
    "    for ii in 2:n\n",
    "        for jj in 1:(ii-1) ## Just over one triangle\n",
    "            if compV==false\n",
    "                A=Rotate(A,ii,jj)\n",
    "            else\n",
    "                A,V=Rotate(A,ii,jj;computeV=true,V=V);\n",
    "            end\n",
    "        end\n",
    "    end\n",
    "    \n",
    "    if compV==false\n",
    "        return A\n",
    "    else\n",
    "        return A,V\n",
    "    end \n",
    "end"
   ]
  },
  {
   "cell_type": "code",
   "execution_count": 15,
   "metadata": {
    "collapsed": false
   },
   "outputs": [],
   "source": [
    "A,A0,V=makeA(5);"
   ]
  },
  {
   "cell_type": "code",
   "execution_count": 20,
   "metadata": {
    "collapsed": false
   },
   "outputs": [
    {
     "data": {
      "text/plain": [
       "(\n",
       "5x5 Array{Float64,2}:\n",
       " -1.59942  0.0       0.0       0.0      0.0   \n",
       "  0.0      1.03678   0.0       0.0      0.0   \n",
       "  0.0      0.0      -0.823094  0.0      0.0   \n",
       "  0.0      0.0       0.0       3.09433  0.0   \n",
       "  0.0      0.0       0.0       0.0      1.3409,\n",
       "\n",
       "5x5 Array{Float64,2}:\n",
       " -1.59942      5.1314e-30    2.32594e-36  -9.54088e-49  -1.22782e-53\n",
       "  5.1314e-30   1.03678       2.65014e-38   9.13791e-56   6.64996e-67\n",
       "  2.32594e-36  2.65014e-38  -0.823094     -9.56652e-61   2.08002e-92\n",
       " -9.54088e-49  9.13791e-56  -9.56652e-61   3.09433       0.0        \n",
       " -1.22782e-53  6.64996e-67   2.08002e-92   0.0           1.3409     ,\n",
       "\n",
       "5x5 Array{Float64,2}:\n",
       "  0.0537334   0.0599494  -0.735228  0.139      0.658511\n",
       "  0.310018    0.612957   -0.14049   0.611348  -0.367001\n",
       "  0.759653   -0.475834    0.264118  0.282571   0.216575\n",
       " -0.480405   -0.546544   -0.132383  0.644217  -0.194831\n",
       " -0.305189    0.30913     0.593648  0.33477    0.588905,\n",
       "\n",
       "2.6331310238375346e-59)"
      ]
     },
     "execution_count": 20,
     "metadata": {},
     "output_type": "execute_result"
    }
   ],
   "source": [
    "## keep evaluating for a couple iterations\n",
    "## watch how it changes\n",
    "A,V=Sweep(A;compV=true,V=V);\n",
    "roundmatrix(A,1e-10),A,V,convergence(A)"
   ]
  },
  {
   "cell_type": "code",
   "execution_count": 21,
   "metadata": {
    "collapsed": false
   },
   "outputs": [
    {
     "data": {
      "text/plain": [
       "([-1.599424470672961,-0.8230937166650976,1.0367806031602211,1.3408963512476402,3.0943321944116593],\n",
       "5x5 Array{Float64,2}:\n",
       " -0.0537334   0.735228   0.0599494  -0.658511  -0.139   \n",
       " -0.310018    0.14049    0.612957    0.367001  -0.611348\n",
       " -0.759653   -0.264118  -0.475834   -0.216575  -0.282571\n",
       "  0.480405    0.132383  -0.546544    0.194831  -0.644217\n",
       "  0.305189   -0.593648   0.30913    -0.588905  -0.33477 )"
      ]
     },
     "execution_count": 21,
     "metadata": {},
     "output_type": "execute_result"
    }
   ],
   "source": [
    "## Compare the Optimized LAPLACK routine to your results\n",
    "eig(A0)"
   ]
  },
  {
   "cell_type": "code",
   "execution_count": 22,
   "metadata": {
    "collapsed": false
   },
   "outputs": [
    {
     "data": {
      "text/plain": [
       "5x5 Array{Float64,2}:\n",
       " 0.0  0.0  0.0  0.0  0.0\n",
       " 0.0  0.0  0.0  0.0  0.0\n",
       " 0.0  0.0  0.0  0.0  0.0\n",
       " 0.0  0.0  0.0  0.0  0.0\n",
       " 0.0  0.0  0.0  0.0  0.0"
      ]
     },
     "execution_count": 22,
     "metadata": {},
     "output_type": "execute_result"
    }
   ],
   "source": [
    "## A good check to make sure V is an orthonomal transformation\n",
    "roundmatrix(V*A*transpose(V)-A0,1e-12)"
   ]
  },
  {
   "cell_type": "code",
   "execution_count": 104,
   "metadata": {
    "collapsed": false
   },
   "outputs": [
    {
     "name": "stdout",
     "output_type": "stream",
     "text": [
      "  0.000028 seconds (320 allocations: 30.469 KB)\n",
      "  0.000099 seconds (1.33 k allocations: 187.266 KB)\n",
      "  0.007413 seconds (34.66 k allocations: 17.448 MB, 14.20% gc time)\n"
     ]
    }
   ],
   "source": [
    "# How long does it take to make a Sweep?\n",
    "# How much memory will the computation take?\n",
    "# This is dependent on how large the matrix is\n",
    "A,A0,V=makeA(10);\n",
    "@time Sweep(A);\n",
    "A,A0,V=makeA(20);\n",
    "@time Sweep(A);\n",
    "A,A0,V=makeA(100);\n",
    "@time Sweep(A);"
   ]
  },
  {
   "cell_type": "markdown",
   "metadata": {},
   "source": [
    "In addition to time per sweep, we need to know how many sweeps we need to run. So again we run it on a 10x10, 20x20, and 100x100. The efficiency of the algorithm would get a lot worse if we have to sweep the 100x100 a bunch of times."
   ]
  },
  {
   "cell_type": "code",
   "execution_count": 107,
   "metadata": {
    "collapsed": false
   },
   "outputs": [
    {
     "data": {
      "text/plain": [
       "7x4 Array{Float64,2}:\n",
       " 1.0  1.10944       2.43759      14.6644     \n",
       " 2.0  0.105628      0.312076      2.87182    \n",
       " 3.0  0.000265288   0.017073      0.498082   \n",
       " 4.0  6.64324e-9    0.000119472   0.0390564  \n",
       " 5.0  4.05463e-18   3.56679e-11   0.00133833 \n",
       " 6.0  3.17274e-42   1.96318e-23   6.07661e-7 \n",
       " 7.0  6.76289e-110  4.07871e-49   3.98102e-13"
      ]
     },
     "execution_count": 107,
     "metadata": {},
     "output_type": "execute_result"
    }
   ],
   "source": [
    "A10,Ap10,V=makeA(10);\n",
    "A20,Ap20,V=makeA(20);\n",
    "A100,Ap100,V=makeA(100);\n",
    "nsweep=collect(1:7);\n",
    "conv10=zeros(7)\n",
    "conv20=zeros(7)\n",
    "conv100=zeros(7)\n",
    "for i in nsweep\n",
    "    A10=Sweep(A10)\n",
    "    A20=Sweep(A20)\n",
    "    A100=Sweep(A100)\n",
    "    conv10[i]=convergence(A10)\n",
    "    conv20[i]=convergence(A20)\n",
    "    conv100[i]=convergence(A100)\n",
    "end\n",
    "\n",
    "[nsweep conv10/10 conv20/20 conv100/100]"
   ]
  },
  {
   "cell_type": "markdown",
   "metadata": {
    "collapsed": true
   },
   "source": [
    "Well, so we've seen how to do one form of exact diagonalization that works, but doesn't scale very well up to 100x100 matrices.  So stay tuned for the Householder method, hopefully coming up soon.\n",
    "\n",
    "Until then, happy computing :)"
   ]
  },
  {
   "cell_type": "code",
   "execution_count": null,
   "metadata": {
    "collapsed": true
   },
   "outputs": [],
   "source": []
  }
 ],
 "metadata": {
  "kernelspec": {
   "display_name": "Julia 0.4.1",
   "language": "julia",
   "name": "julia-0.4"
  },
  "language_info": {
   "file_extension": ".jl",
   "mimetype": "application/julia",
   "name": "julia",
   "version": "0.4.1"
  }
 },
 "nbformat": 4,
 "nbformat_minor": 0
}
