{
 "cells": [
  {
   "cell_type": "code",
   "execution_count": 1,
   "metadata": {
    "collapsed": false
   },
   "outputs": [
    {
     "name": "stderr",
     "output_type": "stream",
     "text": [
      "\u001b[1m\u001b[34mINFO: Recompiling stale cache file C:\\Users\\chris\\.julia\\lib\\v0.5\\BinDeps.ji for module BinDeps.\n",
      "\u001b[0m\u001b[1m\u001b[34mINFO: Recompiling stale cache file C:\\Users\\chris\\.julia\\lib\\v0.5\\PyCall.ji for module PyCall.\n",
      "\u001b[0m\u001b[1m\u001b[34mINFO: Recompiling stale cache file C:\\Users\\chris\\.julia\\lib\\v0.5\\PyPlot.ji for module PyPlot.\n",
      "\u001b[0m"
     ]
    }
   ],
   "source": [
    "using PyPlot"
   ]
  },
  {
   "cell_type": "code",
   "execution_count": 2,
   "metadata": {
    "collapsed": false
   },
   "outputs": [
    {
     "data": {
      "text/plain": [
       "findstate (generic function with 1 method)"
      ]
     },
     "execution_count": 2,
     "metadata": {},
     "output_type": "execute_result"
    }
   ],
   "source": [
    "function findstate(state::Int,set::Array{Int})\n",
    "    iimin=1\n",
    "    iimax=length(set)\n",
    "    \n",
    "    if set[iimin] == state\n",
    "        return iimin\n",
    "    end\n",
    "    if set[iimax] == state\n",
    "        return iimax\n",
    "    end\n",
    "    \n",
    "    \n",
    "    found=false\n",
    "    count=0\n",
    "    \n",
    "    while found==false && count < length(set)\n",
    "        count+=1\n",
    "        index=floor(Int,iimin+(iimax-iimin)/2)\n",
    "        if state < set[index]\n",
    "            iimax=index-1\n",
    "        elseif state > set[index]\n",
    "            iimin=index+1\n",
    "        else\n",
    "            found=true\n",
    "            return index\n",
    "        end\n",
    "    end\n",
    "    \n",
    "    if found == false\n",
    "        println(\"findstate never found a match\")\n",
    "        println(\"Are you sure the state is in that Array?\")\n",
    "    end\n",
    "    \n",
    "    return 0\n",
    "end"
   ]
  },
  {
   "cell_type": "code",
   "execution_count": 3,
   "metadata": {
    "collapsed": false
   },
   "outputs": [
    {
     "data": {
      "text/plain": [
       "4096"
      ]
     },
     "execution_count": 3,
     "metadata": {},
     "output_type": "execute_result"
    }
   ],
   "source": [
    "n=12\n",
    "nstates=2^n"
   ]
  },
  {
   "cell_type": "code",
   "execution_count": 4,
   "metadata": {
    "collapsed": false
   },
   "outputs": [],
   "source": [
    "psi=collect(0:(nstates-1))\n",
    "\n",
    "powers2=collect(0:(n-1));\n",
    "powers2=2.^powers2;\n",
    "\n",
    "mask=[0;powers2]+[powers2;0];\n",
    "mask=[mask[2:end-1];[1+2^(n-1)]]\n",
    "\n",
    "m=zeros(psi)\n",
    "for i in 1:nstates\n",
    "    m[i]=sum((psi[i]&powers2)./(powers2))\n",
    "end\n",
    "m=(m-n/2)/2\n",
    "\n",
    "ind=sortperm(m)\n",
    "m=m[ind]\n",
    "psi=psi[ind]\n",
    "\n",
    "ma=collect(0:.5:n/2.)-n/4\n",
    "    \n",
    "psia=Array{Array{Int64}}(n+1)\n",
    "first=1\n",
    "last=1\n",
    "for i in 1:(n+1)\n",
    "    psia[i]=psi[first:last]\n",
    "    \n",
    "    #now we compute them for the next round\n",
    "    first=last+1\n",
    "    last=last+binomial(n,i)\n",
    "end"
   ]
  },
  {
   "cell_type": "code",
   "execution_count": 8,
   "metadata": {
    "collapsed": false
   },
   "outputs": [],
   "source": [
    "F=Array{Base.LinAlg.Eigen}(n+1)\n",
    "for mz=1:(n+1)\n",
    "\n",
    "    dim=binomial(n,mz-1)\n",
    "\n",
    "    M=ma[mz]*(ma[mz]+1)*eye(Float64,dim,dim)\n",
    "\n",
    "    Psi=psia[mz]\n",
    "\n",
    "    mp=sum(Psi[1]&powers2./powers2)\n",
    "\n",
    "    for ii in 1:length(Psi)\n",
    "        p=Psi[ii]\n",
    "        for jj in 1:n\n",
    "            flipped=p$mask[jj]\n",
    "            if sum((flipped&powers2)./powers2) == mp\n",
    "                index=findstate(flipped,Psi)\n",
    "                M[ii,index]=.5\n",
    "                M[index,ii]=.5\n",
    "            end\n",
    "\n",
    "        end\n",
    "    end\n",
    "    \n",
    "    F[mz]=eigfact(M)\n",
    "end"
   ]
  },
  {
   "cell_type": "code",
   "execution_count": 24,
   "metadata": {
    "collapsed": false
   },
   "outputs": [
    {
     "data": {
      "text/plain": [
       "13-element Array{Float64,1}:\n",
       " -3.0\n",
       " -2.5\n",
       " -2.0\n",
       " -1.5\n",
       " -1.0\n",
       " -0.5\n",
       "  0.0\n",
       "  0.5\n",
       "  1.0\n",
       "  1.5\n",
       "  2.0\n",
       "  2.5\n",
       "  3.0"
      ]
     },
     "execution_count": 24,
     "metadata": {},
     "output_type": "execute_result"
    }
   ],
   "source": [
    "ma"
   ]
  },
  {
   "cell_type": "code",
   "execution_count": 9,
   "metadata": {
    "collapsed": false
   },
   "outputs": [],
   "source": [
    "Emat=Array{Array{Float64}}(n+1)\n",
    "for mz in 1:n+1\n",
    "    Emat[mz]=F[mz][:values] \n",
    "end"
   ]
  },
  {
   "cell_type": "code",
   "execution_count": 10,
   "metadata": {
    "collapsed": false
   },
   "outputs": [],
   "source": [
    "minenergy=0\n",
    "for mz in 1:n+1\n",
    "    if minimum(Emat[mz]) < minenergy\n",
    "        minenergy=minimum(Emat[mz])\n",
    "    end\n",
    "end\n",
    "for mz=1:n+1\n",
    "    Emat[mz]=Emat[mz]-minenergy\n",
    "end"
   ]
  },
  {
   "cell_type": "code",
   "execution_count": null,
   "metadata": {
    "collapsed": false
   },
   "outputs": [],
   "source": []
  },
  {
   "cell_type": "code",
   "execution_count": 72,
   "metadata": {
    "collapsed": false
   },
   "outputs": [],
   "source": [
    "T=collect(.01:.01:2)\n",
    "Zt=0\n",
    "mzex=zeros(T)\n",
    "Eex=zeros(T)\n",
    "mz2ex=zeros(T)\n",
    "E2ex=zeros(T)\n",
    "\n",
    "for ii in 1:length(T)\n",
    "    \n",
    "    Ti=T[ii];\n",
    "\n",
    "    for mz=1:n+1\n",
    "        p=exp(-Emat[mz]/Ti)\n",
    "        Z=sum(p)\n",
    "\n",
    "        Eex[ii]+=sum(Emat[mz].*p)\n",
    "        mzex[ii]+=sum((2*m[mz])*p)\n",
    "\n",
    "        E2ex[ii]+=sum(Emat[mz].^2.*p)\n",
    "        mz2ex[ii]+=sum(((2*m[mz])^2)*p)\n",
    "\n",
    "        Zt+=Z\n",
    "    end\n",
    "\n",
    "    Eex[ii]=Eex[ii]/Zt;\n",
    "    mzex[ii]=mzex[ii]/Zt;\n",
    "    E2ex[ii]=E2ex[ii]/Zt;\n",
    "    mz2ex[ii]=mz2ex[ii]/Zt;\n",
    "end\n",
    "\n"
   ]
  },
  {
   "cell_type": "code",
   "execution_count": 61,
   "metadata": {
    "collapsed": false
   },
   "outputs": [],
   "source": [
    "tot=[]\n",
    "for mz in 1:n+1\n",
    "    tot=[tot;Emat[mz]]\n",
    "end\n",
    "tot=sort(tot)-minimum(tot);"
   ]
  },
  {
   "cell_type": "code",
   "execution_count": 73,
   "metadata": {
    "collapsed": true
   },
   "outputs": [],
   "source": [
    "χ=(mz2ex-mzex.^2)./T;"
   ]
  },
  {
   "cell_type": "code",
   "execution_count": 46,
   "metadata": {
    "collapsed": true
   },
   "outputs": [],
   "source": [
    "Ch=(E2ex-E2ex.^2)./(T.^2);"
   ]
  },
  {
   "cell_type": "code",
   "execution_count": 74,
   "metadata": {
    "collapsed": false
   },
   "outputs": [
    {
     "data": {
      "image/png": "[encoded data removed]",
      "text/plain": [
       "PyPlot.Figure(PyObject <matplotlib.figure.Figure object at 0x000000002B877748>)"
      ]
     },
     "metadata": {},
     "output_type": "display_data"
    },
    {
     "data": {
      "text/plain": [
       "1-element Array{Any,1}:\n",
       " PyObject <matplotlib.lines.Line2D object at 0x000000002BB18518>"
      ]
     },
     "execution_count": 74,
     "metadata": {},
     "output_type": "execute_result"
    }
   ],
   "source": [
    "plot(T,χ)\n",
    "xlabel(\"Temperature\")\n",
    "ylabel(\"\")"
   ]
  },
  {
   "cell_type": "code",
   "execution_count": 48,
   "metadata": {
    "collapsed": false
   },
   "outputs": [
    {
     "data": {
      "image/png": "[encoded data removed]",
      "text/plain": [
       "PyPlot.Figure(PyObject <matplotlib.figure.Figure object at 0x000000002A034160>)"
      ]
     },
     "metadata": {},
     "output_type": "display_data"
    },
    {
     "data": {
      "text/plain": [
       "1-element Array{Any,1}:\n",
       " PyObject <matplotlib.lines.Line2D object at 0x000000002A2A2908>"
      ]
     },
     "execution_count": 48,
     "metadata": {},
     "output_type": "execute_result"
    }
   ],
   "source": [
    "plot(T,Ch)"
   ]
  },
  {
   "cell_type": "code",
   "execution_count": 70,
   "metadata": {
    "collapsed": false
   },
   "outputs": [
    {
     "data": {
      "text/plain": [
       "4096-element Array{Float64,1}:\n",
       " -6.0\n",
       " -5.0\n",
       " -5.0\n",
       " -5.0\n",
       " -5.0\n",
       " -5.0\n",
       " -5.0\n",
       " -5.0\n",
       " -5.0\n",
       " -5.0\n",
       " -5.0\n",
       " -5.0\n",
       " -5.0\n",
       "  ⋮  \n",
       "  5.0\n",
       "  5.0\n",
       "  5.0\n",
       "  5.0\n",
       "  5.0\n",
       "  5.0\n",
       "  5.0\n",
       "  5.0\n",
       "  5.0\n",
       "  5.0\n",
       "  5.0\n",
       "  6.0"
      ]
     },
     "execution_count": 70,
     "metadata": {},
     "output_type": "execute_result"
    }
   ],
   "source": [
    "2*m"
   ]
  },
  {
   "cell_type": "code",
   "execution_count": null,
   "metadata": {
    "collapsed": false
   },
   "outputs": [],
   "source": []
  },
  {
   "cell_type": "code",
   "execution_count": null,
   "metadata": {
    "collapsed": true
   },
   "outputs": [],
   "source": []
  }
 ],
 "metadata": {
  "kernelspec": {
   "display_name": "Julia 0.5.1",
   "language": "julia",
   "name": "julia-0.5"
  },
  "language_info": {
   "file_extension": ".jl",
   "mimetype": "application/julia",
   "name": "julia",
   "version": "0.5.1"
  }
 },
 "nbformat": 4,
 "nbformat_minor": 2
}
