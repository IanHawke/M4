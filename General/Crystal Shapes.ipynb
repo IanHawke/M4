{
 "cells": [
  {
   "cell_type": "markdown",
   "metadata": {},
   "source": [
    "# Computationally Visuallizing Crystals\n",
    "<b> Christina Lee\n",
    "\n",
    "Category: General\n",
    "\n",
    "Prerequisites:</b> none\n",
    "\n",
    "\n",
    "In condensed matter, we find ourselves in the interesting middle ground of dealing with large numbers $10^{23}$ of extremely small particles, ex. atoms, electrons.  \n",
    "\n",
    "Luckily, the particles don't each do their own thing, but often come in nice, structured, repeated units.  <i>Lattices</i>.  So as our first step into the field, we will look at the most basic type, a <i>Bravais Lattice</i>.  \n",
    "\n",
    "In a Bravais Lattice, every site looks like every other site. Mathematically, we use three vectors, $\\vec{a},\\vec{b},\\vec{c}$ to express how we move from one site to a neighbor.\n",
    "\n",
    "\\begin{equation}\n",
    "\\mathbf{R}_{lmn}=l \\vec{a} + m \\vec{b} + n \\vec{c}  \\;\\;\\;\\; \\text{for } l,m,n \\in \\mathbb{N}\n",
    "\\end{equation}\n",
    "\n",
    "To keep things working out right, we have to put a constraint on these vectors; that we can't get one from scaling and adding the other two.  If we could, then we couldn't put sites in an entire 3 dimensional space.\n",
    "\n",
    "Stay tuned for a later post where we explore more elaborate lattices.  \n",
    "\n"
   ]
  },
  {
   "cell_type": "code",
   "execution_count": 1,
   "metadata": {
    "collapsed": true
   },
   "outputs": [],
   "source": [
    "# importing our packages\n",
    "using PyPlot;"
   ]
  },
  {
   "cell_type": "markdown",
   "metadata": {},
   "source": [
    "## Define The Relevant Variables\n",
    "Choose the lattice you want to look at, and put that string into the lattice variable.  \n",
    "Current options:\n",
    "<ul>\n",
    "    <li> Simple Cubic = \"sc\"\n",
    "    <li> Plane triangular lattice = \"pt\"\n",
    "    <li> Body-Centered Cubic = \"bcc\"\n",
    "    <li> Face-Centered Cubic = \"fcc\"\n",
    "</ul>\n",
    "\n",
    "Note: Square is Simple Cubic for Nz=1\n",
    "\n",
    "14 distinct lattice types are possible, but these common four give the important ideas.\n",
    "\n",
    "Also, input the size of lattice you want to look at."
   ]
  },
  {
   "cell_type": "code",
   "execution_count": 68,
   "metadata": {
    "collapsed": true
   },
   "outputs": [],
   "source": [
    "lattice=\"fcc\";\n",
    "\n",
    "Nx=3;\n",
    "Ny=2;\n",
    "Nz=2;"
   ]
  },
  {
   "cell_type": "markdown",
   "metadata": {},
   "source": [
    "## The Lattice vectors"
   ]
  },
  {
   "cell_type": "code",
   "execution_count": 69,
   "metadata": {
    "collapsed": false
   },
   "outputs": [
    {
     "data": {
      "text/plain": [
       "\"Cell Finished\""
      ]
     },
     "execution_count": 69,
     "metadata": {},
     "output_type": "execute_result"
    }
   ],
   "source": [
    "# A cell to just evaluate\n",
    "# This one sets the unit vectors (a,b,c) for the different unit cells\n",
    "# Can you guess what a lattice will look like by looking at the vectors?\n",
    "if(lattice==\"sc\")\n",
    "    d=3;\n",
    "    a=[1,0,0];\n",
    "    b=[0,1,0];\n",
    "    c=[0,0,1];\n",
    "elseif(lattice==\"pt\")\n",
    "    d=2;\n",
    "    a=[1,0,0];\n",
    "    b=[.5,sqrt(3)/2,0];\n",
    "    c=[0,0,1];\n",
    "elseif(lattice==\"bcc\")\n",
    "    d=3;\n",
    "    a=[.5,.5,.5];\n",
    "    b=[.5,.5,-.5];\n",
    "    c=[.5,-.5,.5];\n",
    "elseif(lattice==\"fcc\")\n",
    "    d=3;\n",
    "    a=[.5,.5,0];\n",
    "    b=[.5,0,.5];\n",
    "    c=[0,.5,.5];\n",
    "end\n",
    "\"Cell Finished\""
   ]
  },
  {
   "cell_type": "markdown",
   "metadata": {},
   "source": [
    "# Creating the Position arrays\n",
    "\n",
    "Now we have everything we need about the specific lattice we want to look at.  From here on out, everything is completely general for any Bravais Lattice.\n",
    "\n",
    "## Some helpful variables\n",
    "The variables created in the next cell just make computation a bit easier, get the above variables into nicer forms."
   ]
  },
  {
   "cell_type": "code",
   "execution_count": 70,
   "metadata": {
    "collapsed": true
   },
   "outputs": [],
   "source": [
    "# Another cell to just evaluate\n",
    "N=Nx*Ny*Nz;    #The total number of sites\n",
    "\n",
    "#these allow us to copy an entire row or layer at once\n",
    "aM=transpose(a);\n",
    "bM=transpose(repeat(b,outer=[1,Nx])); \n",
    "cM=transpose(repeat(c,outer=[1,Nx*Ny]));\n",
    "\n",
    "X=Array{Float64}(N,3);  #where we store the positions\n",
    "\"Cell Finished\""
   ]
  },
  {
   "cell_type": "markdown",
   "metadata": {},
   "source": [
    "## Entering the Position Values\n",
    "Here, we first initialize a first row, then tile the first plane with the first row.\n",
    "Afterward, we can tile the entire lattice with that first plane."
   ]
  },
  {
   "cell_type": "code",
   "execution_count": 71,
   "metadata": {
    "collapsed": true
   },
   "outputs": [],
   "source": [
    "# Another cell to just evaluate\n",
    "# Here we are actually calculating the positions for every site\n",
    "for i in 1:Nx    #for the first row\n",
    "    X[i,:]=(i-1)*a;\n",
    "end\n",
    "\n",
    "for j in 2:Ny    #copying the first row into the first layer\n",
    "    X[Nx*(j-1)+(1:Nx),:]=X[1:Nx,:]+(j-1)*bM;\n",
    "end\n",
    "\n",
    "for j in 2:Nz    #copying the first layer into the entire cube\n",
    "    X[Ny*Nx*(j-1)+(1:Nx*Ny),:]=X[1:Nx*Ny,:]+(j-1)*cM;\n",
    "end"
   ]
  },
  {
   "cell_type": "markdown",
   "metadata": {},
   "source": [
    "#### Programming Tip: \n",
    "\n",
    "In Julia, ranges, like `1:Nx`, are a special variable type that can be manipulated.  We can add numbers to them:\n",
    "`3+(1:3)=4:6`,\n",
    "or add a minus sign to force it to iterate in the opposite direction, though with different start/stop:\n",
    "`-(1:3)=-1:-1:-3`\n",
    "\n",
    "<b>Danger!</b> Make sure to use the parentheses around the range if you are performing these operations.\n",
    "\n",
    "## Plotting"
   ]
  },
  {
   "cell_type": "code",
   "execution_count": 73,
   "metadata": {
    "collapsed": false
   },
   "outputs": [
    {
     "data": {
      "text/plain": [
       "3-element Array{Any,1}:\n",
       " PyObject <matplotlib.axis.XTick object at 0x000000003F1227F0>\n",
       " PyObject <matplotlib.axis.XTick object at 0x000000003F115400>\n",
       " PyObject <matplotlib.axis.XTick object at 0x000000003F34D9E8>"
      ]
     },
     "execution_count": 73,
     "metadata": {},
     "output_type": "execute_result"
    }
   ],
   "source": [
    "pygui(true);\n",
    "#if true, launches new window with interactive capabilities\n",
    "\n",
    "drawcube=true;  #gives lines for a cube, helps interpret the dots\n",
    "ls=2;  # how many cubes to draw\n",
    "if(drawcube==true)\n",
    "    v=collect(0:ls);\n",
    "    zed=zeros(v);\n",
    "    for i in 0:ls\n",
    "        for j in 0:ls  \n",
    "            plot3D(zed+i,v,zed+j,\"k\")\n",
    "            plot3D(zed+i,zed+j,v,\"k\")\n",
    "    \n",
    "            plot3D(v,zed+i,zed+j,\"k\")\n",
    "            plot3D(zed+j,zed+i,v,\"k\")\n",
    "    \n",
    "            plot3D(v,zed+j,zed+i,\"k\")\n",
    "            plot3D(zed+j,v,zed+i,\"k\")\n",
    "        end\n",
    "    end\n",
    "end\n",
    "\n",
    "scatter3D(X[:,1],X[:,2],X[:,3],s=200*ones(X[:,1]),alpha=1)\n",
    "xlabel(\"x\")\n",
    "ylabel(\"y\")\n",
    "zlabel(\"z\")\n",
    "title(\"Face Centered Cubic\")\n",
    "xticks([0,1,2])\n",
    "yticks([0,1,2])\n",
    "zticks([0,1,2])"
   ]
  },
  {
   "cell_type": "markdown",
   "metadata": {},
   "source": [
    "## Go Back and Fiddle! \n",
    "As you might have noticed, this isn't just a blog where you just read through it. Interact with it. Change some lines, and see what happens. I choose body centered cubic to display first, but what do the other lattices look like?\n",
    "\n",
    "Chose `pygui(true)` to pop open a window and manipulate the plot in 3D.\n",
    "\n",
    "Look at different lattice sizes.\n",
    "\n",
    "Can you hand draw them on paper?\n",
    "![A hand drawing](../images/CrystalShapes/handdraw2.jpg)"
   ]
  },
  {
   "cell_type": "code",
   "execution_count": null,
   "metadata": {
    "collapsed": true
   },
   "outputs": [],
   "source": []
  }
 ],
 "metadata": {
  "kernelspec": {
   "display_name": "Julia 0.5.1",
   "language": "julia",
   "name": "julia-0.5"
  },
  "language_info": {
   "file_extension": ".jl",
   "mimetype": "application/julia",
   "name": "julia",
   "version": "0.5.1"
  }
 },
 "nbformat": 4,
 "nbformat_minor": 2
}
