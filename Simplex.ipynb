{
 "cells": [
  {
   "cell_type": "markdown",
   "metadata": {},
   "source": [
    "# Homology and Simplices\n",
    "### Christina Lee\n",
    "### Category: Grad\n",
    "### Tags: Mathematics, Topology\n",
    "\n",
    "I've been trying to learn the pure math side of topology to understand topological materials better.   Predictably, my sources have a lot of theorems, the examples tend to be esoteric and hard to conceptualize, and I have little idea how it all relates to my pretty crystals.  There also aren't that many examples.  I almost miss the days back in high school when they forced us to do the same problem 1,000 times over.  \n",
    "\n",
    "So to better understand one of the important topics, simplices and simplicial complexes, I've decided to take the pure math and put it to programming the best that I can.  I don't know if this is the best way of doing things, or if it's useful at all, but I think it helps me understand them.  Hopefully, it will help you too.\n",
    "\n",
    "<b>Homology</b> is the study of deforming things.  If we push and pull at something, without tearing or gluing, what properties remain the same?  A coffee cup is the same as a donut because they both have one hole.  \n",
    "\n",
    "We are also the same as a donut because of our digestive track... if you ignore all the open cavities we have inside.  We can at least deform away our lungs.  I'm not an anatomy expert.  \n",
    "\n",
    "Many objects of interest are <b>topologies</b>, which are just collections of sets that obey certain constraints.  Every manifold you've ever worked with has been a topology, but it probably was just trivial and didn't need further study.  To study more complex topologies, we can find an equivalent <b>simplicial complex</b>.  We can then compute a variety of things about the simplicial complex that tell us about the properties of the topology.  \n",
    "\n",
    "Simplicial complexes are made out of <b>simplices</b>.  \n",
    "\n",
    "A <b>simplex</b> is an $n$-dimensional generalization of a triangle.  A 0-dim simplex is a point; a 1-dim simplex is a line; 3-dim a tetrahedron; so on and so forth.  \n",
    "\n",
    "![simplex](Images/simplex/simplex.svg)\n",
    "\n",
    "The rules for the simplices in a legitimate simplicial complex are \n",
    "\n",
    "1. Every point must belong to at least one simplex\n",
    "2. A point can belong to only a finite number of simplices\n",
    "3. Two different simplices either have no points in common, or\n",
    "    1. on is a face (or edge, or vertex) of the other\n",
    "    2. the set of points in common is the whole of a shared face (or edge, or vertex).\n",
    "            \n",
    "[1]\n",
    "\n",
    "A simplicial complex of dimension $d$ will contain a finite number of $d$-dimensional simplices, the faces of those simplices,  the faces of the faces, and so on until you get to all the points contained in the original simplices."
   ]
  },
  {
   "cell_type": "markdown",
   "metadata": {},
   "source": [
    "I will denote each point by a string of length 1, like `\"a\"`.\n",
    "\n",
    "A simplex of dimension $d$ is a string of length $d$. For example, in the figure above, the two dim 2 simplices are `\"abc\"` and `\"acd\"`.  For now, order doesn't matter, but I am also working on a post to discuss <b>$p$-chains</b>, where order matters.\n",
    "\n",
    "A simplicial complex of dimension $d$ contains simplicies of dimension $d$, dimension $d-1$, ... , to $0$. I create an array of arrays to store these simplicies. Each array of simplicies corresponds to a different dimension."
   ]
  },
  {
   "cell_type": "code",
   "execution_count": 1,
   "metadata": {
    "collapsed": false
   },
   "outputs": [],
   "source": [
    "type simplex\n",
    "    d::Int\n",
    "    s::String \n",
    "end"
   ]
  },
  {
   "cell_type": "code",
   "execution_count": 2,
   "metadata": {
    "collapsed": false
   },
   "outputs": [],
   "source": [
    "type SimplexComplex\n",
    "    d::Int\n",
    "    s::Array{Array{simplex}}\n",
    "end"
   ]
  },
  {
   "cell_type": "markdown",
   "metadata": {},
   "source": [
    "After almost finishing this post and hours of staring at almost incomprehensible output, I've realized that I can use some nice IO aspects to tailor how Julia diplays my abstract types.  \n",
    "\n",
    "I first create a function that outputs some HTML to the IO stream.  Then `Base.show` takes that IO stream and renders it as HTML.  \n",
    "\n",
    "I believe that is what is going on.  All I know right now is this works.\n",
    "\n",
    "I particularily used this link https://docs.julialang.org/en/stable/manual/types/#Custom-pretty-printing-1 to influence how I created this function.  "
   ]
  },
  {
   "cell_type": "code",
   "execution_count": 3,
   "metadata": {
    "collapsed": false
   },
   "outputs": [],
   "source": [
    "function displaySC(io::IO,sc::SimplexComplex)\n",
    "    print(io,\"<center><h3>Simplicial Complex</h3></center>\")\n",
    "    for kk in 1:sc.d\n",
    "        print(io,\"<center><b>Dimension: $(kk)</b></center>\")\n",
    "        sc_now=sc.s[kk]\n",
    "        bigstring=\"<center>\"\n",
    "        for jj in 1:length(sc_now)\n",
    "            bigstring=bigstring*\"&emsp;\"*sc_now[jj].s\n",
    "        end\n",
    "        bigstring=bigstring*\"</center>\"\n",
    "        print(io,bigstring)\n",
    "    end\n",
    "end\n",
    "Base.show(io::IO, ::MIME\"text/html\", sc::SimplexComplex)=displaySC(io,sc)"
   ]
  },
  {
   "cell_type": "code",
   "execution_count": 4,
   "metadata": {
    "collapsed": true
   },
   "outputs": [],
   "source": [
    "function displayS(io::IO,s::simplex)\n",
    "    print(io,\"<center><h3>Simplex</h3></center>\")\n",
    "    print(io,\"<center><b>Dimension: $(s.d)</b></center>\") \n",
    "    print(io,\"<center>$(s.s)</center\")\n",
    "end\n",
    "Base.show(io::IO,::MIME\"text/html\",s::simplex)=displayS(io,s)"
   ]
  },
  {
   "cell_type": "markdown",
   "metadata": {
    "collapsed": false
   },
   "source": [
    "I could just iterate out every point, edge, and face of a simplicial complex by hand, but why spend my time doing that when I can spend even more time writing code to get my computer to do it for me?\n",
    "\n",
    "I'll send in the $d$-dimensional stucture, and the computer will figure out everything smaller than that.  \n",
    "\n",
    "My algorithm will go through and compute the face of every block in the last array, then the edges of all the faces from before that, and so forth.  \n",
    "\n",
    "But some edges will belong to more than one face.  See Point 3A in what a simplicial complex is, or line `\"ac\"` in the figure.  I could just have \"ac\" in the simplicial complex twice, but then things start getting ugly and clunky.  \n",
    "\n",
    "This next function `AreSame` determines if two strings are permutations of each other, so we can clean up the complex.  The even/ odd permutation aspect will play a role next post when I discuss $p$-chains."
   ]
  },
  {
   "cell_type": "code",
   "execution_count": 5,
   "metadata": {
    "collapsed": false
   },
   "outputs": [
    {
     "data": {
      "text/plain": [
       "AreSame (generic function with 1 method)"
      ]
     },
     "execution_count": 5,
     "metadata": {},
     "output_type": "execute_result"
    }
   ],
   "source": [
    "# Returns 0 is they two strings are not permutations of each other\n",
    "# Returns 1 if they are even permutations\n",
    "# Returns -1 if they are odd permutations\n",
    "\n",
    "function AreSame(a::String,b::String)\n",
    "    if length(a) != length(b)\n",
    "        error(\"Strings not same length in AreSame\")\n",
    "    end\n",
    "    \n",
    "    l=length(a)\n",
    "    \n",
    "    x=repmat(collect(1:l),1,l)\n",
    "    y=transpose(x)-1\n",
    "    z=(x+y-1)%l+1\n",
    "    zp=z[end:-1:1,:]\n",
    "\n",
    "    for jj in 1:l\n",
    "        n=\"\"\n",
    "        m=\"\"\n",
    "        for ii in 1:l\n",
    "            n=string(n,a[z[ii,jj]]) \n",
    "            m=string(m,a[zp[ii,jj]])\n",
    "        end\n",
    "        \n",
    "        if b==n\n",
    "            return 1\n",
    "        end\n",
    "        if b==m\n",
    "            return -1\n",
    "        end\n",
    "        \n",
    "    end\n",
    "   \n",
    "    return 0\n",
    "end"
   ]
  },
  {
   "cell_type": "markdown",
   "metadata": {
    "collapsed": false
   },
   "source": [
    "The function to create a complex is fairly straight forward, but I want to pull out one part that is simple, but not particularily readable.  I use a loop and a modulo to remove one index from a string.  \n",
    "This particularily unreadable bit is presented right here.\n"
   ]
  },
  {
   "cell_type": "code",
   "execution_count": 6,
   "metadata": {
    "collapsed": false
   },
   "outputs": [
    {
     "name": "stdout",
     "output_type": "stream",
     "text": [
      "[2,3,4]\n",
      "[3,4,1]\n",
      "[4,1,2]\n",
      "[1,2,3]\n"
     ]
    }
   ],
   "source": [
    "d_new_s=3\n",
    "d_old_s=4\n",
    "for ii in 1:d_old_s\n",
    "    println(   collect(ii:(ii+d_new_s-1))%d_old_s  +1 )\n",
    "end"
   ]
  },
  {
   "cell_type": "markdown",
   "metadata": {},
   "source": [
    "And now the large function to create a simplicial complex."
   ]
  },
  {
   "cell_type": "code",
   "execution_count": 7,
   "metadata": {
    "collapsed": false
   },
   "outputs": [
    {
     "data": {
      "text/plain": [
       "CreateComplex (generic function with 1 method)"
      ]
     },
     "execution_count": 7,
     "metadata": {},
     "output_type": "execute_result"
    }
   ],
   "source": [
    "# sc = simplecial complex\n",
    "# s = simplex\n",
    "\n",
    "function CreateComplex(starter::Array{simplex})\n",
    "    \n",
    "    n0=length(starter) # number simplices at a top dimension\n",
    "    d0=starter[1].d #top dimension\n",
    "\n",
    "    sc=Array{Array{simplex}}(d0)\n",
    "    sc[d0]=starter;\n",
    "\n",
    "    n_new_s=d0*n0 # the number of simplices in the next row\n",
    "    n_old_s=n0    # the number of simplices in the last row    \n",
    "\n",
    "    d_new_s=d0-1; # the next dimension\n",
    "    d_old_s=d0;   # the last dimension\n",
    "\n",
    "    for kk=(d0-1):-1:1\n",
    "        \n",
    "        s_last=sc[kk+1]\n",
    "        s_next=Array{simplex}(n_new_s)\n",
    "\n",
    "        for jj in 1:n_old_s\n",
    "            for ii in 1:d_old_s\n",
    "\n",
    "                s_next[d_old_s*(jj-1)+ii]=\n",
    "                    simplex(d_new_s,s_last[jj].s[(collect(ii:(ii+d_new_s-1)))%d_old_s+1]) \n",
    "\n",
    "            end\n",
    "        end\n",
    "\n",
    "        sc[kk]=s_next;\n",
    "\n",
    "        n_old_s=n_new_s\n",
    "        n_new_s=n_new_s*d_new_s\n",
    "\n",
    "        d_old_s=d_new_s;\n",
    "        d_new_s=d_new_s-1;\n",
    "    end\n",
    "    return SimplexComplex(d0,sc)\n",
    "end"
   ]
  },
  {
   "cell_type": "markdown",
   "metadata": {},
   "source": [
    "<b>Danger</b>: Because arrays are passed by reference, and how I decided to write it, `SimplifyComplex` both returns an output <b>but also MODIFIES</b> the array passed in to the function.  If you do not want your input modified, use\n",
    "\n",
    "    SimplexComplex(sc.d,copy(sc.s))\n",
    "    \n",
    "as an input instead.\n",
    "\n",
    "Now let's remove all those repeated sides.  I decided to break this into two functions for the sake of readability.\n",
    "\n",
    "We have to be careful when deleting elements of an array we are still working with.  This means using using a `for` loop would be tricky, because my loop changes in size each time.  I had a prior implementation that had two `for` loops, but I like this way better.  To also help my situation, I delete matches from the end of the array to the beginning. "
   ]
  },
  {
   "cell_type": "code",
   "execution_count": 8,
   "metadata": {
    "collapsed": false
   },
   "outputs": [
    {
     "data": {
      "text/plain": [
       "SimplifyComplex (generic function with 1 method)"
      ]
     },
     "execution_count": 8,
     "metadata": {},
     "output_type": "execute_result"
    }
   ],
   "source": [
    "function SimplifyComplex(sc::SimplexComplex)\n",
    "\n",
    "    for kk in 1:(sc.d-1)\n",
    "        sc_now=sc.s[kk]\n",
    "\n",
    "        ii=1\n",
    "        while ii<length(sc_now) \n",
    "            for jj in length(sc_now):-1:(ii+1)\n",
    "                if 0 != AreSame(sc_now[jj].s,sc_now[ii].s)\n",
    "                   deleteat!(sc_now,jj)\n",
    "                end\n",
    "            end\n",
    "            ii+=1\n",
    "        end\n",
    "    end  \n",
    "\n",
    "    return sc\n",
    "end"
   ]
  },
  {
   "cell_type": "code",
   "execution_count": 11,
   "metadata": {
    "collapsed": false
   },
   "outputs": [
    {
     "data": {
      "text/html": [
       "<center><h3>Simplex</h3></center><center><b>Dimension: 3</b></center><center>abc</center"
      ],
      "text/plain": [
       "simplex(3,\"abc\")"
      ]
     },
     "execution_count": 11,
     "metadata": {},
     "output_type": "execute_result"
    }
   ],
   "source": [
    "a=simplex(3,\"abc\")"
   ]
  },
  {
   "cell_type": "code",
   "execution_count": 12,
   "metadata": {
    "collapsed": false
   },
   "outputs": [
    {
     "data": {
      "text/html": [
       "<center><h3>Simplex</h3></center><center><b>Dimension: 3</b></center><center>abd</center"
      ],
      "text/plain": [
       "simplex(3,\"abd\")"
      ]
     },
     "execution_count": 12,
     "metadata": {},
     "output_type": "execute_result"
    }
   ],
   "source": [
    "b=simplex(3,\"abd\")"
   ]
  },
  {
   "cell_type": "code",
   "execution_count": 13,
   "metadata": {
    "collapsed": false
   },
   "outputs": [
    {
     "data": {
      "text/html": [
       "<center><h3>Simplicial Complex</h3></center><center><b>Dimension: 1</b></center><center>&emsp;c&emsp;b&emsp;a&emsp;c&emsp;b&emsp;a&emsp;d&emsp;b&emsp;a&emsp;d&emsp;b&emsp;a</center><center><b>Dimension: 2</b></center><center>&emsp;bc&emsp;ca&emsp;ab&emsp;bd&emsp;da&emsp;ab</center><center><b>Dimension: 3</b></center><center>&emsp;abc&emsp;abd</center>"
      ],
      "text/plain": [
       "SimplexComplex(3,Array{simplex,N}[simplex[simplex(1,\"c\"),simplex(1,\"b\"),simplex(1,\"a\"),simplex(1,\"c\"),simplex(1,\"b\"),simplex(1,\"a\"),simplex(1,\"d\"),simplex(1,\"b\"),simplex(1,\"a\"),simplex(1,\"d\"),simplex(1,\"b\"),simplex(1,\"a\")],simplex[simplex(2,\"bc\"),simplex(2,\"ca\"),simplex(2,\"ab\"),simplex(2,\"bd\"),simplex(2,\"da\"),simplex(2,\"ab\")],simplex[simplex(3,\"abc\"),simplex(3,\"abd\")]])"
      ]
     },
     "execution_count": 13,
     "metadata": {},
     "output_type": "execute_result"
    }
   ],
   "source": [
    "sc=CreateComplex([a,b])"
   ]
  },
  {
   "cell_type": "code",
   "execution_count": 10,
   "metadata": {
    "collapsed": false
   },
   "outputs": [
    {
     "data": {
      "text/html": [
       "<center><h3>Simplicial Complex</h3></center><center><b>Dimension: 1</b></center><center>&emsp;c&emsp;b&emsp;a&emsp;d</center><center><b>Dimension: 2</b></center><center>&emsp;bc&emsp;ca&emsp;ab&emsp;bd&emsp;da</center><center><b>Dimension: 3</b></center><center>&emsp;abc&emsp;abd</center>"
      ],
      "text/plain": [
       "SimplexComplex(3,Array{simplex,N}[simplex[simplex(1,\"c\"),simplex(1,\"b\"),simplex(1,\"a\"),simplex(1,\"d\")],simplex[simplex(2,\"bc\"),simplex(2,\"ca\"),simplex(2,\"ab\"),simplex(2,\"bd\"),simplex(2,\"da\")],simplex[simplex(3,\"abc\"),simplex(3,\"abd\")]])"
      ]
     },
     "execution_count": 10,
     "metadata": {},
     "output_type": "execute_result"
    }
   ],
   "source": [
    "sc2=SimplifyComplex(sc)"
   ]
  },
  {
   "cell_type": "markdown",
   "metadata": {
    "collapsed": true
   },
   "source": [
    "[1] Stone, Michael, and Paul Goldbart. \"Mathematics for Physics.\" New York: Pimander-Casaubon (2009)."
   ]
  },
  {
   "cell_type": "code",
   "execution_count": null,
   "metadata": {
    "collapsed": true
   },
   "outputs": [],
   "source": []
  }
 ],
 "metadata": {
  "anaconda-cloud": {},
  "kernelspec": {
   "display_name": "Julia 0.5.2",
   "language": "julia",
   "name": "julia-0.5"
  },
  "language_info": {
   "file_extension": ".jl",
   "mimetype": "application/julia",
   "name": "julia",
   "version": "0.5.2"
  }
 },
 "nbformat": 4,
 "nbformat_minor": 0
}
