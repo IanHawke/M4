{
 "cells": [
  {
   "cell_type": "markdown",
   "metadata": {},
   "source": [
    "# Homology and Simplices\n",
    "### Christina Lee\n",
    "### Category: Grad\n",
    "\n",
    "So as I've been trying to learn the pure math side of topology to better understand topological materials, my sources have a lot of theorems, and the examples tend to be esoteric and hard to conceptualize.  There also aren't that many of them.  I almost miss the days back in high school when they forced us to do the same problem 1,000 times over.  \n",
    "\n",
    "So in order to better understand one of the important topics, simplices and simplicial complexes, I've decided to take the pure math and put them to programming the best that I can.  I don't know if this is the best way of doing things, or if it's useful at all, but I think it helps me understand them.  Hopefully it will help you too.\n",
    "\n",
    "So what's homology?\n",
    "\n",
    "Homology is the study of deforming things.  If we push and pull at something, without tearing or glueing, what properties remain the same?  A coffee cup is the same as a donut because they both have one hole.  \n",
    "\n",
    "We are also the same as a donut because of our digestive track... if you ignore all the open cavities we have inside.  We can at least deform away our lungs.  I'm not an anatomy expert.  \n",
    "\n",
    "Many of the objects of interest are topologies, which are just collecions of sets that obey certain constraints.  To study these topologies, we can find an equivalent <b>simplicial complex</b>.  We can then compute a variety of things about the simplicial complex that tell us about the properties of the topology.  \n",
    "\n",
    "Simplicial complexes are made out of <b>simplicies</b>.  \n",
    "\n",
    "A simplex is an $n$-dimensional generalization of a triangle.  A 0-dim simplex is a point; a 1-dim simplex is a line; 3-dim a tetrahedron; so on and so forth.  \n",
    "\n",
    "![simplex](Images/simplex/simplex.svg)\n",
    "\n",
    "The rules for the simplices in a legitimate simplicial complex are \n",
    "\n",
    "1. Every point must belong to at least one simplex\n",
    "2. A point can belong to only a finite number of simplices\n",
    "3. Two different simplices either have no points in common, or\n",
    "    1. on is a face (or edge, or vertex) of the other\n",
    "    2. the set of points in common is the whole of a shared face (or edge, or vertex).\n",
    "            \n",
    "[1]\n",
    "\n",
    "A simplicial complex of dimension $d$ will contain a finite number of $d$-dimensional simplicies, the faces of those simplices.  the faces of the faces, and so on until you get to all the points contained in the original simplices."
   ]
  },
  {
   "cell_type": "markdown",
   "metadata": {},
   "source": [
    "I will denote each point by a string of length 1, like `\"a\"`.\n",
    "\n",
    "A simplex of dimension $d$ is a string of length $d$. For example, in the figure above, the two dim 2 simplices are `\"abc\"` and `\"acd\"`.  For now, order doesn't matter, but I am also working on a post to discuss <b>$p$-chains</b>, where order matters.\n",
    "\n",
    "A simplicial complex of dimension $d$ contains simplicies of dimension $d$, dimension $d-1$, ... , to $0$. I create an array of arrays to store these simplicies. Each array of simplicies corresponds to a different dimension."
   ]
  },
  {
   "cell_type": "code",
   "execution_count": 1,
   "metadata": {
    "collapsed": false
   },
   "outputs": [],
   "source": [
    "type simplex\n",
    "    d::Int\n",
    "    s::String \n",
    "end"
   ]
  },
  {
   "cell_type": "code",
   "execution_count": 2,
   "metadata": {
    "collapsed": false
   },
   "outputs": [],
   "source": [
    "type SimplexComplex\n",
    "    d::Int\n",
    "    s::Array{Array{simplex}}\n",
    "end"
   ]
  },
  {
   "cell_type": "markdown",
   "metadata": {
    "collapsed": false
   },
   "source": [
    " "
   ]
  },
  {
   "cell_type": "code",
   "execution_count": null,
   "metadata": {
    "collapsed": false
   },
   "outputs": [],
   "source": [
    "# Returns 0 is they two strings are not permutations of each other\n",
    "# Returns 1 if they are even permutations\n",
    "# Returns -1 if they are odd permutations\n",
    "\n",
    "function AreSame(a::String,b::String)\n",
    "    if length(a) != length(b)\n",
    "        error(\"Strings not same length in AreSame\")\n",
    "    end\n",
    "    \n",
    "    l=length(a)\n",
    "    \n",
    "    x=repmat(collect(1:l),1,l)\n",
    "    y=transpose(x)-1\n",
    "    z=(x+y-1)%l+1\n",
    "    zp=z[end:-1:1,:]\n",
    "\n",
    "    for jj in 1:l\n",
    "        n=\"\"\n",
    "        m=\"\"\n",
    "        for ii in 1:l\n",
    "            n=string(n,a[z[ii,jj]]) \n",
    "            m=string(m,a[zp[ii,jj]])\n",
    "        end\n",
    "        \n",
    "        if b==n\n",
    "            return 1\n",
    "        end\n",
    "        if b==m\n",
    "            return -1\n",
    "        end\n",
    "        \n",
    "    end\n",
    "   \n",
    "    return 0\n",
    "end"
   ]
  },
  {
   "cell_type": "code",
   "execution_count": null,
   "metadata": {
    "collapsed": false
   },
   "outputs": [],
   "source": []
  },
  {
   "cell_type": "code",
   "execution_count": null,
   "metadata": {
    "collapsed": false
   },
   "outputs": [],
   "source": []
  },
  {
   "cell_type": "code",
   "execution_count": null,
   "metadata": {
    "collapsed": false
   },
   "outputs": [],
   "source": [
    "# sc = simplecial complex\n",
    "# s = simplex\n",
    "\n",
    "function CreateComplex(starter::Array{simplex})\n",
    "    n0=length(starter)\n",
    "    d0=length(starter[1].s)\n",
    "    \n",
    "    sc=Array{Array{simplex}}(d0)\n",
    "    sc[1]=starter;\n",
    "\n",
    "    n_new_s=d0*n0\n",
    "    n_old_s=n0\n",
    "\n",
    "    d_new_s=d0-1;\n",
    "    d_old_s=d0;\n",
    "\n",
    "    for kk=1:(d0-1)\n",
    "\n",
    "        s_last=sc[kk]\n",
    "        s_next=Array{simplex}(n_new_s)\n",
    "\n",
    "        for jj in 1:n_old_s\n",
    "            for ii in 1:d_old_s\n",
    "\n",
    "                s_next[d_old_s*(jj-1)+ii]=simplex(s_last[jj].s[(collect(ii:(ii+d_new_s-1)))%d_old_s+1]) \n",
    "\n",
    "            end\n",
    "        end\n",
    "\n",
    "        sc[kk+1]=s_next;\n",
    "\n",
    "        n_old_s=n_new_s\n",
    "        n_new_s=n_new_s*d_new_s\n",
    "\n",
    "        d_old_s=d_new_s;\n",
    "        d_new_s=d_new_s-1;\n",
    "    end\n",
    "    return sc\n",
    "end"
   ]
  },
  {
   "cell_type": "code",
   "execution_count": null,
   "metadata": {
    "collapsed": false
   },
   "outputs": [],
   "source": [
    "CreateComplex([simplex(\"abc\"),simplex(\"abd\")])"
   ]
  },
  {
   "cell_type": "code",
   "execution_count": null,
   "metadata": {
    "collapsed": false
   },
   "outputs": [],
   "source": [
    "for kk in 2:l\n",
    "    scnow=sc[kk]\n",
    "    nsckk=length(scnow)\n",
    "\n",
    "    for jj in 1:(nsckk-1)\n",
    "        for ii in (jj+1):nsckk\n",
    "            if 0 != AreSame(scnow[jj].s,scnow[ii].s)\n",
    "                scnow[jj].s=\"\"\n",
    "                break\n",
    "            end\n",
    "        end\n",
    "    end\n",
    "\n",
    "    for jj in (nsckk-1):-1:1\n",
    "        if scnow[jj].s == \"\"\n",
    "            deleteat!(scnow,jj)\n",
    "        end\n",
    "    end\n",
    "end"
   ]
  },
  {
   "cell_type": "code",
   "execution_count": null,
   "metadata": {
    "collapsed": false
   },
   "outputs": [],
   "source": [
    "sc"
   ]
  },
  {
   "cell_type": "code",
   "execution_count": null,
   "metadata": {
    "collapsed": false
   },
   "outputs": [],
   "source": []
  },
  {
   "cell_type": "code",
   "execution_count": null,
   "metadata": {
    "collapsed": false
   },
   "outputs": [],
   "source": []
  },
  {
   "cell_type": "code",
   "execution_count": null,
   "metadata": {
    "collapsed": false
   },
   "outputs": [],
   "source": []
  },
  {
   "cell_type": "code",
   "execution_count": null,
   "metadata": {
    "collapsed": false
   },
   "outputs": [],
   "source": []
  },
  {
   "cell_type": "code",
   "execution_count": null,
   "metadata": {
    "collapsed": false
   },
   "outputs": [],
   "source": []
  },
  {
   "cell_type": "code",
   "execution_count": null,
   "metadata": {
    "collapsed": false
   },
   "outputs": [],
   "source": []
  },
  {
   "cell_type": "code",
   "execution_count": null,
   "metadata": {
    "collapsed": false
   },
   "outputs": [],
   "source": []
  },
  {
   "cell_type": "code",
   "execution_count": null,
   "metadata": {
    "collapsed": false
   },
   "outputs": [],
   "source": []
  },
  {
   "cell_type": "code",
   "execution_count": null,
   "metadata": {
    "collapsed": false
   },
   "outputs": [],
   "source": []
  },
  {
   "cell_type": "code",
   "execution_count": null,
   "metadata": {
    "collapsed": false
   },
   "outputs": [],
   "source": []
  },
  {
   "cell_type": "code",
   "execution_count": null,
   "metadata": {
    "collapsed": false
   },
   "outputs": [],
   "source": []
  },
  {
   "cell_type": "code",
   "execution_count": null,
   "metadata": {
    "collapsed": false
   },
   "outputs": [],
   "source": []
  },
  {
   "cell_type": "code",
   "execution_count": null,
   "metadata": {
    "collapsed": false
   },
   "outputs": [],
   "source": []
  },
  {
   "cell_type": "code",
   "execution_count": null,
   "metadata": {
    "collapsed": false
   },
   "outputs": [],
   "source": []
  },
  {
   "cell_type": "code",
   "execution_count": null,
   "metadata": {
    "collapsed": false
   },
   "outputs": [],
   "source": []
  },
  {
   "cell_type": "code",
   "execution_count": null,
   "metadata": {
    "collapsed": false
   },
   "outputs": [],
   "source": []
  },
  {
   "cell_type": "code",
   "execution_count": null,
   "metadata": {
    "collapsed": false
   },
   "outputs": [],
   "source": []
  },
  {
   "cell_type": "code",
   "execution_count": null,
   "metadata": {
    "collapsed": false
   },
   "outputs": [],
   "source": []
  },
  {
   "cell_type": "code",
   "execution_count": null,
   "metadata": {
    "collapsed": false
   },
   "outputs": [],
   "source": []
  },
  {
   "cell_type": "code",
   "execution_count": null,
   "metadata": {
    "collapsed": false
   },
   "outputs": [],
   "source": []
  },
  {
   "cell_type": "code",
   "execution_count": null,
   "metadata": {
    "collapsed": false
   },
   "outputs": [],
   "source": []
  },
  {
   "cell_type": "code",
   "execution_count": null,
   "metadata": {
    "collapsed": false
   },
   "outputs": [],
   "source": []
  },
  {
   "cell_type": "code",
   "execution_count": null,
   "metadata": {
    "collapsed": false
   },
   "outputs": [],
   "source": []
  },
  {
   "cell_type": "code",
   "execution_count": null,
   "metadata": {
    "collapsed": false
   },
   "outputs": [],
   "source": []
  },
  {
   "cell_type": "markdown",
   "metadata": {
    "collapsed": true
   },
   "source": [
    "[1] Stone, Michael, and Paul Goldbart. \"Mathematics for Physics.\" New York: Pimander-Casaubon (2009)."
   ]
  },
  {
   "cell_type": "code",
   "execution_count": null,
   "metadata": {
    "collapsed": true
   },
   "outputs": [],
   "source": []
  }
 ],
 "metadata": {
  "anaconda-cloud": {},
  "kernelspec": {
   "display_name": "Julia 0.5.2",
   "language": "julia",
   "name": "julia-0.5"
  },
  "language_info": {
   "file_extension": ".jl",
   "mimetype": "application/julia",
   "name": "julia",
   "version": "0.5.2"
  }
 },
 "nbformat": 4,
 "nbformat_minor": 0
}
