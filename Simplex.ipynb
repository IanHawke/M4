{
 "cells": [
  {
   "cell_type": "markdown",
   "metadata": {},
   "source": [
    "# Homology and Simplices\n",
    "### Christina Lee\n",
    "### Category: Grad\n",
    "\n",
    "So as I've been trying to learn the pure math side of topology to better understand topological materials, my sources have a lot of theorems, and the examples tend to be esoteric and hard to conceptualize.  There also aren't that many of them.  I almost miss the days back in high school when they forced us to do the same problem 1,000 times over.  \n",
    "\n",
    "So in order to better understand one of the important topics, simplices and simplicial complexes, I've decided to take the pure math and put them to programming the best that I can.  I don't know if this is the best way of doing things, or if it's useful at all, but I think it helps me understand them.  Hopefully it will help you too.\n",
    "\n",
    "So what's homology?\n",
    "\n",
    "Homology is the study of deforming things.  If we push and pull at something, without tearing or glueing, what properties remain the same?  A coffee cup is the same as a donut because they both have one hole.  \n",
    "\n",
    "We are also the same as a donut because of our digestive track... if you ignore all the open cavities we have inside.  We can at least deform away our lungs.  I'm not an anatomy expert.  \n",
    "\n",
    "Many of the objects of interest are just topologies, which are collecions of sets that obey certain constraints.  To study these topologies, we can find an equivalent simplicial complex.  We can then compute a variety of things about the simplicial complex that tell us about the properties of the topology.  \n",
    "\n",
    "Simplicial complexes are made out of simplicies, which we will be talking about today.  \n",
    "\n",
    "A simplex is an $n$-dimensional generalization of a triangle.  A 0-dim simplex is a point; a 1-dim simplex is a line; 3-dim a tetrahedron; so on and so forth.  \n",
    "\n",
    "We specify them by an ordering of points, like $P_1 P_2 P_3$. \n",
    "\n",
    "We can also sum them together to create a new one.  When we sum them, we can provide weights in front of each object.  These weights can be either positive or negative.  The ordering of points is equivalent up to the sign of the permutation, so if we put a negative weight onto something, that is the same as permuting two indices.\n",
    "\\begin{equation}\n",
    "- P_1 P_2 P_3 = - P_3 P_1 P_2 = - P_2 P_3 P_1 = P_2 P_1 P_3 = P_1 P_3 P_2 = P_3 P_2 P_1\n",
    "\\end{equation}"
   ]
  },
  {
   "cell_type": "code",
   "execution_count": 1,
   "metadata": {
    "collapsed": true
   },
   "outputs": [],
   "source": [
    "type simplex\n",
    "    s::String \n",
    "end"
   ]
  },
  {
   "cell_type": "code",
   "execution_count": 2,
   "metadata": {
    "collapsed": false
   },
   "outputs": [],
   "source": [
    "type pchain\n",
    "    p::Int\n",
    "    S::Array{simplex,1}\n",
    "    C::Array{Float64,1}\n",
    "end"
   ]
  },
  {
   "cell_type": "code",
   "execution_count": 3,
   "metadata": {
    "collapsed": false
   },
   "outputs": [
    {
     "data": {
      "text/plain": [
       "pchain(2,simplex[simplex(\"abc\"),simplex(\"bcd\")],[1.0,1.0])"
      ]
     },
     "execution_count": 3,
     "metadata": {},
     "output_type": "execute_result"
    }
   ],
   "source": [
    "a=simplex(\"abc\")\n",
    "b=simplex(\"bcd\")\n",
    "pchain(2,[a,b],[1,1])"
   ]
  },
  {
   "cell_type": "code",
   "execution_count": null,
   "metadata": {
    "collapsed": false
   },
   "outputs": [],
   "source": [
    "a=pchain(3,[\"abc\"],[1])\n",
    "b=pchain(3,[\"bcd\"],[1])"
   ]
  },
  {
   "cell_type": "code",
   "execution_count": null,
   "metadata": {
    "collapsed": false
   },
   "outputs": [],
   "source": [
    "import Base.+\n",
    "import Base.-\n",
    "\n",
    "function +(a::pchain,b::pchain)\n",
    "    if a.p != b.p\n",
    "           error(\"Simplexes of different dimension\")\n",
    "    end\n",
    "    return Simplex(a.p,cat(1,a.S,b.S),cat(1,a.C,b.C))\n",
    "end\n",
    "\n",
    "function -(a::pchain)\n",
    "    return Simplex(a.p,a.S,-a.C)\n",
    "end\n",
    "\n",
    "function -(a::pchain,b::pchain)\n",
    "    if a.p != b.p\n",
    "        error(\"Simplexes of different dimension\")\n",
    "    end\n",
    "    return a+(-b)\n",
    "end"
   ]
  },
  {
   "cell_type": "code",
   "execution_count": null,
   "metadata": {
    "collapsed": false
   },
   "outputs": [],
   "source": [
    "a+b"
   ]
  },
  {
   "cell_type": "code",
   "execution_count": null,
   "metadata": {
    "collapsed": false
   },
   "outputs": [],
   "source": [
    "a-b"
   ]
  },
  {
   "cell_type": "code",
   "execution_count": null,
   "metadata": {
    "collapsed": false
   },
   "outputs": [],
   "source": [
    "a.S[1]"
   ]
  },
  {
   "cell_type": "code",
   "execution_count": null,
   "metadata": {
    "collapsed": false
   },
   "outputs": [],
   "source": []
  },
  {
   "cell_type": "code",
   "execution_count": null,
   "metadata": {
    "collapsed": false
   },
   "outputs": [],
   "source": []
  },
  {
   "cell_type": "code",
   "execution_count": null,
   "metadata": {
    "collapsed": false
   },
   "outputs": [],
   "source": []
  },
  {
   "cell_type": "code",
   "execution_count": null,
   "metadata": {
    "collapsed": false
   },
   "outputs": [],
   "source": [
    "string(a.S[1][z[1,1]],a.S[1][z[1,2]])"
   ]
  },
  {
   "cell_type": "code",
   "execution_count": null,
   "metadata": {
    "collapsed": false
   },
   "outputs": [],
   "source": [
    "# Returns 0 is they two strings are not permutations of each other\n",
    "# Returns 1 if they are even permutations\n",
    "# Returns -1 if they are odd permutations\n",
    "\n",
    "function AreSame(a::String,b::String)\n",
    "    if length(a) != length(b)\n",
    "        error(\"Strings not same length in AreSame\")\n",
    "    end\n",
    "    \n",
    "    l=length(a)\n",
    "    \n",
    "    x=repmat(collect(1:l),1,l)\n",
    "    y=transpose(x)-1\n",
    "    z=(x+y-1)%l+1\n",
    "    zp=z[end:-1:1,:]\n",
    "\n",
    "    for jj in 1:l\n",
    "        n=\"\"\n",
    "        m=\"\"\n",
    "        for ii in 1:l\n",
    "            n=string(n,a[z[ii,jj]]) \n",
    "            m=string(m,a[zp[ii,jj]])\n",
    "        end\n",
    "        \n",
    "        if b==n\n",
    "            return 1\n",
    "        end\n",
    "        if b==m\n",
    "            return -1\n",
    "        end\n",
    "        \n",
    "    end\n",
    "   \n",
    "    return 0\n",
    "end"
   ]
  },
  {
   "cell_type": "code",
   "execution_count": null,
   "metadata": {
    "collapsed": false
   },
   "outputs": [],
   "source": [
    "c=Simplex(3,[\"abc\",\"bcd\",\"def\",\"bac\"],[1,1,1,1])"
   ]
  },
  {
   "cell_type": "code",
   "execution_count": null,
   "metadata": {
    "collapsed": false
   },
   "outputs": [],
   "source": [
    "function Simplify(a::Simplex)\n",
    "\n",
    "    for ii in 1:length(a.S)\n",
    "        for jj in (ii+1):length(a.S)\n",
    "\n",
    "            temp=AreSame(a.S[ii],a.S[jj])\n",
    "            if temp==1\n",
    "                a.C[ii]=a.C[ii]+a.C[jj]\n",
    "                a.C[jj]=0\n",
    "                deleteat!(a.C,jj)\n",
    "                deleteat!(a.S,jj)\n",
    "            elseif temp==-1\n",
    "                a.C[ii]=a.C[ii]-a.C[jj]\n",
    "                deleteat!(a.C,jj)\n",
    "                deleteat!(a.S,jj)\n",
    "            end\n",
    "            \n",
    "        end\n",
    "    end\n",
    "    \n",
    "    for ii in (length(a.S)):-1:1\n",
    "        if a.C[ii] == 0\n",
    "            deleteat!(a.C,ii)\n",
    "            deleteat(a.S,ii)\n",
    "        end\n",
    "    end\n",
    "    \n",
    "    return a\n",
    "end"
   ]
  },
  {
   "cell_type": "code",
   "execution_count": null,
   "metadata": {
    "collapsed": false
   },
   "outputs": [],
   "source": [
    "Simplify(c)"
   ]
  },
  {
   "cell_type": "code",
   "execution_count": null,
   "metadata": {
    "collapsed": false
   },
   "outputs": [],
   "source": [
    "function ∂(a::Simplex)\n",
    "    if a.p==0\n",
    "        println(\"Taking Boundary of Point.\")\n",
    "        d=Simplex(NaN,[],[])\n",
    "    elseif a.p==1\n",
    "        b=Array{String}(2*length(a.S))\n",
    "        C=Array{Float64}(2*length(a.C))\n",
    "        for ii in 1:length(a.S)\n",
    "            b[2*ii-1]=a.S[ii][2:2]\n",
    "            b[2*ii]=a.S[ii][1:1]\n",
    "            \n",
    "            C[2*ii-1]=a.C[ii]\n",
    "            C[2*ii]=-a.C[ii]\n",
    "        end\n",
    "        d=Simplex(0,b,C)\n",
    "    else\n",
    "        b=Array{String}((a.p+1)*length(a.S))\n",
    "        C=Array{Float64}((a.p+1)*length(a.S))\n",
    "        for ii in 1:length(a.S)\n",
    "            s=a.S[ii]\n",
    "            for jj in 1:(a.p+1)\n",
    "                b[(ii-1)*(a.p+1)+jj]=s[(collect(jj:jj+a.p-1)-1)%(a.p+1)+1]\n",
    "                C[(ii-1)*(a.p+1)+jj]=(-1)^(jj+1)\n",
    "            end\n",
    "            println(b)\n",
    "            println(C)\n",
    "        end\n",
    "        d=Simplex(a.p-1,b,C)\n",
    "    end\n",
    "    \n",
    "    return Simplify(d) \n",
    "end"
   ]
  },
  {
   "cell_type": "code",
   "execution_count": null,
   "metadata": {
    "collapsed": false
   },
   "outputs": [],
   "source": [
    "∂(Simplex(3,[\"abcd\"],[1]))"
   ]
  },
  {
   "cell_type": "code",
   "execution_count": null,
   "metadata": {
    "collapsed": false
   },
   "outputs": [],
   "source": [
    "function ∂helper(A::String)\n",
    "    l=length(A)\n",
    "    lp=length(A)-1\n",
    "    \n",
    "        d=\"\"\n",
    "        for ii in 1:l\n",
    "            if isodd(ii)\n",
    "                d+=A[(collect(ii:ii+lp-1)-1)%l+1]\n",
    "            else\n",
    "                \n",
    "                d+=-A[(collect(ii:ii+lp-1)-1)%l+1]\n",
    "            end\n",
    "        end\n",
    "        return d=d[2:end]\n",
    "end"
   ]
  },
  {
   "cell_type": "code",
   "execution_count": null,
   "metadata": {
    "collapsed": false
   },
   "outputs": [],
   "source": [
    "A=\"ab\"\n",
    "∂hel(A)\n"
   ]
  },
  {
   "cell_type": "code",
   "execution_count": null,
   "metadata": {
    "collapsed": false
   },
   "outputs": [],
   "source": [
    "[[1,-1],[A[2:2],A[1:1]]]"
   ]
  },
  {
   "cell_type": "code",
   "execution_count": null,
   "metadata": {
    "collapsed": false
   },
   "outputs": [],
   "source": [
    "A[1]"
   ]
  },
  {
   "cell_type": "code",
   "execution_count": null,
   "metadata": {
    "collapsed": false
   },
   "outputs": [],
   "source": []
  },
  {
   "cell_type": "code",
   "execution_count": null,
   "metadata": {
    "collapsed": true
   },
   "outputs": [],
   "source": []
  }
 ],
 "metadata": {
  "anaconda-cloud": {},
  "kernelspec": {
   "display_name": "Julia 0.5.1",
   "language": "julia",
   "name": "julia-0.5"
  },
  "language_info": {
   "file_extension": ".jl",
   "mimetype": "application/julia",
   "name": "julia",
   "version": "0.5.1"
  }
 },
 "nbformat": 4,
 "nbformat_minor": 0
}
