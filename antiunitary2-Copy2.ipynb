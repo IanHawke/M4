{
 "cells": [
  {
   "cell_type": "markdown",
   "metadata": {},
   "source": [
    "# Anti-Unitary Symmetires\n",
    "## Graduate: Topological Matter\n",
    "## Christina Lee\n",
    "\n",
    "### Are two matrices related by a Unitary Transfomation? \n",
    "\n",
    "If they are, then they belong in the same <i>group</i> of matrices that are all related to each other by unitary transformations.  If we can find a unique member of this group and show that they are both related to it, then we are good to go.  But if they each have different versions of this unique form, or group defining characteristic, then we know that they belong in seperate groups.\n",
    "\n",
    "For this unique form, we can use the eigendecomposition,\n",
    "$$\n",
    "M= \\Lambda \\epsilon \\Lambda^{-1} \\qquad \\qquad \\Lambda^{-1} M \\Lambda = \\epsilon\n",
    "$$\n",
    "where $U$ is a matrix whose rows are composed of the eigenvectors of the matrix and $\\epsilon$ is a diagonal matrix whose values on the diagonals are the eigenvalues.  If we specify that the eigenvalues are ordered from smallest to largest, we have a unique form for this decomposition.\n",
    "\n",
    "Right now $\\Lambda$ is just some arbitrary matrix, and we don't know whether or not it's unitary or not.  If could be, but that's not for certain.\n",
    "\n",
    "### Test Hamiltonians\n",
    "\n",
    "#### Polyacetlyne \n",
    "\n",
    "$$\n",
    "\\mathcal{H}(k) = \\sigma_x (v-w \\cos k ) - \\sigma_yw \\sin k \n",
    "$$\n",
    "\n",
    "\n",
    "How would we go about proving that an arbitrary Hamiltonian, let's say in matrix form, does or does not have an anti-unitary symmetry?  If H and U are handed to us, like the polyacetylene and sigma_z case, we just show that it works and we are good to go.  We can try to find U via eigendecomposition, and that is always guaranteed to give us a matrix that relates H (or conj(H) ) to either H(-k) ,-H(-k), -H. But the matrix is not guaranteed to be unitary.  How would we go about proving that an arbitrary Hamiltonian, let's say in matrix form, does or does not have an anti-unitary symmetry?  If H and U are handed to us, like the polyacetylene and sigma_z case, we just show that it works and we are good to go.  We can try to find U via eigendecomposition, and that is always guaranteed to give us a matrix that relates H (or conj(H) ) to either H(-k) ,-H(-k), -H. But the matrix is not guaranteed to be unitary.  "
   ]
  },
  {
   "cell_type": "code",
   "execution_count": 1,
   "metadata": {
    "scrolled": true
   },
   "outputs": [],
   "source": [
    "using LinearAlgebra"
   ]
  },
  {
   "cell_type": "code",
   "execution_count": 2,
   "metadata": {},
   "outputs": [
    {
     "data": {
      "text/plain": [
       "2×2 Array{Int64,2}:\n",
       " 1   0\n",
       " 0  -1"
      ]
     },
     "execution_count": 2,
     "metadata": {},
     "output_type": "execute_result"
    }
   ],
   "source": [
    "σx=[[0 1]\n",
    "    [1 0]]\n",
    "σy=[[0 -im]\n",
    "    [im 0]]\n",
    "σz=[[1 0]\n",
    "    [0 -1]]"
   ]
  },
  {
   "cell_type": "code",
   "execution_count": 3,
   "metadata": {},
   "outputs": [
    {
     "data": {
      "text/plain": [
       "dagger (generic function with 1 method)"
      ]
     },
     "execution_count": 3,
     "metadata": {},
     "output_type": "execute_result"
    }
   ],
   "source": [
    "dagger(A)=conj(transpose(A))"
   ]
  },
  {
   "cell_type": "code",
   "execution_count": null,
   "metadata": {
    "scrolled": false
   },
   "outputs": [],
   "source": []
  },
  {
   "cell_type": "code",
   "execution_count": null,
   "metadata": {},
   "outputs": [],
   "source": []
  },
  {
   "cell_type": "code",
   "execution_count": 4,
   "metadata": {},
   "outputs": [
    {
     "data": {
      "text/plain": [
       "Rz2 (generic function with 1 method)"
      ]
     },
     "execution_count": 4,
     "metadata": {},
     "output_type": "execute_result"
    }
   ],
   "source": [
    "Rx(k::Array{Float64},v,w)=v-w*cos(k[1])\n",
    "Ry(k::Array{Float64},w)=-w*sin(k[1])\n",
    "\n",
    "Rx2(k::Array{Float64})=-2*sin(k[1])\n",
    "Ry2(k::Array{Float64})=-2*sin(k[2])\n",
    "Rz2(k::Array{Float64},μ)=μ + 2*( cos(k[1])+cos(k[2]) )\n"
   ]
  },
  {
   "cell_type": "code",
   "execution_count": 5,
   "metadata": {},
   "outputs": [
    {
     "data": {
      "text/plain": [
       "H2 (generic function with 2 methods)"
      ]
     },
     "execution_count": 5,
     "metadata": {},
     "output_type": "execute_result"
    }
   ],
   "source": [
    "H2(k::Array{Float64},μ=1.0)=Rx2(k)*σx+Ry2(k)*σy+Rz2(k,μ)*σz"
   ]
  },
  {
   "cell_type": "code",
   "execution_count": null,
   "metadata": {},
   "outputs": [],
   "source": [
    "H1(k::Array{Float64},v=1.0,w=1.0)=Rx(k,v,w)*σx+Ry(k,w)*σy"
   ]
  },
  {
   "cell_type": "code",
   "execution_count": null,
   "metadata": {},
   "outputs": [],
   "source": [
    "k=rand(2)"
   ]
  },
  {
   "cell_type": "code",
   "execution_count": null,
   "metadata": {},
   "outputs": [],
   "source": [
    "tr(H2(k))-tr(-H2(k))"
   ]
  },
  {
   "cell_type": "code",
   "execution_count": null,
   "metadata": {},
   "outputs": [],
   "source": [
    "tr(H2(k)*H2(k))-tr((-H2(k))*(-H2(k)))"
   ]
  },
  {
   "cell_type": "code",
   "execution_count": null,
   "metadata": {},
   "outputs": [],
   "source": [
    "tr(H2(k)*star(H2(k))) - tr((-H2(k))*star(-H2(k)) ) "
   ]
  },
  {
   "cell_type": "markdown",
   "metadata": {},
   "source": [
    "### S"
   ]
  },
  {
   "cell_type": "code",
   "execution_count": 51,
   "metadata": {},
   "outputs": [
    {
     "data": {
      "text/plain": [
       "2×2 Array{Float64,2}:\n",
       " 1.0          3.93285e-17\n",
       " 3.93285e-17  1.0        "
      ]
     },
     "metadata": {},
     "output_type": "display_data"
    },
    {
     "data": {
      "text/plain": [
       "2×2 Array{Float64,2}:\n",
       " 1.00627e-15  4.44089e-16\n",
       " 9.15513e-16  2.86848e-17"
      ]
     },
     "metadata": {},
     "output_type": "display_data"
    }
   ],
   "source": [
    "k=rand(2)\n",
    "H=H2(k,5)\n",
    "\n",
    "U1=eigvecs(H)\n",
    "U2=eigvecs(-H)\n",
    "\n",
    "Ut=U2*U1^(-1)\n",
    "display(norm.(Ut*dagger(Ut)))\n",
    "\n",
    "display(norm.(Ut*H*Ut^(-1)+H))\n"
   ]
  },
  {
   "cell_type": "code",
   "execution_count": 31,
   "metadata": {},
   "outputs": [
    {
     "data": {
      "text/plain": [
       "2×2 Array{Float64,2}:\n",
       " 1.0          5.55382e-17\n",
       " 5.55382e-17  1.0        "
      ]
     },
     "metadata": {},
     "output_type": "display_data"
    },
    {
     "data": {
      "text/plain": [
       "2×2 Array{Float64,2}:\n",
       " 1.77639e-15  4.44089e-16\n",
       " 2.22153e-16  8.88268e-16"
      ]
     },
     "metadata": {},
     "output_type": "display_data"
    }
   ],
   "source": [
    "k=rand(2)\n",
    "H=H2(k)\n",
    "\n",
    "U1=eigvecs(H)\n",
    "U2=eigvecs(-H)\n",
    "\n",
    "Ut=U2*U1^(-1)\n",
    "display(norm.(Ut*dagger(Ut)))\n",
    "\n",
    "display(norm.(Ut*H*Ut^(-1)+H)\n",
    "\n",
    "\n"
   ]
  },
  {
   "cell_type": "code",
   "execution_count": null,
   "metadata": {},
   "outputs": [],
   "source": [
    "function S(H)\n",
    "    display(\"___________________________________________________\")\n",
    "    display(H)\n",
    "    display(\"___________________________________________________\")\n",
    "    display(\"Eigenvalues of H and -H\")\n",
    "    display( eigvals(H))\n",
    "    display( eigvals(-H))\n",
    "    display(\"___________________________________________________\")\n",
    "\n",
    "    a=eigvecs(H)\n",
    "    b=eigvecs(-H)\n",
    "    U1=simplify.(hcat(a[1], a[2]))\n",
    "    U2=simplify.(hcat(b[1],b[2]))\n",
    "    Ut=U2*U1^(-1)\n",
    "    Ut=simplify.(Ut)\n",
    "    display(simplify.(U2*conj(transpose(U2))-Matrix{Float64}(I,2,2)  ))\n",
    "\n",
    "    \n",
    "    display(\"What is the operator?\")\n",
    "    display(Ut)\n",
    "    display(\"___________________________________________________\")\n",
    "    \n",
    "    \n",
    "    display(\"Does Ut relate them? Ut*H*Ut^-1 +H = 0?\")\n",
    "    t1=simplify.(Ut*H*Ut^(-1)+H)\n",
    "    if t1==zeros(2,2)\n",
    "        test1=true\n",
    "    else\n",
    "        test1=false\n",
    "    end\n",
    "    display(t1)\n",
    "    display(\"___________________________________________________\")\n",
    "\n",
    "    display(\"Symmetry Operator? Ut*conj(transpose(Ut))= 1\")\n",
    "    t2=simplify.(Ut*conj(transpose(Ut))-Matrix{Float64}(I,2,2) )\n",
    "    if t2==zeros(2,2)\n",
    "        test2=true\n",
    "    else\n",
    "        test2=false\n",
    "    end\n",
    "    display(t2)\n",
    "    display(\"___________________________________________________\")\n",
    "    return test1,test2\n",
    "end"
   ]
  },
  {
   "cell_type": "code",
   "execution_count": null,
   "metadata": {},
   "outputs": [],
   "source": [
    "S(H1)"
   ]
  },
  {
   "cell_type": "code",
   "execution_count": null,
   "metadata": {
    "scrolled": false
   },
   "outputs": [],
   "source": [
    "S(H2)"
   ]
  },
  {
   "cell_type": "code",
   "execution_count": null,
   "metadata": {
    "scrolled": true
   },
   "outputs": [],
   "source": [
    "S(H3)"
   ]
  },
  {
   "cell_type": "code",
   "execution_count": null,
   "metadata": {},
   "outputs": [],
   "source": [
    "function C(H,params)\n",
    "    cH=conj.(H)\n",
    "    \n",
    "    Hp=-H\n",
    "    for ii in params\n",
    "        Hp=subs(Hp,ii,-ii)\n",
    "    end\n",
    "    \n",
    "    display(\"___________________________________________________\")\n",
    "    display(H)\n",
    "    display(\"___________________________________________________\")\n",
    "    display(\"Eigenvalues of H and -H\")\n",
    "    display( eigvals(cH)) \n",
    "    display( eigvals(Hp))\n",
    "    display(\"___________________________________________________\")\n",
    "\n",
    "    a=eigvecs(cH)\n",
    "    b=eigvecs(Hp)\n",
    "    U1=simplify.(hcat(a[1], a[2]))\n",
    "    U2=simplify.(hcat(b[1],b[2]))\n",
    "    Ut=U2*U1^(-1)\n",
    "    Ut=simplify.(Ut)\n",
    "\n",
    "    display(\"What is Ut?\")\n",
    "    display(Ut)\n",
    "    display(\"___________________________________________________\")\n",
    "\n",
    "    display(\"Does Ut relate them? Ut*conj(H)*Ut^-1 +H(-k) = 0?\")\n",
    "    t1=simplify.(Ut*cH*Ut^(-1)-Hp)\n",
    "    if t1==zeros(2,2)\n",
    "        test1=true\n",
    "    else\n",
    "        test1=false\n",
    "    end\n",
    "    display(t1)\n",
    "    display(\"___________________________________________________\")\n",
    "\n",
    "    display(\"Symmetry Operator? Ut* conj(Ut)= 1\")\n",
    "    t2=simplify.(Ut*conj(Ut) )\n",
    "    if t2==Matrix{Float64}(I,2,2)\n",
    "        test2=+1\n",
    "    elseif t2==-Matrix{Float64}(I,2,2)\n",
    "        test2=-1\n",
    "    else\n",
    "        test2=0\n",
    "    end\n",
    "    display(t2)\n",
    "    display(\"___________________________________________________\")\n",
    "    return test1,test2\n",
    "end"
   ]
  },
  {
   "cell_type": "code",
   "execution_count": null,
   "metadata": {},
   "outputs": [],
   "source": [
    "C(H1,[kx])"
   ]
  },
  {
   "cell_type": "code",
   "execution_count": null,
   "metadata": {},
   "outputs": [],
   "source": [
    "C(H2,[kx,ky])"
   ]
  },
  {
   "cell_type": "code",
   "execution_count": null,
   "metadata": {},
   "outputs": [],
   "source": []
  },
  {
   "cell_type": "code",
   "execution_count": null,
   "metadata": {},
   "outputs": [],
   "source": []
  },
  {
   "cell_type": "code",
   "execution_count": null,
   "metadata": {},
   "outputs": [],
   "source": []
  },
  {
   "cell_type": "code",
   "execution_count": null,
   "metadata": {},
   "outputs": [],
   "source": []
  },
  {
   "cell_type": "code",
   "execution_count": null,
   "metadata": {},
   "outputs": [],
   "source": []
  },
  {
   "cell_type": "code",
   "execution_count": null,
   "metadata": {},
   "outputs": [],
   "source": []
  },
  {
   "cell_type": "code",
   "execution_count": null,
   "metadata": {},
   "outputs": [],
   "source": []
  },
  {
   "cell_type": "code",
   "execution_count": null,
   "metadata": {},
   "outputs": [],
   "source": []
  },
  {
   "cell_type": "code",
   "execution_count": null,
   "metadata": {},
   "outputs": [],
   "source": []
  },
  {
   "cell_type": "code",
   "execution_count": null,
   "metadata": {},
   "outputs": [],
   "source": []
  },
  {
   "cell_type": "code",
   "execution_count": null,
   "metadata": {},
   "outputs": [],
   "source": []
  }
 ],
 "metadata": {
  "@webio": {
   "lastCommId": "f31480df857c40ff80c22bcff53e4a5c",
   "lastKernelId": "adbe4f2e-0670-4d1f-9471-6b13cb541473"
  },
  "kernelspec": {
   "display_name": "Julia 1.1.0",
   "language": "julia",
   "name": "julia-1.1"
  },
  "language_info": {
   "file_extension": ".jl",
   "mimetype": "application/julia",
   "name": "julia",
   "version": "1.1.0"
  }
 },
 "nbformat": 4,
 "nbformat_minor": 2
}
