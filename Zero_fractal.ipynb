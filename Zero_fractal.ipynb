{
 "cells": [
  {
   "cell_type": "code",
   "execution_count": 3,
   "metadata": {},
   "outputs": [
    {
     "data": {
      "text/plain": [
       "Plots.GRBackend()"
      ]
     },
     "execution_count": 3,
     "metadata": {},
     "output_type": "execute_result"
    }
   ],
   "source": [
    "using ForwardDiff\n",
    "using Statistics\n",
    "using SpecialFunctions\n",
    "using Plots\n",
    "gr()"
   ]
  },
  {
   "cell_type": "code",
   "execution_count": 59,
   "metadata": {},
   "outputs": [
    {
     "data": {
      "text/plain": [
       "Zero_Iterator (generic function with 3 methods)"
      ]
     },
     "execution_count": 59,
     "metadata": {},
     "output_type": "execute_result"
    }
   ],
   "source": [
    "function Zero_Iterator(f::Function,Method::Function,\n",
    "        iterated_value0::Complex{Float64},params,N)\n",
    "    \n",
    "    n_values=zeros(Complex{Float64},N)\n",
    "    n_values[1]=iterated_value0;\n",
    "    \n",
    "    for ii in 2:N\n",
    "        n_values[ii] = Method(f,n_values[ii-1],params)\n",
    "    end\n",
    "    return n_values[end]\n",
    "end"
   ]
  },
  {
   "cell_type": "code",
   "execution_count": 61,
   "metadata": {},
   "outputs": [
    {
     "data": {
      "text/plain": [
       "Newtons (generic function with 2 methods)"
      ]
     },
     "execution_count": 61,
     "metadata": {},
     "output_type": "execute_result"
    }
   ],
   "source": [
    "function Newtons(f::Function,x::Complex{Float64},fp::Array)\n",
    "    return x[1]- f(x[1])/fp[1](x[1])\n",
    "end"
   ]
  },
  {
   "cell_type": "code",
   "execution_count": 111,
   "metadata": {},
   "outputs": [
    {
     "data": {
      "text/plain": [
       "gp (generic function with 1 method)"
      ]
     },
     "execution_count": 111,
     "metadata": {},
     "output_type": "execute_result"
    }
   ],
   "source": [
    "f(x)=x^3-1\n",
    "fp(x) = 3*x^2\n",
    "\n",
    "g(x)=x^4-1\n",
    "gp(x)=4*x^3"
   ]
  },
  {
   "cell_type": "code",
   "execution_count": null,
   "metadata": {},
   "outputs": [],
   "source": []
  },
  {
   "cell_type": "code",
   "execution_count": 107,
   "metadata": {},
   "outputs": [
    {
     "data": {
      "text/plain": [
       "4001×4001 Array{Complex{Float64},2}:\n",
       "   -2.0-2.0im    -2.0-1.999im  …    -2.0+1.999im    -2.0+2.0im\n",
       " -1.999-2.0im  -1.999-1.999im     -1.999+1.999im  -1.999+2.0im\n",
       " -1.998-2.0im  -1.998-1.999im     -1.998+1.999im  -1.998+2.0im\n",
       " -1.997-2.0im  -1.997-1.999im     -1.997+1.999im  -1.997+2.0im\n",
       " -1.996-2.0im  -1.996-1.999im     -1.996+1.999im  -1.996+2.0im\n",
       " -1.995-2.0im  -1.995-1.999im  …  -1.995+1.999im  -1.995+2.0im\n",
       " -1.994-2.0im  -1.994-1.999im     -1.994+1.999im  -1.994+2.0im\n",
       " -1.993-2.0im  -1.993-1.999im     -1.993+1.999im  -1.993+2.0im\n",
       " -1.992-2.0im  -1.992-1.999im     -1.992+1.999im  -1.992+2.0im\n",
       " -1.991-2.0im  -1.991-1.999im     -1.991+1.999im  -1.991+2.0im\n",
       "  -1.99-2.0im   -1.99-1.999im  …   -1.99+1.999im   -1.99+2.0im\n",
       " -1.989-2.0im  -1.989-1.999im     -1.989+1.999im  -1.989+2.0im\n",
       " -1.988-2.0im  -1.988-1.999im     -1.988+1.999im  -1.988+2.0im\n",
       "       ⋮                       ⋱                        ⋮     \n",
       "  1.989-2.0im   1.989-1.999im      1.989+1.999im   1.989+2.0im\n",
       "   1.99-2.0im    1.99-1.999im  …    1.99+1.999im    1.99+2.0im\n",
       "  1.991-2.0im   1.991-1.999im      1.991+1.999im   1.991+2.0im\n",
       "  1.992-2.0im   1.992-1.999im      1.992+1.999im   1.992+2.0im\n",
       "  1.993-2.0im   1.993-1.999im      1.993+1.999im   1.993+2.0im\n",
       "  1.994-2.0im   1.994-1.999im      1.994+1.999im   1.994+2.0im\n",
       "  1.995-2.0im   1.995-1.999im  …   1.995+1.999im   1.995+2.0im\n",
       "  1.996-2.0im   1.996-1.999im      1.996+1.999im   1.996+2.0im\n",
       "  1.997-2.0im   1.997-1.999im      1.997+1.999im   1.997+2.0im\n",
       "  1.998-2.0im   1.998-1.999im      1.998+1.999im   1.998+2.0im\n",
       "  1.999-2.0im   1.999-1.999im      1.999+1.999im   1.999+2.0im\n",
       "    2.0-2.0im     2.0-1.999im  …     2.0+1.999im     2.0+2.0im"
      ]
     },
     "execution_count": 107,
     "metadata": {},
     "output_type": "execute_result"
    }
   ],
   "source": [
    "re_part=collect(-2.0:0.001:2.0)\n",
    "im_part=copy(re_part)\n",
    "\n",
    "re_part_2D=repeat(re_part,1,length(im_part))\n",
    "im_part_2D=repeat(transpose(im_part),length(re_part))\n",
    "comp=re_part_2D+im*im_part_2D"
   ]
  },
  {
   "cell_type": "code",
   "execution_count": 112,
   "metadata": {},
   "outputs": [],
   "source": [
    "which_zerog=zeros(Int8,size(comp))\n",
    "\n",
    "for ii in 1:size(comp)[1]\n",
    "    for jj in 1:size(comp)[2]\n",
    "        temp=Zero_Iterator(g,Newtons,comp[ii,jj],[gp],8)\n",
    "        if isapprox(temp,1.0,rtol=.1)\n",
    "            which_zero[ii,jj]=1\n",
    "        elseif isapprox(temp,exp(2π*im/3),rtol=.1)\n",
    "            which_zero[ii,jj]=2\n",
    "        elseif isapprox(temp,exp(-2π*im/3),rtol=.1)\n",
    "            which_zero[ii,jj]=3      \n",
    "        else\n",
    "            \n",
    "            temp=Zero_Iterator(g,Newtons,comp[ii,jj],[gp],30)\n",
    "            if isapprox(temp,1.0,rtol=.1)\n",
    "                which_zero[ii,jj]=1\n",
    "            elseif isapprox(temp,exp(2π*im/3),rtol=.1)\n",
    "                which_zero[ii,jj]=2\n",
    "            elseif isapprox(temp,exp(-2π*im/3),rtol=.1)\n",
    "                which_zero[ii,jj]=3     \n",
    "            else\n",
    "                which_zero[ii,jj]=4\n",
    "                #println(ii,\"\\t\",jj,\"\\t\",temp,\"didn't converge\")\n",
    "            end\n",
    "        end\n",
    "    end\n",
    "end\n",
    "        "
   ]
  },
  {
   "cell_type": "code",
   "execution_count": 110,
   "metadata": {},
   "outputs": [],
   "source": [
    "heatmap(re_part,im_part,which_zero)\n",
    "plot!(colorbar=false,xlabel=\"Real Part\",ylabel=\"Imaginary Part\",title=\"Convergence to zeros of x^3-1\")\n",
    "savefig(\"zeros_fractal.png\")"
   ]
  },
  {
   "cell_type": "code",
   "execution_count": 73,
   "metadata": {},
   "outputs": [
    {
     "data": {
      "text/plain": [
       "-0.5000000081710632 - 0.8660253772960337im"
      ]
     },
     "execution_count": 73,
     "metadata": {},
     "output_type": "execute_result"
    }
   ],
   "source": [
    "Zero_Iterator(f,Newtons,comp[1,1],[fp],7)"
   ]
  },
  {
   "cell_type": "code",
   "execution_count": null,
   "metadata": {},
   "outputs": [],
   "source": []
  }
 ],
 "metadata": {
  "@webio": {
   "lastCommId": "9816219a7572411b8f4b76dfe2612288",
   "lastKernelId": "631d4d81-9e11-4da5-8cb4-88d0a598746f"
  },
  "kernelspec": {
   "display_name": "Julia 1.0.1",
   "language": "julia",
   "name": "julia-1.0"
  },
  "language_info": {
   "file_extension": ".jl",
   "mimetype": "application/julia",
   "name": "julia",
   "version": "1.0.1"
  }
 },
 "nbformat": 4,
 "nbformat_minor": 2
}
