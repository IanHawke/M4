{
 "cells": [
  {
   "cell_type": "code",
   "execution_count": 1,
   "metadata": {
    "collapsed": true
   },
   "outputs": [],
   "source": [
    "N=10;\n",
    "tn=100;\n",
    "S=Array{Float64}(N,3,tn);"
   ]
  },
  {
   "cell_type": "code",
   "execution_count": 4,
   "metadata": {
    "collapsed": false
   },
   "outputs": [],
   "source": [
    "delta=.01;\n",
    "\n",
    "# x component at first time step \n",
    "S[:,1,1]=zeros(N)+delta;\n",
    "# y component at first time step\n",
    "S[:,2,1]=zeros(N);\n",
    "# z component at first time step\n",
    "S[:,3,1]=ones(N)-delta; \n",
    "S[:,1:3,2:end]=zeros(N,tn-1,3);"
   ]
  },
  {
   "cell_type": "code",
   "execution_count": null,
   "metadata": {
    "collapsed": true
   },
   "outputs": [],
   "source": []
  },
  {
   "cell_type": "markdown",
   "metadata": {},
   "source": [
    "\\begin{equation}\n",
    "{\\cal H} = -J \\sum_i \\vec{S}_i \\cdot \\vec{S}_{i+1}\n",
    "\\end{equation}\n",
    "\n",
    "\\begin{equation}\n",
    "\\frac{d \\langle O \\rangle }{dt} =\\frac{-i}{\\hbar} [H,O]\n",
    "\\end{equation}\n",
    "\n",
    "S_xi S_xi S_xj + S_yi S_xi S_yj + S_zi S_xi S_zj\n",
    "- S_xi S_xi S_xj - S_xi S_yi S_yi - S_xi S_zi S_zi \n",
    "=> ... -S_xi S_xi S_xj - ( S_yi S_xi + i \\hbar S_zi) S_yj - (S_zi S_xi - i \\hbar S_yi) S_zj \n",
    "=> - i\\hbar S_zi S_yj + i \\hbar S_yi S_zj\n",
    "\n",
    "\n",
    "\\begin{equation}\n",
    "    \\frac{d \\vec{S}_i }{dt} = ? \n",
    "\\end{equation}"
   ]
  },
  {
   "cell_type": "code",
   "execution_count": 5,
   "metadata": {
    "collapsed": false
   },
   "outputs": [
    {
     "data": {
      "text/plain": [
       "3-element Array{Int64,1}:\n",
       " -6\n",
       "  3\n",
       "  0"
      ]
     },
     "execution_count": 5,
     "metadata": {},
     "output_type": "execute_result"
    }
   ],
   "source": [
    "cross([1,2,3],[1,2,0])"
   ]
  },
  {
   "cell_type": "code",
   "execution_count": null,
   "metadata": {
    "collapsed": true
   },
   "outputs": [],
   "source": []
  }
 ],
 "metadata": {
  "kernelspec": {
   "display_name": "Julia 0.5.0",
   "language": "julia",
   "name": "julia-0.5"
  },
  "language_info": {
   "file_extension": ".jl",
   "mimetype": "application/julia",
   "name": "julia",
   "version": "0.5.0"
  }
 },
 "nbformat": 4,
 "nbformat_minor": 2
}
