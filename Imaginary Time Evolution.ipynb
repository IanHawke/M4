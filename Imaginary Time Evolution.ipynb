{
 "cells": [
  {
   "cell_type": "markdown",
   "metadata": {},
   "source": [
    "# Ground States: Imaginary Time Evolution\n",
    "## Category: Prerequsites\n",
    "## Prerequisites: Quantum Harmonic Oscillator, Time Evolution: Split Operator, Quantum Mechanics\n",
    "## Author: Christina Lee\n",
    "\n",
    "$$\n",
    "\\Psi (t) = \\sum_i a_i(t) \\phi_i = \\sum_i a_i (0) e^{-i E_i t} \\phi_i\n",
    "$$\n",
    "\n",
    "$$\n",
    "\\Psi (-it) = \\sum_i a_i (0) e^{- E_i t} \\phi_i\n",
    "$$\n",
    "\n",
    "In this equation, we can se that all eigenstates dissapate away in an imaginary time system, but the states with higher energy will dissipate more rapidly.  Over time, the lowest energy state will come to dominate the wavefunction.  We do this by performing a [Wick rotation](https://en.wikipedia.org/wiki/Wick_rotation) on time $(t \\mapsto -i t)$, taking it into the complex domain, as shown above.\n",
    "\n"
   ]
  },
  {
   "cell_type": "code",
   "execution_count": null,
   "metadata": {},
   "outputs": [],
   "source": [
    "using FFTW\n",
    "using Plots\n",
    "gr()"
   ]
  },
  {
   "cell_type": "code",
   "execution_count": null,
   "metadata": {},
   "outputs": [],
   "source": []
  },
  {
   "cell_type": "code",
   "execution_count": null,
   "metadata": {},
   "outputs": [],
   "source": [
    "# Set Time Parameters\n",
    "t0=0\n",
    "tf=5\n",
    "dt=.01\n",
    "\n",
    "# Set Space Grid Parameters \n",
    "dx=.05\n",
    "xmax=6\n",
    "# xmin will be -xmax.  Making the situation symmetric\n"
   ]
  },
  {
   "cell_type": "code",
   "execution_count": null,
   "metadata": {},
   "outputs": [],
   "source": [
    "t=collect(t0:dt:tf)\n",
    "x=collect(-xmax:dx:xmax)\n",
    "\n",
    "nt=length(t)\n",
    "N=length(x)\n",
    "\n",
    "dk=2*π/(N*dx)\n",
    "k = [ collect(0:((N-1)/2)) ; collect(-(N-1)/2:-1) ] *2*π/(N*dx);"
   ]
  },
  {
   "cell_type": "markdown",
   "metadata": {},
   "source": [
    "In the next cell, we define our evolution operators.  "
   ]
  },
  {
   "cell_type": "code",
   "execution_count": null,
   "metadata": {},
   "outputs": [],
   "source": [
    "Vx=.5*x.^2;\n",
    "Vk=.5*k.^2\n",
    "\n",
    "Uxh=exp.(-Vx*dt/2);\n",
    "Ux=exp.(-Vx*dt);\n",
    "Uf=exp.(-Vk*dt);\n",
    "\"potentials and evolvers defined\""
   ]
  },
  {
   "cell_type": "code",
   "execution_count": null,
   "metadata": {},
   "outputs": [],
   "source": [
    "ϕ(x)=π^(-.25)*exp(-x.^2/2)\n",
    "ϕ1(x)=sqrt(2)*π^(-.25)*exp(-x.^2/2)*x\n",
    "ϕ2(x)=1/sqrt(2)*π^(-.25)*exp(-x.^2/2)*(2*x^2-1)\n",
    "ϕ4(x)=1/(2*sqrt(6)*π^(.25))*exp(-x.^2/2)*(4*x^4-12*x^2+3)"
   ]
  },
  {
   "cell_type": "code",
   "execution_count": null,
   "metadata": {},
   "outputs": [],
   "source": [
    "Ψ0=(1.0/(2*xmax))*ones(Complex{Float64},N);\n",
    "Ψtrue=(1+0*im).*ϕ.(x);\n",
    "Ψ1=(1+0*im).*ϕ1.(x);\n",
    "Ψ2=(1+0*im).*ϕ2.(x);\n",
    "Ψ4=(1+0*im).*ϕ4.(x);\n",
    "\n",
    "plot(x,abs.(Ψ0),label=\"Starting Wavefunction\")\n",
    "plot!(x,abs.(Ψtrue),label=\"Analytic Ground State\")\n",
    "plot!(x,abs.(Ψ1),label=\"First Excited\")\n",
    "plot!(x,abs.(Ψ2),label=\"Second Excited\")\n",
    "\n",
    "\n",
    "plot!(xlabel=\"x\",ylabel=\"Absolute Value\",title=\"Wavefunctions\")"
   ]
  },
  {
   "cell_type": "code",
   "execution_count": null,
   "metadata": {},
   "outputs": [],
   "source": [
    "nmeas"
   ]
  },
  {
   "cell_type": "markdown",
   "metadata": {},
   "source": [
    "###  Planning and Initializing"
   ]
  },
  {
   "cell_type": "code",
   "execution_count": null,
   "metadata": {},
   "outputs": [],
   "source": [
    "ft=plan_fft(Ψ0);\n",
    "Ψf=ft*Ψ0;\n",
    "ift=plan_ifft(Ψf);"
   ]
  },
  {
   "cell_type": "code",
   "execution_count": null,
   "metadata": {},
   "outputs": [],
   "source": [
    "nmeas=1\n",
    "lmeas=floor(Int, nt/nmeas)\n",
    "\n",
    "Ex=zeros(Float64,lmeas);\n",
    "Ek=zeros(Float64,lmeas);\n",
    "E=zeros(Float64,lmeas);\n",
    "E2=zeros(Float64,lmeas);\n",
    "\n",
    "c=zeros(Float64,lmeas);\n",
    "c1=zeros(Float64,lmeas);\n",
    "c2=zeros(Float64,lmeas);\n",
    "c4=zeros(Float64,lmeas);"
   ]
  },
  {
   "cell_type": "markdown",
   "metadata": {
    "scrolled": true
   },
   "source": [
    "## The Code Body\n",
    "\n",
    "Now we finally get to run the body of the code.  If you look back over the Split Operator Method Post, you will see almost identical code, as I am doing virtually the same thing.  I am only using different evolution operators and measuring different quantities."
   ]
  },
  {
   "cell_type": "code",
   "execution_count": null,
   "metadata": {},
   "outputs": [],
   "source": [
    "Ψ0=(1.0/(2*xmax))*ones(Complex{Float64},N);\n",
    "Ψ=copy(Ψ0);\n",
    "jj=1\n",
    "\n",
    "# The operators we have to start off with\n",
    "Ψ=Ψ.*Uxh\n",
    "\n",
    "Psif=(ft*Ψ)*dx\n",
    "Psif=Psif.*Uf    \n",
    "Ψ=(ift*Psif)*(dk/2π)\n",
    "\n",
    "for ii in 1:nt\n",
    "    \n",
    "    Ψ=Ψ.*Ux\n",
    "    \n",
    "    \n",
    "    Psif=(ft*Ψ)*dx\n",
    "    Psif=Psif.*Uf \n",
    "    \n",
    "    Ψ=(ift*Psif)*(dk/2π)   \n",
    "    nn=sum(conj(Ψ).*Ψ)*dx\n",
    "    Ψ=1/sqrt(nn)*Ψ\n",
    "    \n",
    "    if ii%nmeas == 0\n",
    "        # Every time we measure, we have to finish with a U_x half time step\n",
    "        Ψt=Ψ.*Uxh\n",
    "        Ψft=(ft*Ψt)*dx\n",
    "    \n",
    "        Ex[jj]=real(sum(conj(Ψt).*Vx.*Ψt))*dx\n",
    "        \n",
    "        Ek[jj]=real(sum(conj(Ψft).*Vk.*Ψft))*(dk/2π)\n",
    "    \n",
    "        E[jj]=Ex[jj]+Ek[jj]\n",
    "        \n",
    "        c[jj]=abs(sum( conj(Ψt).* Ψtrue)) *dx\n",
    "        c1[jj]=abs(sum( conj(Ψt).* Ψ1)) *dx\n",
    "        c2[jj]=abs(sum( conj(Ψt).* Ψ2)) *dx\n",
    "        c4[jj]=abs(sum( conj(Ψt).* Ψ4)) *dx\n",
    "        \n",
    "        jj+=1\n",
    "    end\n",
    "end    \n",
    "\n",
    "\n",
    "Ψ=Ψ.*Uxh;"
   ]
  },
  {
   "cell_type": "markdown",
   "metadata": {},
   "source": [
    "## Results\n",
    "\n",
    "In this next section, we examine the results that we calculated above, making sure they agree with our analytical predictions.  \n",
    "\n",
    "The first two pictures show how the final wavefunction after imaginary time evolution agrees with the ground state for the Quantum Harmonic Osscilator, both in position and momentum space.  "
   ]
  },
  {
   "cell_type": "code",
   "execution_count": null,
   "metadata": {},
   "outputs": [],
   "source": [
    "plot(x,abs.(Ψ),linewidth=10, label=\"Final\")\n",
    "plot!(x,abs.(Ψtrue), linewidth=5,label=\"Analytic\")\n",
    "\n",
    "plot!(xlabel=\"x\",ylabel=\"Absolute Value\",title=\"Wavefunction\")"
   ]
  },
  {
   "cell_type": "code",
   "execution_count": null,
   "metadata": {},
   "outputs": [],
   "source": [
    "plot(fftshift(k),abs.(fftshift(fΨ)),linewidth=10,label=\"Final\")\n",
    "plot!(fftshift(k),abs.(fftshift(fΨtrue)), linewidth=5,label=\"Analytic\")\n",
    "\n",
    "plot!(xlabel=\"k\",ylabel=\"Absolute Value\",title=\"Fourier Transform of Wavefunction\")"
   ]
  },
  {
   "cell_type": "markdown",
   "metadata": {},
   "source": [
    "The Energy of the system converges to $1/2 \\hbar \\omega$, which in this case is just 1/2.  The potential and kinetic energy each contribute to half of the total energy."
   ]
  },
  {
   "cell_type": "code",
   "execution_count": null,
   "metadata": {},
   "outputs": [],
   "source": [
    "plot(E,label=\" Total Energy\")\n",
    "plot!(Ex,label=\"Potential\")\n",
    "plot!(Ek,label=\"Kinetic\")\n",
    "hline!([1/2],label=\"1/2\")\n",
    "\n",
    "plot!(xlabel=\"Steps\",ylabel=\"Energy\",title=\"Convergence of Energy\")"
   ]
  },
  {
   "cell_type": "markdown",
   "metadata": {},
   "source": [
    "Here we look at how the state converges to the ground state by dissipating out higher energy states.  \n",
    "\n",
    "We start with a even ground state, so any odd eigenstates, like the first excited state, will have no occupation starting out.  Thus, the odd eigenstates will never have any occupation.  This highlights the importance of a good first guess, though numerical error might save the day if the ground state wasn't present in our starting state.\n",
    "\n",
    "The higher the energy of the state, the faster it will decay.  We even see that the Second Excited State increases in occupation for a short while in the beginning as the higher energy states rapidly disappear.  "
   ]
  },
  {
   "cell_type": "code",
   "execution_count": null,
   "metadata": {},
   "outputs": [],
   "source": [
    "plot(c,label=\"Ground State\")\n",
    "plot!(c1,label=\"First Excited\")\n",
    "plot!(c2,label=\"Second Excited\")\n",
    "plot!(c4,label=\"Fourth Excited\")\n",
    "\n",
    "plot!(xlabel=\"Steps\",ylabel=\"Occupation of State\",title=\"Occupation of Eigenstates\")"
   ]
  },
  {
   "cell_type": "code",
   "execution_count": null,
   "metadata": {},
   "outputs": [],
   "source": []
  },
  {
   "cell_type": "code",
   "execution_count": null,
   "metadata": {},
   "outputs": [],
   "source": []
  },
  {
   "cell_type": "code",
   "execution_count": null,
   "metadata": {},
   "outputs": [],
   "source": []
  },
  {
   "cell_type": "code",
   "execution_count": null,
   "metadata": {},
   "outputs": [],
   "source": []
  },
  {
   "cell_type": "code",
   "execution_count": null,
   "metadata": {},
   "outputs": [],
   "source": []
  },
  {
   "cell_type": "code",
   "execution_count": null,
   "metadata": {},
   "outputs": [],
   "source": []
  },
  {
   "cell_type": "code",
   "execution_count": null,
   "metadata": {},
   "outputs": [],
   "source": []
  },
  {
   "cell_type": "code",
   "execution_count": null,
   "metadata": {},
   "outputs": [],
   "source": []
  },
  {
   "cell_type": "code",
   "execution_count": null,
   "metadata": {},
   "outputs": [],
   "source": []
  }
 ],
 "metadata": {
  "@webio": {
   "lastCommId": "eb6998e7589045fa8189285134714bd8",
   "lastKernelId": "3774c53a-9a41-45fb-ab88-da80a0244889"
  },
  "kernelspec": {
   "display_name": "Julia 1.0.1",
   "language": "julia",
   "name": "julia-1.0"
  },
  "language_info": {
   "file_extension": ".jl",
   "mimetype": "application/julia",
   "name": "julia",
   "version": "1.0.1"
  }
 },
 "nbformat": 4,
 "nbformat_minor": 2
}
