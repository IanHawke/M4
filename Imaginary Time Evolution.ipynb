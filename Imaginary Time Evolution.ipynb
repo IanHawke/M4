{
 "cells": [
  {
   "cell_type": "markdown",
   "metadata": {},
   "source": [
    "# Ground States: Imaginary Time Evolution\n",
    "## Category: Prerequisites\n",
    "## Prerequisites: Quantum Harmonic Oscillator, Time Evolution: Split Operator, Quantum Mechanics\n",
    "## Author: Christina Lee\n",
    "\n",
    "I've long thought that instead of being called the imaginary number, $i$ should be called the magic number. For many tricky problems, I feel like I can almost just throw $i$ at the problem and then the problem solves itself.  Once again, $i$ performs unexpected wonders when we perform <i>analytic continuation</i> of the time variable into the complex plane.  \n",
    "\n",
    "<i>Analytic continuation</i> is when we take a variable limited to the Real $\\mathbb{R}$ axis and allow it to take on all values in the complex plane $\\mathbb{C}$.\n",
    "\n",
    "In the Split Operator post, we saw one computational method of performing time evolution. If you haven't read that, I recommend perusing it before trying the parse the code here. Split Operator is just one method; other methods include Green's functions and semi-classical molecular dynamics. Imaginary time evolution would equally apply to any other time evolution method.\n",
    "\n",
    "Given the Split Operator Method, we can evolve any wavefunction we want. But what wavefunction do we evolve?\n",
    "\n",
    "In the previous post, I just used a variation on an exactly solvable problem,  allowing me to plug in an exact solution.  However, I won't always be able to do that, given the minimal number of exact solutions in Quantum Mechanics. Imaginary time allows us to determine the lowest energy eigenstate, or ground state, of just about any Hamiltonian.  In cold atomic physics, we usually care most about the ground state, and this method provides a robust method of determining it.\n",
    "\n",
    "So how does imaginary time in Quantum Mechanics work? We can write  any arbitrary wavefunction as a superposition of eigenstates,\n",
    "$$\n",
    "\\Psi = \\sum_i a_i \\phi_i .\n",
    "$$\n",
    "Each eigenstate doesn't change in overall magnitude as time progresses but rotates with a frequency proportional to the energy.  The superposition changes from a changing interference pattern,\n",
    "$$\n",
    "\\Psi (t) = \\sum_i a_i (0) e^{-i E_i t} \\phi_i .\n",
    "$$\n",
    "\n",
    "If we now perform the substitution $(t \\mapsto -i t)$\n",
    "$$\n",
    "\\Psi (-it) = \\sum_i a_i (0) e^{- E_i t} \\phi_i,\n",
    "$$\n",
    "we can see that all eigenstates dissipate away in an imaginary time system, but the states with higher energy dissipate more rapidly.  Over time, the lowest energy state comes to dominate the wavefunction. \n",
    "\n",
    "This trick is called a [Wick rotation](https://en.wikipedia.org/wiki/Wick_rotation).  Wick rotations are also used to equate inverse temperature $1/T$ with imaginary time $i t$ to statistical quantum mechanics problems or to solve problems in cosmology.  \n",
    "\n"
   ]
  },
  {
   "cell_type": "markdown",
   "metadata": {},
   "source": [
    "## Coding Time!\n",
    "\n",
    "Let's load our packages:"
   ]
  },
  {
   "cell_type": "code",
   "execution_count": 1,
   "metadata": {},
   "outputs": [
    {
     "name": "stderr",
     "output_type": "stream",
     "text": [
      "┌ Info: Recompiling stale cache file /home/shaula/.julia/compiled/v1.0/Plots/ld3vC.ji for Plots [91a5bcdd-55d7-5caf-9e0b-520d859cae80]\n",
      "└ @ Base loading.jl:1187\n"
     ]
    },
    {
     "data": {
      "text/plain": [
       "Plots.GRBackend()"
      ]
     },
     "execution_count": 1,
     "metadata": {},
     "output_type": "execute_result"
    }
   ],
   "source": [
    "using FFTW\n",
    "using Plots\n",
    "gr()"
   ]
  },
  {
   "cell_type": "markdown",
   "metadata": {},
   "source": [
    "## Parameters\n",
    "This code just needs to run long enough to get decent convergence.  Make sure to have small enough steps in space and time."
   ]
  },
  {
   "cell_type": "code",
   "execution_count": 2,
   "metadata": {},
   "outputs": [
    {
     "data": {
      "text/plain": [
       "6"
      ]
     },
     "execution_count": 2,
     "metadata": {},
     "output_type": "execute_result"
    }
   ],
   "source": [
    "# Set Time Parameters\n",
    "t0=0\n",
    "tf=5\n",
    "dt=.01\n",
    "\n",
    "# Set Space Grid Parameters \n",
    "dx=.05\n",
    "xmax=6\n",
    "# xmin will be -xmax.  Making the situation symmetric\n"
   ]
  },
  {
   "cell_type": "code",
   "execution_count": 3,
   "metadata": {},
   "outputs": [],
   "source": [
    "t=collect(t0:dt:tf)\n",
    "x=collect(-xmax:dx:xmax)\n",
    "\n",
    "nt=length(t)\n",
    "N=length(x)\n",
    "\n",
    "dk=2*π/(N*dx)\n",
    "if iseven(N) \n",
    "    k[collect(0:N/2) ; collect(-N/2:-1)]*dk\n",
    "    else # N is odd\n",
    "    k=[collect(0:(N-1)/2) ; collect(-(N-1)/2:-1)]*dk\n",
    "end;"
   ]
  },
  {
   "cell_type": "markdown",
   "metadata": {},
   "source": [
    "In the next cell, we define our evolution operators.\n",
    "\n",
    "This cell holds the key differences between standard time evolution and imaginary time evolution.  Note the absence of $i$ in the definition of the evolution operators."
   ]
  },
  {
   "cell_type": "code",
   "execution_count": 4,
   "metadata": {},
   "outputs": [
    {
     "data": {
      "text/plain": [
       "\"potentials and evolvers defined\""
      ]
     },
     "execution_count": 4,
     "metadata": {},
     "output_type": "execute_result"
    }
   ],
   "source": [
    "Vx=.5*x.^2;\n",
    "Vk=.5*k.^2\n",
    "\n",
    "Uxh=exp.(-Vx*dt/2);\n",
    "Ux=exp.(-Vx*dt);\n",
    "Uf=exp.(-Vk*dt);\n",
    "\"potentials and evolvers defined\""
   ]
  },
  {
   "cell_type": "markdown",
   "metadata": {},
   "source": [
    "To see the decay to the ground state, we will check the overlap with some higher energy harmonic oscillator eigenstates."
   ]
  },
  {
   "cell_type": "code",
   "execution_count": 5,
   "metadata": {},
   "outputs": [
    {
     "data": {
      "text/plain": [
       "ϕ4 (generic function with 1 method)"
      ]
     },
     "execution_count": 5,
     "metadata": {},
     "output_type": "execute_result"
    }
   ],
   "source": [
    "ϕ(x)=π^(-.25)*exp(-x.^2/2)\n",
    "ϕ1(x)=sqrt(2)*π^(-.25)*exp(-x.^2/2)*x\n",
    "ϕ2(x)=1/sqrt(2)*π^(-.25)*exp(-x.^2/2)*(2*x^2-1)\n",
    "ϕ4(x)=1/(2*sqrt(6)*π^(.25))*exp(-x.^2/2)*(4*x^4-12*x^2+3)"
   ]
  },
  {
   "cell_type": "code",
   "execution_count": 6,
   "metadata": {},
   "outputs": [
    {
     "data": {
      "image/svg+xml": [
       "<?xml version=\"1.0\" encoding=\"utf-8\"?>\n",
       "<svg xmlns=\"http://www.w3.org/2000/svg\" xmlns:xlink=\"http://www.w3.org/1999/xlink\" width=\"600\" height=\"400\" viewBox=\"0 0 2400 1600\">\n",
       "<defs>\n",
       "  <clipPath id=\"clip3100\">\n",
       "    <rect x=\"0\" y=\"0\" width=\"2000\" height=\"2000\"/>\n",
       "  </clipPath>\n",
       "</defs>\n",
       "<defs>\n",
       "  <clipPath id=\"clip3101\">\n",
       "    <rect x=\"0\" y=\"0\" width=\"2400\" height=\"1600\"/>\n",
       "  </clipPath>\n",
       "</defs>\n",
       "<polygon clip-path=\"url(#clip3101)\" points=\"\n",
       "0,1600 2400,1600 2400,0 0,0 \n",
       "  \" fill=\"#ffffff\" fill-rule=\"evenodd\" fill-opacity=\"1\"/>\n",
       "<defs>\n",
       "  <clipPath id=\"clip3102\">\n",
       "    <rect x=\"480\" y=\"0\" width=\"1681\" height=\"1600\"/>\n",
       "  </clipPath>\n",
       "</defs>\n",
       "<polygon clip-path=\"url(#clip3101)\" points=\"\n",
       "224.386,1440.48 2321.26,1440.48 2321.26,125.984 224.386,125.984 \n",
       "  \" fill=\"#ffffff\" fill-rule=\"evenodd\" fill-opacity=\"1\"/>\n",
       "<defs>\n",
       "  <clipPath id=\"clip3103\">\n",
       "    <rect x=\"224\" y=\"125\" width=\"2098\" height=\"1315\"/>\n",
       "  </clipPath>\n",
       "</defs>\n",
       "<polyline clip-path=\"url(#clip3103)\" style=\"stroke:#000000; stroke-width:2; stroke-opacity:0.1; fill:none\" points=\"\n",
       "  448.58,1440.48 448.58,125.984 \n",
       "  \"/>\n",
       "<polyline clip-path=\"url(#clip3103)\" style=\"stroke:#000000; stroke-width:2; stroke-opacity:0.1; fill:none\" points=\"\n",
       "  860.702,1440.48 860.702,125.984 \n",
       "  \"/>\n",
       "<polyline clip-path=\"url(#clip3103)\" style=\"stroke:#000000; stroke-width:2; stroke-opacity:0.1; fill:none\" points=\"\n",
       "  1272.82,1440.48 1272.82,125.984 \n",
       "  \"/>\n",
       "<polyline clip-path=\"url(#clip3103)\" style=\"stroke:#000000; stroke-width:2; stroke-opacity:0.1; fill:none\" points=\"\n",
       "  1684.94,1440.48 1684.94,125.984 \n",
       "  \"/>\n",
       "<polyline clip-path=\"url(#clip3103)\" style=\"stroke:#000000; stroke-width:2; stroke-opacity:0.1; fill:none\" points=\"\n",
       "  2097.07,1440.48 2097.07,125.984 \n",
       "  \"/>\n",
       "<polyline clip-path=\"url(#clip3103)\" style=\"stroke:#000000; stroke-width:2; stroke-opacity:0.1; fill:none\" points=\"\n",
       "  224.386,1403.28 2321.26,1403.28 \n",
       "  \"/>\n",
       "<polyline clip-path=\"url(#clip3103)\" style=\"stroke:#000000; stroke-width:2; stroke-opacity:0.1; fill:none\" points=\"\n",
       "  224.386,1073.08 2321.26,1073.08 \n",
       "  \"/>\n",
       "<polyline clip-path=\"url(#clip3103)\" style=\"stroke:#000000; stroke-width:2; stroke-opacity:0.1; fill:none\" points=\"\n",
       "  224.386,742.888 2321.26,742.888 \n",
       "  \"/>\n",
       "<polyline clip-path=\"url(#clip3103)\" style=\"stroke:#000000; stroke-width:2; stroke-opacity:0.1; fill:none\" points=\"\n",
       "  224.386,412.692 2321.26,412.692 \n",
       "  \"/>\n",
       "<polyline clip-path=\"url(#clip3101)\" style=\"stroke:#000000; stroke-width:4; stroke-opacity:1; fill:none\" points=\"\n",
       "  224.386,1440.48 2321.26,1440.48 \n",
       "  \"/>\n",
       "<polyline clip-path=\"url(#clip3101)\" style=\"stroke:#000000; stroke-width:4; stroke-opacity:1; fill:none\" points=\"\n",
       "  224.386,1440.48 224.386,125.984 \n",
       "  \"/>\n",
       "<polyline clip-path=\"url(#clip3101)\" style=\"stroke:#000000; stroke-width:4; stroke-opacity:1; fill:none\" points=\"\n",
       "  448.58,1440.48 448.58,1420.77 \n",
       "  \"/>\n",
       "<polyline clip-path=\"url(#clip3101)\" style=\"stroke:#000000; stroke-width:4; stroke-opacity:1; fill:none\" points=\"\n",
       "  860.702,1440.48 860.702,1420.77 \n",
       "  \"/>\n",
       "<polyline clip-path=\"url(#clip3101)\" style=\"stroke:#000000; stroke-width:4; stroke-opacity:1; fill:none\" points=\"\n",
       "  1272.82,1440.48 1272.82,1420.77 \n",
       "  \"/>\n",
       "<polyline clip-path=\"url(#clip3101)\" style=\"stroke:#000000; stroke-width:4; stroke-opacity:1; fill:none\" points=\"\n",
       "  1684.94,1440.48 1684.94,1420.77 \n",
       "  \"/>\n",
       "<polyline clip-path=\"url(#clip3101)\" style=\"stroke:#000000; stroke-width:4; stroke-opacity:1; fill:none\" points=\"\n",
       "  2097.07,1440.48 2097.07,1420.77 \n",
       "  \"/>\n",
       "<polyline clip-path=\"url(#clip3101)\" style=\"stroke:#000000; stroke-width:4; stroke-opacity:1; fill:none\" points=\"\n",
       "  224.386,1403.28 255.839,1403.28 \n",
       "  \"/>\n",
       "<polyline clip-path=\"url(#clip3101)\" style=\"stroke:#000000; stroke-width:4; stroke-opacity:1; fill:none\" points=\"\n",
       "  224.386,1073.08 255.839,1073.08 \n",
       "  \"/>\n",
       "<polyline clip-path=\"url(#clip3101)\" style=\"stroke:#000000; stroke-width:4; stroke-opacity:1; fill:none\" points=\"\n",
       "  224.386,742.888 255.839,742.888 \n",
       "  \"/>\n",
       "<polyline clip-path=\"url(#clip3101)\" style=\"stroke:#000000; stroke-width:4; stroke-opacity:1; fill:none\" points=\"\n",
       "  224.386,412.692 255.839,412.692 \n",
       "  \"/>\n",
       "<g clip-path=\"url(#clip3101)\">\n",
       "<text style=\"fill:#000000; fill-opacity:1; font-family:Arial,Helvetica Neue,Helvetica,sans-serif; font-size:48px; text-anchor:middle;\" transform=\"rotate(0, 448.58, 1494.48)\" x=\"448.58\" y=\"1494.48\">-5.0</text>\n",
       "</g>\n",
       "<g clip-path=\"url(#clip3101)\">\n",
       "<text style=\"fill:#000000; fill-opacity:1; font-family:Arial,Helvetica Neue,Helvetica,sans-serif; font-size:48px; text-anchor:middle;\" transform=\"rotate(0, 860.702, 1494.48)\" x=\"860.702\" y=\"1494.48\">-2.5</text>\n",
       "</g>\n",
       "<g clip-path=\"url(#clip3101)\">\n",
       "<text style=\"fill:#000000; fill-opacity:1; font-family:Arial,Helvetica Neue,Helvetica,sans-serif; font-size:48px; text-anchor:middle;\" transform=\"rotate(0, 1272.82, 1494.48)\" x=\"1272.82\" y=\"1494.48\">0.0</text>\n",
       "</g>\n",
       "<g clip-path=\"url(#clip3101)\">\n",
       "<text style=\"fill:#000000; fill-opacity:1; font-family:Arial,Helvetica Neue,Helvetica,sans-serif; font-size:48px; text-anchor:middle;\" transform=\"rotate(0, 1684.94, 1494.48)\" x=\"1684.94\" y=\"1494.48\">2.5</text>\n",
       "</g>\n",
       "<g clip-path=\"url(#clip3101)\">\n",
       "<text style=\"fill:#000000; fill-opacity:1; font-family:Arial,Helvetica Neue,Helvetica,sans-serif; font-size:48px; text-anchor:middle;\" transform=\"rotate(0, 2097.07, 1494.48)\" x=\"2097.07\" y=\"1494.48\">5.0</text>\n",
       "</g>\n",
       "<g clip-path=\"url(#clip3101)\">\n",
       "<text style=\"fill:#000000; fill-opacity:1; font-family:Arial,Helvetica Neue,Helvetica,sans-serif; font-size:48px; text-anchor:end;\" transform=\"rotate(0, 200.386, 1420.78)\" x=\"200.386\" y=\"1420.78\">0.0</text>\n",
       "</g>\n",
       "<g clip-path=\"url(#clip3101)\">\n",
       "<text style=\"fill:#000000; fill-opacity:1; font-family:Arial,Helvetica Neue,Helvetica,sans-serif; font-size:48px; text-anchor:end;\" transform=\"rotate(0, 200.386, 1090.58)\" x=\"200.386\" y=\"1090.58\">0.2</text>\n",
       "</g>\n",
       "<g clip-path=\"url(#clip3101)\">\n",
       "<text style=\"fill:#000000; fill-opacity:1; font-family:Arial,Helvetica Neue,Helvetica,sans-serif; font-size:48px; text-anchor:end;\" transform=\"rotate(0, 200.386, 760.388)\" x=\"200.386\" y=\"760.388\">0.4</text>\n",
       "</g>\n",
       "<g clip-path=\"url(#clip3101)\">\n",
       "<text style=\"fill:#000000; fill-opacity:1; font-family:Arial,Helvetica Neue,Helvetica,sans-serif; font-size:48px; text-anchor:end;\" transform=\"rotate(0, 200.386, 430.192)\" x=\"200.386\" y=\"430.192\">0.6</text>\n",
       "</g>\n",
       "<g clip-path=\"url(#clip3101)\">\n",
       "<text style=\"fill:#000000; fill-opacity:1; font-family:Arial,Helvetica Neue,Helvetica,sans-serif; font-size:84px; text-anchor:middle;\" transform=\"rotate(0, 1272.82, 73.2)\" x=\"1272.82\" y=\"73.2\">Wavefunctions</text>\n",
       "</g>\n",
       "<g clip-path=\"url(#clip3101)\">\n",
       "<text style=\"fill:#000000; fill-opacity:1; font-family:Arial,Helvetica Neue,Helvetica,sans-serif; font-size:66px; text-anchor:middle;\" transform=\"rotate(0, 1272.82, 1590.4)\" x=\"1272.82\" y=\"1590.4\">x</text>\n",
       "</g>\n",
       "<g clip-path=\"url(#clip3101)\">\n",
       "<text style=\"fill:#000000; fill-opacity:1; font-family:Arial,Helvetica Neue,Helvetica,sans-serif; font-size:66px; text-anchor:middle;\" transform=\"rotate(-90, 57.6, 783.233)\" x=\"57.6\" y=\"783.233\">Absolute Value</text>\n",
       "</g>\n",
       "<polyline clip-path=\"url(#clip3103)\" style=\"stroke:#009af9; stroke-width:4; stroke-opacity:1; fill:none\" points=\"\n",
       "  283.732,1265.7 291.974,1265.7 300.217,1265.7 308.459,1265.7 316.701,1265.7 324.944,1265.7 333.186,1265.7 341.429,1265.7 349.671,1265.7 357.913,1265.7 \n",
       "  366.156,1265.7 374.398,1265.7 382.641,1265.7 390.883,1265.7 399.126,1265.7 407.368,1265.7 415.61,1265.7 423.853,1265.7 432.095,1265.7 440.338,1265.7 \n",
       "  448.58,1265.7 456.823,1265.7 465.065,1265.7 473.307,1265.7 481.55,1265.7 489.792,1265.7 498.035,1265.7 506.277,1265.7 514.52,1265.7 522.762,1265.7 \n",
       "  531.004,1265.7 539.247,1265.7 547.489,1265.7 555.732,1265.7 563.974,1265.7 572.217,1265.7 580.459,1265.7 588.701,1265.7 596.944,1265.7 605.186,1265.7 \n",
       "  613.429,1265.7 621.671,1265.7 629.914,1265.7 638.156,1265.7 646.398,1265.7 654.641,1265.7 662.883,1265.7 671.126,1265.7 679.368,1265.7 687.611,1265.7 \n",
       "  695.853,1265.7 704.095,1265.7 712.338,1265.7 720.58,1265.7 728.823,1265.7 737.065,1265.7 745.308,1265.7 753.55,1265.7 761.792,1265.7 770.035,1265.7 \n",
       "  778.277,1265.7 786.52,1265.7 794.762,1265.7 803.005,1265.7 811.247,1265.7 819.489,1265.7 827.732,1265.7 835.974,1265.7 844.217,1265.7 852.459,1265.7 \n",
       "  860.702,1265.7 868.944,1265.7 877.186,1265.7 885.429,1265.7 893.671,1265.7 901.914,1265.7 910.156,1265.7 918.399,1265.7 926.641,1265.7 934.883,1265.7 \n",
       "  943.126,1265.7 951.368,1265.7 959.611,1265.7 967.853,1265.7 976.096,1265.7 984.338,1265.7 992.58,1265.7 1000.82,1265.7 1009.07,1265.7 1017.31,1265.7 \n",
       "  1025.55,1265.7 1033.79,1265.7 1042.04,1265.7 1050.28,1265.7 1058.52,1265.7 1066.76,1265.7 1075,1265.7 1083.25,1265.7 1091.49,1265.7 1099.73,1265.7 \n",
       "  1107.97,1265.7 1116.22,1265.7 1124.46,1265.7 1132.7,1265.7 1140.94,1265.7 1149.19,1265.7 1157.43,1265.7 1165.67,1265.7 1173.91,1265.7 1182.16,1265.7 \n",
       "  1190.4,1265.7 1198.64,1265.7 1206.88,1265.7 1215.13,1265.7 1223.37,1265.7 1231.61,1265.7 1239.85,1265.7 1248.1,1265.7 1256.34,1265.7 1264.58,1265.7 \n",
       "  1272.82,1265.7 1281.07,1265.7 1289.31,1265.7 1297.55,1265.7 1305.79,1265.7 1314.04,1265.7 1322.28,1265.7 1330.52,1265.7 1338.76,1265.7 1347,1265.7 \n",
       "  1355.25,1265.7 1363.49,1265.7 1371.73,1265.7 1379.97,1265.7 1388.22,1265.7 1396.46,1265.7 1404.7,1265.7 1412.94,1265.7 1421.19,1265.7 1429.43,1265.7 \n",
       "  1437.67,1265.7 1445.91,1265.7 1454.16,1265.7 1462.4,1265.7 1470.64,1265.7 1478.88,1265.7 1487.13,1265.7 1495.37,1265.7 1503.61,1265.7 1511.85,1265.7 \n",
       "  1520.1,1265.7 1528.34,1265.7 1536.58,1265.7 1544.82,1265.7 1553.07,1265.7 1561.31,1265.7 1569.55,1265.7 1577.79,1265.7 1586.04,1265.7 1594.28,1265.7 \n",
       "  1602.52,1265.7 1610.76,1265.7 1619,1265.7 1627.25,1265.7 1635.49,1265.7 1643.73,1265.7 1651.97,1265.7 1660.22,1265.7 1668.46,1265.7 1676.7,1265.7 \n",
       "  1684.94,1265.7 1693.19,1265.7 1701.43,1265.7 1709.67,1265.7 1717.91,1265.7 1726.16,1265.7 1734.4,1265.7 1742.64,1265.7 1750.88,1265.7 1759.13,1265.7 \n",
       "  1767.37,1265.7 1775.61,1265.7 1783.85,1265.7 1792.1,1265.7 1800.34,1265.7 1808.58,1265.7 1816.82,1265.7 1825.07,1265.7 1833.31,1265.7 1841.55,1265.7 \n",
       "  1849.79,1265.7 1858.04,1265.7 1866.28,1265.7 1874.52,1265.7 1882.76,1265.7 1891.01,1265.7 1899.25,1265.7 1907.49,1265.7 1915.73,1265.7 1923.97,1265.7 \n",
       "  1932.22,1265.7 1940.46,1265.7 1948.7,1265.7 1956.94,1265.7 1965.19,1265.7 1973.43,1265.7 1981.67,1265.7 1989.91,1265.7 1998.16,1265.7 2006.4,1265.7 \n",
       "  2014.64,1265.7 2022.88,1265.7 2031.13,1265.7 2039.37,1265.7 2047.61,1265.7 2055.85,1265.7 2064.1,1265.7 2072.34,1265.7 2080.58,1265.7 2088.82,1265.7 \n",
       "  2097.07,1265.7 2105.31,1265.7 2113.55,1265.7 2121.79,1265.7 2130.04,1265.7 2138.28,1265.7 2146.52,1265.7 2154.76,1265.7 2163.01,1265.7 2171.25,1265.7 \n",
       "  2179.49,1265.7 2187.73,1265.7 2195.97,1265.7 2204.22,1265.7 2212.46,1265.7 2220.7,1265.7 2228.94,1265.7 2237.19,1265.7 2245.43,1265.7 2253.67,1265.7 \n",
       "  2261.91,1265.7 \n",
       "  \"/>\n",
       "<polyline clip-path=\"url(#clip3103)\" style=\"stroke:#e26f46; stroke-width:4; stroke-opacity:1; fill:none\" points=\"\n",
       "  283.732,1403.28 291.974,1403.28 300.217,1403.28 308.459,1403.28 316.701,1403.28 324.944,1403.28 333.186,1403.28 341.429,1403.28 349.671,1403.28 357.913,1403.28 \n",
       "  366.156,1403.28 374.398,1403.28 382.641,1403.28 390.883,1403.28 399.126,1403.28 407.368,1403.28 415.61,1403.28 423.853,1403.28 432.095,1403.28 440.338,1403.28 \n",
       "  448.58,1403.28 456.823,1403.27 465.065,1403.27 473.307,1403.27 481.55,1403.27 489.792,1403.26 498.035,1403.26 506.277,1403.25 514.52,1403.25 522.762,1403.24 \n",
       "  531.004,1403.23 539.247,1403.22 547.489,1403.2 555.732,1403.18 563.974,1403.16 572.217,1403.13 580.459,1403.1 588.701,1403.05 596.944,1403 605.186,1402.94 \n",
       "  613.429,1402.86 621.671,1402.77 629.914,1402.66 638.156,1402.53 646.398,1402.37 654.641,1402.18 662.883,1401.96 671.126,1401.69 679.368,1401.38 687.611,1401.01 \n",
       "  695.853,1400.57 704.095,1400.05 712.338,1399.45 720.58,1398.75 728.823,1397.93 737.065,1396.97 745.308,1395.87 753.55,1394.59 761.792,1393.13 770.035,1391.44 \n",
       "  778.277,1389.5 786.52,1387.29 794.762,1384.78 803.005,1381.92 811.247,1378.68 819.489,1375.01 827.732,1370.89 835.974,1366.25 844.217,1361.06 852.459,1355.26 \n",
       "  860.702,1348.79 868.944,1341.62 877.186,1333.67 885.429,1324.89 893.671,1315.23 901.914,1304.62 910.156,1293.01 918.399,1280.34 926.641,1266.56 934.883,1251.61 \n",
       "  943.126,1235.45 951.368,1218.03 959.611,1199.32 967.853,1179.27 976.096,1157.87 984.338,1135.09 992.58,1110.93 1000.82,1085.39 1009.07,1058.49 1017.31,1030.24 \n",
       "  1025.55,1000.68 1033.79,969.867 1042.04,937.859 1050.28,904.736 1058.52,870.589 1066.76,835.524 1075,799.662 1083.25,763.137 1091.49,726.097 1099.73,688.702 \n",
       "  1107.97,651.126 1116.22,613.55 1124.46,576.167 1132.7,539.177 1140.94,502.788 1149.19,467.209 1157.43,432.654 1165.67,399.336 1173.91,367.467 1182.16,337.255 \n",
       "  1190.4,308.902 1198.64,282.599 1206.88,258.53 1215.13,236.863 1223.37,217.754 1231.61,201.341 1239.85,187.743 1248.1,177.06 1256.34,169.372 1264.58,164.736 \n",
       "  1272.82,163.187 1281.07,164.736 1289.31,169.372 1297.55,177.06 1305.79,187.743 1314.04,201.341 1322.28,217.754 1330.52,236.863 1338.76,258.53 1347,282.599 \n",
       "  1355.25,308.902 1363.49,337.255 1371.73,367.467 1379.97,399.336 1388.22,432.654 1396.46,467.209 1404.7,502.788 1412.94,539.177 1421.19,576.167 1429.43,613.55 \n",
       "  1437.67,651.126 1445.91,688.702 1454.16,726.097 1462.4,763.137 1470.64,799.662 1478.88,835.524 1487.13,870.589 1495.37,904.736 1503.61,937.859 1511.85,969.867 \n",
       "  1520.1,1000.68 1528.34,1030.24 1536.58,1058.49 1544.82,1085.39 1553.07,1110.93 1561.31,1135.09 1569.55,1157.87 1577.79,1179.27 1586.04,1199.32 1594.28,1218.03 \n",
       "  1602.52,1235.45 1610.76,1251.61 1619,1266.56 1627.25,1280.34 1635.49,1293.01 1643.73,1304.62 1651.97,1315.23 1660.22,1324.89 1668.46,1333.67 1676.7,1341.62 \n",
       "  1684.94,1348.79 1693.19,1355.26 1701.43,1361.06 1709.67,1366.25 1717.91,1370.89 1726.16,1375.01 1734.4,1378.68 1742.64,1381.92 1750.88,1384.78 1759.13,1387.29 \n",
       "  1767.37,1389.5 1775.61,1391.44 1783.85,1393.13 1792.1,1394.59 1800.34,1395.87 1808.58,1396.97 1816.82,1397.93 1825.07,1398.75 1833.31,1399.45 1841.55,1400.05 \n",
       "  1849.79,1400.57 1858.04,1401.01 1866.28,1401.38 1874.52,1401.69 1882.76,1401.96 1891.01,1402.18 1899.25,1402.37 1907.49,1402.53 1915.73,1402.66 1923.97,1402.77 \n",
       "  1932.22,1402.86 1940.46,1402.94 1948.7,1403 1956.94,1403.05 1965.19,1403.1 1973.43,1403.13 1981.67,1403.16 1989.91,1403.18 1998.16,1403.2 2006.4,1403.22 \n",
       "  2014.64,1403.23 2022.88,1403.24 2031.13,1403.25 2039.37,1403.25 2047.61,1403.26 2055.85,1403.26 2064.1,1403.27 2072.34,1403.27 2080.58,1403.27 2088.82,1403.27 \n",
       "  2097.07,1403.28 2105.31,1403.28 2113.55,1403.28 2121.79,1403.28 2130.04,1403.28 2138.28,1403.28 2146.52,1403.28 2154.76,1403.28 2163.01,1403.28 2171.25,1403.28 \n",
       "  2179.49,1403.28 2187.73,1403.28 2195.97,1403.28 2204.22,1403.28 2212.46,1403.28 2220.7,1403.28 2228.94,1403.28 2237.19,1403.28 2245.43,1403.28 2253.67,1403.28 \n",
       "  2261.91,1403.28 \n",
       "  \"/>\n",
       "<polyline clip-path=\"url(#clip3103)\" style=\"stroke:#3da44d; stroke-width:4; stroke-opacity:1; fill:none\" points=\"\n",
       "  283.732,1403.28 291.974,1403.28 300.217,1403.28 308.459,1403.28 316.701,1403.28 324.944,1403.28 333.186,1403.28 341.429,1403.28 349.671,1403.28 357.913,1403.28 \n",
       "  366.156,1403.28 374.398,1403.28 382.641,1403.28 390.883,1403.27 399.126,1403.27 407.368,1403.27 415.61,1403.27 423.853,1403.26 432.095,1403.26 440.338,1403.25 \n",
       "  448.58,1403.25 456.823,1403.24 465.065,1403.23 473.307,1403.21 481.55,1403.2 489.792,1403.17 498.035,1403.15 506.277,1403.12 514.52,1403.07 522.762,1403.02 \n",
       "  531.004,1402.96 539.247,1402.89 547.489,1402.8 555.732,1402.69 563.974,1402.55 572.217,1402.39 580.459,1402.19 588.701,1401.95 596.944,1401.67 605.186,1401.33 \n",
       "  613.429,1400.93 621.671,1400.44 629.914,1399.87 638.156,1399.2 646.398,1398.4 654.641,1397.47 662.883,1396.37 671.126,1395.09 679.368,1393.6 687.611,1391.86 \n",
       "  695.853,1389.85 704.095,1387.53 712.338,1384.86 720.58,1381.8 728.823,1378.29 737.065,1374.29 745.308,1369.74 753.55,1364.59 761.792,1358.76 770.035,1352.2 \n",
       "  778.277,1344.83 786.52,1336.59 794.762,1327.39 803.005,1317.17 811.247,1305.85 819.489,1293.35 827.732,1279.59 835.974,1264.51 844.217,1248.03 852.459,1230.1 \n",
       "  860.702,1210.64 868.944,1189.63 877.186,1167.01 885.429,1142.76 893.671,1116.87 901.914,1089.34 910.156,1060.2 918.399,1029.48 926.641,997.24 934.883,963.574 \n",
       "  943.126,928.59 951.368,892.42 959.611,855.228 967.853,817.203 976.096,778.561 984.338,739.546 992.58,700.43 1000.82,661.509 1009.07,623.104 1017.31,585.56 \n",
       "  1025.55,549.238 1033.79,514.519 1042.04,481.794 1050.28,451.466 1058.52,423.939 1066.76,399.62 1075,378.906 1083.25,362.186 1091.49,349.83 1099.73,342.186 \n",
       "  1107.97,339.573 1116.22,342.275 1124.46,350.537 1132.7,364.558 1140.94,384.489 1149.19,410.426 1157.43,442.409 1165.67,480.416 1173.91,524.364 1182.16,574.107 \n",
       "  1190.4,629.438 1198.64,690.083 1206.88,755.711 1215.13,825.933 1223.37,900.304 1231.61,978.33 1239.85,1059.47 1248.1,1143.16 1256.34,1228.78 1264.58,1315.7 \n",
       "  1272.82,1403.28 1281.07,1315.7 1289.31,1228.78 1297.55,1143.16 1305.79,1059.47 1314.04,978.33 1322.28,900.304 1330.52,825.933 1338.76,755.711 1347,690.083 \n",
       "  1355.25,629.438 1363.49,574.107 1371.73,524.364 1379.97,480.416 1388.22,442.409 1396.46,410.426 1404.7,384.489 1412.94,364.558 1421.19,350.537 1429.43,342.275 \n",
       "  1437.67,339.573 1445.91,342.186 1454.16,349.83 1462.4,362.186 1470.64,378.906 1478.88,399.62 1487.13,423.939 1495.37,451.466 1503.61,481.794 1511.85,514.519 \n",
       "  1520.1,549.238 1528.34,585.56 1536.58,623.104 1544.82,661.509 1553.07,700.43 1561.31,739.546 1569.55,778.561 1577.79,817.203 1586.04,855.228 1594.28,892.42 \n",
       "  1602.52,928.59 1610.76,963.574 1619,997.24 1627.25,1029.48 1635.49,1060.2 1643.73,1089.34 1651.97,1116.87 1660.22,1142.76 1668.46,1167.01 1676.7,1189.63 \n",
       "  1684.94,1210.64 1693.19,1230.1 1701.43,1248.03 1709.67,1264.51 1717.91,1279.59 1726.16,1293.35 1734.4,1305.85 1742.64,1317.17 1750.88,1327.39 1759.13,1336.59 \n",
       "  1767.37,1344.83 1775.61,1352.2 1783.85,1358.76 1792.1,1364.59 1800.34,1369.74 1808.58,1374.29 1816.82,1378.29 1825.07,1381.8 1833.31,1384.86 1841.55,1387.53 \n",
       "  1849.79,1389.85 1858.04,1391.86 1866.28,1393.6 1874.52,1395.09 1882.76,1396.37 1891.01,1397.47 1899.25,1398.4 1907.49,1399.2 1915.73,1399.87 1923.97,1400.44 \n",
       "  1932.22,1400.93 1940.46,1401.33 1948.7,1401.67 1956.94,1401.95 1965.19,1402.19 1973.43,1402.39 1981.67,1402.55 1989.91,1402.69 1998.16,1402.8 2006.4,1402.89 \n",
       "  2014.64,1402.96 2022.88,1403.02 2031.13,1403.07 2039.37,1403.12 2047.61,1403.15 2055.85,1403.17 2064.1,1403.2 2072.34,1403.21 2080.58,1403.23 2088.82,1403.24 \n",
       "  2097.07,1403.25 2105.31,1403.25 2113.55,1403.26 2121.79,1403.26 2130.04,1403.27 2138.28,1403.27 2146.52,1403.27 2154.76,1403.27 2163.01,1403.28 2171.25,1403.28 \n",
       "  2179.49,1403.28 2187.73,1403.28 2195.97,1403.28 2204.22,1403.28 2212.46,1403.28 2220.7,1403.28 2228.94,1403.28 2237.19,1403.28 2245.43,1403.28 2253.67,1403.28 \n",
       "  2261.91,1403.28 \n",
       "  \"/>\n",
       "<polyline clip-path=\"url(#clip3103)\" style=\"stroke:#c271d2; stroke-width:4; stroke-opacity:1; fill:none\" points=\"\n",
       "  283.732,1403.28 291.974,1403.28 300.217,1403.28 308.459,1403.28 316.701,1403.28 324.944,1403.28 333.186,1403.27 341.429,1403.27 349.671,1403.27 357.913,1403.27 \n",
       "  366.156,1403.27 374.398,1403.26 382.641,1403.26 390.883,1403.25 399.126,1403.24 407.368,1403.23 415.61,1403.22 423.853,1403.2 432.095,1403.18 440.338,1403.15 \n",
       "  448.58,1403.12 456.823,1403.08 465.065,1403.03 473.307,1402.96 481.55,1402.89 489.792,1402.79 498.035,1402.68 506.277,1402.53 514.52,1402.36 522.762,1402.15 \n",
       "  531.004,1401.89 539.247,1401.58 547.489,1401.21 555.732,1400.77 563.974,1400.23 572.217,1399.6 580.459,1398.84 588.701,1397.94 596.944,1396.88 605.186,1395.63 \n",
       "  613.429,1394.16 621.671,1392.44 629.914,1390.43 638.156,1388.1 646.398,1385.39 654.641,1382.26 662.883,1378.65 671.126,1374.51 679.368,1369.76 687.611,1364.35 \n",
       "  695.853,1358.2 704.095,1351.24 712.338,1343.37 720.58,1334.52 728.823,1324.6 737.065,1313.53 745.308,1301.2 753.55,1287.54 761.792,1272.45 770.035,1255.86 \n",
       "  778.277,1237.68 786.52,1217.84 794.762,1196.3 803.005,1172.98 811.247,1147.87 819.489,1120.95 827.732,1092.23 835.974,1061.72 844.217,1029.49 852.459,995.617 \n",
       "  860.702,960.216 868.944,923.433 877.186,885.45 885.429,846.487 893.671,806.8 901.914,766.683 910.156,726.471 918.399,686.531 926.641,647.271 934.883,609.129 \n",
       "  943.126,572.572 951.368,538.094 959.611,506.206 967.853,477.437 976.096,452.319 984.338,431.384 992.58,415.156 1000.82,404.137 1009.07,398.804 1017.31,399.594 \n",
       "  1025.55,406.898 1033.79,421.045 1042.04,442.302 1050.28,470.855 1058.52,506.807 1066.76,550.169 1075,600.854 1083.25,658.672 1091.49,723.326 1099.73,794.414 \n",
       "  1107.97,871.426 1116.22,953.749 1124.46,1040.67 1132.7,1131.38 1140.94,1224.99 1149.19,1320.54 1157.43,1389.55 1165.67,1293.25 1173.91,1198.2 1182.16,1105.53 \n",
       "  1190.4,1016.36 1198.64,931.778 1206.88,852.847 1215.13,780.57 1223.37,715.879 1231.61,659.618 1239.85,612.526 1248.1,575.229 1256.34,548.225 1264.58,531.876 \n",
       "  1272.82,526.402 1281.07,531.876 1289.31,548.225 1297.55,575.229 1305.79,612.526 1314.04,659.618 1322.28,715.879 1330.52,780.57 1338.76,852.847 1347,931.778 \n",
       "  1355.25,1016.36 1363.49,1105.53 1371.73,1198.2 1379.97,1293.25 1388.22,1389.55 1396.46,1320.54 1404.7,1224.99 1412.94,1131.38 1421.19,1040.67 1429.43,953.749 \n",
       "  1437.67,871.426 1445.91,794.414 1454.16,723.326 1462.4,658.672 1470.64,600.854 1478.88,550.169 1487.13,506.807 1495.37,470.855 1503.61,442.302 1511.85,421.045 \n",
       "  1520.1,406.898 1528.34,399.594 1536.58,398.804 1544.82,404.137 1553.07,415.156 1561.31,431.384 1569.55,452.319 1577.79,477.437 1586.04,506.206 1594.28,538.094 \n",
       "  1602.52,572.572 1610.76,609.129 1619,647.271 1627.25,686.531 1635.49,726.471 1643.73,766.683 1651.97,806.8 1660.22,846.487 1668.46,885.45 1676.7,923.433 \n",
       "  1684.94,960.216 1693.19,995.617 1701.43,1029.49 1709.67,1061.72 1717.91,1092.23 1726.16,1120.95 1734.4,1147.87 1742.64,1172.98 1750.88,1196.3 1759.13,1217.84 \n",
       "  1767.37,1237.68 1775.61,1255.86 1783.85,1272.45 1792.1,1287.54 1800.34,1301.2 1808.58,1313.53 1816.82,1324.6 1825.07,1334.52 1833.31,1343.37 1841.55,1351.24 \n",
       "  1849.79,1358.2 1858.04,1364.35 1866.28,1369.76 1874.52,1374.51 1882.76,1378.65 1891.01,1382.26 1899.25,1385.39 1907.49,1388.1 1915.73,1390.43 1923.97,1392.44 \n",
       "  1932.22,1394.16 1940.46,1395.63 1948.7,1396.88 1956.94,1397.94 1965.19,1398.84 1973.43,1399.6 1981.67,1400.23 1989.91,1400.77 1998.16,1401.21 2006.4,1401.58 \n",
       "  2014.64,1401.89 2022.88,1402.15 2031.13,1402.36 2039.37,1402.53 2047.61,1402.68 2055.85,1402.79 2064.1,1402.89 2072.34,1402.96 2080.58,1403.03 2088.82,1403.08 \n",
       "  2097.07,1403.12 2105.31,1403.15 2113.55,1403.18 2121.79,1403.2 2130.04,1403.22 2138.28,1403.23 2146.52,1403.24 2154.76,1403.25 2163.01,1403.26 2171.25,1403.26 \n",
       "  2179.49,1403.27 2187.73,1403.27 2195.97,1403.27 2204.22,1403.27 2212.46,1403.27 2220.7,1403.28 2228.94,1403.28 2237.19,1403.28 2245.43,1403.28 2253.67,1403.28 \n",
       "  2261.91,1403.28 \n",
       "  \"/>\n",
       "<polygon clip-path=\"url(#clip3101)\" points=\"\n",
       "1538.42,511.904 2249.26,511.904 2249.26,209.504 1538.42,209.504 \n",
       "  \" fill=\"#ffffff\" fill-rule=\"evenodd\" fill-opacity=\"1\"/>\n",
       "<polyline clip-path=\"url(#clip3101)\" style=\"stroke:#000000; stroke-width:4; stroke-opacity:1; fill:none\" points=\"\n",
       "  1538.42,511.904 2249.26,511.904 2249.26,209.504 1538.42,209.504 1538.42,511.904 \n",
       "  \"/>\n",
       "<polyline clip-path=\"url(#clip3101)\" style=\"stroke:#009af9; stroke-width:4; stroke-opacity:1; fill:none\" points=\"\n",
       "  1562.42,269.984 1706.42,269.984 \n",
       "  \"/>\n",
       "<g clip-path=\"url(#clip3101)\">\n",
       "<text style=\"fill:#000000; fill-opacity:1; font-family:Arial,Helvetica Neue,Helvetica,sans-serif; font-size:48px; text-anchor:start;\" transform=\"rotate(0, 1730.42, 287.484)\" x=\"1730.42\" y=\"287.484\">Starting Wavefunction</text>\n",
       "</g>\n",
       "<polyline clip-path=\"url(#clip3101)\" style=\"stroke:#e26f46; stroke-width:4; stroke-opacity:1; fill:none\" points=\"\n",
       "  1562.42,330.464 1706.42,330.464 \n",
       "  \"/>\n",
       "<g clip-path=\"url(#clip3101)\">\n",
       "<text style=\"fill:#000000; fill-opacity:1; font-family:Arial,Helvetica Neue,Helvetica,sans-serif; font-size:48px; text-anchor:start;\" transform=\"rotate(0, 1730.42, 347.964)\" x=\"1730.42\" y=\"347.964\">Analytic Ground State</text>\n",
       "</g>\n",
       "<polyline clip-path=\"url(#clip3101)\" style=\"stroke:#3da44d; stroke-width:4; stroke-opacity:1; fill:none\" points=\"\n",
       "  1562.42,390.944 1706.42,390.944 \n",
       "  \"/>\n",
       "<g clip-path=\"url(#clip3101)\">\n",
       "<text style=\"fill:#000000; fill-opacity:1; font-family:Arial,Helvetica Neue,Helvetica,sans-serif; font-size:48px; text-anchor:start;\" transform=\"rotate(0, 1730.42, 408.444)\" x=\"1730.42\" y=\"408.444\">First Excited</text>\n",
       "</g>\n",
       "<polyline clip-path=\"url(#clip3101)\" style=\"stroke:#c271d2; stroke-width:4; stroke-opacity:1; fill:none\" points=\"\n",
       "  1562.42,451.424 1706.42,451.424 \n",
       "  \"/>\n",
       "<g clip-path=\"url(#clip3101)\">\n",
       "<text style=\"fill:#000000; fill-opacity:1; font-family:Arial,Helvetica Neue,Helvetica,sans-serif; font-size:48px; text-anchor:start;\" transform=\"rotate(0, 1730.42, 468.924)\" x=\"1730.42\" y=\"468.924\">Second Excited</text>\n",
       "</g>\n",
       "</svg>\n"
      ]
     },
     "execution_count": 6,
     "metadata": {},
     "output_type": "execute_result"
    }
   ],
   "source": [
    "Ψ0=(1.0/(2*xmax))*ones(Complex{Float64},N);\n",
    "Ψtrue=(1+0*im).*ϕ.(x);\n",
    "fΨtrue=fft(Ψtrue);\n",
    "Ψ1=(1+0*im).*ϕ1.(x);\n",
    "Ψ2=(1+0*im).*ϕ2.(x);\n",
    "Ψ4=(1+0*im).*ϕ4.(x);\n",
    "\n",
    "plot(x,abs.(Ψ0),label=\"Starting Wavefunction\")\n",
    "plot!(x,abs.(Ψtrue),label=\"Analytic Ground State\")\n",
    "plot!(x,abs.(Ψ1),label=\"First Excited\")\n",
    "plot!(x,abs.(Ψ2),label=\"Second Excited\")\n",
    "\n",
    "\n",
    "plot!(xlabel=\"x\",ylabel=\"Absolute Value\",title=\"Wavefunctions\")"
   ]
  },
  {
   "cell_type": "markdown",
   "metadata": {},
   "source": [
    "###  Planning and Initializing"
   ]
  },
  {
   "cell_type": "code",
   "execution_count": 7,
   "metadata": {},
   "outputs": [],
   "source": [
    "## If you are doing lots of fft's, plan them before for optimization!\n",
    "ft=plan_fft(Ψ0);\n",
    "Ψf=ft*Ψ0;\n",
    "ift=plan_ifft(Ψf);"
   ]
  },
  {
   "cell_type": "code",
   "execution_count": 8,
   "metadata": {},
   "outputs": [],
   "source": [
    "nmeas=1\n",
    "lmeas=floor(Int, nt/nmeas)\n",
    "\n",
    "Ex=zeros(Float64,lmeas);\n",
    "Ek=zeros(Float64,lmeas);\n",
    "E=zeros(Float64,lmeas);\n",
    "E2=zeros(Float64,lmeas);\n",
    "\n",
    "c=zeros(Float64,lmeas);\n",
    "c1=zeros(Float64,lmeas);\n",
    "c2=zeros(Float64,lmeas);\n",
    "c4=zeros(Float64,lmeas);"
   ]
  },
  {
   "cell_type": "markdown",
   "metadata": {
    "scrolled": true
   },
   "source": [
    "## The Code Body\n",
    "\n",
    "Now we finally get to run the body of the code.  If you look back over the Split Operator Method Post, you will see almost identical code, as I am doing virtually the same thing.  I am only using different evolution operators and measuring different quantities."
   ]
  },
  {
   "cell_type": "code",
   "execution_count": 9,
   "metadata": {},
   "outputs": [],
   "source": [
    "Ψ0=(1.0/(2*xmax))*ones(Complex{Float64},N);\n",
    "Ψ=copy(Ψ0);\n",
    "jj=1\n",
    "\n",
    "# The operators we have to start off with\n",
    "Ψ=Ψ.*Uxh\n",
    "\n",
    "Psif=(ft*Ψ)*dx\n",
    "Psif=Psif.*Uf    \n",
    "Ψ=(ift*Psif)*(dk/2π)\n",
    "\n",
    "for ii in 1:nt\n",
    "    \n",
    "    Ψ=Ψ.*Ux\n",
    "    \n",
    "    \n",
    "    Psif=(ft*Ψ)*dx\n",
    "    Psif=Psif.*Uf \n",
    "    \n",
    "    Ψ=(ift*Psif)*(dk/2π)   \n",
    "    nn=sum(conj(Ψ).*Ψ)*dx\n",
    "    Ψ=1/sqrt(nn)*Ψ\n",
    "    \n",
    "    if ii%nmeas == 0\n",
    "        # Every time we measure, we have to finish with a U_x half time step\n",
    "        Ψt=Ψ.*Uxh\n",
    "        Ψft=(ft*Ψt)*dx\n",
    "    \n",
    "        Ex[jj]=real(sum(conj(Ψt).*Vx.*Ψt))*dx\n",
    "        \n",
    "        Ek[jj]=real(sum(conj(Ψft).*Vk.*Ψft))*(dk/2π)\n",
    "    \n",
    "        E[jj]=Ex[jj]+Ek[jj]\n",
    "        \n",
    "        c[jj]=abs(sum( conj(Ψt).* Ψtrue)) *dx\n",
    "        c1[jj]=abs(sum( conj(Ψt).* Ψ1)) *dx\n",
    "        c2[jj]=abs(sum( conj(Ψt).* Ψ2)) *dx\n",
    "        c4[jj]=abs(sum( conj(Ψt).* Ψ4)) *dx\n",
    "        \n",
    "        jj+=1\n",
    "    end\n",
    "end    \n",
    "\n",
    "\n",
    "Ψ=Ψ.*Uxh;\n",
    "fΨ=ft*Ψ;"
   ]
  },
  {
   "cell_type": "markdown",
   "metadata": {},
   "source": [
    "## Results\n",
    "\n",
    "In this next section, we examine the results that we calculated above, making sure they agree with our analytical predictions.  \n",
    "\n",
    "The first two pictures show how the final wavefunction after imaginary time evolution agrees with the ground state for the Quantum Harmonic Oscillator, both in position and momentum space.  "
   ]
  },
  {
   "cell_type": "code",
   "execution_count": 14,
   "metadata": {},
   "outputs": [],
   "source": [
    "plot(x,abs.(Ψ),linewidth=10, label=\"Final\")\n",
    "plot!(x,abs.(Ψtrue), linewidth=5,label=\"Analytic\")\n",
    "\n",
    "plot!(xlabel=\"x\",ylabel=\"Absolute Value\",title=\"Wavefunction\")\n",
    "savefig(\"wavefunc.png\")"
   ]
  },
  {
   "cell_type": "code",
   "execution_count": 15,
   "metadata": {},
   "outputs": [],
   "source": [
    "plot(fftshift(k),abs.(fftshift(fΨ)),linewidth=10,label=\"Final\")\n",
    "plot!(fftshift(k),abs.(fftshift(fΨtrue)), linewidth=5,label=\"Analytic\")\n",
    "\n",
    "plot!(xlabel=\"k\",ylabel=\"Absolute Value\",title=\"Fourier Transform of Wavefunction\")\n",
    "savefig(\"wavefunc_F.png\")"
   ]
  },
  {
   "cell_type": "markdown",
   "metadata": {},
   "source": [
    "The Energy of the system converges to $1/2 \\hbar \\omega$, which in this case is just 1/2.  The potential and kinetic energy each contribute to half of the total energy."
   ]
  },
  {
   "cell_type": "code",
   "execution_count": 16,
   "metadata": {},
   "outputs": [],
   "source": [
    "plot(E,label=\" Total Energy\")\n",
    "plot!(Ex,label=\"Potential\")\n",
    "plot!(Ek,label=\"Kinetic\")\n",
    "hline!([1/2],label=\"1/2\")\n",
    "\n",
    "plot!(xlabel=\"Steps\",ylabel=\"Energy\",title=\"Convergence of Energy\")\n",
    "savefig(\"Energy.png\")"
   ]
  },
  {
   "cell_type": "markdown",
   "metadata": {},
   "source": [
    "Here we look at how the state converges to the ground state by dissipating out higher energy states.  \n",
    "\n",
    "We start with an even ground state, so any odd eigenstates will have no occupation in the beginning. As the state evolves, the odd eigenstates will never have any occupation, as that quantity can't climb from zero.  That's why the 1st excited state remains zero for all steps.  This highlights the importance of a good first guess, though numerical error might save the day if the ground state wasn't present in our starting state.\n",
    "\n",
    "The higher the energy of the state, the faster it will decay.  We even see that the Second Excited State increases in occupation for a short while in the beginning as the higher energy states rapidly disappear.  "
   ]
  },
  {
   "cell_type": "code",
   "execution_count": 17,
   "metadata": {},
   "outputs": [],
   "source": [
    "plot(c,label=\"Ground State\")\n",
    "plot!(c1,label=\"First Excited\")\n",
    "plot!(c2,label=\"Second Excited\")\n",
    "plot!(c4,label=\"Fourth Excited\")\n",
    "\n",
    "plot!(xlabel=\"Steps\",ylabel=\"Occupation of State\",title=\"Occupation of Eigenstates\")\n",
    "savefig(\"occupation.png\")"
   ]
  },
  {
   "cell_type": "markdown",
   "metadata": {},
   "source": [
    "## Points of Clarification\n",
    "\n",
    "* This algorithm will fall prey to <b>degeneracies</b>.  If you have two or more ground states, or states extremely close together, this algorithm will fail to distinguish between them or let you know they exist.  If you start in a different starting state, you may end in a different superposition.\n",
    "* Make sure to store your wavefunction as double precision Float64\n",
    "\n",
    "A big thank you to Lee O'Riordan for his expertise. Check out his Github repository [@mlxd](https://github.com/mlxd), his project [GPUE](https://github.com/GPUE-group/GPUE) solving for the evolution of rapidly rotating Bose-Einstein condensates, or his thesis on that topic ([Non-equilibrium vortex dynamics in rapidly rotating Bose-Einstein condensates](https://ci.nii.ac.jp/naid/500001054902/?l=en)).\n",
    "\n",
    "## Bibliography\n",
    "\n",
    "Bader, Philipp, Sergio Blanes, and Fernando Casas. \"Solving the Schrödinger eigenvalue problem by the imaginary time propagation technique using splitting methods with complex coefficients.\" The Journal of chemical physics 139.12 (2013): 124117.\n",
    "\n",
    "O'Riordan, Lee James. Non-equilibrium vortex dynamics in rapidly rotating Bose-Einstein condensates. Diss. Okinawa Institute of Science and Technology Graduate University, 2017."
   ]
  },
  {
   "cell_type": "code",
   "execution_count": null,
   "metadata": {},
   "outputs": [],
   "source": []
  }
 ],
 "metadata": {
  "@webio": {
   "lastCommId": "c7f19df8b72d42a48e65b62b9bec6d8d",
   "lastKernelId": "2a2634ed-a750-4118-91a4-2cf4b0c2d05e"
  },
  "kernelspec": {
   "display_name": "Julia 1.0.1",
   "language": "julia",
   "name": "julia-1.0"
  },
  "language_info": {
   "file_extension": ".jl",
   "mimetype": "application/julia",
   "name": "julia",
   "version": "1.0.1"
  }
 },
 "nbformat": 4,
 "nbformat_minor": 2
}
