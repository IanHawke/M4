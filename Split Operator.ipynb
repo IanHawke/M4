{
 "cells": [
  {
   "cell_type": "markdown",
   "metadata": {},
   "source": [
    "# Split Operator Method\n",
    "\n",
    "### Category: Prerequisites\n",
    "\n",
    "### Prerequisites: Quantum Mechanics\n",
    "\n",
    "When cleaning my apartment, sometimes I just grab the nearest dirty thing to me and try to do something to it.  But that is not the most efficient way to get things done.  If I'm planning, I'll first dedicate my attention to one problem, like putting clothing away, then rotate my attention to something else, like dirty dishes.  I can keep focused on just one task and do it well.  Each problem I solve optimally in shorter intervals instead of tackling everything at once.  \n",
    "\n",
    "That same principle applies to solving partial differential equations.  [1] called this principle one of the big ideas of numerical computation.  In numerics, we call it <b>Strang splitting</b>.  \n",
    "\n",
    "We will be applying Strang splitting to solve the Schrondinger equation, but people use the same idea to a variety of problems, like ones with different timescales, length scales, or physical processes.  We will be using it to seperate out terms diagonal in position space from terms diagonal in momentum space.  \n",
    "\n",
    "We can describe a class of general partial differential equations by\n",
    "\\begin{equation}\n",
    "\\frac{\\partial}{\\partial t}y = L_1(y,t)+L_2(y,t)\n",
    "\\end{equation}\n",
    "Over a small time step,\n",
    "\\begin{equation}\n",
    "y(\\delta t)= e^{L_1(y,0) \\delta t+L_2(y,0) \\delta t}y(0)\n",
    "\\end{equation}\n",
    "For <b>Strang splitting</b>, instead of applying both operators together, we break them up into two.  I'll discuss non-commutivity later.\n",
    "\\begin{equation}\n",
    "y(\\delta t)= e^{L_1 (y,0) \\delta t} e^{L_2(y,0) \\delta t} y(0) = U_1 U_2 y(0)\n",
    "\\end{equation}\n",
    "$U_1$ and $U_2$ are evolution operators. We can define\n",
    "\\begin{equation}\n",
    "\\tilde{y(0)}= U_2 y(0)\n",
    "\\end{equation}\n",
    "so that \n",
    "\\begin{equation}\n",
    "y (\\delta t) = U_1 \\tilde{y}(0)\n",
    "\\end{equation}\n",
    "\n",
    "### Applying to Quantum Mechanics\n",
    "Now let's take a look at the Schrodinger Equation:\n",
    "\\begin{equation}\n",
    "i \\hbar \\frac{\\partial}{\\partial t} | \\Psi \\rangle = \\mathcal{H} | \\Psi \\rangle \n",
    "=\n",
    "\\left[ \\frac{\\hat{p}^2}{2m} + V(x) \\right] | \\Psi \\rangle\n",
    "=\n",
    "\\left[ \\mathcal{H}_p + \\mathcal{H}_x \\right] | \\Psi \\rangle\n",
    "\\end{equation}\n",
    "We can already see how to separate the Hamiltonian.  For ease, let's define our unitary evolution operators,\n",
    "\\begin{equation}\n",
    "U_p(\\delta t)=e^{-\\frac{i}{\\hbar}\\mathcal{H}_p \\delta t} \n",
    "\\;\\;\\;\\;\\;\n",
    "U_x (\\delta t)= e^{-\\frac{i}{\\hbar}\\mathcal{H}_x \\delta t}\n",
    "\\end{equation}\n",
    "\n",
    "I mentioned earlier that I would discuss non-communitvity.  We need to do that now.  We can't simply seperate the evolution operator for the full Hamiltonian into two parts, because we would introduce terms proportional to the commutator.  \n",
    "\\begin{equation}\n",
    "e^{A+B}=e^{A}e^{B}e^{[A,B]}\n",
    "\\end{equation}\n",
    "$e^{A+B}$ expanded has terms that look like $AB$ <b>and</b> $BA$, whereas $e^{A}e^{B}$ only has terms that look like $AB$.  We lose the symmetry of the expression.  We can gain back an order of accuracy by symmetrizing our formula, calculating a time step by\n",
    "\\begin{equation}\n",
    "|\\Psi (\\delta t) \\rangle =\n",
    "U_x (\\delta t/2) U_p (\\delta t) U_x (\\delta t/2)\n",
    "\\end{equation}\n",
    "But the next step will the start with $U_x (\\delta t/2)$ !\n",
    "\n",
    "\\begin{equation}\n",
    "|\\Psi (2 \\delta t) \\rangle = \\left(\n",
    "U_x (\\frac{\\delta t}{2}) U_p (\\delta t) U_x (\\frac{\\delta t}{2})\\right)\\left( U_x (\\frac{\\delta t}{2}) U_p (\\delta t) U_x (\\frac{\\delta t}{2}) \\right)\n",
    "\\end{equation}\n",
    "\\begin{equation}\n",
    "= U_x (\\frac{\\delta t}{2}) U_p (\\delta t) U_x (\\delta t)  U_p (\\delta t) U_x (\\frac{\\delta t}{2})\n",
    "\\end{equation}\n",
    "\n",
    "All we need to do to add an order of accuracy is start the simulation with $U_x(\\delta t/2)$ and end it with $U_x(\\delta t/2)$, leaving everything else the same.  Pretty remarkable you can get that much of an improvement for that little work. \n",
    "\n",
    "\n",
    "In the spatial domain, the momentum operator involves derivatives and is rather icky.  But in the momentum domain, we only have to multiply by $k^2/2m$.  Thanks to some nicely optimized libraries, we can just transform into the momentum domain with `fft`, solve the momentum problem there, and transform back with `ifft`. "
   ]
  },
  {
   "cell_type": "markdown",
   "metadata": {},
   "source": [
    "## Rabi Oscillations\n",
    "\n",
    "I will demonstrate time evolution by looking at Rabi Oscillations between two harmonic wells.  Quantum wavefuctions can tunnel, so if we have two equal valleys, the wavefunction will tunnel back and forth between the two. \n",
    "\n",
    "The tunneling from left to right is the negative of the overlap from right to left.  To see why this is, let's look at the intergrals:\n",
    "\\begin{equation}\n",
    "\\langle \\Psi_l | \\Psi_r \\rangle = \\delta(x' - x) \\langle \\Psi_l | x' \\rangle \\langle x | \\Psi_r \\rangle \n",
    "\\end{equation}\n",
    "\n",
    "\\begin{equation}\n",
    "=\\int \\int \\Psi_l (x') \\Psi_r (x) \\delta (x'-x) dx dx' = \\int \\int \\Psi_l (x+u) \\Psi_r (x) \\delta(u) dx du \n",
    "\\end{equation}\n",
    "\\begin{equation}\n",
    "=\\int \\Psi_l (x) \\Psi_r (x) dx = \\epsilon\n",
    "\\end{equation}\n",
    "When we exchange left and right\n",
    "\\begin{equation}\n",
    "\\langle \\Psi_r | \\Psi_l \\rangle \n",
    "= \\int \\int \\Psi_l (x') \\Psi_r (x) \\delta (x-x') dx dx' = \\int \\int \\Psi_l (x+u) \\Psi_r (x) \\delta (-u) dx du \n",
    "\\end{equation}\n",
    "\\begin{equation}\n",
    "= -\\int \\Psi_l (x) \\Psi_R (x) dx = -\\epsilon\n",
    "\\end{equation}\n",
    "\n",
    "\n",
    "\n",
    "To get an idea of what will happen, we will use a qualitative model of two states weakly coupled to each other by a parameter $\\epsilon$.  If we have the two minima sufficifiently seperated from each other, the tunneling will happen slowly and will not significantly affect the shape of the eigenfunctions\n",
    "\\begin{equation}i \\hbar \\frac{\\partial}{\\partial t}\n",
    "\\begin{bmatrix}\n",
    "| \\Psi_r \\rangle  \\\\\n",
    "| \\Psi_l \\rangle \n",
    "\\end{bmatrix}\n",
    "= \\begin{bmatrix}\n",
    "E_0  & \\epsilon \\\\ \n",
    "-ϵ & E_0 \\\\\n",
    "\\end{bmatrix}\n",
    "\\begin{bmatrix}\n",
    "| \\Psi_r \\rangle \\\\\n",
    "| \\Psi_l \\rangle\n",
    "\\end{bmatrix}\n",
    "\\end{equation}\n",
    "To analyze this, we solve for the eigenvalues,\n",
    "\\begin{equation}\n",
    "\\lambda^2 - 2 E_0 \\lambda + E_0^2 + \\epsilon^2 = 0 \n",
    "\\end{equation}\n",
    "\n",
    "\\begin{equation}\n",
    "\\lambda = E_0 \\pm \\sqrt{E_0^2 -  \\left(E_0^2 + \\epsilon^2 \\right)}\n",
    "\\end{equation}\n",
    "\\begin{equation}\n",
    "\\lambda = E_0 \\pm i \\epsilon\n",
    "\\end{equation}\n",
    "\n",
    "\\begin{equation}\n",
    "\\vec{v}_{1} = \\begin{bmatrix}\n",
    "| \\Psi_r \\rangle \\\\\n",
    "i |\\Psi_l \\rangle \n",
    "\\end{bmatrix}\n",
    "\\;\\;\\;\\;\\;\n",
    "\\vec{v}_2 = \\begin{bmatrix}\n",
    "| \\Psi_r \\rangle \\\\\n",
    "-i |\\Psi_l \\rangle\n",
    "\\end{bmatrix}\n",
    "\\end{equation}\n",
    "\n",
    "\\begin{equation}\n",
    "e^{- \\frac{i}{\\hbar} E_0 t} \\left( e^{-\\frac{i}{\\hbar}\\sqrt{E_0 \\epsilon} t} + e^{\\frac{i}{\\hbar} \\sqrt{E_0 \\epsilon} t} \\right) \n",
    "\\begin{bmatrix}\n",
    "| \\Psi_r \\rangle \\\\\n",
    "| \\Psi_l \\rangle\n",
    "\\end{bmatrix}\n",
    "= 2 e^{- \\frac{i}{\\hbar} E_0 t} \\cos \\frac{ \\sqrt{E_0 \\epsilon} t}{\\hbar} \\begin{bmatrix}\n",
    "| \\Psi_r \\rangle \\\\\n",
    "| \\Psi_l \\rangle\n",
    "\\end{bmatrix}\n",
    "\\end{equation}\n",
    "The eigenfunction on this phenomological model has the standard cycling of the wavefunction, but it also cycles back and forth between the two different sides.  "
   ]
  },
  {
   "cell_type": "code",
   "execution_count": 6,
   "metadata": {
    "collapsed": false
   },
   "outputs": [
    {
     "name": "stderr",
     "output_type": "stream",
     "text": [
      "\u001b[1m\u001b[34mINFO: Updating METADATA...\n",
      "\u001b[0m\u001b[1m\u001b[34mINFO: Updating cache of DataFrames...\n",
      "\u001b[0m\u001b[1m\u001b[34mINFO: Updating cache of DataFrames...\n",
      "\u001b[0m\u001b[1m\u001b[34mINFO: Computing changes...\n",
      "\u001b[0m\u001b[1m\u001b[34mINFO: No packages to install, update or remove\n",
      "\u001b[0m\u001b[1m\u001b[34mINFO: Precompiling module URIParser.\n",
      "\u001b[0m\u001b[1m\u001b[31mWARNING: Module Compat with uuid 4805968457284 is missing from the cache.\n",
      "This may mean module Compat does not support precompilation but is imported by a module that does.\u001b[0m\n",
      "\u001b[1m\u001b[31mERROR: LoadError: Declaring __precompile__(false) is not allowed in files that are being precompiled.\n",
      " in require(::Symbol) at .\\loading.jl:385\n",
      " in include_from_node1(::String) at .\\loading.jl:488\n",
      " in macro expansion; at .\\none:2 [inlined]\n",
      " in anonymous at .\\<missing>:?\n",
      " in eval(::Module, ::Any) at .\\boot.jl:234\n",
      " in process_options(::Base.JLOptions) at .\\client.jl:242\n",
      " in _start() at .\\client.jl:321\n",
      "while loading C:\\Users\\chris\\.julia\\v0.5\\URIParser\\src\\URIParser.jl, in expression starting on line 10\n",
      "\u001b[0m"
     ]
    },
    {
     "ename": "LoadError",
     "evalue": "Failed to precompile URIParser to C:\\Users\\chris\\.julia\\lib\\v0.5\\URIParser.ji.",
     "output_type": "error",
     "traceback": [
      "Failed to precompile URIParser to C:\\Users\\chris\\.julia\\lib\\v0.5\\URIParser.ji.",
      "",
      " in compilecache(::String) at .\\loading.jl:593",
      " in require(::Symbol) at .\\loading.jl:422",
      " in _include_from_serialized(::String) at .\\loading.jl:150",
      " in _require_from_serialized(::Int64, ::Symbol, ::String, ::Bool) at .\\loading.jl:187",
      " in _require_search_from_serialized(::Int64, ::Symbol, ::String, ::Bool) at .\\loading.jl:217",
      " in require(::Symbol) at .\\loading.jl:371",
      " in _include_from_serialized(::String) at .\\loading.jl:150",
      " in _require_from_serialized(::Int64, ::Symbol, ::String, ::Bool) at .\\loading.jl:187",
      " in _require_search_from_serialized(::Int64, ::Symbol, ::String, ::Bool) at .\\loading.jl:217",
      " in require(::Symbol) at .\\loading.jl:371"
     ]
    }
   ],
   "source": [
    "Pkg.update()\n",
    "using PyPlot"
   ]
  },
  {
   "cell_type": "markdown",
   "metadata": {},
   "source": [
    "## Input Parameters"
   ]
  },
  {
   "cell_type": "code",
   "execution_count": 7,
   "metadata": {
    "collapsed": false
   },
   "outputs": [],
   "source": [
    "# Set Time Parameters\n",
    "t0=0\n",
    "tf=40000\n",
    "dt=.1\n",
    "\n",
    "# Set Space Grid Parameters\n",
    "dx=.1 \n",
    "xmax=8\n",
    "\n",
    "# How far seperated are the potential minima\n",
    "seperation=6;\n",
    "\n",
    "# How often we measure occupation and view the state\n",
    "nmeasure=1000;"
   ]
  },
  {
   "cell_type": "markdown",
   "metadata": {},
   "source": [
    "## Automatic Evaluation Parameters\n",
    "\n",
    "Given the parameters above, we can calculate the following variables that we will use in the code.\n",
    "\n",
    "Note: `k` Gave me a bit of a headache. The algorithm depends quite a bit on the conventions `fft` decides to use ;("
   ]
  },
  {
   "cell_type": "code",
   "execution_count": 4,
   "metadata": {
    "collapsed": true
   },
   "outputs": [],
   "source": [
    "t=collect(t0:dt:tf)\n",
    "x=collect(-xmax:dx:xmax)\n",
    "\n",
    "nt=length(t)\n",
    "N=length(x)\n",
    "\n",
    "k = [ collect(0:((N-1)/2)) ; collect(-(N-1)/2:-1) ] *2*π/(N*dx);\n",
    "\n",
    "occupation=zeros(Complex{Float64},floor(Int,nt/nmeasure),2);"
   ]
  },
  {
   "cell_type": "markdown",
   "metadata": {},
   "source": [
    "## The Potentials and Evolution Operators"
   ]
  },
  {
   "cell_type": "code",
   "execution_count": 5,
   "metadata": {
    "collapsed": false
   },
   "outputs": [
    {
     "data": {
      "text/plain": [
       "\"potentials and evolvers defined\""
      ]
     },
     "execution_count": 5,
     "metadata": {},
     "output_type": "execute_result"
    }
   ],
   "source": [
    "Vx=.5*(abs(x)-seperation/2).^2;\n",
    "Vk=k.^2/2\n",
    "\n",
    "Ux=exp(-im*Vx*dt/2);\n",
    "Uf=exp(-im*Vk*dt);\n",
    "\"potentials and evolvers defined\""
   ]
  },
  {
   "cell_type": "code",
   "execution_count": 1,
   "metadata": {
    "collapsed": false
   },
   "outputs": [
    {
     "ename": "LoadError",
     "evalue": "UndefVarError: plot not defined",
     "output_type": "error",
     "traceback": [
      "UndefVarError: plot not defined",
      ""
     ]
    }
   ],
   "source": [
    "plot(x, Vx)"
   ]
  },
  {
   "cell_type": "markdown",
   "metadata": {},
   "source": [
    "## The Unperturbed Wavefunctions\n",
    "\n",
    "The ground state for a harmonic oscillator is a Gaussian\n",
    "\\begin{equation}\n",
    "\\langle x | \\Psi \\rangle= \\Psi (x) = \\frac{1}{\\pi^{1/4}} e^{-\\frac{x^2}{2}}\n",
    "\\end{equation}\n",
    "We assume $\\omega = \\hbar = m = 1$ for sake of convenience.\n"
   ]
  },
  {
   "cell_type": "code",
   "execution_count": 3,
   "metadata": {
    "collapsed": false
   },
   "outputs": [
    {
     "data": {
      "text/plain": [
       "Ψ (generic function with 1 method)"
      ]
     },
     "execution_count": 3,
     "metadata": {},
     "output_type": "execute_result"
    }
   ],
   "source": [
    "Ψ(x)=π^(-.25)*exp(-x.^2/2)"
   ]
  },
  {
   "cell_type": "code",
   "execution_count": 6,
   "metadata": {
    "collapsed": false
   },
   "outputs": [],
   "source": [
    "Ψ1=Ψ(x+seperation/2);\n",
    "Ψ2=Ψ(x-seperation/2);\n",
    "Psi0=convert(Array{Complex{Float64},1},Ψ1);"
   ]
  },
  {
   "cell_type": "code",
   "execution_count": null,
   "metadata": {
    "collapsed": false
   },
   "outputs": [],
   "source": []
  },
  {
   "cell_type": "code",
   "execution_count": 8,
   "metadata": {
    "collapsed": false
   },
   "outputs": [],
   "source": []
  },
  {
   "cell_type": "code",
   "execution_count": 9,
   "metadata": {
    "collapsed": false
   },
   "outputs": [],
   "source": [
    "p=plan_fft(Psi);\n",
    "Psif=p*Psi;\n",
    "pf=plan_ifft(Psif);"
   ]
  },
  {
   "cell_type": "code",
   "execution_count": 10,
   "metadata": {
    "collapsed": false
   },
   "outputs": [],
   "source": [
    "Psi=Psi0\n",
    "jj=1\n",
    "for ii in 1:nt\n",
    "    \n",
    "    Psi=Psi.*Ux\n",
    "    Psif=p*Psi\n",
    "    Psif=Psif.*Uf    \n",
    "    Psi=pf*Psif\n",
    "    Psi=Psi.*Ux\n",
    "    \n",
    "    if ii%1000 == 0\n",
    "        overlap[jj,1]=sum(conj(Psi).*Ψ1)*dx\n",
    "        overlap[jj,2]=sum(conj(Psi).*Ψ2)*dx\n",
    "    \n",
    "        clf()\n",
    "        plot(x[21:141],Vx[21:141]/6,color=\".75\")\n",
    "        plot(x,abs(conj(Psi).*Psi))\n",
    "        now=jj\n",
    "        title(\"Wavefunction evolving in double well  \\n t: $now\")\n",
    "        xlabel(\"X\")\n",
    "        ylabel(\"Probability Density\")\n",
    "        xticks([-3,0,3])\n",
    "        yticks([0,.4,.8])\n",
    "        savefig(\"DoubleWell/img_$now.png\")\n",
    "        \n",
    "        jj+=1\n",
    "    end\n",
    "\n",
    "end"
   ]
  },
  {
   "cell_type": "code",
   "execution_count": 23,
   "metadata": {
    "collapsed": false
   },
   "outputs": [
    {
     "data": {
      "image/png": "[encoded data removed]",
      "text/plain": [
       "PyPlot.Figure(PyObject <matplotlib.figure.Figure object at 0x000000001ED8C390>)"
      ]
     },
     "metadata": {},
     "output_type": "display_data"
    },
    {
     "data": {
      "text/plain": [
       "PyObject <matplotlib.text.Text object at 0x0000000027474F60>"
      ]
     },
     "execution_count": 23,
     "metadata": {},
     "output_type": "execute_result"
    }
   ],
   "source": [
    "pygui(false)\n",
    "plot(abs(overlap[:,1]).^2,label=\"Left Well\")\n",
    "plot(abs(overlap[:,2]).^2,label=\"Right Well\")\n",
    "xlabel(\"Time step\")\n",
    "ylabel(\"State Occupation\")\n",
    "legend(loc=\"upper right\",framealpha=1)\n",
    "title(\"Double Well QHO through Split Operator\")"
   ]
  },
  {
   "cell_type": "markdown",
   "metadata": {
    "collapsed": false
   },
   "source": [
    "![gif](Images/SplitOperator/doublewell.gif)"
   ]
  },
  {
   "cell_type": "code",
   "execution_count": null,
   "metadata": {
    "collapsed": false
   },
   "outputs": [],
   "source": []
  },
  {
   "cell_type": "code",
   "execution_count": null,
   "metadata": {
    "collapsed": false
   },
   "outputs": [],
   "source": []
  },
  {
   "cell_type": "code",
   "execution_count": null,
   "metadata": {
    "collapsed": false
   },
   "outputs": [],
   "source": []
  },
  {
   "cell_type": "code",
   "execution_count": null,
   "metadata": {
    "collapsed": false
   },
   "outputs": [],
   "source": []
  },
  {
   "cell_type": "code",
   "execution_count": null,
   "metadata": {
    "collapsed": false
   },
   "outputs": [],
   "source": []
  },
  {
   "cell_type": "code",
   "execution_count": null,
   "metadata": {
    "collapsed": false
   },
   "outputs": [],
   "source": []
  },
  {
   "cell_type": "markdown",
   "metadata": {
    "collapsed": true
   },
   "source": [
    "@Inbook{MacNamara2016,\n",
    "author=\"MacNamara, Shev\n",
    "and Strang, Gilbert\",\n",
    "editor=\"Glowinski, Roland\n",
    "and Osher, Stanley J.\n",
    "and Yin, Wotao\",\n",
    "title=\"Operator Splitting\",\n",
    "bookTitle=\"Splitting Methods in Communication, Imaging, Science, and Engineering\",\n",
    "year=\"2016\",\n",
    "publisher=\"Springer International Publishing\",\n",
    "address=\"Cham\",\n",
    "pages=\"95--114\",\n",
    "isbn=\"978-3-319-41589-5\",\n",
    "doi=\"10.1007/978-3-319-41589-5_3\",\n",
    "url=\"http://dx.doi.org/10.1007/978-3-319-41589-5_3\"\n",
    "}"
   ]
  }
 ],
 "metadata": {
  "anaconda-cloud": {},
  "kernelspec": {
   "display_name": "Julia 0.5.1",
   "language": "julia",
   "name": "julia-0.5"
  },
  "language_info": {
   "file_extension": ".jl",
   "mimetype": "application/julia",
   "name": "julia",
   "version": "0.5.1"
  }
 },
 "nbformat": 4,
 "nbformat_minor": 2
}
