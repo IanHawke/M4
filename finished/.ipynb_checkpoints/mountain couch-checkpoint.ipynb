{
 "cells": [
  {
   "cell_type": "markdown",
   "metadata": {},
   "source": [
    "<img src=\"Ferromagnet/couch1.JPG\" width=\"200px\" />\n",
    "Here I am performing a low temperature search of a couch store.  I found a minimum, and even though I got stuck there, I thoroughly got to know what that minimum had to offer.\n",
    "\n",
    "<img src=\"Ferromagnet/mountain.jpg\" width=\"200px\" />\n",
    "In this picture, on the other hand, I'm performing a high temperature search of the Alexander Hills, Death Valley, California in pursuit of Neoproterzoic carbonates and dimictites.  I needed to be able to explore a lot more of the environment.  \n",
    "\n",
    "While in a physical system like a magnet, temperature has a physical meaning, we can create other types of situations, like optimization, approximating a probability distribution, where how stuck we are to a particular minimum.  This intuition also plays a role in interpreting the results of of our simulation.  "
   ]
  },
  {
   "cell_type": "code",
   "execution_count": null,
   "metadata": {
    "collapsed": true
   },
   "outputs": [],
   "source": []
  }
 ],
 "metadata": {
  "kernelspec": {
   "display_name": "Julia 0.4.1",
   "language": "julia",
   "name": "julia-0.4"
  },
  "language_info": {
   "file_extension": ".jl",
   "mimetype": "application/julia",
   "name": "julia",
   "version": "0.4.1"
  }
 },
 "nbformat": 4,
 "nbformat_minor": 0
}
