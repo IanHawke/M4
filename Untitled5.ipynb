{
 "cells": [
  {
   "cell_type": "code",
   "execution_count": 5,
   "metadata": {
    "collapsed": false
   },
   "outputs": [
    {
     "name": "stderr",
     "output_type": "stream",
     "text": [
      "\u001b[1m\u001b[34mINFO: Building WinRPM\n",
      "\u001b[0m\u001b[1m\u001b[31mWARNING: encounted invalid data while parsing repomd\u001b[0m\n",
      "\u001b[1m\u001b[31m===============================[ ERROR: WinRPM ]================================\u001b[0m\n",
      "\n",
      "\u001b[1m\u001b[31mLoadError: LoadError: InitError: BoundsError: attempt to access 0-element Array{LibExpat.ETree,1} at index [1]\n",
      "during initialization of module WinRPM\n",
      "while loading C:\\Users\\chris\\.julia\\v0.5\\WinRPM\\src\\WinRPM.jl, in expression starting on line 515\n",
      "while loading C:\\Users\\chris\\.julia\\v0.5\\WinRPM\\deps\\build.jl, in expression starting on line 1\u001b[0m\n",
      "\n",
      "\u001b[1m\u001b[31m================================================================================\u001b[0m\n",
      "\u001b[1m\u001b[34mINFO: Building Blosc\n",
      "\u001b[0m\u001b[1m\u001b[34mINFO: Building HDF5\n",
      "\u001b[0m\u001b[1m\u001b[34mINFO: Updating WinRPM package list\n",
      "\u001b[0m\u001b[1m\u001b[34mINFO: Downloading https://cache.julialang.org/http://download.opensuse.org/repositories/windows:/mingw:/win32/openSUSE_42.2/repodata/repomd.xml\n",
      "\u001b[0m\u001b[1m\u001b[31mWARNING: Unknown download failure, error code: 2148270086\u001b[0m\n",
      "\u001b[1m\u001b[31mWARNING: Retry 1/5 downloading: https://cache.julialang.org/http://download.opensuse.org/repositories/windows:/mingw:/win32/openSUSE_42.2/repodata/repomd.xml\u001b[0m\n",
      "\u001b[1m\u001b[31mWARNING: Unknown download failure, error code: 2148270086\u001b[0m\n",
      "\u001b[1m\u001b[31mWARNING: Retry 2/5 downloading: https://cache.julialang.org/http://download.opensuse.org/repositories/windows:/mingw:/win32/openSUSE_42.2/repodata/repomd.xml\u001b[0m\n",
      "\u001b[1m\u001b[31mWARNING: Unknown download failure, error code: 2148270086\u001b[0m\n",
      "\u001b[1m\u001b[31mWARNING: Retry 3/5 downloading: https://cache.julialang.org/http://download.opensuse.org/repositories/windows:/mingw:/win32/openSUSE_42.2/repodata/repomd.xml\u001b[0m\n",
      "\u001b[1m\u001b[31mWARNING: Unknown download failure, error code: 2148270086\u001b[0m\n",
      "\u001b[1m\u001b[31mWARNING: Retry 4/5 downloading: https://cache.julialang.org/http://download.opensuse.org/repositories/windows:/mingw:/win32/openSUSE_42.2/repodata/repomd.xml\u001b[0m\n",
      "\u001b[1m\u001b[31mWARNING: Unknown download failure, error code: 2148270086\u001b[0m\n",
      "\u001b[1m\u001b[31mWARNING: Retry 5/5 downloading: https://cache.julialang.org/http://download.opensuse.org/repositories/windows:/mingw:/win32/openSUSE_42.2/repodata/repomd.xml\u001b[0m\n",
      "\u001b[1m\u001b[31mWARNING: received error 0 while downloading https://cache.julialang.org/http://download.opensuse.org/repositories/windows:/mingw:/win32/openSUSE_42.2/repodata/repomd.xml\u001b[0m\n",
      "\u001b[1m\u001b[34mINFO: Downloading https://cache.julialang.org/http://download.opensuse.org/repositories/windows:/mingw:/win64/openSUSE_42.2/repodata/repomd.xml\n",
      "\u001b[0m\u001b[1m\u001b[31mWARNING: Unknown download failure, error code: 2148270086\u001b[0m\n",
      "\u001b[1m\u001b[31mWARNING: Retry 1/5 downloading: https://cache.julialang.org/http://download.opensuse.org/repositories/windows:/mingw:/win64/openSUSE_42.2/repodata/repomd.xml\u001b[0m\n",
      "\u001b[1m\u001b[31mWARNING: Unknown download failure, error code: 2148270086\u001b[0m\n",
      "\u001b[1m\u001b[31mWARNING: Retry 2/5 downloading: https://cache.julialang.org/http://download.opensuse.org/repositories/windows:/mingw:/win64/openSUSE_42.2/repodata/repomd.xml\u001b[0m\n",
      "\u001b[1m\u001b[31mWARNING: Unknown download failure, error code: 2148270086\u001b[0m\n",
      "\u001b[1m\u001b[31mWARNING: Retry 3/5 downloading: https://cache.julialang.org/http://download.opensuse.org/repositories/windows:/mingw:/win64/openSUSE_42.2/repodata/repomd.xml\u001b[0m\n",
      "\u001b[1m\u001b[31mWARNING: Unknown download failure, error code: 2148270086\u001b[0m\n",
      "\u001b[1m\u001b[31mWARNING: Retry 4/5 downloading: https://cache.julialang.org/http://download.opensuse.org/repositories/windows:/mingw:/win64/openSUSE_42.2/repodata/repomd.xml\u001b[0m\n",
      "\u001b[1m\u001b[31mWARNING: Unknown download failure, error code: 2148270086\u001b[0m\n",
      "\u001b[1m\u001b[31mWARNING: Retry 5/5 downloading: https://cache.julialang.org/http://download.opensuse.org/repositories/windows:/mingw:/win64/openSUSE_42.2/repodata/repomd.xml\u001b[0m\n",
      "\u001b[1m\u001b[31mWARNING: received error 0 while downloading https://cache.julialang.org/http://download.opensuse.org/repositories/windows:/mingw:/win64/openSUSE_42.2/repodata/repomd.xml\u001b[0m\n",
      "\u001b[1m\u001b[31m================================[ ERROR: HDF5 ]=================================\u001b[0m\n",
      "\n",
      "\u001b[1m\u001b[31mLoadError: None of the selected providers can install dependency libhdf5.\n",
      "Use BinDeps.debug(package_name) to see available providers\n",
      "\n",
      "while loading C:\\Users\\chris\\.julia\\v0.5\\HDF5\\deps\\build.jl, in expression starting on line 27\u001b[0m\n",
      "\n",
      "\u001b[1m\u001b[31m================================================================================\u001b[0m\n"
     ]
    },
    {
     "ename": "LoadError",
     "evalue": "UndefVarError: LibExpat not defined",
     "output_type": "error",
     "traceback": [
      "UndefVarError: LibExpat not defined",
      "",
      " in deserialize(::SerializationState{IOStream}, ::Type{Module}) at .\\serialize.jl:602",
      " in handle_deserialize(::SerializationState{IOStream}, ::Int32) at .\\serialize.jl:581",
      " in deserialize(::SerializationState{IOStream}) at .\\serialize.jl:541",
      " in deserialize_datatype(::SerializationState{IOStream}) at .\\serialize.jl:824",
      " in handle_deserialize(::SerializationState{IOStream}, ::Int32) at .\\serialize.jl:571",
      " in deserialize(::SerializationState{IOStream}) at .\\serialize.jl:541",
      " in deserialize_array(::SerializationState{IOStream}) at .\\serialize.jl:670",
      " in handle_deserialize(::SerializationState{IOStream}, ::Int32) at .\\serialize.jl:569",
      " in deserialize(::SerializationState{IOStream}, ::DataType) at .\\serialize.jl:883",
      " in deserialize_datatype(::SerializationState{IOStream}) at .\\serialize.jl:837",
      " in handle_deserialize(::SerializationState{IOStream}, ::Int32) at .\\serialize.jl:571",
      " in deserialize(::SerializationState{IOStream}, ::DataType) at .\\serialize.jl:883",
      " in deserialize_datatype(::SerializationState{IOStream}) at .\\serialize.jl:837",
      " in handle_deserialize(::SerializationState{IOStream}, ::Int32) at .\\serialize.jl:571",
      " in deserialize(::SerializationState{IOStream}, ::DataType) at .\\serialize.jl:883",
      " in deserialize_datatype(::SerializationState{IOStream}) at .\\serialize.jl:837",
      " in handle_deserialize(::SerializationState{IOStream}, ::Int32) at .\\serialize.jl:571",
      " in deserialize(::SerializationState{IOStream}, ::DataType) at .\\serialize.jl:883",
      " in deserialize_datatype(::SerializationState{IOStream}) at .\\serialize.jl:837",
      " in handle_deserialize(::SerializationState{IOStream}, ::Int32) at .\\serialize.jl:571",
      " in (::Base.Pkg.Entry.##54#55{Dict{Any,Any}})(::IOStream) at .\\pkg\\entry.jl:634",
      " in open(::Base.Pkg.Entry.##54#55{Dict{Any,Any}}, ::String, ::String) at .\\iostream.jl:113",
      " in build!(::Array{String,1}, ::Dict{Any,Any}, ::Set{Any}) at .\\pkg\\entry.jl:631",
      " in build(::Array{String,1}) at .\\pkg\\entry.jl:649",
      " in (::Base.Pkg.Dir.##2#3{Array{Any,1},Base.Pkg.Entry.#build,Tuple{Array{String,1}}})() at .\\pkg\\dir.jl:31",
      " in cd(::Base.Pkg.Dir.##2#3{Array{Any,1},Base.Pkg.Entry.#build,Tuple{Array{String,1}}}, ::String) at .\\file.jl:48",
      " in #cd#1(::Array{Any,1}, ::Function, ::Function, ::Array{String,1}, ::Vararg{Array{String,1},N}) at .\\pkg\\dir.jl:31",
      " in build(::String, ::Vararg{String,N}) at .\\pkg\\pkg.jl:236"
     ]
    }
   ],
   "source": [
    "Pkg.build(\"HDF5\")"
   ]
  },
  {
   "cell_type": "code",
   "execution_count": null,
   "metadata": {
    "collapsed": true
   },
   "outputs": [],
   "source": [
    "fid=h5open(\"parm6a.task1.out.h5\")"
   ]
  }
 ],
 "metadata": {
  "anaconda-cloud": {},
  "kernelspec": {
   "display_name": "Julia 0.5.2",
   "language": "julia",
   "name": "julia-0.5"
  },
  "language_info": {
   "file_extension": ".jl",
   "mimetype": "application/julia",
   "name": "julia",
   "version": "0.5.2"
  }
 },
 "nbformat": 4,
 "nbformat_minor": 2
}
