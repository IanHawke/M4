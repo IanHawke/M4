{
 "cells": [
  {
   "cell_type": "markdown",
   "metadata": {},
   "source": [
    "# Non-trivial Band Topology and the Chern Number\n",
    "## Graduate\n",
    "\n",
    "## Overview\n",
    "\n",
    "A Chern number tells us whether something non-trivial is going on in the wavefunction and lets us distinguish between different topological phases.\n",
    "\n",
    "Now let me clarify what I mean when I say \"non-trivial\".\n",
    "\n",
    "Normally, when we are studying materials, we move from a spatial dependence for the wavefunction to a momentum dependence across a Brillouin Zone.\n",
    "\n",
    "When we are in a non-trivial phase, we can't define a wavefunction across the entire Brillouin Zone at the same time. We can rewrite the wavefunction to cover the area that didn't work before, but then some other section isn't well-defined.\n",
    "\n",
    "To be clear, the physics is well defined everywhere, and every way we write the wavefunction gives the same physics. The problem lies in our inability to write down a single \"chart\" for the whole Zone. This conundrum is similar to the problem with plotting a globe in 2 dimensions. We always have to make cuts, but the entire globe can be covered by \"charts\" that make up an \"atlas\".\n",
    "\n",
    "\n",
    "## Our Model\n",
    "\n",
    "A page of a Review of Modern Physics behemoth, \"Classification of topological quantum matter with symmetries\" [1], presented this model below. It inspired me to dig deeper and fill in the details.   They attributed this model as describing the Quantum Anomolous Hall Effect, QAHE, but this form describes a wide variety topological phenomena.  \n",
    "\n",
    "\\begin{equation}\n",
    "H(k) = R_0(k) \\sigma_0 + \\vec{R}(k) \\cdot \\vec{\\sigma}\n",
    "\\end{equation}\n",
    "\\begin{equation}\n",
    "= R_0(k) \\sigma_0 + R_1(k) \\sigma_1 + R_2(k) \\sigma_2 + R_3(k) \\sigma_3\n",
    "\\end{equation}\n",
    "where $\\sigma_0$ is the identity matrix and $\\sigma_i$ are simply the Pauli matrices. \n",
    "Combining the terms, $H(k)$ is a 2x2 matrix.  \n",
    "\\begin{equation}=\n",
    "\\begin{pmatrix}\n",
    "R_0 + R_3 & R_1 -i R_2 \\\\\n",
    "R_1 + i R_2 & R_0 - R_3 \n",
    "\\end{pmatrix}\n",
    "\\end{equation}\n",
    "The wavefunction will then be 2-valued.  This could denote two sublattices, or two different types of particles.\n",
    "\n",
    "While we could use any values for $\\vec{R}(k)$, we will use\n",
    "\\begin{equation}\n",
    "\\vec{R}(k) = \\begin{pmatrix}\n",
    "-2 \\sin k_x \\\\\n",
    "-2 \\sin k_y \\\\\n",
    "\\mu +2 \\sum_{x,y} \\cos k_i \\\\\n",
    "\\end{pmatrix}\n",
    "\\end{equation}\n",
    "as it's a fairly simple form that gives us the physics we want and exhibits phase transitions depending on the value of $\\mu$.  I set $\\mu$ as $1$ early on.  Go through the notebook with that value, then go through the notebook with $\\mu = -5, -1, 1, 5$.  "
   ]
  },
  {
   "cell_type": "code",
   "execution_count": null,
   "metadata": {},
   "outputs": [],
   "source": [
    "using Plots\n",
    "plotlyjs()"
   ]
  },
  {
   "cell_type": "code",
   "execution_count": null,
   "metadata": {},
   "outputs": [],
   "source": [
    "μ=1\n",
    "\n",
    "labels=[\"-π\",\"-π/2\",\"0\",\"π/2\",\"π\"]\n",
    "ticks=[-π,-π/2,0,π/2,π];\n",
    "\n",
    "ks=linspace(-π,π,314)\n",
    "l=length(ks)\n",
    "\n",
    "ka=Array{Array{Float64},2}(l,l)\n",
    "for ii in 1:l\n",
    "    x=ks[ii]\n",
    "    for jj in 1:l\n",
    "        ka[ii,jj]=[x,ks[jj]]\n",
    "    end\n",
    "end   "
   ]
  },
  {
   "cell_type": "code",
   "execution_count": null,
   "metadata": {},
   "outputs": [],
   "source": [
    "function R0(k::Array)\n",
    "    return 0\n",
    "end\n",
    "\n",
    "function R1(k::Array)\n",
    "    return -2*sin(k[1])\n",
    "end\n",
    "\n",
    "function R2(k::Array)\n",
    "    return -2*sin(k[2])\n",
    "end\n",
    "\n",
    "function R3(k::Array)\n",
    "    return μ+2*cos(k[1])+2*cos(k[2])\n",
    "end"
   ]
  },
  {
   "cell_type": "code",
   "execution_count": null,
   "metadata": {},
   "outputs": [],
   "source": [
    "function R(k::Array)\n",
    "    return sqrt(R1(k)^2+R2(k)^2+R3(k)^2)\n",
    "end"
   ]
  },
  {
   "cell_type": "markdown",
   "metadata": {},
   "source": [
    "## Band Diagram\n",
    "\n",
    "First, let's just take a look at the energy spectrum.  For each $k$, we calculate the eigenvalues of the 2x2 matrix Hamiltonian.\n",
    "\n",
    "To make the calculation simpler, I denote the function $R$ as\n",
    "\\begin{equation}\n",
    "R=\\sqrt{R_1^2+R_2^2+R_3^2}\n",
    "\\end{equation}\n",
    "With that, energy can simply be written as\n",
    "\\begin{equation}\n",
    "\\lambda= R_0 \\pm R\n",
    "\\end{equation}\n",
    "$R_0$ moves the entire spectrum up and down but doesn't effect the gap, and won't affect the physics.  That term won't even factor into the eigenvectors."
   ]
  },
  {
   "cell_type": "code",
   "execution_count": null,
   "metadata": {},
   "outputs": [],
   "source": [
    "function λp(k::Array{Float64})\n",
    "    return R0(k)+R(k)\n",
    "end\n",
    "\n",
    "function λm(k::Array{Float64})\n",
    "    return R0(k)-R(k)\n",
    "end"
   ]
  },
  {
   "cell_type": "markdown",
   "metadata": {},
   "source": [
    "Notation Note:  I denote the Array evaluation of a function as the function name followed by 'a'."
   ]
  },
  {
   "cell_type": "code",
   "execution_count": null,
   "metadata": {},
   "outputs": [],
   "source": [
    "λpa=zeros(Float64,l,l)\n",
    "λma=zeros(Float64,l,l)\n",
    "\n",
    "for ii in 1:l\n",
    "    for jj in 1:l\n",
    "        λpa[ii,jj]=λp(ka[ii,jj])\n",
    "        λma[ii,jj]=λm(ka[ii,jj])\n",
    "    end\n",
    "end"
   ]
  },
  {
   "cell_type": "code",
   "execution_count": null,
   "metadata": {},
   "outputs": [],
   "source": [
    "surface(ks,ks,λpa)\n",
    "surface!(ks,ks,λma)\n",
    "plot!(xticks= (ticks,labels),\n",
    "yticks=(ticks,labels),\n",
    "xlabel=\"kx\",\n",
    "ylabel=\"ky\",\n",
    "zlabel=\"Energy\",\n",
    "title=\"Band Diagram\")"
   ]
  },
  {
   "cell_type": "markdown",
   "metadata": {},
   "source": [
    "## Eigenvectors\n",
    "\n",
    "To find the eigenvectors, we find the nullspace of the following matrix,\n",
    "\\begin{equation}\n",
    "\\begin{vmatrix}\n",
    "R_0 +R_3 - R_0 \\mp R & R_1 - i R_2 \\\\\n",
    "R_1 + i R_2 & R_0 - R_3 -R_0 \\mp R \\\\\n",
    "\\end{vmatrix}\n",
    "\\end{equation}\n",
    "\n",
    "Take the bottom row. Second column value multiples first column and first column value multiples second column.\n",
    "\\begin{equation}\n",
    "\\begin{pmatrix}\n",
    "\\pm R + R_3 \\\\\n",
    "R_1 + i R_2  \n",
    "\\end{pmatrix}\n",
    "\\end{equation}\n",
    "\n",
    "And now we need to normalize the state\n",
    "\\begin{equation}\n",
    "\\frac{1}{\\sqrt{2 R \\left( R \\pm R_3 \\right) }}\n",
    "\\begin{pmatrix}\n",
    "\\pm R + R_3\\\\\n",
    "R_1 + i R_2\n",
    "\\end{pmatrix}\n",
    "\\end{equation}\n",
    "In low energy, just the minus state will be occupied (lower energy), but it has a singularity at $\\vec{R} = ( 0 ,0, R) $. \n",
    "\n",
    "We have two complex numbers in this vector, and thus four things to plot $r_1, \\theta_1, r_2, \\theta_2$,\n",
    "\\begin{equation}\n",
    "|\\psi \\rangle =\n",
    "\\begin{pmatrix}\n",
    "r_1 e^{i \\theta_1} \\\\\n",
    "r_2 e^{i \\theta_2} \n",
    "\\end{pmatrix}\n",
    "\\end{equation}\n",
    "\n",
    "If we chose to create our vector from the top row instead,\n",
    "\\begin{equation}\n",
    "\\begin{pmatrix}\n",
    "R_1 -i R_2 \\\\\n",
    "- R_3 \\mp R\n",
    "\\end{pmatrix}\n",
    "\\end{equation} \n",
    "and normalized\n",
    "\\begin{equation}\n",
    "\\frac{1}{\\sqrt{2 R \\left( R \\mp R_3 \\right) }} \n",
    "\\begin{pmatrix}\n",
    "R_1 - i R_2 \\\\\n",
    "\\pm R - R_3\n",
    "\\end{pmatrix}\n",
    "\\end{equation}\n",
    "But the minus state for this one has a singularity at $\\vec{R} = (0,0, -R )$.  \n",
    "\n",
    "We can move where the singularity is, but we can't get rid of it.  The problem-point doesn't show up in the physics, only in the wavefunction representation of it.  We cannot well represent the state across the entire Brillouin Zone at the same time.  This problem occurs because we have a topologically non-trivial state and a non-zero Chern number."
   ]
  },
  {
   "cell_type": "code",
   "execution_count": null,
   "metadata": {},
   "outputs": [],
   "source": [
    "function up1(k::Array)\n",
    "    front=1/sqrt(2*R(k)*(R(k)+R3(k)))\n",
    "    return front*(R(k)+R3(k))\n",
    "end\n",
    "\n",
    "function up2(k::Array)\n",
    "    front=1/sqrt(2*R(k)*(R(k)+R3(k)))\n",
    "    return front*(R1(k)+im*R2(k))\n",
    "end\n",
    "\n",
    "up=Function[]\n",
    "push!(up,up1)\n",
    "push!(up,up2)"
   ]
  },
  {
   "cell_type": "code",
   "execution_count": null,
   "metadata": {},
   "outputs": [],
   "source": [
    "function um1(k::Array)\n",
    "    front=1/sqrt(2*R(k)*(R(k)-R3(k)))\n",
    "    return front*(-R(k)+R3(k))\n",
    "end\n",
    "\n",
    "function um2(k::Array)\n",
    "    front=1/sqrt(2*R(k)*(R(k)-R3(k)))\n",
    "    return front*(R1(k)+im*R2(k))\n",
    "end\n",
    "\n",
    "um=Function[]\n",
    "push!(um,um1)\n",
    "push!(um,um2)"
   ]
  },
  {
   "cell_type": "code",
   "execution_count": null,
   "metadata": {},
   "outputs": [],
   "source": [
    "upa=zeros(Complex{Float64},2,l,l)\n",
    "uma=zeros(Complex{Float64},2,l,l)\n",
    "\n",
    "for ii in 1:l\n",
    "    for jj in 1:l\n",
    "        upa[1,ii,jj]=up[1](ka[ii,jj])\n",
    "        upa[2,ii,jj]=up[2](ka[ii,jj])\n",
    "        uma[1,ii,jj]=um[1](ka[ii,jj])\n",
    "        uma[2,ii,jj]=um[2](ka[ii,jj])\n",
    "    end\n",
    "end"
   ]
  },
  {
   "cell_type": "code",
   "execution_count": null,
   "metadata": {},
   "outputs": [],
   "source": [
    "# Plotting θ2\n",
    "heatmap(ks,ks,angle.(uma[2,:,:])-angle.(uma[1,:,:]))\n",
    "plot!(xticks= (ticks,labels),\n",
    "yticks=(ticks,labels),\n",
    "xlabel=\"kx\",\n",
    "ylabel=\"ky\",\n",
    "title=\"difference in phase, lower energy\")"
   ]
  },
  {
   "cell_type": "code",
   "execution_count": null,
   "metadata": {},
   "outputs": [],
   "source": [
    "surface(ks,ks,norm.(uma[2,:,:]))\n",
    "plot!(xticks= (ticks,labels),\n",
    "    yticks=(ticks,labels),\n",
    "xlabel=\"kx\",\n",
    "ylabel=\"ky\",\n",
    "title=\"magnitude,second component, lower energy\")"
   ]
  },
  {
   "cell_type": "code",
   "execution_count": null,
   "metadata": {},
   "outputs": [],
   "source": [
    "surface(ks,ks,norm.(uma[1,:,:]))\n",
    "plot!(xticks= (ticks,labels),\n",
    "    yticks=(ticks,labels),\n",
    "xlabel=\"kx\",\n",
    "ylabel=\"ky\",\n",
    "title=\"magnitude,first component, lower energy\")"
   ]
  },
  {
   "cell_type": "markdown",
   "metadata": {},
   "source": [
    "## Calculating the Connection\n",
    "\n",
    "The first step in calculating the Chern number is evaluating the Berry Connection.  \n",
    "\n",
    "\n",
    "\\begin{equation}\n",
    "\\mathcal{A}^{i} = \\langle u (k,r) | d_{i} u (k,r) \\rangle\n",
    "\\end{equation}\n",
    "\n",
    "Though $\\mathcal{A}^i$ looks like a vector, it is not invariant under gauge tranformation.  If a wavefunction transforms as\n",
    "\\begin{equation}\n",
    "| u(k,r) \\rangle \\rightarrow e^{-i \\phi} | u(k,r) \\rangle\n",
    "\\end{equation}\n",
    "then the connection transforms as\n",
    "\\begin{equation}\n",
    "\\mathcal{A}^i \\rightarrow \\mathcal{A}^i -i \\partial_i \\phi\n",
    "\\end{equation}\n",
    "\n",
    "Near the Dirac points in the Brillouin Zone, the wavefunction has quite a high curvature, which makes the numerical computation of the derivative prone to errors.  I tried numerical derivation but was unable to arrive at a correct, stable answer.  Therefore, I'm using the 'ForwardDiff' Package to take derivatives analytically."
   ]
  },
  {
   "cell_type": "code",
   "execution_count": null,
   "metadata": {},
   "outputs": [],
   "source": [
    "using ForwardDiff"
   ]
  },
  {
   "cell_type": "markdown",
   "metadata": {},
   "source": [
    "Before dealing with the physics, let's just look at the syntax for the package.  \n",
    "\n",
    "Here's just an example of taking the gradient of $x^2$."
   ]
  },
  {
   "cell_type": "code",
   "execution_count": null,
   "metadata": {},
   "outputs": [],
   "source": [
    "ex=x->ForwardDiff.gradient(t->t[1]^2,x)\n",
    "ex([1])"
   ]
  },
  {
   "cell_type": "markdown",
   "metadata": {},
   "source": [
    "Now let's apply that syntax to our wavefunctions.  \n",
    "\n",
    "The 'ForwardDiff' package seems to only work on purely real functions, so we have to take the derivative of the real and imaginary parts separately.  "
   ]
  },
  {
   "cell_type": "code",
   "execution_count": null,
   "metadata": {},
   "outputs": [],
   "source": [
    "dum1=kt->ForwardDiff.gradient(um1,kt)\n",
    "\n",
    "Rdum2=kt->ForwardDiff.gradient(t->real(um2(t)),kt)\n",
    "Idum2=kt->ForwardDiff.gradient(t->imag(um2(t)),kt)\n",
    "dum2(k)=Rdum2(k)+im*Idum2(k)"
   ]
  },
  {
   "cell_type": "markdown",
   "metadata": {},
   "source": [
    "With the derivatives, we can now calculate the connection."
   ]
  },
  {
   "cell_type": "code",
   "execution_count": null,
   "metadata": {
    "scrolled": true
   },
   "outputs": [],
   "source": [
    "Amkx(k)=conj(um1(k))*dum1(k)[1]+conj(um2(k))*dum2(k)[1]\n",
    "Amky(k)=conj(um1(k))*dum1(k)[2]+conj(um2(k))*dum2(k)[2]"
   ]
  },
  {
   "cell_type": "code",
   "execution_count": null,
   "metadata": {
    "collapsed": true
   },
   "outputs": [],
   "source": [
    "Akxa=Array{Complex{Float64}}(l,l)\n",
    "Akya=Array{Complex{Float64}}(l,l)\n",
    "for ii in 1:l\n",
    "    for jj in 1:l\n",
    "        Akxa[ii,jj]=Amkx(ka[ii,jj])\n",
    "        Akya[ii,jj]=Amky(ka[ii,jj])\n",
    "    end\n",
    "end"
   ]
  },
  {
   "cell_type": "code",
   "execution_count": null,
   "metadata": {},
   "outputs": [],
   "source": [
    "heatmap(ks,ks,log.(norm.(Akxa)))\n",
    "plot!(xticks= (ticks,labels),\n",
    "    yticks=(ticks,labels),\n",
    "xlabel=\"kx\",\n",
    "ylabel=\"ky\",\n",
    "title=\"Akx Berry Connection\")"
   ]
  },
  {
   "cell_type": "code",
   "execution_count": null,
   "metadata": {},
   "outputs": [],
   "source": [
    "heatmap(ks,ks,log.(norm.(Akya)))\n",
    "plot!(xticks= (ticks,labels),\n",
    "    yticks=(ticks,labels),\n",
    "xlabel=\"kx\",\n",
    "ylabel=\"ky\",\n",
    "title=\"Aky Berry Connection\")"
   ]
  },
  {
   "cell_type": "code",
   "execution_count": null,
   "metadata": {},
   "outputs": [],
   "source": [
    "heatmap(ks,ks,angle.(Akxa))\n",
    "plot!(xticks= (ticks,labels),\n",
    "    yticks=(ticks,labels),\n",
    "xlabel=\"kx\",\n",
    "ylabel=\"ky\",\n",
    "title=\"Akx Berry Connection\")"
   ]
  },
  {
   "cell_type": "code",
   "execution_count": null,
   "metadata": {},
   "outputs": [],
   "source": [
    "heatmap(ks,ks,angle.(Akya))\n",
    "plot!(xticks= (ticks,labels),\n",
    "    yticks=(ticks,labels),\n",
    "xlabel=\"kx\",\n",
    "ylabel=\"ky\",\n",
    "title=\"Aky Berry Connection\")"
   ]
  },
  {
   "cell_type": "markdown",
   "metadata": {},
   "source": [
    "## Curvature \n",
    "\n",
    "I previously had a section here about Berry phases, but I need to fix it.  Until then, please believe the mass of physics literature that from the guage-dependent Berry connection, we can get a gauge independent quantity called the <i>Berry Curvature</i>.  Hopefully I can clarify this mathematical magic when I understand it myself.\n",
    "\n",
    "Of course it's called Berry.  Every thing in this calculation is named after Berry.  At least its not Euler.  Done with side note, back to equations.\n",
    "Here's our version of Gauss's Theorem:\n",
    "\\begin{equation}\n",
    "\\oint \\mathcal{A} \\cdot ds  = \\iint F_{n}^{xy} d^2 k\n",
    "\\end{equation}\n",
    "\n",
    "And $F_n^{xy}$ will take on this form:\n",
    "\\begin{equation}\n",
    "F_{n}^{xy} = \\nabla \\times \\mathcal{A} = \\partial_{k_x} \\mathcal{A}^y_{n} - \\partial_{k_y} \\mathcal{A}^x_{n} \n",
    "\\end{equation}\n",
    "\\begin{equation}\n",
    "= \\partial_{k_x} \\langle u | \\partial_{k_y} u \\rangle - \\partial_{k_y} \\langle u | \\partial_{k_x} u \\rangle\n",
    "\\end{equation}\n"
   ]
  },
  {
   "cell_type": "markdown",
   "metadata": {},
   "source": [
    "TIME FOR MORE DERIVATIVES!"
   ]
  },
  {
   "cell_type": "code",
   "execution_count": null,
   "metadata": {},
   "outputs": [],
   "source": [
    "DRAmkx=kt->ForwardDiff.gradient(t->(real(Amkx(t))),kt )\n",
    "DImAmkx=kt->ForwardDiff.gradient(t->(imag(Amkx(t))),kt )\n",
    "\n",
    "DRAmky=kt->ForwardDiff.gradient(t->(real(Amky(t))),kt )\n",
    "DImAmky=kt->ForwardDiff.gradient(t->(imag(Amky(t))),kt )"
   ]
  },
  {
   "cell_type": "code",
   "execution_count": null,
   "metadata": {},
   "outputs": [],
   "source": [
    "F(k)=DRAmky(k)[1]+im*DImAmky(k)[1]-DRAmkx(k)[2]-im*DImAmkx(k)[2]"
   ]
  },
  {
   "cell_type": "code",
   "execution_count": null,
   "metadata": {},
   "outputs": [],
   "source": [
    "Fa=Array{Complex{Float64}}(l,l)\n",
    "for ii in 1:l\n",
    "    for jj in 1:l\n",
    "        Fa[ii,jj]=F(ka[ii,jj])\n",
    "    end\n",
    "end"
   ]
  },
  {
   "cell_type": "code",
   "execution_count": null,
   "metadata": {},
   "outputs": [],
   "source": [
    "heatmap(ks,ks,norm.(Fa))\n",
    "plot!(xticks= (ticks,labels),\n",
    "    yticks=(ticks,labels),\n",
    "xlabel=\"kx\",\n",
    "ylabel=\"ky\",\n",
    "title=\"F Berry curvature norm\")"
   ]
  },
  {
   "cell_type": "code",
   "execution_count": null,
   "metadata": {},
   "outputs": [],
   "source": [
    "heatmap(ks,ks,angle.(Fa))\n",
    "plot!(xticks= (ticks,labels),\n",
    "    yticks=(ticks,labels),\n",
    "xlabel=\"kx\",\n",
    "ylabel=\"ky\",\n",
    "title=\"F Berry Curvature phase\")"
   ]
  },
  {
   "cell_type": "markdown",
   "metadata": {},
   "source": [
    "## Chern Number\n",
    "\n",
    "Last Step!\n",
    "\n",
    "Easy calculation now in terms of code, but this number has a great deal of significance.  I'm still trying to wrap my head around it.  The Chern number seems to pop up in a variety of obscure mathematical stuff over this physicist's head, but hopefully none of that is necessary to grasp its incredible mind-blowing usefullness.  \n",
    "\n",
    "This single integer not only seperates out topological phases from topologically trivial phases, but seperates different topological phases from each other.  And always evaluates to an integer.  \n",
    "\n",
    "\\begin{equation}\n",
    "Ch = \\frac{1}{2 \\pi i} \\iint_{BZ} F^{xy}_n d^2 k\n",
    "\\end{equation}\n",
    "\n",
    "If you don't get approximately an integer, try a finer mesh.  "
   ]
  },
  {
   "cell_type": "code",
   "execution_count": null,
   "metadata": {},
   "outputs": [],
   "source": [
    "sum(Fa)*(ks[2]-ks[1])^2/(2π*im)"
   ]
  },
  {
   "cell_type": "markdown",
   "metadata": {},
   "source": [
    "## Victory !!!!!!!!!!\n",
    "\n",
    "You made it!\n",
    "\n",
    "Even if you didn't understand everything, or really understand much at all, pat yourself on the back.  This is the very frontier of science.\n",
    "\n",
    "[1] Ching Kai Chiu, Jeffrey C.Y. Teo, Andreas P. Schnyder, and Shinsei Ryu, Classification of topological quantum matter with symmetries, Reviews of Modern Physics 88 2016, no. 3, 1–70."
   ]
  },
  {
   "cell_type": "code",
   "execution_count": null,
   "metadata": {},
   "outputs": [],
   "source": []
  }
 ],
 "metadata": {
  "@webio": {
   "lastCommId": "fc98407ae1b948ba866f9aaefbc642aa",
   "lastKernelId": "fbf06de3-0be2-4938-9edd-ca1effa9786e"
  },
  "kernelspec": {
   "display_name": "Julia 1.1.0",
   "language": "julia",
   "name": "julia-1.1"
  },
  "language_info": {
   "file_extension": ".jl",
   "mimetype": "application/julia",
   "name": "julia",
   "version": "1.1.0"
  }
 },
 "nbformat": 4,
 "nbformat_minor": 2
}
