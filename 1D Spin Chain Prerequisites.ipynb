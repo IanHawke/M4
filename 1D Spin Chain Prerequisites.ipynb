{
 "cells": [
  {
   "cell_type": "markdown",
   "metadata": {},
   "source": [
    "# Exact Diagonalization Prerequisites\n",
    "<b> Christina Lee\n",
    "\n",
    "Category: Grad</b>\n",
    "\n",
    "I was going to go at exact diagonalization of a 1D Heisenburg Spin Chain all in one post, but then I realized, even for a grad level post, I need to explain a lot of stuff.  So here I'm going to examine some of the tricks we will use when actually performing exact diagonalization.  "
   ]
  },
  {
   "cell_type": "markdown",
   "metadata": {},
   "source": [
    "So what is a 1D Heisenburg Spin $\\frac{1}{2}$ Chain? \n",
    "\n",
    "### Spin $\\frac{1}{2} $\n",
    "At each site, we can have a particle pointing up $| \\uparrow \\rangle$, down $|\\downarrow \\rangle$, or some super-position of the two.  \n",
    "\n",
    "### Heisenburg\n",
    "Our spin has three degrees of freedom.  Our Hamiltonian has the general form\n",
    "\\begin{equation}\n",
    "{\\cal H} = \\sum_{\\langle i,j \\rangle} J_x S_i^x S_j^x + J_y S_i^y S_j^y + J_z S_i^z S_j^z\n",
    "\\end{equation}\n",
    "\n",
    "In the limit of $J_z \\rightarrow 0$, we regain the XY model, and when only one coupling constant remains we regain the Ising model.  \n",
    "\n",
    "### 1D Chain\n",
    "Spin only couples to two neighbors."
   ]
  },
  {
   "cell_type": "markdown",
   "metadata": {},
   "source": [
    "### One easy initialization cell.\n",
    "\n",
    "`n`: The number of spins we will deal with.  \n",
    "$2^n$: Dimension of our Hilbert Space.  Or more simply, the number of different eigenstates our system will have."
   ]
  },
  {
   "cell_type": "code",
   "execution_count": 2,
   "metadata": {
    "collapsed": false
   },
   "outputs": [
    {
     "data": {
      "text/plain": [
       "8"
      ]
     },
     "execution_count": 2,
     "metadata": {},
     "output_type": "execute_result"
    }
   ],
   "source": [
    "n=3\n",
    "nstates=2^n"
   ]
  },
  {
   "cell_type": "markdown",
   "metadata": {},
   "source": [
    "So Exact Diagonalization is often memory limited.  Thus we want to represent our states in the most compact format possible.  Luckily, if we are dealing with spin $\\frac{1}{2}$, we can just use the `0`'s ($|\\downarrow \\rangle$) and `1`'s ($\\uparrow \\rangle$) of the machine.  If you are dealing with higher spin, you can use base 3, 4, etc...  Part of the reason I needed to create this seperate post was to examine working with binary data.\n",
    "\n",
    "We will keep our states stored as Int, but Julia has operations we can perform to look at the binary format and change the bits."
   ]
  },
  {
   "cell_type": "code",
   "execution_count": 3,
   "metadata": {
    "collapsed": false
   },
   "outputs": [
    {
     "name": "stdout",
     "output_type": "stream",
     "text": [
      "0000 0\n",
      "0001 1\n",
      "0010 2\n",
      "0011 3\n",
      "0100 4\n",
      "0101 5\n",
      "0110 6\n",
      "0111 7\n"
     ]
    }
   ],
   "source": [
    "# psi is an arrow of all our wavefunctions\n",
    "psi=collect(0:(nstates-1))\n",
    "\n",
    "# Lets look at each state both in binary and base 10\n",
    "for p in psi\n",
    "    println(bin(p,n+1),' ',p)\n",
    "end"
   ]
  },
  {
   "cell_type": "markdown",
   "metadata": {},
   "source": [
    "For handy reference, since we will be using them a lot in our calculations, lets store all the powers of two in an array. They are our placeholders."
   ]
  },
  {
   "cell_type": "code",
   "execution_count": 7,
   "metadata": {
    "collapsed": false
   },
   "outputs": [
    {
     "name": "stdout",
     "output_type": "stream",
     "text": [
      "0001 1\n",
      "0010 2\n",
      "0100 4\n",
      "1000 8\n"
     ]
    }
   ],
   "source": [
    "powers2=2.^collect(0:(n))\n",
    "for p in powers2\n",
    "    println(bin(p,n+1),' ',p)\n",
    "end"
   ]
  },
  {
   "cell_type": "markdown",
   "metadata": {},
   "source": [
    "We could continue to look at the binary format of a number by calling `bin`, but that converts the number to an array of strings.  So instead we want to perform bitwise operations to determine what the binary format looks like in terms of numbers.\n",
    "\n",
    "Julia's `&` is the bitwise operation and.  That means if I combine two numbers, it states the overlap between the two. 1 overlaps with 1; 2 overlaps with 2; 3 overlaps with 2 and 1.\n",
    "\n",
    "We will use this to compute magnetization."
   ]
  },
  {
   "cell_type": "code",
   "execution_count": 25,
   "metadata": {
    "collapsed": false
   },
   "outputs": [
    {
     "name": "stdout",
     "output_type": "stream",
     "text": [
      "String \tp&powers2 \tArray form \tMagentization\n",
      "0000\t[0,0,0,0]\t[0,0,0,0]\t0\n",
      "0001\t[1,0,0,0]\t[1,0,0,0]\t1\n",
      "0010\t[0,2,0,0]\t[0,1,0,0]\t1\n",
      "0011\t[1,2,0,0]\t[1,1,0,0]\t2\n",
      "0100\t[0,0,4,0]\t[0,0,1,0]\t1\n",
      "0101\t[1,0,4,0]\t[1,0,1,0]\t2\n",
      "0110\t[0,2,4,0]\t[0,1,1,0]\t2\n",
      "0111\t[1,2,4,0]\t[1,1,1,0]\t3\n"
     ]
    }
   ],
   "source": [
    "println(\"String \\tp&powers2 \\tArray form \\tMagentization\")\n",
    "for p in psi\n",
    "    println(bin(p,n+1),\"\\t\",p&powers2,\"\\t\"\n",
    "    ,round(Int,(p&powers2)./powers2),\"\\t\",sum(round(Int,(p&powers2)./powers2))) \n",
    "end"
   ]
  },
  {
   "cell_type": "markdown",
   "metadata": {},
   "source": [
    "## Masks and Permuting Indices\n",
    "\n",
    "The off diagonal elements of the Hamiltonian are the permutation of two neighboring elements in the array.  We can permute two indices by combining a mask with a bitwise XOR `$` ."
   ]
  },
  {
   "cell_type": "code",
   "execution_count": 21,
   "metadata": {
    "collapsed": false
   },
   "outputs": [
    {
     "name": "stdout",
     "output_type": "stream",
     "text": [
      "11 01 10\n"
     ]
    }
   ],
   "source": [
    "testmask=3\n",
    "testp=1\n",
    "println(bin(testmask,2),' ',bin(testp,2),' ',bin(testp$testmask,2))"
   ]
  },
  {
   "cell_type": "code",
   "execution_count": 32,
   "metadata": {
    "collapsed": false
   },
   "outputs": [
    {
     "name": "stdout",
     "output_type": "stream",
     "text": [
      "Mask base10 \tMask Binary \tSummed from\n",
      "3\t\t0011\t\t0001\t0010\n",
      "6\t\t0110\t\t0010\t0100\n",
      "12\t\t1100\t\t0100\t1000\n"
     ]
    }
   ],
   "source": [
    "mask=[0;powers2]+[powers2;0]\n",
    "mask=mask[2:end-1]\n",
    "\n",
    "println(\"Mask base10 \\tMask Binary \\tSummed from\")\n",
    "for i in 1:length(mask)\n",
    "    println(mask[i],\"\\t\\t\",bin(mask[i],n+1),\"\\t\\t\",bin(powers2[i],n+1),\"\\t\",bin(powers2[i+1],n+1))\n",
    "end"
   ]
  },
  {
   "cell_type": "code",
   "execution_count": 18,
   "metadata": {
    "collapsed": false
   },
   "outputs": [
    {
     "name": "stdout",
     "output_type": "stream",
     "text": [
      "0 0000 3 0011\n",
      "1 0001 2 0010\n",
      "2 0010 1 0001\n",
      "3 0011 0 0000\n",
      "4 0100 7 0111\n",
      "5 0101 6 0110\n",
      "6 0110 5 0101\n",
      "7 0111 4 0100\n"
     ]
    }
   ],
   "source": [
    "for p in psi\n",
    "    println(p,' ',bin(p,4),' ',p $ mask[1],' ',bin(p$mask[1],4)) \n",
    "end"
   ]
  },
  {
   "cell_type": "markdown",
   "metadata": {},
   "source": [
    "Obviously in situations like `0`, that's not a permutation going from `0000` to `0011`.  We need to find a set of two neighbors that are different from each other first, before we then mask them to find the permuted value."
   ]
  },
  {
   "cell_type": "code",
   "execution_count": null,
   "metadata": {
    "collapsed": true
   },
   "outputs": [],
   "source": []
  }
 ],
 "metadata": {
  "kernelspec": {
   "display_name": "Julia 0.4.1",
   "language": "julia",
   "name": "julia-0.4"
  },
  "language_info": {
   "file_extension": ".jl",
   "mimetype": "application/julia",
   "name": "julia",
   "version": "0.4.1"
  },
  "toc": {
   "toc_cell": false,
   "toc_number_sections": false,
   "toc_section_display": "none",
   "toc_threshold": 6,
   "toc_window_display": true
  },
  "toc_position": {
   "left": "656.283px",
   "right": "27.65px",
   "top": "120px",
   "width": "198px"
  }
 },
 "nbformat": 4,
 "nbformat_minor": 0
}
