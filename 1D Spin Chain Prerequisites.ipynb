{
 "cells": [
  {
   "cell_type": "markdown",
   "metadata": {},
   "source": [
    "# Exact Diagonalization Prerequisites\n",
    "<b> Christina Lee\n",
    "\n",
    "Category: Grad</b>\n",
    "\n",
    "I was going to go at exact diagonalization of a 1D Heisenburg Spin Chain all in one post, but then I realized, even for a grad level post, I need to explain a lot of stuff.  So here I'm going to examine some of the tricks we will use when actually performing exact diagonalization.  "
   ]
  },
  {
   "cell_type": "markdown",
   "metadata": {},
   "source": [
    "So what is a 1D Heisenburg Spin $\\frac{1}{2}$ Chain? \n",
    "\n",
    "### Spin $\\frac{1}{2} $\n",
    "At each site, we can have a particle pointing up $| \\uparrow \\rangle$, down $|\\downarrow \\rangle$, or some super-position of the two.  \n",
    "\n",
    "### Heisenburg\n",
    "Our spin has three degrees of freedom.  Our Hamiltonian has the general form\n",
    "\\begin{equation}\n",
    "{\\cal H} = \\sum_{\\langle i,j \\rangle} J_x S_i^x S_j^x + J_y S_i^y S_j^y + J_z S_i^z S_j^z\n",
    "\\end{equation}\n",
    "\n",
    "In the limit of $J_z \\rightarrow 0$, we regain the XY model, and when only one coupling constant remains we regain the Ising model.  \n",
    "\n",
    "### 1D Chain\n",
    "Spin only couples to two neighbors."
   ]
  },
  {
   "cell_type": "markdown",
   "metadata": {},
   "source": [
    "### One easy initialization cell.\n",
    "\n",
    "`n`: The number of spins we will deal with.  \n",
    "$2^n$: Dimension of our Hilbert Space.  Or more simply, the number of different eigenstates our system will have."
   ]
  },
  {
   "cell_type": "code",
   "execution_count": 7,
   "metadata": {
    "collapsed": false
   },
   "outputs": [
    {
     "data": {
      "text/plain": [
       "8"
      ]
     },
     "execution_count": 7,
     "metadata": {},
     "output_type": "execute_result"
    }
   ],
   "source": [
    "n=3\n",
    "nstates=2^n"
   ]
  },
  {
   "cell_type": "markdown",
   "metadata": {},
   "source": [
    "So Exact Diagonalization is often memory limited.  Thus we want to represent our states in the most compact format possible.  Luckily, if we are dealing with spin $\\frac{1}{2}$, we can just use the `0`'s ($|\\downarrow \\rangle$) and `1`'s ($|\\uparrow \\rangle$) of the machine.  If you are dealing with higher spin, you can use base 3, 4, etc...  Part of the reason I needed to create this seperate post was to examine working with binary data.\n",
    "\n",
    "We will keep our states stored as Int, but Julia has operations we can perform to look at the binary format and change the bits."
   ]
  },
  {
   "cell_type": "code",
   "execution_count": 8,
   "metadata": {
    "collapsed": false
   },
   "outputs": [
    {
     "name": "stdout",
     "output_type": "stream",
     "text": [
      "binary form \t interger\n",
      "0000\t\t 0\n",
      "0001\t\t 1\n",
      "0010\t\t 2\n",
      "0011\t\t 3\n",
      "0100\t\t 4\n",
      "0101\t\t 5\n",
      "0110\t\t 6\n",
      "0111\t\t 7\n"
     ]
    }
   ],
   "source": [
    "# psi is an arrow of all our wavefunctions\n",
    "psi=collect(0:(nstates-1))\n",
    "\n",
    "# Lets look at each state both in binary and base 10\n",
    "println(\"binary form \\t integer\")\n",
    "for p in psi\n",
    "    println(bin(p,n+1),\"\\t\\t \",p)\n",
    "end"
   ]
  },
  {
   "cell_type": "markdown",
   "metadata": {},
   "source": [
    "For handy reference, since we will be using them a lot in our calculations, lets store all the powers of two in an array. They are our placeholders."
   ]
  },
  {
   "cell_type": "code",
   "execution_count": 13,
   "metadata": {
    "collapsed": false
   },
   "outputs": [
    {
     "name": "stdout",
     "output_type": "stream",
     "text": [
      "binary form \t integer\n",
      "0001\t\t 1\n",
      "0010\t\t 2\n",
      "0100\t\t 4\n",
      "1000\t\t 8\n"
     ]
    }
   ],
   "source": [
    "powers2=2.^collect(0:n)\n",
    "\n",
    "println(\"binary form \\t integer\")\n",
    "for p in powers2\n",
    "    println(bin(p,n+1),\"\\t\\t \",p)\n",
    "end"
   ]
  },
  {
   "cell_type": "markdown",
   "metadata": {},
   "source": [
    "### & And Operation and Computing Magnetization\n",
    "\n",
    "We could continue to look at the binary format of a number by calling `bin`, but that converts the number to an array of strings.  So instead we want to perform bitwise operations to determine what the binary format looks like in terms of numbers.\n",
    "\n",
    "Julia supports bitwise <b>not, and, xor </b> (exclusive or), logical shift right, arithmetic shift right, and logical/ arithmetic shift left.  For our purposes, we will only be interested in <b>and</b> and <b>xor</b> .\n",
    "\n",
    "<b>and</b> takes in two inputs and produces one output, given by the following logic table: \n",
    "\n",
    "a|b|a&b\n",
    ":---:|:--:|:-----:\n",
    " 0 | 0 |  0  \n",
    " 1 | 0 |  0  \n",
    " 0 | 1 |  0  \n",
    " 1 | 1 |  1  \n",
    "Julia's `&` is the bitwise operation and.  That means if I combine two numbers, it states the overlap between the two. 1 overlaps with 1; 2 overlaps with 2; 3 overlaps with 2 and 1.\n",
    "\n",
    "We will use this to compute magnetization."
   ]
  },
  {
   "cell_type": "code",
   "execution_count": 9,
   "metadata": {
    "collapsed": false
   },
   "outputs": [
    {
     "name": "stdout",
     "output_type": "stream",
     "text": [
      "0001\t0011\t0001\n"
     ]
    }
   ],
   "source": [
    "println(bin(1,4),\"\\t\", bin(3,4),\"\\t\", bin(1&3,4))"
   ]
  },
  {
   "cell_type": "code",
   "execution_count": 24,
   "metadata": {
    "collapsed": false
   },
   "outputs": [
    {
     "name": "stdout",
     "output_type": "stream",
     "text": [
      "String \tp&powers2 \tNormed \t\tMagentization\n",
      "0000\t[0,0,0,0]\t[0,0,0,0]\t0\n",
      "0001\t[1,0,0,0]\t[1,0,0,0]\t1\n",
      "0010\t[0,2,0,0]\t[0,1,0,0]\t1\n",
      "0011\t[1,2,0,0]\t[1,1,0,0]\t2\n",
      "0100\t[0,0,4,0]\t[0,0,1,0]\t1\n",
      "0101\t[1,0,4,0]\t[1,0,1,0]\t2\n",
      "0110\t[0,2,4,0]\t[0,1,1,0]\t2\n",
      "0111\t[1,2,4,0]\t[1,1,1,0]\t3\n"
     ]
    }
   ],
   "source": [
    "m=zeros(psi)\n",
    "\n",
    "println(\"String \\tp&powers2 \\tNormed \\t\\tMagentization\")\n",
    "for i in 1:length(psi)\n",
    "    m[i]=sum(round(Int,(psi[i]&powers2)./powers2))\n",
    "    \n",
    "    println(bin(psi[i],n+1),\"\\t\",psi[i]&powers2,\"\\t\"\n",
    "    ,round(Int,(psi[i]&powers2)./powers2),\"\\t\",m[i]) \n",
    "end"
   ]
  },
  {
   "cell_type": "markdown",
   "metadata": {},
   "source": [
    "## Masks and Permuting Indices\n",
    "\n",
    "The off diagonal elements of the Hamiltonian are the permutation of two neighboring elements in the array.  We can permute two indices by combining a mask with a bitwise XOR `$` ."
   ]
  },
  {
   "cell_type": "code",
   "execution_count": 18,
   "metadata": {
    "collapsed": false
   },
   "outputs": [
    {
     "name": "stdout",
     "output_type": "stream",
     "text": [
      "Mask \ttest \tmasked test\n",
      "11\t01\t10\n"
     ]
    }
   ],
   "source": [
    "mask=3\n",
    "testp=1\n",
    "println(\"Mask \\ttest \\tmasked test\")\n",
    "println(bin(mask,2),'\\t',bin(testp,2),'\\t',bin(testp$mask,2))"
   ]
  },
  {
   "cell_type": "markdown",
   "metadata": {},
   "source": [
    "But we bound always be just switching the first two digits, so we need a set of masks that can flip any adjacent spins.  I create this by summing together padded powers of two in order to get the 11 in the correct location."
   ]
  },
  {
   "cell_type": "code",
   "execution_count": 36,
   "metadata": {
    "collapsed": false
   },
   "outputs": [
    {
     "name": "stdout",
     "output_type": "stream",
     "text": [
      "Mask base10 \tMask Binary \tSummed from\n",
      "3\t\t0011\t\t0001\t0010\n",
      "6\t\t0110\t\t0010\t0100\n",
      "12\t\t1100\t\t0100\t1000\n"
     ]
    }
   ],
   "source": [
    "mask=[0;powers2]+[powers2;0]\n",
    "mask=mask[2:end-1]\n",
    "\n",
    "println(\"Mask base10 \\tMask Binary \\tSummed from\")\n",
    "for i in 1:length(mask)\n",
    "    println(mask[i],\"\\t\\t\",bin(mask[i],n+1),\"\\t\\t\",bin(powers2[i],n+1),\"\\t\",bin(powers2[i+1],n+1))\n",
    "end"
   ]
  },
  {
   "cell_type": "markdown",
   "metadata": {},
   "source": [
    "So now lets test how the first of our three masks behaves:\n",
    "We know that if the mask changes a 01 for a 10 (or vice versa) that the overall magnetization will not be changed.  So, we test is our mask is successful by comparing the remaining magnetization.  The rows offset by two spaces have matching magnetizations."
   ]
  },
  {
   "cell_type": "code",
   "execution_count": 56,
   "metadata": {
    "collapsed": false
   },
   "outputs": [
    {
     "name": "stdout",
     "output_type": "stream",
     "text": [
      "Psi \tPsi \tMasked \t Masked\t \tmPsi  \tmMasked\n",
      "0\t0000\t3\t0011\t\t0\t2\n",
      "  1\t  0001\t  2\t  0010\t\t  1\t  1\n",
      "  2\t  0010\t  1\t  0001\t\t  1\t  1\n",
      "3\t0011\t0\t0000\t\t2\t0\n",
      "4\t0100\t7\t0111\t\t1\t3\n",
      "  5\t  0101\t  6\t  0110\t\t  2\t  2\n",
      "  6\t  0110\t  5\t  0101\t\t  2\t  2\n",
      "7\t0111\t4\t0100\t\t3\t1\n"
     ]
    }
   ],
   "source": [
    "println(\"Psi \\tPsi \\tMasked \\t Masked\\t \\tmPsi  \\tmMasked\")\n",
    "for p in psi\n",
    "    if m[p+1]==m[p$mask[1]+1]\n",
    "        println(\"  \",p,\"\\t  \",bin(p,4),\"\\t  \",p $ mask[1],\"\\t  \",bin(p$mask[1],4),\"\\t\\t  \",m[p+1],\"\\t  \",m[p$mask[1]+1]) \n",
    "    else\n",
    "        println(p,'\\t',bin(p,4),'\\t',p $ mask[1],'\\t',bin(p$mask[1],4),\"\\t\\t\",m[p+1],\"\\t\",m[p$mask[1]+1]) \n",
    "    end\n",
    "end"
   ]
  },
  {
   "cell_type": "code",
   "execution_count": 57,
   "metadata": {
    "collapsed": false
   },
   "outputs": [
    {
     "name": "stdout",
     "output_type": "stream",
     "text": [
      "Psi \tPsi \tMasked \t Masked\t \tmPsi  \tmMasked\n",
      "0\t0000\t6\t0110\t\t0\t2\n",
      "1\t0001\t7\t0111\t\t1\t3\n",
      "  2\t  0010\t  4\t  0100\t\t  1\t  1\n",
      "  3\t  0011\t  5\t  0101\t\t  2\t  2\n",
      "  4\t  0100\t  2\t  0010\t\t  1\t  1\n",
      "  5\t  0101\t  3\t  0011\t\t  2\t  2\n",
      "6\t0110\t0\t0000\t\t2\t0\n",
      "7\t0111\t1\t0001\t\t3\t1\n"
     ]
    }
   ],
   "source": [
    "println(\"Psi \\tPsi \\tMasked \\t Masked\\t \\tmPsi  \\tmMasked\")\n",
    "for p in psi\n",
    "    if m[p+1]==m[p$mask[2]+1]\n",
    "        println(\"  \",p,\"\\t  \",bin(p,4),\"\\t  \",p $ mask[2],\"\\t  \",bin(p$mask[2],4),\"\\t\\t  \",m[p+1],\"\\t  \",m[p$mask[2]+1]) \n",
    "    else\n",
    "        println(p,'\\t',bin(p,4),'\\t',p $ mask[2],'\\t',bin(p$mask[2],4),\"\\t\\t\",m[p+1],\"\\t\",m[p$mask[2]+1]) \n",
    "    end\n",
    "end"
   ]
  },
  {
   "cell_type": "code",
   "execution_count": null,
   "metadata": {
    "collapsed": true
   },
   "outputs": [],
   "source": [
    "println(\"Psi \\tPsi \\tMasked \\t Masked\\t \\tmPsi  \\tmMasked\")"
   ]
  },
  {
   "cell_type": "markdown",
   "metadata": {},
   "source": [
    "Obviously in situations like `0`, that's not a permutation going from `0000` to `0011`.  We need to find a set of two neighbors that are different from each other first, before we then mask them to find the permuted value."
   ]
  },
  {
   "cell_type": "code",
   "execution_count": 37,
   "metadata": {
    "collapsed": false
   },
   "outputs": [
    {
     "data": {
      "text/plain": [
       "6"
      ]
     },
     "execution_count": 37,
     "metadata": {},
     "output_type": "execute_result"
    }
   ],
   "source": [
    "mask[2]"
   ]
  },
  {
   "cell_type": "code",
   "execution_count": null,
   "metadata": {
    "collapsed": true
   },
   "outputs": [],
   "source": []
  }
 ],
 "metadata": {
  "kernelspec": {
   "display_name": "Julia 0.4.5",
   "language": "julia",
   "name": "julia-0.4"
  },
  "language_info": {
   "file_extension": ".jl",
   "mimetype": "application/julia",
   "name": "julia",
   "version": "0.4.5"
  },
  "toc": {
   "toc_cell": false,
   "toc_number_sections": false,
   "toc_section_display": "none",
   "toc_threshold": 6,
   "toc_window_display": true
  },
  "toc_position": {
   "left": "656.283px",
   "right": "27.65px",
   "top": "120px",
   "width": "198px"
  }
 },
 "nbformat": 4,
 "nbformat_minor": 0
}
